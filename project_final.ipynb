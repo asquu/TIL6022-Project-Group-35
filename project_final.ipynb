{
 "cells": [
  {
   "cell_type": "markdown",
   "metadata": {},
   "source": [
    "# Project Group 35\n",
    "\n",
    "Members: Mathijs Kop, Roos Wentges, Irene Bosman, Sathvik Gadiraju, Sophie Pijnenburg\n",
    "\n",
    "Student numbers: 5095433, 4869419 , 4882237, 6084435 , 4851404"
   ]
  },
  {
   "cell_type": "markdown",
   "metadata": {},
   "source": [
    "# Research Objective\n",
    "\n",
    "*Requires data modeling and quantitative research in Transport, Infrastructure & Logistics*"
   ]
  },
  {
   "cell_type": "markdown",
   "metadata": {},
   "source": [
    "In the recent years, fuel cost have undergone substatantial increases due to geopolitical devlopements and policy changes. The rising fuel prices becoming a prevalent concern for individuals and this could impact the human mobility behaviour. This study investigates the relationship between the increasing fual prices and the choices people make in terms of there travel behaviour, especially fuel based travelling.\n",
    "\n",
    "Therefore, the research question in this data analysis is: \n",
    "\n",
    "*What relation can be found between rising fuel costs and mobility behaviour from 2018 to 2022?*\n",
    "\n",
    "Subquestions:\n",
    "- How have fuel prices developed in the considered time in the Netherlands?\n",
    "- How have the mobility motives developed in the considered time in the Netherlands?\n",
    "- What is the general mobility trend?\n",
    "- What is the correlation between the fuel prices and the mobility motives?\n",
    "\n",
    "Geographical boundary: The Netherlands\n",
    "\n",
    "Time scale:  2018-2022"
   ]
  },
  {
   "cell_type": "markdown",
   "metadata": {},
   "source": [
    "# Contribution Statement\n",
    "\n",
    "*Be specific. Some of the tasks can be coding (expect everyone to do this), background research, conceptualisation, visualisation, data analysis, data modelling*"
   ]
  },
  {
   "cell_type": "markdown",
   "metadata": {},
   "source": [
    "**Author 1**:\n",
    "\n",
    "**Author 2**:\n",
    "\n",
    "**Author 3**:"
   ]
  },
  {
   "cell_type": "markdown",
   "metadata": {},
   "source": [
    "# Data Used"
   ]
  },
  {
   "cell_type": "markdown",
   "metadata": {},
   "source": [
    "CBS: https://opendata.cbs.nl/#/CBS/en/dataset/84710ENG/table?ts=1696337832049\n",
    "https://opendata.cbs.nl/#/CBS/en/dataset/80416ENG/table?ts=1696337975859\n",
    "https://opendata.cbs.nl/statline/#/CBS/en/dataset/84755ENG/table?ts=1696338796089"
   ]
  },
  {
   "cell_type": "markdown",
   "metadata": {},
   "source": [
    "# Data Pipeline"
   ]
  },
  {
   "cell_type": "markdown",
   "metadata": {},
   "source": [
    "From the first link we will look into distance traveled in passenger kilometres for different travel motives. \n",
    "From the second link we will look into the mean fuel prices per year, to compare with the distance traveled. The third link can be used to find the general mobility trend for the different travel motives over the years. \n"
   ]
  },
  {
   "cell_type": "code",
   "execution_count": 103,
   "metadata": {
    "tags": []
   },
   "outputs": [],
   "source": [
    "import numpy as np\n",
    "import pandas as pd\n",
    "import matplotlib.pyplot as plt\n",
    "import plotly.io as pio\n",
    "import plotly.express as px\n",
    "import seaborn as sns\n",
    "import warnings"
   ]
  },
  {
   "cell_type": "code",
   "execution_count": 104,
   "metadata": {
    "tags": []
   },
   "outputs": [],
   "source": [
    "from pandas import read_csv"
   ]
  },
  {
   "cell_type": "markdown",
   "metadata": {},
   "source": [
    "# Subquestion 1: How have fuel prices developed in the considered time in the Netherlands?\n",
    "Fuel prices can develop a lot throughout the year and in between years, in this subquestion the variations in fuel prices is analysed. The data is retrieved from CBS and the fuel prices of Euro95, Diesel and LPG are available on a daily basis. In this question the monthly values are considered and a visualisation is made out of the available data from 2018 until 2022. The changes in fuel prices can have multiple reasons and can be explained from different perspectives, such as environmental regulations, big global events, exchange rates and political events. "
   ]
  },
  {
   "cell_type": "code",
   "execution_count": 105,
   "metadata": {
    "tags": []
   },
   "outputs": [
    {
     "data": {
      "text/html": [
       "<div>\n",
       "<style scoped>\n",
       "    .dataframe tbody tr th:only-of-type {\n",
       "        vertical-align: middle;\n",
       "    }\n",
       "\n",
       "    .dataframe tbody tr th {\n",
       "        vertical-align: top;\n",
       "    }\n",
       "\n",
       "    .dataframe thead th {\n",
       "        text-align: right;\n",
       "    }\n",
       "</style>\n",
       "<table border=\"1\" class=\"dataframe\">\n",
       "  <thead>\n",
       "    <tr style=\"text-align: right;\">\n",
       "      <th></th>\n",
       "      <th>Euro95</th>\n",
       "      <th>Diesel</th>\n",
       "      <th>LPG</th>\n",
       "      <th>Average</th>\n",
       "    </tr>\n",
       "    <tr>\n",
       "      <th>Months</th>\n",
       "      <th></th>\n",
       "      <th></th>\n",
       "      <th></th>\n",
       "      <th></th>\n",
       "    </tr>\n",
       "  </thead>\n",
       "  <tbody>\n",
       "    <tr>\n",
       "      <th>2018-01-01</th>\n",
       "      <td>1.589</td>\n",
       "      <td>1.292</td>\n",
       "      <td>0.696</td>\n",
       "      <td>1.192333</td>\n",
       "    </tr>\n",
       "    <tr>\n",
       "      <th>2018-02-01</th>\n",
       "      <td>1.566</td>\n",
       "      <td>1.254</td>\n",
       "      <td>0.667</td>\n",
       "      <td>1.162333</td>\n",
       "    </tr>\n",
       "    <tr>\n",
       "      <th>2018-03-01</th>\n",
       "      <td>1.545</td>\n",
       "      <td>1.260</td>\n",
       "      <td>0.654</td>\n",
       "      <td>1.153000</td>\n",
       "    </tr>\n",
       "    <tr>\n",
       "      <th>2018-04-01</th>\n",
       "      <td>1.608</td>\n",
       "      <td>1.301</td>\n",
       "      <td>0.663</td>\n",
       "      <td>1.190667</td>\n",
       "    </tr>\n",
       "    <tr>\n",
       "      <th>2018-05-01</th>\n",
       "      <td>1.668</td>\n",
       "      <td>1.360</td>\n",
       "      <td>0.675</td>\n",
       "      <td>1.234333</td>\n",
       "    </tr>\n",
       "    <tr>\n",
       "      <th>2018-06-01</th>\n",
       "      <td>1.660</td>\n",
       "      <td>1.362</td>\n",
       "      <td>0.681</td>\n",
       "      <td>1.234333</td>\n",
       "    </tr>\n",
       "    <tr>\n",
       "      <th>2018-07-01</th>\n",
       "      <td>1.661</td>\n",
       "      <td>1.356</td>\n",
       "      <td>0.688</td>\n",
       "      <td>1.235000</td>\n",
       "    </tr>\n",
       "    <tr>\n",
       "      <th>2018-08-01</th>\n",
       "      <td>1.683</td>\n",
       "      <td>1.359</td>\n",
       "      <td>0.692</td>\n",
       "      <td>1.244667</td>\n",
       "    </tr>\n",
       "    <tr>\n",
       "      <th>2018-09-01</th>\n",
       "      <td>1.680</td>\n",
       "      <td>1.384</td>\n",
       "      <td>0.714</td>\n",
       "      <td>1.259333</td>\n",
       "    </tr>\n",
       "    <tr>\n",
       "      <th>2018-10-01</th>\n",
       "      <td>1.657</td>\n",
       "      <td>1.417</td>\n",
       "      <td>0.744</td>\n",
       "      <td>1.272667</td>\n",
       "    </tr>\n",
       "  </tbody>\n",
       "</table>\n",
       "</div>"
      ],
      "text/plain": [
       "            Euro95  Diesel    LPG   Average\n",
       "Months                                     \n",
       "2018-01-01   1.589   1.292  0.696  1.192333\n",
       "2018-02-01   1.566   1.254  0.667  1.162333\n",
       "2018-03-01   1.545   1.260  0.654  1.153000\n",
       "2018-04-01   1.608   1.301  0.663  1.190667\n",
       "2018-05-01   1.668   1.360  0.675  1.234333\n",
       "2018-06-01   1.660   1.362  0.681  1.234333\n",
       "2018-07-01   1.661   1.356  0.688  1.235000\n",
       "2018-08-01   1.683   1.359  0.692  1.244667\n",
       "2018-09-01   1.680   1.384  0.714  1.259333\n",
       "2018-10-01   1.657   1.417  0.744  1.272667"
      ]
     },
     "execution_count": 105,
     "metadata": {},
     "output_type": "execute_result"
    }
   ],
   "source": [
    "\n",
    "df = read_csv('fuelprices.csv', skiprows = 5, delimiter = ';', index_col = 0, parse_dates=True, infer_datetime_format=True)\n",
    "\n",
    "data = df.dropna().rename({'euro/liter':'Euro95','euro/liter.1':'Diesel', 'euro/liter.2':'LPG' }, axis=1)\n",
    "\n",
    "data.index.names = ['Months']\n",
    "\n",
    "data.index = pd.to_datetime(data.index)\n",
    "\n",
    "warnings.filterwarnings(\"ignore\", message=\"The argument 'infer_datetime_format' is deprecated.*\", category=FutureWarning) #ignore warning\n",
    "\n",
    "data['Average'] = data.mean(axis=1) #Add Average price \n",
    "data.head(10)"
   ]
  },
  {
   "cell_type": "code",
   "execution_count": 106,
   "metadata": {
    "tags": []
   },
   "outputs": [
    {
     "data": {
      "text/plain": [
       "Text(0.5, 1.0, 'Fuel prices per month in the Netherlands')"
      ]
     },
     "execution_count": 106,
     "metadata": {},
     "output_type": "execute_result"
    },
    {
     "data": {
      "image/png": "[encoded data removed]",
      "text/plain": [
       "<Figure size 1000x500 with 1 Axes>"
      ]
     },
     "metadata": {},
     "output_type": "display_data"
    }
   ],
   "source": [
    "data.plot(figsize=(10,5))\n",
    "plt.ylabel('Fuel price (euro/liter)', fontsize=12)\n",
    "plt.xlabel('Date (months)', fontsize=12)\n",
    "plt.title('Fuel prices per month in the Netherlands', fontsize=15)"
   ]
  },
  {
   "cell_type": "markdown",
   "metadata": {},
   "source": [
    "The figure shows the change in fuel prices per month between 2018 and 2023. Until 2022 the fuel price increased for all the different types of fuel as can be concluded from the graph. The grade of the increase was almost parallel when comparing the lines of the different fuels. From 2018 to 2021, fuel prices exhibited a degree of stability, with relatively consistent pricing patterns. However, during this period, there were occassions of both lower and higher price fluctuations, indicating that the fuel market experienced variations in pricing. Between 2021 and 2022, the prices on the market increased. From 2022, all the fuel prices has been decreasing and for a couple of months the price of diesel was higher than Euro95. Overall, there can be concluded that the fuel prices differ from time to time and that the rise occurs mostly between 2021 and 2022."
   ]
  },
  {
   "cell_type": "code",
   "execution_count": 107,
   "metadata": {},
   "outputs": [
    {
     "data": {
      "text/html": [
       "<div>\n",
       "<style scoped>\n",
       "    .dataframe tbody tr th:only-of-type {\n",
       "        vertical-align: middle;\n",
       "    }\n",
       "\n",
       "    .dataframe tbody tr th {\n",
       "        vertical-align: top;\n",
       "    }\n",
       "\n",
       "    .dataframe thead th {\n",
       "        text-align: right;\n",
       "    }\n",
       "</style>\n",
       "<table border=\"1\" class=\"dataframe\">\n",
       "  <thead>\n",
       "    <tr style=\"text-align: right;\">\n",
       "      <th></th>\n",
       "      <th>Year</th>\n",
       "      <th>Euro95</th>\n",
       "      <th>Diesel</th>\n",
       "      <th>LPG</th>\n",
       "      <th>Average</th>\n",
       "    </tr>\n",
       "  </thead>\n",
       "  <tbody>\n",
       "    <tr>\n",
       "      <th>0</th>\n",
       "      <td>2018</td>\n",
       "      <td>1.617667</td>\n",
       "      <td>1.335000</td>\n",
       "      <td>0.685417</td>\n",
       "      <td>1.212694</td>\n",
       "    </tr>\n",
       "    <tr>\n",
       "      <th>1</th>\n",
       "      <td>2019</td>\n",
       "      <td>1.647000</td>\n",
       "      <td>1.356417</td>\n",
       "      <td>0.632917</td>\n",
       "      <td>1.212111</td>\n",
       "    </tr>\n",
       "    <tr>\n",
       "      <th>2</th>\n",
       "      <td>2020</td>\n",
       "      <td>1.561833</td>\n",
       "      <td>1.237083</td>\n",
       "      <td>0.605000</td>\n",
       "      <td>1.134639</td>\n",
       "    </tr>\n",
       "    <tr>\n",
       "      <th>3</th>\n",
       "      <td>2021</td>\n",
       "      <td>1.813917</td>\n",
       "      <td>1.460583</td>\n",
       "      <td>0.782417</td>\n",
       "      <td>1.352306</td>\n",
       "    </tr>\n",
       "    <tr>\n",
       "      <th>4</th>\n",
       "      <td>2022</td>\n",
       "      <td>2.071917</td>\n",
       "      <td>1.954917</td>\n",
       "      <td>0.929250</td>\n",
       "      <td>1.652028</td>\n",
       "    </tr>\n",
       "  </tbody>\n",
       "</table>\n",
       "</div>"
      ],
      "text/plain": [
       "   Year    Euro95    Diesel       LPG   Average\n",
       "0  2018  1.617667  1.335000  0.685417  1.212694\n",
       "1  2019  1.647000  1.356417  0.632917  1.212111\n",
       "2  2020  1.561833  1.237083  0.605000  1.134639\n",
       "3  2021  1.813917  1.460583  0.782417  1.352306\n",
       "4  2022  2.071917  1.954917  0.929250  1.652028"
      ]
     },
     "execution_count": 107,
     "metadata": {},
     "output_type": "execute_result"
    }
   ],
   "source": [
    "data_yearly = data.resample('Y').mean() \n",
    "data_yearly['Average'] = data_yearly.mean(axis=1)\n",
    "data.index.names = ['Year']\n",
    "data_yearly['Year'] = data_yearly.index.strftime('%Y')\n",
    "data_yearly = data_yearly.set_index('Year')\n",
    "data_yearly.reset_index(level=0, inplace=True)\n",
    "data_yearly"
   ]
  },
  {
   "cell_type": "code",
   "execution_count": 108,
   "metadata": {
    "tags": []
   },
   "outputs": [
    {
     "data": {
      "image/png": "[encoded data removed]",
      "text/plain": [
       "<Figure size 1000x600 with 1 Axes>"
      ]
     },
     "metadata": {},
     "output_type": "display_data"
    }
   ],
   "source": [
    "data_yearly['Euro95_YoY'] = data_yearly['Euro95'].pct_change() * 100\n",
    "data_yearly['Diesel_YoY'] = data_yearly['Diesel'].pct_change() * 100\n",
    "data_yearly['LPG_YoY'] = data_yearly['LPG'].pct_change() * 100\n",
    "data_yearly['Average_YoY'] = data_yearly['Average'].pct_change() * 100\n",
    "\n",
    "# Plot the YoY changes\n",
    "plt.figure(figsize=(10, 6))\n",
    "plt.plot(data_yearly['Year'], data_yearly['Euro95_YoY'], label='Euro95 YoY Change')\n",
    "plt.plot(data_yearly['Year'], data_yearly['Diesel_YoY'], label='Diesel YoY Change')\n",
    "plt.plot(data_yearly['Year'], data_yearly['LPG_YoY'], label='LPG YoY Change')\n",
    "plt.plot(data_yearly['Year'], data_yearly['Average_YoY'], label='Average YoY Change')\n",
    "plt.xlabel('Year')\n",
    "plt.ylabel('YoY Change (%)')\n",
    "plt.title('Year-over-Year Fuel Price Changes')\n",
    "plt.legend()\n",
    "plt.grid(True)\n",
    "plt.show()"
   ]
  },
  {
   "cell_type": "markdown",
   "metadata": {},
   "source": [
    "In this graph, It can be seen that LPG has had a slightly divergent development in terms of price in recent years. Diesel and Euro95 are going through a similar development. However, from 2021 the price of diesel has been increasing all along, possibly because of the war between Russia and Ukraine.The price of Euro95 has dropped a little, the price of LPG has experienced a significant drop."
   ]
  },
  {
   "cell_type": "code",
   "execution_count": 109,
   "metadata": {},
   "outputs": [
    {
     "data": {
      "image/png": "[encoded data removed]",
      "text/plain": [
       "<Figure size 1000x600 with 1 Axes>"
      ]
     },
     "metadata": {},
     "output_type": "display_data"
    }
   ],
   "source": [
    "fueltypes = [\"Year\", \"Euro95\", \"Diesel\", \"LPG\", \"Average\"]\n",
    "\n",
    "plt.figure(figsize=(10, 6)) \n",
    "\n",
    "sns.lineplot(x='Year', y='Average', data=data_yearly, label='Average')\n",
    "sns.lineplot(x='Year', y='Euro95', data=data_yearly, label='Euro95')\n",
    "sns.lineplot(x='Year', y='Diesel', data=data_yearly, label='Diesel')\n",
    "sns.lineplot(x='Year', y='LPG', data=data_yearly, label='LPG')\n",
    "\n",
    "plt.title('Yearly Average Fuel Prices')\n",
    "plt.xlabel('Year')\n",
    "plt.ylabel('Average Price')\n",
    "\n",
    "plt.xticks(rotation=45)\n",
    "\n",
    "plt.legend() \n",
    "\n",
    "plt.show()"
   ]
  },
  {
   "cell_type": "markdown",
   "metadata": {},
   "source": [
    "# Subquestion 2: How have the mobility motives developed in the considered time in the Netherlands?\n",
    "In this subquestion the mobility trends found in the data from the CBS is explored. The yearly data is visualised in  bar charts. First the average amount of trips per day for every vehicle combined in 2022 and after that this is also done for the years 2018 till 2022."
   ]
  },
  {
   "cell_type": "code",
   "execution_count": 110,
   "metadata": {
    "tags": []
   },
   "outputs": [
    {
     "data": {
      "text/html": [
       "<div>\n",
       "<style scoped>\n",
       "    .dataframe tbody tr th:only-of-type {\n",
       "        vertical-align: middle;\n",
       "    }\n",
       "\n",
       "    .dataframe tbody tr th {\n",
       "        vertical-align: top;\n",
       "    }\n",
       "\n",
       "    .dataframe thead th {\n",
       "        text-align: right;\n",
       "    }\n",
       "</style>\n",
       "<table border=\"1\" class=\"dataframe\">\n",
       "  <thead>\n",
       "    <tr style=\"text-align: right;\">\n",
       "      <th></th>\n",
       "      <th>motive</th>\n",
       "      <th>2018</th>\n",
       "      <th>2019</th>\n",
       "      <th>2020</th>\n",
       "      <th>2021</th>\n",
       "      <th>2022</th>\n",
       "    </tr>\n",
       "    <tr>\n",
       "      <th>Periods</th>\n",
       "      <th></th>\n",
       "      <th></th>\n",
       "      <th></th>\n",
       "      <th></th>\n",
       "      <th></th>\n",
       "      <th></th>\n",
       "    </tr>\n",
       "  </thead>\n",
       "  <tbody>\n",
       "    <tr>\n",
       "      <th>Total</th>\n",
       "      <td>Total</td>\n",
       "      <td>2.78</td>\n",
       "      <td>2.71</td>\n",
       "      <td>2.35</td>\n",
       "      <td>2.51</td>\n",
       "      <td>2.70</td>\n",
       "    </tr>\n",
       "    <tr>\n",
       "      <th>Passenger car (driver)</th>\n",
       "      <td>Total</td>\n",
       "      <td>0.96</td>\n",
       "      <td>0.95</td>\n",
       "      <td>0.81</td>\n",
       "      <td>0.82</td>\n",
       "      <td>0.87</td>\n",
       "    </tr>\n",
       "    <tr>\n",
       "      <th>Train</th>\n",
       "      <td>Total</td>\n",
       "      <td>0.08</td>\n",
       "      <td>0.08</td>\n",
       "      <td>0.03</td>\n",
       "      <td>0.03</td>\n",
       "      <td>0.05</td>\n",
       "    </tr>\n",
       "    <tr>\n",
       "      <th>Bike</th>\n",
       "      <td>Total</td>\n",
       "      <td>0.79</td>\n",
       "      <td>0.76</td>\n",
       "      <td>0.63</td>\n",
       "      <td>0.64</td>\n",
       "      <td>0.75</td>\n",
       "    </tr>\n",
       "    <tr>\n",
       "      <th>Walking</th>\n",
       "      <td>Total</td>\n",
       "      <td>0.44</td>\n",
       "      <td>0.43</td>\n",
       "      <td>0.52</td>\n",
       "      <td>0.61</td>\n",
       "      <td>0.58</td>\n",
       "    </tr>\n",
       "  </tbody>\n",
       "</table>\n",
       "</div>"
      ],
      "text/plain": [
       "                       motive  2018  2019  2020  2021  2022\n",
       "Periods                                                    \n",
       "Total                   Total  2.78  2.71  2.35  2.51  2.70\n",
       "Passenger car (driver)  Total  0.96  0.95  0.81  0.82  0.87\n",
       "Train                   Total  0.08  0.08  0.03  0.03  0.05\n",
       "Bike                    Total  0.79  0.76  0.63  0.64  0.75\n",
       "Walking                 Total  0.44  0.43  0.52  0.61  0.58"
      ]
     },
     "metadata": {},
     "output_type": "display_data"
    }
   ],
   "source": [
    "mobility_trips = read_csv('mobility_perday.csv', index_col = 1, skiprows = 6, delimiter = ';', usecols = [0,1,2,3,4,5,6])\n",
    "mobility_trips = mobility_trips.dropna()\n",
    "mobility_trips = mobility_trips.drop('Travel modes')\n",
    "mobility_trips = mobility_trips.rename({'Unnamed: 0':'motive'}, axis=1)\n",
    "display(mobility_trips.head())"
   ]
  },
  {
   "cell_type": "code",
   "execution_count": 111,
   "metadata": {
    "tags": []
   },
   "outputs": [
    {
     "data": {
      "application/vnd.plotly.v1+json": {
       "config": {
        "plotlyServerURL": "https://plot.ly"
       },
       "data": [
        {
         "hovertemplate": "Periods=Total<br>year=%{x}<br>trips=%{y}<extra></extra>",
         "legendgroup": "Total",
         "line": {
          "color": "#636efa",
          "dash": "solid"
         },
         "marker": {
          "symbol": "circle"
         },
         "mode": "lines",
         "name": "Total",
         "orientation": "v",
         "showlegend": true,
         "type": "scatter",
         "x": [
          "2018",
          "2019",
          "2020",
          "2021",
          "2022"
         ],
         "xaxis": "x",
         "y": [
          2.78,
          2.71,
          2.35,
          2.51,
          2.7
         ],
         "yaxis": "y"
        },
        {
         "hovertemplate": "Periods=Passenger car (driver)<br>year=%{x}<br>trips=%{y}<extra></extra>",
         "legendgroup": "Passenger car (driver)",
         "line": {
          "color": "#EF553B",
          "dash": "solid"
         },
         "marker": {
          "symbol": "circle"
         },
         "mode": "lines",
         "name": "Passenger car (driver)",
         "orientation": "v",
         "showlegend": true,
         "type": "scatter",
         "x": [
          "2018",
          "2019",
          "2020",
          "2021",
          "2022"
         ],
         "xaxis": "x",
         "y": [
          0.96,
          0.95,
          0.81,
          0.82,
          0.87
         ],
         "yaxis": "y"
        },
        {
         "hovertemplate": "Periods=Train<br>year=%{x}<br>trips=%{y}<extra></extra>",
         "legendgroup": "Train",
         "line": {
          "color": "#00cc96",
          "dash": "solid"
         },
         "marker": {
          "symbol": "circle"
         },
         "mode": "lines",
         "name": "Train",
         "orientation": "v",
         "showlegend": true,
         "type": "scatter",
         "x": [
          "2018",
          "2019",
          "2020",
          "2021",
          "2022"
         ],
         "xaxis": "x",
         "y": [
          0.08,
          0.08,
          0.03,
          0.03,
          0.05
         ],
         "yaxis": "y"
        },
        {
         "hovertemplate": "Periods=Bike<br>year=%{x}<br>trips=%{y}<extra></extra>",
         "legendgroup": "Bike",
         "line": {
          "color": "#ab63fa",
          "dash": "solid"
         },
         "marker": {
          "symbol": "circle"
         },
         "mode": "lines",
         "name": "Bike",
         "orientation": "v",
         "showlegend": true,
         "type": "scatter",
         "x": [
          "2018",
          "2019",
          "2020",
          "2021",
          "2022"
         ],
         "xaxis": "x",
         "y": [
          0.79,
          0.76,
          0.63,
          0.64,
          0.75
         ],
         "yaxis": "y"
        },
        {
         "hovertemplate": "Periods=Walking<br>year=%{x}<br>trips=%{y}<extra></extra>",
         "legendgroup": "Walking",
         "line": {
          "color": "#FFA15A",
          "dash": "solid"
         },
         "marker": {
          "symbol": "circle"
         },
         "mode": "lines",
         "name": "Walking",
         "orientation": "v",
         "showlegend": true,
         "type": "scatter",
         "x": [
          "2018",
          "2019",
          "2020",
          "2021",
          "2022"
         ],
         "xaxis": "x",
         "y": [
          0.44,
          0.43,
          0.52,
          0.61,
          0.58
         ],
         "yaxis": "y"
        }
       ],
       "layout": {
        "legend": {
         "title": {
          "text": "Periods"
         },
         "tracegroupgap": 0
        },
        "margin": {
         "t": 60
        },
        "template": {
         "data": {
          "bar": [
           {
            "error_x": {
             "color": "#2a3f5f"
            },
            "error_y": {
             "color": "#2a3f5f"
            },
            "marker": {
             "line": {
              "color": "#E5ECF6",
              "width": 0.5
             },
             "pattern": {
              "fillmode": "overlay",
              "size": 10,
              "solidity": 0.2
             }
            },
            "type": "bar"
           }
          ],
          "barpolar": [
           {
            "marker": {
             "line": {
              "color": "#E5ECF6",
              "width": 0.5
             },
             "pattern": {
              "fillmode": "overlay",
              "size": 10,
              "solidity": 0.2
             }
            },
            "type": "barpolar"
           }
          ],
          "carpet": [
           {
            "aaxis": {
             "endlinecolor": "#2a3f5f",
             "gridcolor": "white",
             "linecolor": "white",
             "minorgridcolor": "white",
             "startlinecolor": "#2a3f5f"
            },
            "baxis": {
             "endlinecolor": "#2a3f5f",
             "gridcolor": "white",
             "linecolor": "white",
             "minorgridcolor": "white",
             "startlinecolor": "#2a3f5f"
            },
            "type": "carpet"
           }
          ],
          "choropleth": [
           {
            "colorbar": {
             "outlinewidth": 0,
             "ticks": ""
            },
            "type": "choropleth"
           }
          ],
          "contour": [
           {
            "colorbar": {
             "outlinewidth": 0,
             "ticks": ""
            },
            "colorscale": [
             [
              0,
              "#0d0887"
             ],
             [
              0.1111111111111111,
              "#46039f"
             ],
             [
              0.2222222222222222,
              "#7201a8"
             ],
             [
              0.3333333333333333,
              "#9c179e"
             ],
             [
              0.4444444444444444,
              "#bd3786"
             ],
             [
              0.5555555555555556,
              "#d8576b"
             ],
             [
              0.6666666666666666,
              "#ed7953"
             ],
             [
              0.7777777777777778,
              "#fb9f3a"
             ],
             [
              0.8888888888888888,
              "#fdca26"
             ],
             [
              1,
              "#f0f921"
             ]
            ],
            "type": "contour"
           }
          ],
          "contourcarpet": [
           {
            "colorbar": {
             "outlinewidth": 0,
             "ticks": ""
            },
            "type": "contourcarpet"
           }
          ],
          "heatmap": [
           {
            "colorbar": {
             "outlinewidth": 0,
             "ticks": ""
            },
            "colorscale": [
             [
              0,
              "#0d0887"
             ],
             [
              0.1111111111111111,
              "#46039f"
             ],
             [
              0.2222222222222222,
              "#7201a8"
             ],
             [
              0.3333333333333333,
              "#9c179e"
             ],
             [
              0.4444444444444444,
              "#bd3786"
             ],
             [
              0.5555555555555556,
              "#d8576b"
             ],
             [
              0.6666666666666666,
              "#ed7953"
             ],
             [
              0.7777777777777778,
              "#fb9f3a"
             ],
             [
              0.8888888888888888,
              "#fdca26"
             ],
             [
              1,
              "#f0f921"
             ]
            ],
            "type": "heatmap"
           }
          ],
          "heatmapgl": [
           {
            "colorbar": {
             "outlinewidth": 0,
             "ticks": ""
            },
            "colorscale": [
             [
              0,
              "#0d0887"
             ],
             [
              0.1111111111111111,
              "#46039f"
             ],
             [
              0.2222222222222222,
              "#7201a8"
             ],
             [
              0.3333333333333333,
              "#9c179e"
             ],
             [
              0.4444444444444444,
              "#bd3786"
             ],
             [
              0.5555555555555556,
              "#d8576b"
             ],
             [
              0.6666666666666666,
              "#ed7953"
             ],
             [
              0.7777777777777778,
              "#fb9f3a"
             ],
             [
              0.8888888888888888,
              "#fdca26"
             ],
             [
              1,
              "#f0f921"
             ]
            ],
            "type": "heatmapgl"
           }
          ],
          "histogram": [
           {
            "marker": {
             "pattern": {
              "fillmode": "overlay",
              "size": 10,
              "solidity": 0.2
             }
            },
            "type": "histogram"
           }
          ],
          "histogram2d": [
           {
            "colorbar": {
             "outlinewidth": 0,
             "ticks": ""
            },
            "colorscale": [
             [
              0,
              "#0d0887"
             ],
             [
              0.1111111111111111,
              "#46039f"
             ],
             [
              0.2222222222222222,
              "#7201a8"
             ],
             [
              0.3333333333333333,
              "#9c179e"
             ],
             [
              0.4444444444444444,
              "#bd3786"
             ],
             [
              0.5555555555555556,
              "#d8576b"
             ],
             [
              0.6666666666666666,
              "#ed7953"
             ],
             [
              0.7777777777777778,
              "#fb9f3a"
             ],
             [
              0.8888888888888888,
              "#fdca26"
             ],
             [
              1,
              "#f0f921"
             ]
            ],
            "type": "histogram2d"
           }
          ],
          "histogram2dcontour": [
           {
            "colorbar": {
             "outlinewidth": 0,
             "ticks": ""
            },
            "colorscale": [
             [
              0,
              "#0d0887"
             ],
             [
              0.1111111111111111,
              "#46039f"
             ],
             [
              0.2222222222222222,
              "#7201a8"
             ],
             [
              0.3333333333333333,
              "#9c179e"
             ],
             [
              0.4444444444444444,
              "#bd3786"
             ],
             [
              0.5555555555555556,
              "#d8576b"
             ],
             [
              0.6666666666666666,
              "#ed7953"
             ],
             [
              0.7777777777777778,
              "#fb9f3a"
             ],
             [
              0.8888888888888888,
              "#fdca26"
             ],
             [
              1,
              "#f0f921"
             ]
            ],
            "type": "histogram2dcontour"
           }
          ],
          "mesh3d": [
           {
            "colorbar": {
             "outlinewidth": 0,
             "ticks": ""
            },
            "type": "mesh3d"
           }
          ],
          "parcoords": [
           {
            "line": {
             "colorbar": {
              "outlinewidth": 0,
              "ticks": ""
             }
            },
            "type": "parcoords"
           }
          ],
          "pie": [
           {
            "automargin": true,
            "type": "pie"
           }
          ],
          "scatter": [
           {
            "fillpattern": {
             "fillmode": "overlay",
             "size": 10,
             "solidity": 0.2
            },
            "type": "scatter"
           }
          ],
          "scatter3d": [
           {
            "line": {
             "colorbar": {
              "outlinewidth": 0,
              "ticks": ""
             }
            },
            "marker": {
             "colorbar": {
              "outlinewidth": 0,
              "ticks": ""
             }
            },
            "type": "scatter3d"
           }
          ],
          "scattercarpet": [
           {
            "marker": {
             "colorbar": {
              "outlinewidth": 0,
              "ticks": ""
             }
            },
            "type": "scattercarpet"
           }
          ],
          "scattergeo": [
           {
            "marker": {
             "colorbar": {
              "outlinewidth": 0,
              "ticks": ""
             }
            },
            "type": "scattergeo"
           }
          ],
          "scattergl": [
           {
            "marker": {
             "colorbar": {
              "outlinewidth": 0,
              "ticks": ""
             }
            },
            "type": "scattergl"
           }
          ],
          "scattermapbox": [
           {
            "marker": {
             "colorbar": {
              "outlinewidth": 0,
              "ticks": ""
             }
            },
            "type": "scattermapbox"
           }
          ],
          "scatterpolar": [
           {
            "marker": {
             "colorbar": {
              "outlinewidth": 0,
              "ticks": ""
             }
            },
            "type": "scatterpolar"
           }
          ],
          "scatterpolargl": [
           {
            "marker": {
             "colorbar": {
              "outlinewidth": 0,
              "ticks": ""
             }
            },
            "type": "scatterpolargl"
           }
          ],
          "scatterternary": [
           {
            "marker": {
             "colorbar": {
              "outlinewidth": 0,
              "ticks": ""
             }
            },
            "type": "scatterternary"
           }
          ],
          "surface": [
           {
            "colorbar": {
             "outlinewidth": 0,
             "ticks": ""
            },
            "colorscale": [
             [
              0,
              "#0d0887"
             ],
             [
              0.1111111111111111,
              "#46039f"
             ],
             [
              0.2222222222222222,
              "#7201a8"
             ],
             [
              0.3333333333333333,
              "#9c179e"
             ],
             [
              0.4444444444444444,
              "#bd3786"
             ],
             [
              0.5555555555555556,
              "#d8576b"
             ],
             [
              0.6666666666666666,
              "#ed7953"
             ],
             [
              0.7777777777777778,
              "#fb9f3a"
             ],
             [
              0.8888888888888888,
              "#fdca26"
             ],
             [
              1,
              "#f0f921"
             ]
            ],
            "type": "surface"
           }
          ],
          "table": [
           {
            "cells": {
             "fill": {
              "color": "#EBF0F8"
             },
             "line": {
              "color": "white"
             }
            },
            "header": {
             "fill": {
              "color": "#C8D4E3"
             },
             "line": {
              "color": "white"
             }
            },
            "type": "table"
           }
          ]
         },
         "layout": {
          "annotationdefaults": {
           "arrowcolor": "#2a3f5f",
           "arrowhead": 0,
           "arrowwidth": 1
          },
          "autotypenumbers": "strict",
          "coloraxis": {
           "colorbar": {
            "outlinewidth": 0,
            "ticks": ""
           }
          },
          "colorscale": {
           "diverging": [
            [
             0,
             "#8e0152"
            ],
            [
             0.1,
             "#c51b7d"
            ],
            [
             0.2,
             "#de77ae"
            ],
            [
             0.3,
             "#f1b6da"
            ],
            [
             0.4,
             "#fde0ef"
            ],
            [
             0.5,
             "#f7f7f7"
            ],
            [
             0.6,
             "#e6f5d0"
            ],
            [
             0.7,
             "#b8e186"
            ],
            [
             0.8,
             "#7fbc41"
            ],
            [
             0.9,
             "#4d9221"
            ],
            [
             1,
             "#276419"
            ]
           ],
           "sequential": [
            [
             0,
             "#0d0887"
            ],
            [
             0.1111111111111111,
             "#46039f"
            ],
            [
             0.2222222222222222,
             "#7201a8"
            ],
            [
             0.3333333333333333,
             "#9c179e"
            ],
            [
             0.4444444444444444,
             "#bd3786"
            ],
            [
             0.5555555555555556,
             "#d8576b"
            ],
            [
             0.6666666666666666,
             "#ed7953"
            ],
            [
             0.7777777777777778,
             "#fb9f3a"
            ],
            [
             0.8888888888888888,
             "#fdca26"
            ],
            [
             1,
             "#f0f921"
            ]
           ],
           "sequentialminus": [
            [
             0,
             "#0d0887"
            ],
            [
             0.1111111111111111,
             "#46039f"
            ],
            [
             0.2222222222222222,
             "#7201a8"
            ],
            [
             0.3333333333333333,
             "#9c179e"
            ],
            [
             0.4444444444444444,
             "#bd3786"
            ],
            [
             0.5555555555555556,
             "#d8576b"
            ],
            [
             0.6666666666666666,
             "#ed7953"
            ],
            [
             0.7777777777777778,
             "#fb9f3a"
            ],
            [
             0.8888888888888888,
             "#fdca26"
            ],
            [
             1,
             "#f0f921"
            ]
           ]
          },
          "colorway": [
           "#636efa",
           "#EF553B",
           "#00cc96",
           "#ab63fa",
           "#FFA15A",
           "#19d3f3",
           "#FF6692",
           "#B6E880",
           "#FF97FF",
           "#FECB52"
          ],
          "font": {
           "color": "#2a3f5f"
          },
          "geo": {
           "bgcolor": "white",
           "lakecolor": "white",
           "landcolor": "#E5ECF6",
           "showlakes": true,
           "showland": true,
           "subunitcolor": "white"
          },
          "hoverlabel": {
           "align": "left"
          },
          "hovermode": "closest",
          "mapbox": {
           "style": "light"
          },
          "paper_bgcolor": "white",
          "plot_bgcolor": "#E5ECF6",
          "polar": {
           "angularaxis": {
            "gridcolor": "white",
            "linecolor": "white",
            "ticks": ""
           },
           "bgcolor": "#E5ECF6",
           "radialaxis": {
            "gridcolor": "white",
            "linecolor": "white",
            "ticks": ""
           }
          },
          "scene": {
           "xaxis": {
            "backgroundcolor": "#E5ECF6",
            "gridcolor": "white",
            "gridwidth": 2,
            "linecolor": "white",
            "showbackground": true,
            "ticks": "",
            "zerolinecolor": "white"
           },
           "yaxis": {
            "backgroundcolor": "#E5ECF6",
            "gridcolor": "white",
            "gridwidth": 2,
            "linecolor": "white",
            "showbackground": true,
            "ticks": "",
            "zerolinecolor": "white"
           },
           "zaxis": {
            "backgroundcolor": "#E5ECF6",
            "gridcolor": "white",
            "gridwidth": 2,
            "linecolor": "white",
            "showbackground": true,
            "ticks": "",
            "zerolinecolor": "white"
           }
          },
          "shapedefaults": {
           "line": {
            "color": "#2a3f5f"
           }
          },
          "ternary": {
           "aaxis": {
            "gridcolor": "white",
            "linecolor": "white",
            "ticks": ""
           },
           "baxis": {
            "gridcolor": "white",
            "linecolor": "white",
            "ticks": ""
           },
           "bgcolor": "#E5ECF6",
           "caxis": {
            "gridcolor": "white",
            "linecolor": "white",
            "ticks": ""
           }
          },
          "title": {
           "x": 0.05
          },
          "xaxis": {
           "automargin": true,
           "gridcolor": "white",
           "linecolor": "white",
           "ticks": "",
           "title": {
            "standoff": 15
           },
           "zerolinecolor": "white",
           "zerolinewidth": 2
          },
          "yaxis": {
           "automargin": true,
           "gridcolor": "white",
           "linecolor": "white",
           "ticks": "",
           "title": {
            "standoff": 15
           },
           "zerolinecolor": "white",
           "zerolinewidth": 2
          }
         }
        },
        "title": {
         "text": "Average amount of trips per mode of transport per year",
         "x": 0.5
        },
        "xaxis": {
         "anchor": "y",
         "domain": [
          0,
          1
         ],
         "title": {
          "text": "year"
         }
        },
        "yaxis": {
         "anchor": "x",
         "domain": [
          0,
          1
         ],
         "title": {
          "text": "trips"
         }
        }
       }
      }
     },
     "metadata": {},
     "output_type": "display_data"
    }
   ],
   "source": [
    "# does not work yet\n",
    "years = ['2018', '2019', '2020', '2021', '2022']\n",
    "\n",
    "mobility_trend = mobility_trips[mobility_trips['motive'] == 'Total']\n",
    "mobility_trend_years = mobility_trend[years].reset_index()\n",
    "melted_mobility_trend = mobility_trend_years.melt(id_vars='Periods', var_name='year', value_name='trips')\n",
    "\n",
    "melted_mobility_trend['trips'] = melted_mobility_trend['trips'].astype(float)\n",
    "\n",
    "figure = px.line(melted_mobility_trend, x='year', y='trips', color='Periods')\n",
    "figure.update_layout(title={\n",
    "    'text': f'Average amount of trips per mode of transport per year',\n",
    "    'x': 0.5\n",
    "})\n",
    "# figure.update_yaxes(range=[0, 3]) \n",
    "figure.show()\n",
    "\n",
    "\n",
    "#Pls try plotting this after calculating YoY changes"
   ]
  },
  {
   "cell_type": "code",
   "execution_count": 112,
   "metadata": {
    "tags": []
   },
   "outputs": [
    {
     "data": {
      "application/vnd.plotly.v1+json": {
       "config": {
        "plotlyServerURL": "https://plot.ly"
       },
       "data": [
        {
         "alignmentgroup": "True",
         "hovertemplate": "color=Professionally<br>2022=%{x}<br>y=%{y}<extra></extra>",
         "legendgroup": "Professionally",
         "marker": {
          "color": "#636efa",
          "pattern": {
           "shape": ""
          }
         },
         "name": "Professionally",
         "offsetgroup": "Professionally",
         "orientation": "h",
         "showlegend": true,
         "textposition": "auto",
         "type": "bar",
         "x": [
          "0.08"
         ],
         "xaxis": "x",
         "y": [
          "Professionally"
         ],
         "yaxis": "y"
        },
        {
         "alignmentgroup": "True",
         "hovertemplate": "color=Services/care<br>2022=%{x}<br>y=%{y}<extra></extra>",
         "legendgroup": "Services/care",
         "marker": {
          "color": "#EF553B",
          "pattern": {
           "shape": ""
          }
         },
         "name": "Services/care",
         "offsetgroup": "Services/care",
         "orientation": "h",
         "showlegend": true,
         "textposition": "auto",
         "type": "bar",
         "x": [
          "0.09"
         ],
         "xaxis": "x",
         "y": [
          "Services/care"
         ],
         "yaxis": "y"
        },
        {
         "alignmentgroup": "True",
         "hovertemplate": "color=Attending education/courses<br>2022=%{x}<br>y=%{y}<extra></extra>",
         "legendgroup": "Attending education/courses",
         "marker": {
          "color": "#00cc96",
          "pattern": {
           "shape": ""
          }
         },
         "name": "Attending education/courses",
         "offsetgroup": "Attending education/courses",
         "orientation": "h",
         "showlegend": true,
         "textposition": "auto",
         "type": "bar",
         "x": [
          "0.18"
         ],
         "xaxis": "x",
         "y": [
          "Attending education/courses"
         ],
         "yaxis": "y"
        },
        {
         "alignmentgroup": "True",
         "hovertemplate": "color=Travel to/from work, (non)-daily commute<br>2022=%{x}<br>y=%{y}<extra></extra>",
         "legendgroup": "Travel to/from work, (non)-daily commute",
         "marker": {
          "color": "#ab63fa",
          "pattern": {
           "shape": ""
          }
         },
         "name": "Travel to/from work, (non)-daily commute",
         "offsetgroup": "Travel to/from work, (non)-daily commute",
         "orientation": "h",
         "showlegend": true,
         "textposition": "auto",
         "type": "bar",
         "x": [
          "0.42"
         ],
         "xaxis": "x",
         "y": [
          "Travel to/from work, (non)-daily commute"
         ],
         "yaxis": "y"
        },
        {
         "alignmentgroup": "True",
         "hovertemplate": "color=Shopping, groceries, funshopping.<br>2022=%{x}<br>y=%{y}<extra></extra>",
         "legendgroup": "Shopping, groceries, funshopping.",
         "marker": {
          "color": "#FFA15A",
          "pattern": {
           "shape": ""
          }
         },
         "name": "Shopping, groceries, funshopping.",
         "offsetgroup": "Shopping, groceries, funshopping.",
         "orientation": "h",
         "showlegend": true,
         "textposition": "auto",
         "type": "bar",
         "x": [
          "0.58"
         ],
         "xaxis": "x",
         "y": [
          "Shopping, groceries, funshopping."
         ],
         "yaxis": "y"
        },
        {
         "alignmentgroup": "True",
         "hovertemplate": "color=Total<br>2022=%{x}<br>y=%{y}<extra></extra>",
         "legendgroup": "Total",
         "marker": {
          "color": "#19d3f3",
          "pattern": {
           "shape": ""
          }
         },
         "name": "Total",
         "offsetgroup": "Total",
         "orientation": "h",
         "showlegend": true,
         "textposition": "auto",
         "type": "bar",
         "x": [
          "2.70"
         ],
         "xaxis": "x",
         "y": [
          "Total"
         ],
         "yaxis": "y"
        }
       ],
       "layout": {
        "barmode": "relative",
        "legend": {
         "title": {
          "text": "color"
         },
         "tracegroupgap": 0
        },
        "margin": {
         "t": 60
        },
        "template": {
         "data": {
          "bar": [
           {
            "error_x": {
             "color": "#2a3f5f"
            },
            "error_y": {
             "color": "#2a3f5f"
            },
            "marker": {
             "line": {
              "color": "#E5ECF6",
              "width": 0.5
             },
             "pattern": {
              "fillmode": "overlay",
              "size": 10,
              "solidity": 0.2
             }
            },
            "type": "bar"
           }
          ],
          "barpolar": [
           {
            "marker": {
             "line": {
              "color": "#E5ECF6",
              "width": 0.5
             },
             "pattern": {
              "fillmode": "overlay",
              "size": 10,
              "solidity": 0.2
             }
            },
            "type": "barpolar"
           }
          ],
          "carpet": [
           {
            "aaxis": {
             "endlinecolor": "#2a3f5f",
             "gridcolor": "white",
             "linecolor": "white",
             "minorgridcolor": "white",
             "startlinecolor": "#2a3f5f"
            },
            "baxis": {
             "endlinecolor": "#2a3f5f",
             "gridcolor": "white",
             "linecolor": "white",
             "minorgridcolor": "white",
             "startlinecolor": "#2a3f5f"
            },
            "type": "carpet"
           }
          ],
          "choropleth": [
           {
            "colorbar": {
             "outlinewidth": 0,
             "ticks": ""
            },
            "type": "choropleth"
           }
          ],
          "contour": [
           {
            "colorbar": {
             "outlinewidth": 0,
             "ticks": ""
            },
            "colorscale": [
             [
              0,
              "#0d0887"
             ],
             [
              0.1111111111111111,
              "#46039f"
             ],
             [
              0.2222222222222222,
              "#7201a8"
             ],
             [
              0.3333333333333333,
              "#9c179e"
             ],
             [
              0.4444444444444444,
              "#bd3786"
             ],
             [
              0.5555555555555556,
              "#d8576b"
             ],
             [
              0.6666666666666666,
              "#ed7953"
             ],
             [
              0.7777777777777778,
              "#fb9f3a"
             ],
             [
              0.8888888888888888,
              "#fdca26"
             ],
             [
              1,
              "#f0f921"
             ]
            ],
            "type": "contour"
           }
          ],
          "contourcarpet": [
           {
            "colorbar": {
             "outlinewidth": 0,
             "ticks": ""
            },
            "type": "contourcarpet"
           }
          ],
          "heatmap": [
           {
            "colorbar": {
             "outlinewidth": 0,
             "ticks": ""
            },
            "colorscale": [
             [
              0,
              "#0d0887"
             ],
             [
              0.1111111111111111,
              "#46039f"
             ],
             [
              0.2222222222222222,
              "#7201a8"
             ],
             [
              0.3333333333333333,
              "#9c179e"
             ],
             [
              0.4444444444444444,
              "#bd3786"
             ],
             [
              0.5555555555555556,
              "#d8576b"
             ],
             [
              0.6666666666666666,
              "#ed7953"
             ],
             [
              0.7777777777777778,
              "#fb9f3a"
             ],
             [
              0.8888888888888888,
              "#fdca26"
             ],
             [
              1,
              "#f0f921"
             ]
            ],
            "type": "heatmap"
           }
          ],
          "heatmapgl": [
           {
            "colorbar": {
             "outlinewidth": 0,
             "ticks": ""
            },
            "colorscale": [
             [
              0,
              "#0d0887"
             ],
             [
              0.1111111111111111,
              "#46039f"
             ],
             [
              0.2222222222222222,
              "#7201a8"
             ],
             [
              0.3333333333333333,
              "#9c179e"
             ],
             [
              0.4444444444444444,
              "#bd3786"
             ],
             [
              0.5555555555555556,
              "#d8576b"
             ],
             [
              0.6666666666666666,
              "#ed7953"
             ],
             [
              0.7777777777777778,
              "#fb9f3a"
             ],
             [
              0.8888888888888888,
              "#fdca26"
             ],
             [
              1,
              "#f0f921"
             ]
            ],
            "type": "heatmapgl"
           }
          ],
          "histogram": [
           {
            "marker": {
             "pattern": {
              "fillmode": "overlay",
              "size": 10,
              "solidity": 0.2
             }
            },
            "type": "histogram"
           }
          ],
          "histogram2d": [
           {
            "colorbar": {
             "outlinewidth": 0,
             "ticks": ""
            },
            "colorscale": [
             [
              0,
              "#0d0887"
             ],
             [
              0.1111111111111111,
              "#46039f"
             ],
             [
              0.2222222222222222,
              "#7201a8"
             ],
             [
              0.3333333333333333,
              "#9c179e"
             ],
             [
              0.4444444444444444,
              "#bd3786"
             ],
             [
              0.5555555555555556,
              "#d8576b"
             ],
             [
              0.6666666666666666,
              "#ed7953"
             ],
             [
              0.7777777777777778,
              "#fb9f3a"
             ],
             [
              0.8888888888888888,
              "#fdca26"
             ],
             [
              1,
              "#f0f921"
             ]
            ],
            "type": "histogram2d"
           }
          ],
          "histogram2dcontour": [
           {
            "colorbar": {
             "outlinewidth": 0,
             "ticks": ""
            },
            "colorscale": [
             [
              0,
              "#0d0887"
             ],
             [
              0.1111111111111111,
              "#46039f"
             ],
             [
              0.2222222222222222,
              "#7201a8"
             ],
             [
              0.3333333333333333,
              "#9c179e"
             ],
             [
              0.4444444444444444,
              "#bd3786"
             ],
             [
              0.5555555555555556,
              "#d8576b"
             ],
             [
              0.6666666666666666,
              "#ed7953"
             ],
             [
              0.7777777777777778,
              "#fb9f3a"
             ],
             [
              0.8888888888888888,
              "#fdca26"
             ],
             [
              1,
              "#f0f921"
             ]
            ],
            "type": "histogram2dcontour"
           }
          ],
          "mesh3d": [
           {
            "colorbar": {
             "outlinewidth": 0,
             "ticks": ""
            },
            "type": "mesh3d"
           }
          ],
          "parcoords": [
           {
            "line": {
             "colorbar": {
              "outlinewidth": 0,
              "ticks": ""
             }
            },
            "type": "parcoords"
           }
          ],
          "pie": [
           {
            "automargin": true,
            "type": "pie"
           }
          ],
          "scatter": [
           {
            "fillpattern": {
             "fillmode": "overlay",
             "size": 10,
             "solidity": 0.2
            },
            "type": "scatter"
           }
          ],
          "scatter3d": [
           {
            "line": {
             "colorbar": {
              "outlinewidth": 0,
              "ticks": ""
             }
            },
            "marker": {
             "colorbar": {
              "outlinewidth": 0,
              "ticks": ""
             }
            },
            "type": "scatter3d"
           }
          ],
          "scattercarpet": [
           {
            "marker": {
             "colorbar": {
              "outlinewidth": 0,
              "ticks": ""
             }
            },
            "type": "scattercarpet"
           }
          ],
          "scattergeo": [
           {
            "marker": {
             "colorbar": {
              "outlinewidth": 0,
              "ticks": ""
             }
            },
            "type": "scattergeo"
           }
          ],
          "scattergl": [
           {
            "marker": {
             "colorbar": {
              "outlinewidth": 0,
              "ticks": ""
             }
            },
            "type": "scattergl"
           }
          ],
          "scattermapbox": [
           {
            "marker": {
             "colorbar": {
              "outlinewidth": 0,
              "ticks": ""
             }
            },
            "type": "scattermapbox"
           }
          ],
          "scatterpolar": [
           {
            "marker": {
             "colorbar": {
              "outlinewidth": 0,
              "ticks": ""
             }
            },
            "type": "scatterpolar"
           }
          ],
          "scatterpolargl": [
           {
            "marker": {
             "colorbar": {
              "outlinewidth": 0,
              "ticks": ""
             }
            },
            "type": "scatterpolargl"
           }
          ],
          "scatterternary": [
           {
            "marker": {
             "colorbar": {
              "outlinewidth": 0,
              "ticks": ""
             }
            },
            "type": "scatterternary"
           }
          ],
          "surface": [
           {
            "colorbar": {
             "outlinewidth": 0,
             "ticks": ""
            },
            "colorscale": [
             [
              0,
              "#0d0887"
             ],
             [
              0.1111111111111111,
              "#46039f"
             ],
             [
              0.2222222222222222,
              "#7201a8"
             ],
             [
              0.3333333333333333,
              "#9c179e"
             ],
             [
              0.4444444444444444,
              "#bd3786"
             ],
             [
              0.5555555555555556,
              "#d8576b"
             ],
             [
              0.6666666666666666,
              "#ed7953"
             ],
             [
              0.7777777777777778,
              "#fb9f3a"
             ],
             [
              0.8888888888888888,
              "#fdca26"
             ],
             [
              1,
              "#f0f921"
             ]
            ],
            "type": "surface"
           }
          ],
          "table": [
           {
            "cells": {
             "fill": {
              "color": "#EBF0F8"
             },
             "line": {
              "color": "white"
             }
            },
            "header": {
             "fill": {
              "color": "#C8D4E3"
             },
             "line": {
              "color": "white"
             }
            },
            "type": "table"
           }
          ]
         },
         "layout": {
          "annotationdefaults": {
           "arrowcolor": "#2a3f5f",
           "arrowhead": 0,
           "arrowwidth": 1
          },
          "autotypenumbers": "strict",
          "coloraxis": {
           "colorbar": {
            "outlinewidth": 0,
            "ticks": ""
           }
          },
          "colorscale": {
           "diverging": [
            [
             0,
             "#8e0152"
            ],
            [
             0.1,
             "#c51b7d"
            ],
            [
             0.2,
             "#de77ae"
            ],
            [
             0.3,
             "#f1b6da"
            ],
            [
             0.4,
             "#fde0ef"
            ],
            [
             0.5,
             "#f7f7f7"
            ],
            [
             0.6,
             "#e6f5d0"
            ],
            [
             0.7,
             "#b8e186"
            ],
            [
             0.8,
             "#7fbc41"
            ],
            [
             0.9,
             "#4d9221"
            ],
            [
             1,
             "#276419"
            ]
           ],
           "sequential": [
            [
             0,
             "#0d0887"
            ],
            [
             0.1111111111111111,
             "#46039f"
            ],
            [
             0.2222222222222222,
             "#7201a8"
            ],
            [
             0.3333333333333333,
             "#9c179e"
            ],
            [
             0.4444444444444444,
             "#bd3786"
            ],
            [
             0.5555555555555556,
             "#d8576b"
            ],
            [
             0.6666666666666666,
             "#ed7953"
            ],
            [
             0.7777777777777778,
             "#fb9f3a"
            ],
            [
             0.8888888888888888,
             "#fdca26"
            ],
            [
             1,
             "#f0f921"
            ]
           ],
           "sequentialminus": [
            [
             0,
             "#0d0887"
            ],
            [
             0.1111111111111111,
             "#46039f"
            ],
            [
             0.2222222222222222,
             "#7201a8"
            ],
            [
             0.3333333333333333,
             "#9c179e"
            ],
            [
             0.4444444444444444,
             "#bd3786"
            ],
            [
             0.5555555555555556,
             "#d8576b"
            ],
            [
             0.6666666666666666,
             "#ed7953"
            ],
            [
             0.7777777777777778,
             "#fb9f3a"
            ],
            [
             0.8888888888888888,
             "#fdca26"
            ],
            [
             1,
             "#f0f921"
            ]
           ]
          },
          "colorway": [
           "#636efa",
           "#EF553B",
           "#00cc96",
           "#ab63fa",
           "#FFA15A",
           "#19d3f3",
           "#FF6692",
           "#B6E880",
           "#FF97FF",
           "#FECB52"
          ],
          "font": {
           "color": "#2a3f5f"
          },
          "geo": {
           "bgcolor": "white",
           "lakecolor": "white",
           "landcolor": "#E5ECF6",
           "showlakes": true,
           "showland": true,
           "subunitcolor": "white"
          },
          "hoverlabel": {
           "align": "left"
          },
          "hovermode": "closest",
          "mapbox": {
           "style": "light"
          },
          "paper_bgcolor": "white",
          "plot_bgcolor": "#E5ECF6",
          "polar": {
           "angularaxis": {
            "gridcolor": "white",
            "linecolor": "white",
            "ticks": ""
           },
           "bgcolor": "#E5ECF6",
           "radialaxis": {
            "gridcolor": "white",
            "linecolor": "white",
            "ticks": ""
           }
          },
          "scene": {
           "xaxis": {
            "backgroundcolor": "#E5ECF6",
            "gridcolor": "white",
            "gridwidth": 2,
            "linecolor": "white",
            "showbackground": true,
            "ticks": "",
            "zerolinecolor": "white"
           },
           "yaxis": {
            "backgroundcolor": "#E5ECF6",
            "gridcolor": "white",
            "gridwidth": 2,
            "linecolor": "white",
            "showbackground": true,
            "ticks": "",
            "zerolinecolor": "white"
           },
           "zaxis": {
            "backgroundcolor": "#E5ECF6",
            "gridcolor": "white",
            "gridwidth": 2,
            "linecolor": "white",
            "showbackground": true,
            "ticks": "",
            "zerolinecolor": "white"
           }
          },
          "shapedefaults": {
           "line": {
            "color": "#2a3f5f"
           }
          },
          "ternary": {
           "aaxis": {
            "gridcolor": "white",
            "linecolor": "white",
            "ticks": ""
           },
           "baxis": {
            "gridcolor": "white",
            "linecolor": "white",
            "ticks": ""
           },
           "bgcolor": "#E5ECF6",
           "caxis": {
            "gridcolor": "white",
            "linecolor": "white",
            "ticks": ""
           }
          },
          "title": {
           "x": 0.05
          },
          "xaxis": {
           "automargin": true,
           "gridcolor": "white",
           "linecolor": "white",
           "ticks": "",
           "title": {
            "standoff": 15
           },
           "zerolinecolor": "white",
           "zerolinewidth": 2
          },
          "yaxis": {
           "automargin": true,
           "gridcolor": "white",
           "linecolor": "white",
           "ticks": "",
           "title": {
            "standoff": 15
           },
           "zerolinecolor": "white",
           "zerolinewidth": 2
          }
         }
        },
        "title": {
         "text": "Average amount of trips per day for every vehicle combined in 2022",
         "x": 0.5
        },
        "xaxis": {
         "anchor": "y",
         "domain": [
          0,
          1
         ],
         "range": [
          0,
          5
         ],
         "title": {
          "text": "2022"
         }
        },
        "yaxis": {
         "anchor": "x",
         "domain": [
          0,
          1
         ],
         "title": {
          "text": "y"
         }
        }
       }
      }
     },
     "metadata": {},
     "output_type": "display_data"
    }
   ],
   "source": [
    "#The average amount of trips per day for every vehicle combined in 2022\n",
    "year = '2022'\n",
    "\n",
    "mobility_trips_total = mobility_trips[mobility_trips.index==\"Total\"]\n",
    "mobility_trips_motive = mobility_trips_total.set_index(['motive']).sort_values(year)\n",
    "fig = px.bar(mobility_trips_motive.sort_values(year), x=year, y=mobility_trips_motive.sort_values(year).index, \n",
    "             orientation='h', color = mobility_trips_motive.sort_values(year).index, )\n",
    "fig.update_layout(title={\n",
    "    'text': f'Average amount of trips per day for every vehicle combined in {year}',\n",
    "    'x': 0.5\n",
    "}, xaxis_range=[0, 5])\n",
    "fig.show()"
   ]
  },
  {
   "cell_type": "markdown",
   "metadata": {},
   "source": [
    "This bar chart shows the number of trips per mobility motive. The biggest share is shopping, groceries and funshopping."
   ]
  },
  {
   "cell_type": "code",
   "execution_count": 113,
   "metadata": {
    "tags": []
   },
   "outputs": [
    {
     "data": {
      "text/html": [
       "<div>\n",
       "<style scoped>\n",
       "    .dataframe tbody tr th:only-of-type {\n",
       "        vertical-align: middle;\n",
       "    }\n",
       "\n",
       "    .dataframe tbody tr th {\n",
       "        vertical-align: top;\n",
       "    }\n",
       "\n",
       "    .dataframe thead th {\n",
       "        text-align: right;\n",
       "    }\n",
       "</style>\n",
       "<table border=\"1\" class=\"dataframe\">\n",
       "  <thead>\n",
       "    <tr style=\"text-align: right;\">\n",
       "      <th></th>\n",
       "      <th>2018</th>\n",
       "      <th>2019</th>\n",
       "      <th>2020</th>\n",
       "      <th>2021</th>\n",
       "      <th>2022</th>\n",
       "    </tr>\n",
       "    <tr>\n",
       "      <th>motive</th>\n",
       "      <th></th>\n",
       "      <th></th>\n",
       "      <th></th>\n",
       "      <th></th>\n",
       "      <th></th>\n",
       "    </tr>\n",
       "  </thead>\n",
       "  <tbody>\n",
       "    <tr>\n",
       "      <th>Professionally</th>\n",
       "      <td>0.07</td>\n",
       "      <td>0.11</td>\n",
       "      <td>0.07</td>\n",
       "      <td>0.08</td>\n",
       "      <td>0.08</td>\n",
       "    </tr>\n",
       "    <tr>\n",
       "      <th>Services/care</th>\n",
       "      <td>0.09</td>\n",
       "      <td>0.09</td>\n",
       "      <td>0.07</td>\n",
       "      <td>0.09</td>\n",
       "      <td>0.09</td>\n",
       "    </tr>\n",
       "    <tr>\n",
       "      <th>Attending education/courses</th>\n",
       "      <td>0.23</td>\n",
       "      <td>0.22</td>\n",
       "      <td>0.14</td>\n",
       "      <td>0.14</td>\n",
       "      <td>0.18</td>\n",
       "    </tr>\n",
       "    <tr>\n",
       "      <th>Travel to/from work, (non)-daily commute</th>\n",
       "      <td>0.55</td>\n",
       "      <td>0.50</td>\n",
       "      <td>0.37</td>\n",
       "      <td>0.37</td>\n",
       "      <td>0.42</td>\n",
       "    </tr>\n",
       "    <tr>\n",
       "      <th>Shopping, groceries, funshopping.</th>\n",
       "      <td>0.56</td>\n",
       "      <td>0.54</td>\n",
       "      <td>0.55</td>\n",
       "      <td>0.56</td>\n",
       "      <td>0.58</td>\n",
       "    </tr>\n",
       "    <tr>\n",
       "      <th>Total</th>\n",
       "      <td>2.78</td>\n",
       "      <td>2.71</td>\n",
       "      <td>2.35</td>\n",
       "      <td>2.51</td>\n",
       "      <td>2.70</td>\n",
       "    </tr>\n",
       "  </tbody>\n",
       "</table>\n",
       "</div>"
      ],
      "text/plain": [
       "                                          2018  2019  2020  2021  2022\n",
       "motive                                                                \n",
       "Professionally                            0.07  0.11  0.07  0.08  0.08\n",
       "Services/care                             0.09  0.09  0.07  0.09  0.09\n",
       "Attending education/courses               0.23  0.22  0.14  0.14  0.18\n",
       "Travel to/from work, (non)-daily commute  0.55  0.50  0.37  0.37  0.42\n",
       "Shopping, groceries, funshopping.         0.56  0.54  0.55  0.56  0.58\n",
       "Total                                     2.78  2.71  2.35  2.51  2.70"
      ]
     },
     "metadata": {},
     "output_type": "display_data"
    },
    {
     "data": {
      "text/html": [
       "<div>\n",
       "<style scoped>\n",
       "    .dataframe tbody tr th:only-of-type {\n",
       "        vertical-align: middle;\n",
       "    }\n",
       "\n",
       "    .dataframe tbody tr th {\n",
       "        vertical-align: top;\n",
       "    }\n",
       "\n",
       "    .dataframe thead th {\n",
       "        text-align: right;\n",
       "    }\n",
       "</style>\n",
       "<table border=\"1\" class=\"dataframe\">\n",
       "  <thead>\n",
       "    <tr style=\"text-align: right;\">\n",
       "      <th></th>\n",
       "      <th>2018</th>\n",
       "      <th>2019</th>\n",
       "      <th>2020</th>\n",
       "      <th>2021</th>\n",
       "      <th>2022</th>\n",
       "    </tr>\n",
       "    <tr>\n",
       "      <th>motive</th>\n",
       "      <th></th>\n",
       "      <th></th>\n",
       "      <th></th>\n",
       "      <th></th>\n",
       "      <th></th>\n",
       "    </tr>\n",
       "  </thead>\n",
       "  <tbody>\n",
       "    <tr>\n",
       "      <th>Professionally</th>\n",
       "      <td>0.07</td>\n",
       "      <td>0.11</td>\n",
       "      <td>0.07</td>\n",
       "      <td>0.08</td>\n",
       "      <td>0.08</td>\n",
       "    </tr>\n",
       "    <tr>\n",
       "      <th>Services/care</th>\n",
       "      <td>0.09</td>\n",
       "      <td>0.09</td>\n",
       "      <td>0.07</td>\n",
       "      <td>0.09</td>\n",
       "      <td>0.09</td>\n",
       "    </tr>\n",
       "    <tr>\n",
       "      <th>Attending education/courses</th>\n",
       "      <td>0.23</td>\n",
       "      <td>0.22</td>\n",
       "      <td>0.14</td>\n",
       "      <td>0.14</td>\n",
       "      <td>0.18</td>\n",
       "    </tr>\n",
       "    <tr>\n",
       "      <th>Travel to/from work, (non)-daily commute</th>\n",
       "      <td>0.55</td>\n",
       "      <td>0.50</td>\n",
       "      <td>0.37</td>\n",
       "      <td>0.37</td>\n",
       "      <td>0.42</td>\n",
       "    </tr>\n",
       "    <tr>\n",
       "      <th>Shopping, groceries, funshopping.</th>\n",
       "      <td>0.56</td>\n",
       "      <td>0.54</td>\n",
       "      <td>0.55</td>\n",
       "      <td>0.56</td>\n",
       "      <td>0.58</td>\n",
       "    </tr>\n",
       "    <tr>\n",
       "      <th>Total</th>\n",
       "      <td>2.78</td>\n",
       "      <td>2.71</td>\n",
       "      <td>2.35</td>\n",
       "      <td>2.51</td>\n",
       "      <td>2.70</td>\n",
       "    </tr>\n",
       "  </tbody>\n",
       "</table>\n",
       "</div>"
      ],
      "text/plain": [
       "                                          2018  2019  2020  2021  2022\n",
       "motive                                                                \n",
       "Professionally                            0.07  0.11  0.07  0.08  0.08\n",
       "Services/care                             0.09  0.09  0.07  0.09  0.09\n",
       "Attending education/courses               0.23  0.22  0.14  0.14  0.18\n",
       "Travel to/from work, (non)-daily commute  0.55  0.50  0.37  0.37  0.42\n",
       "Shopping, groceries, funshopping.         0.56  0.54  0.55  0.56  0.58\n",
       "Total                                     2.78  2.71  2.35  2.51  2.70"
      ]
     },
     "metadata": {},
     "output_type": "display_data"
    },
    {
     "data": {
      "application/vnd.plotly.v1+json": {
       "config": {
        "plotlyServerURL": "https://plot.ly"
       },
       "data": [
        {
         "alignmentgroup": "True",
         "hovertemplate": "<b>%{hovertext}</b><br><br>motive=%{y}<br>year=2018<br>trips=%{x}<extra></extra>",
         "hovertext": [
          "0.07"
         ],
         "legendgroup": "Professionally",
         "marker": {
          "color": "#636efa",
          "pattern": {
           "shape": ""
          }
         },
         "name": "Professionally",
         "offsetgroup": "Professionally",
         "orientation": "h",
         "showlegend": true,
         "textposition": "auto",
         "type": "bar",
         "x": [
          "0.07"
         ],
         "xaxis": "x",
         "y": [
          "Professionally"
         ],
         "yaxis": "y"
        },
        {
         "alignmentgroup": "True",
         "hovertemplate": "<b>%{hovertext}</b><br><br>motive=%{y}<br>year=2019<br>trips=%{x}<extra></extra>",
         "hovertext": [
          "0.11"
         ],
         "legendgroup": "Professionally",
         "marker": {
          "color": "#636efa",
          "pattern": {
           "shape": ""
          }
         },
         "name": "Professionally",
         "offsetgroup": "Professionally",
         "orientation": "h",
         "showlegend": false,
         "textposition": "auto",
         "type": "bar",
         "x": [
          "0.11"
         ],
         "xaxis": "x2",
         "y": [
          "Professionally"
         ],
         "yaxis": "y2"
        },
        {
         "alignmentgroup": "True",
         "hovertemplate": "<b>%{hovertext}</b><br><br>motive=%{y}<br>year=2020<br>trips=%{x}<extra></extra>",
         "hovertext": [
          "0.07"
         ],
         "legendgroup": "Professionally",
         "marker": {
          "color": "#636efa",
          "pattern": {
           "shape": ""
          }
         },
         "name": "Professionally",
         "offsetgroup": "Professionally",
         "orientation": "h",
         "showlegend": false,
         "textposition": "auto",
         "type": "bar",
         "x": [
          "0.07"
         ],
         "xaxis": "x3",
         "y": [
          "Professionally"
         ],
         "yaxis": "y3"
        },
        {
         "alignmentgroup": "True",
         "hovertemplate": "<b>%{hovertext}</b><br><br>motive=%{y}<br>year=2021<br>trips=%{x}<extra></extra>",
         "hovertext": [
          "0.08"
         ],
         "legendgroup": "Professionally",
         "marker": {
          "color": "#636efa",
          "pattern": {
           "shape": ""
          }
         },
         "name": "Professionally",
         "offsetgroup": "Professionally",
         "orientation": "h",
         "showlegend": false,
         "textposition": "auto",
         "type": "bar",
         "x": [
          "0.08"
         ],
         "xaxis": "x4",
         "y": [
          "Professionally"
         ],
         "yaxis": "y4"
        },
        {
         "alignmentgroup": "True",
         "hovertemplate": "<b>%{hovertext}</b><br><br>motive=%{y}<br>year=2022<br>trips=%{x}<extra></extra>",
         "hovertext": [
          "0.08"
         ],
         "legendgroup": "Professionally",
         "marker": {
          "color": "#636efa",
          "pattern": {
           "shape": ""
          }
         },
         "name": "Professionally",
         "offsetgroup": "Professionally",
         "orientation": "h",
         "showlegend": false,
         "textposition": "auto",
         "type": "bar",
         "x": [
          "0.08"
         ],
         "xaxis": "x5",
         "y": [
          "Professionally"
         ],
         "yaxis": "y5"
        },
        {
         "alignmentgroup": "True",
         "hovertemplate": "<b>%{hovertext}</b><br><br>motive=%{y}<br>year=2018<br>trips=%{x}<extra></extra>",
         "hovertext": [
          "0.09"
         ],
         "legendgroup": "Services/care",
         "marker": {
          "color": "#EF553B",
          "pattern": {
           "shape": ""
          }
         },
         "name": "Services/care",
         "offsetgroup": "Services/care",
         "orientation": "h",
         "showlegend": true,
         "textposition": "auto",
         "type": "bar",
         "x": [
          "0.09"
         ],
         "xaxis": "x",
         "y": [
          "Services/care"
         ],
         "yaxis": "y"
        },
        {
         "alignmentgroup": "True",
         "hovertemplate": "<b>%{hovertext}</b><br><br>motive=%{y}<br>year=2019<br>trips=%{x}<extra></extra>",
         "hovertext": [
          "0.09"
         ],
         "legendgroup": "Services/care",
         "marker": {
          "color": "#EF553B",
          "pattern": {
           "shape": ""
          }
         },
         "name": "Services/care",
         "offsetgroup": "Services/care",
         "orientation": "h",
         "showlegend": false,
         "textposition": "auto",
         "type": "bar",
         "x": [
          "0.09"
         ],
         "xaxis": "x2",
         "y": [
          "Services/care"
         ],
         "yaxis": "y2"
        },
        {
         "alignmentgroup": "True",
         "hovertemplate": "<b>%{hovertext}</b><br><br>motive=%{y}<br>year=2020<br>trips=%{x}<extra></extra>",
         "hovertext": [
          "0.07"
         ],
         "legendgroup": "Services/care",
         "marker": {
          "color": "#EF553B",
          "pattern": {
           "shape": ""
          }
         },
         "name": "Services/care",
         "offsetgroup": "Services/care",
         "orientation": "h",
         "showlegend": false,
         "textposition": "auto",
         "type": "bar",
         "x": [
          "0.07"
         ],
         "xaxis": "x3",
         "y": [
          "Services/care"
         ],
         "yaxis": "y3"
        },
        {
         "alignmentgroup": "True",
         "hovertemplate": "<b>%{hovertext}</b><br><br>motive=%{y}<br>year=2021<br>trips=%{x}<extra></extra>",
         "hovertext": [
          "0.09"
         ],
         "legendgroup": "Services/care",
         "marker": {
          "color": "#EF553B",
          "pattern": {
           "shape": ""
          }
         },
         "name": "Services/care",
         "offsetgroup": "Services/care",
         "orientation": "h",
         "showlegend": false,
         "textposition": "auto",
         "type": "bar",
         "x": [
          "0.09"
         ],
         "xaxis": "x4",
         "y": [
          "Services/care"
         ],
         "yaxis": "y4"
        },
        {
         "alignmentgroup": "True",
         "hovertemplate": "<b>%{hovertext}</b><br><br>motive=%{y}<br>year=2022<br>trips=%{x}<extra></extra>",
         "hovertext": [
          "0.09"
         ],
         "legendgroup": "Services/care",
         "marker": {
          "color": "#EF553B",
          "pattern": {
           "shape": ""
          }
         },
         "name": "Services/care",
         "offsetgroup": "Services/care",
         "orientation": "h",
         "showlegend": false,
         "textposition": "auto",
         "type": "bar",
         "x": [
          "0.09"
         ],
         "xaxis": "x5",
         "y": [
          "Services/care"
         ],
         "yaxis": "y5"
        },
        {
         "alignmentgroup": "True",
         "hovertemplate": "<b>%{hovertext}</b><br><br>motive=%{y}<br>year=2018<br>trips=%{x}<extra></extra>",
         "hovertext": [
          "0.23"
         ],
         "legendgroup": "Attending education/courses",
         "marker": {
          "color": "#00cc96",
          "pattern": {
           "shape": ""
          }
         },
         "name": "Attending education/courses",
         "offsetgroup": "Attending education/courses",
         "orientation": "h",
         "showlegend": true,
         "textposition": "auto",
         "type": "bar",
         "x": [
          "0.23"
         ],
         "xaxis": "x",
         "y": [
          "Attending education/courses"
         ],
         "yaxis": "y"
        },
        {
         "alignmentgroup": "True",
         "hovertemplate": "<b>%{hovertext}</b><br><br>motive=%{y}<br>year=2019<br>trips=%{x}<extra></extra>",
         "hovertext": [
          "0.22"
         ],
         "legendgroup": "Attending education/courses",
         "marker": {
          "color": "#00cc96",
          "pattern": {
           "shape": ""
          }
         },
         "name": "Attending education/courses",
         "offsetgroup": "Attending education/courses",
         "orientation": "h",
         "showlegend": false,
         "textposition": "auto",
         "type": "bar",
         "x": [
          "0.22"
         ],
         "xaxis": "x2",
         "y": [
          "Attending education/courses"
         ],
         "yaxis": "y2"
        },
        {
         "alignmentgroup": "True",
         "hovertemplate": "<b>%{hovertext}</b><br><br>motive=%{y}<br>year=2020<br>trips=%{x}<extra></extra>",
         "hovertext": [
          "0.14"
         ],
         "legendgroup": "Attending education/courses",
         "marker": {
          "color": "#00cc96",
          "pattern": {
           "shape": ""
          }
         },
         "name": "Attending education/courses",
         "offsetgroup": "Attending education/courses",
         "orientation": "h",
         "showlegend": false,
         "textposition": "auto",
         "type": "bar",
         "x": [
          "0.14"
         ],
         "xaxis": "x3",
         "y": [
          "Attending education/courses"
         ],
         "yaxis": "y3"
        },
        {
         "alignmentgroup": "True",
         "hovertemplate": "<b>%{hovertext}</b><br><br>motive=%{y}<br>year=2021<br>trips=%{x}<extra></extra>",
         "hovertext": [
          "0.14"
         ],
         "legendgroup": "Attending education/courses",
         "marker": {
          "color": "#00cc96",
          "pattern": {
           "shape": ""
          }
         },
         "name": "Attending education/courses",
         "offsetgroup": "Attending education/courses",
         "orientation": "h",
         "showlegend": false,
         "textposition": "auto",
         "type": "bar",
         "x": [
          "0.14"
         ],
         "xaxis": "x4",
         "y": [
          "Attending education/courses"
         ],
         "yaxis": "y4"
        },
        {
         "alignmentgroup": "True",
         "hovertemplate": "<b>%{hovertext}</b><br><br>motive=%{y}<br>year=2022<br>trips=%{x}<extra></extra>",
         "hovertext": [
          "0.18"
         ],
         "legendgroup": "Attending education/courses",
         "marker": {
          "color": "#00cc96",
          "pattern": {
           "shape": ""
          }
         },
         "name": "Attending education/courses",
         "offsetgroup": "Attending education/courses",
         "orientation": "h",
         "showlegend": false,
         "textposition": "auto",
         "type": "bar",
         "x": [
          "0.18"
         ],
         "xaxis": "x5",
         "y": [
          "Attending education/courses"
         ],
         "yaxis": "y5"
        },
        {
         "alignmentgroup": "True",
         "hovertemplate": "<b>%{hovertext}</b><br><br>motive=%{y}<br>year=2018<br>trips=%{x}<extra></extra>",
         "hovertext": [
          "0.55"
         ],
         "legendgroup": "Travel to/from work, (non)-daily commute",
         "marker": {
          "color": "#ab63fa",
          "pattern": {
           "shape": ""
          }
         },
         "name": "Travel to/from work, (non)-daily commute",
         "offsetgroup": "Travel to/from work, (non)-daily commute",
         "orientation": "h",
         "showlegend": true,
         "textposition": "auto",
         "type": "bar",
         "x": [
          "0.55"
         ],
         "xaxis": "x",
         "y": [
          "Travel to/from work, (non)-daily commute"
         ],
         "yaxis": "y"
        },
        {
         "alignmentgroup": "True",
         "hovertemplate": "<b>%{hovertext}</b><br><br>motive=%{y}<br>year=2019<br>trips=%{x}<extra></extra>",
         "hovertext": [
          "0.50"
         ],
         "legendgroup": "Travel to/from work, (non)-daily commute",
         "marker": {
          "color": "#ab63fa",
          "pattern": {
           "shape": ""
          }
         },
         "name": "Travel to/from work, (non)-daily commute",
         "offsetgroup": "Travel to/from work, (non)-daily commute",
         "orientation": "h",
         "showlegend": false,
         "textposition": "auto",
         "type": "bar",
         "x": [
          "0.50"
         ],
         "xaxis": "x2",
         "y": [
          "Travel to/from work, (non)-daily commute"
         ],
         "yaxis": "y2"
        },
        {
         "alignmentgroup": "True",
         "hovertemplate": "<b>%{hovertext}</b><br><br>motive=%{y}<br>year=2020<br>trips=%{x}<extra></extra>",
         "hovertext": [
          "0.37"
         ],
         "legendgroup": "Travel to/from work, (non)-daily commute",
         "marker": {
          "color": "#ab63fa",
          "pattern": {
           "shape": ""
          }
         },
         "name": "Travel to/from work, (non)-daily commute",
         "offsetgroup": "Travel to/from work, (non)-daily commute",
         "orientation": "h",
         "showlegend": false,
         "textposition": "auto",
         "type": "bar",
         "x": [
          "0.37"
         ],
         "xaxis": "x3",
         "y": [
          "Travel to/from work, (non)-daily commute"
         ],
         "yaxis": "y3"
        },
        {
         "alignmentgroup": "True",
         "hovertemplate": "<b>%{hovertext}</b><br><br>motive=%{y}<br>year=2021<br>trips=%{x}<extra></extra>",
         "hovertext": [
          "0.37"
         ],
         "legendgroup": "Travel to/from work, (non)-daily commute",
         "marker": {
          "color": "#ab63fa",
          "pattern": {
           "shape": ""
          }
         },
         "name": "Travel to/from work, (non)-daily commute",
         "offsetgroup": "Travel to/from work, (non)-daily commute",
         "orientation": "h",
         "showlegend": false,
         "textposition": "auto",
         "type": "bar",
         "x": [
          "0.37"
         ],
         "xaxis": "x4",
         "y": [
          "Travel to/from work, (non)-daily commute"
         ],
         "yaxis": "y4"
        },
        {
         "alignmentgroup": "True",
         "hovertemplate": "<b>%{hovertext}</b><br><br>motive=%{y}<br>year=2022<br>trips=%{x}<extra></extra>",
         "hovertext": [
          "0.42"
         ],
         "legendgroup": "Travel to/from work, (non)-daily commute",
         "marker": {
          "color": "#ab63fa",
          "pattern": {
           "shape": ""
          }
         },
         "name": "Travel to/from work, (non)-daily commute",
         "offsetgroup": "Travel to/from work, (non)-daily commute",
         "orientation": "h",
         "showlegend": false,
         "textposition": "auto",
         "type": "bar",
         "x": [
          "0.42"
         ],
         "xaxis": "x5",
         "y": [
          "Travel to/from work, (non)-daily commute"
         ],
         "yaxis": "y5"
        },
        {
         "alignmentgroup": "True",
         "hovertemplate": "<b>%{hovertext}</b><br><br>motive=%{y}<br>year=2018<br>trips=%{x}<extra></extra>",
         "hovertext": [
          "0.56"
         ],
         "legendgroup": "Shopping, groceries, funshopping.",
         "marker": {
          "color": "#FFA15A",
          "pattern": {
           "shape": ""
          }
         },
         "name": "Shopping, groceries, funshopping.",
         "offsetgroup": "Shopping, groceries, funshopping.",
         "orientation": "h",
         "showlegend": true,
         "textposition": "auto",
         "type": "bar",
         "x": [
          "0.56"
         ],
         "xaxis": "x",
         "y": [
          "Shopping, groceries, funshopping."
         ],
         "yaxis": "y"
        },
        {
         "alignmentgroup": "True",
         "hovertemplate": "<b>%{hovertext}</b><br><br>motive=%{y}<br>year=2019<br>trips=%{x}<extra></extra>",
         "hovertext": [
          "0.54"
         ],
         "legendgroup": "Shopping, groceries, funshopping.",
         "marker": {
          "color": "#FFA15A",
          "pattern": {
           "shape": ""
          }
         },
         "name": "Shopping, groceries, funshopping.",
         "offsetgroup": "Shopping, groceries, funshopping.",
         "orientation": "h",
         "showlegend": false,
         "textposition": "auto",
         "type": "bar",
         "x": [
          "0.54"
         ],
         "xaxis": "x2",
         "y": [
          "Shopping, groceries, funshopping."
         ],
         "yaxis": "y2"
        },
        {
         "alignmentgroup": "True",
         "hovertemplate": "<b>%{hovertext}</b><br><br>motive=%{y}<br>year=2020<br>trips=%{x}<extra></extra>",
         "hovertext": [
          "0.55"
         ],
         "legendgroup": "Shopping, groceries, funshopping.",
         "marker": {
          "color": "#FFA15A",
          "pattern": {
           "shape": ""
          }
         },
         "name": "Shopping, groceries, funshopping.",
         "offsetgroup": "Shopping, groceries, funshopping.",
         "orientation": "h",
         "showlegend": false,
         "textposition": "auto",
         "type": "bar",
         "x": [
          "0.55"
         ],
         "xaxis": "x3",
         "y": [
          "Shopping, groceries, funshopping."
         ],
         "yaxis": "y3"
        },
        {
         "alignmentgroup": "True",
         "hovertemplate": "<b>%{hovertext}</b><br><br>motive=%{y}<br>year=2021<br>trips=%{x}<extra></extra>",
         "hovertext": [
          "0.56"
         ],
         "legendgroup": "Shopping, groceries, funshopping.",
         "marker": {
          "color": "#FFA15A",
          "pattern": {
           "shape": ""
          }
         },
         "name": "Shopping, groceries, funshopping.",
         "offsetgroup": "Shopping, groceries, funshopping.",
         "orientation": "h",
         "showlegend": false,
         "textposition": "auto",
         "type": "bar",
         "x": [
          "0.56"
         ],
         "xaxis": "x4",
         "y": [
          "Shopping, groceries, funshopping."
         ],
         "yaxis": "y4"
        },
        {
         "alignmentgroup": "True",
         "hovertemplate": "<b>%{hovertext}</b><br><br>motive=%{y}<br>year=2022<br>trips=%{x}<extra></extra>",
         "hovertext": [
          "0.58"
         ],
         "legendgroup": "Shopping, groceries, funshopping.",
         "marker": {
          "color": "#FFA15A",
          "pattern": {
           "shape": ""
          }
         },
         "name": "Shopping, groceries, funshopping.",
         "offsetgroup": "Shopping, groceries, funshopping.",
         "orientation": "h",
         "showlegend": false,
         "textposition": "auto",
         "type": "bar",
         "x": [
          "0.58"
         ],
         "xaxis": "x5",
         "y": [
          "Shopping, groceries, funshopping."
         ],
         "yaxis": "y5"
        },
        {
         "alignmentgroup": "True",
         "hovertemplate": "<b>%{hovertext}</b><br><br>motive=%{y}<br>year=2018<br>trips=%{x}<extra></extra>",
         "hovertext": [
          "2.78"
         ],
         "legendgroup": "Total",
         "marker": {
          "color": "#19d3f3",
          "pattern": {
           "shape": ""
          }
         },
         "name": "Total",
         "offsetgroup": "Total",
         "orientation": "h",
         "showlegend": true,
         "textposition": "auto",
         "type": "bar",
         "x": [
          "2.78"
         ],
         "xaxis": "x",
         "y": [
          "Total"
         ],
         "yaxis": "y"
        },
        {
         "alignmentgroup": "True",
         "hovertemplate": "<b>%{hovertext}</b><br><br>motive=%{y}<br>year=2019<br>trips=%{x}<extra></extra>",
         "hovertext": [
          "2.71"
         ],
         "legendgroup": "Total",
         "marker": {
          "color": "#19d3f3",
          "pattern": {
           "shape": ""
          }
         },
         "name": "Total",
         "offsetgroup": "Total",
         "orientation": "h",
         "showlegend": false,
         "textposition": "auto",
         "type": "bar",
         "x": [
          "2.71"
         ],
         "xaxis": "x2",
         "y": [
          "Total"
         ],
         "yaxis": "y2"
        },
        {
         "alignmentgroup": "True",
         "hovertemplate": "<b>%{hovertext}</b><br><br>motive=%{y}<br>year=2020<br>trips=%{x}<extra></extra>",
         "hovertext": [
          "2.35"
         ],
         "legendgroup": "Total",
         "marker": {
          "color": "#19d3f3",
          "pattern": {
           "shape": ""
          }
         },
         "name": "Total",
         "offsetgroup": "Total",
         "orientation": "h",
         "showlegend": false,
         "textposition": "auto",
         "type": "bar",
         "x": [
          "2.35"
         ],
         "xaxis": "x3",
         "y": [
          "Total"
         ],
         "yaxis": "y3"
        },
        {
         "alignmentgroup": "True",
         "hovertemplate": "<b>%{hovertext}</b><br><br>motive=%{y}<br>year=2021<br>trips=%{x}<extra></extra>",
         "hovertext": [
          "2.51"
         ],
         "legendgroup": "Total",
         "marker": {
          "color": "#19d3f3",
          "pattern": {
           "shape": ""
          }
         },
         "name": "Total",
         "offsetgroup": "Total",
         "orientation": "h",
         "showlegend": false,
         "textposition": "auto",
         "type": "bar",
         "x": [
          "2.51"
         ],
         "xaxis": "x4",
         "y": [
          "Total"
         ],
         "yaxis": "y4"
        },
        {
         "alignmentgroup": "True",
         "hovertemplate": "<b>%{hovertext}</b><br><br>motive=%{y}<br>year=2022<br>trips=%{x}<extra></extra>",
         "hovertext": [
          "2.70"
         ],
         "legendgroup": "Total",
         "marker": {
          "color": "#19d3f3",
          "pattern": {
           "shape": ""
          }
         },
         "name": "Total",
         "offsetgroup": "Total",
         "orientation": "h",
         "showlegend": false,
         "textposition": "auto",
         "type": "bar",
         "x": [
          "2.70"
         ],
         "xaxis": "x5",
         "y": [
          "Total"
         ],
         "yaxis": "y5"
        }
       ],
       "layout": {
        "annotations": [
         {
          "font": {},
          "showarrow": false,
          "text": "year=2018",
          "x": 0.09200000000000001,
          "xanchor": "center",
          "xref": "paper",
          "y": 1,
          "yanchor": "bottom",
          "yref": "paper"
         },
         {
          "font": {},
          "showarrow": false,
          "text": "year=2019",
          "x": 0.29600000000000004,
          "xanchor": "center",
          "xref": "paper",
          "y": 1,
          "yanchor": "bottom",
          "yref": "paper"
         },
         {
          "font": {},
          "showarrow": false,
          "text": "year=2020",
          "x": 0.5,
          "xanchor": "center",
          "xref": "paper",
          "y": 1,
          "yanchor": "bottom",
          "yref": "paper"
         },
         {
          "font": {},
          "showarrow": false,
          "text": "year=2021",
          "x": 0.7040000000000002,
          "xanchor": "center",
          "xref": "paper",
          "y": 1,
          "yanchor": "bottom",
          "yref": "paper"
         },
         {
          "font": {},
          "showarrow": false,
          "text": "year=2022",
          "x": 0.908,
          "xanchor": "center",
          "xref": "paper",
          "y": 1,
          "yanchor": "bottom",
          "yref": "paper"
         }
        ],
        "barmode": "relative",
        "legend": {
         "title": {
          "text": "motive"
         },
         "tracegroupgap": 0
        },
        "margin": {
         "t": 60
        },
        "template": {
         "data": {
          "bar": [
           {
            "error_x": {
             "color": "#2a3f5f"
            },
            "error_y": {
             "color": "#2a3f5f"
            },
            "marker": {
             "line": {
              "color": "#E5ECF6",
              "width": 0.5
             },
             "pattern": {
              "fillmode": "overlay",
              "size": 10,
              "solidity": 0.2
             }
            },
            "type": "bar"
           }
          ],
          "barpolar": [
           {
            "marker": {
             "line": {
              "color": "#E5ECF6",
              "width": 0.5
             },
             "pattern": {
              "fillmode": "overlay",
              "size": 10,
              "solidity": 0.2
             }
            },
            "type": "barpolar"
           }
          ],
          "carpet": [
           {
            "aaxis": {
             "endlinecolor": "#2a3f5f",
             "gridcolor": "white",
             "linecolor": "white",
             "minorgridcolor": "white",
             "startlinecolor": "#2a3f5f"
            },
            "baxis": {
             "endlinecolor": "#2a3f5f",
             "gridcolor": "white",
             "linecolor": "white",
             "minorgridcolor": "white",
             "startlinecolor": "#2a3f5f"
            },
            "type": "carpet"
           }
          ],
          "choropleth": [
           {
            "colorbar": {
             "outlinewidth": 0,
             "ticks": ""
            },
            "type": "choropleth"
           }
          ],
          "contour": [
           {
            "colorbar": {
             "outlinewidth": 0,
             "ticks": ""
            },
            "colorscale": [
             [
              0,
              "#0d0887"
             ],
             [
              0.1111111111111111,
              "#46039f"
             ],
             [
              0.2222222222222222,
              "#7201a8"
             ],
             [
              0.3333333333333333,
              "#9c179e"
             ],
             [
              0.4444444444444444,
              "#bd3786"
             ],
             [
              0.5555555555555556,
              "#d8576b"
             ],
             [
              0.6666666666666666,
              "#ed7953"
             ],
             [
              0.7777777777777778,
              "#fb9f3a"
             ],
             [
              0.8888888888888888,
              "#fdca26"
             ],
             [
              1,
              "#f0f921"
             ]
            ],
            "type": "contour"
           }
          ],
          "contourcarpet": [
           {
            "colorbar": {
             "outlinewidth": 0,
             "ticks": ""
            },
            "type": "contourcarpet"
           }
          ],
          "heatmap": [
           {
            "colorbar": {
             "outlinewidth": 0,
             "ticks": ""
            },
            "colorscale": [
             [
              0,
              "#0d0887"
             ],
             [
              0.1111111111111111,
              "#46039f"
             ],
             [
              0.2222222222222222,
              "#7201a8"
             ],
             [
              0.3333333333333333,
              "#9c179e"
             ],
             [
              0.4444444444444444,
              "#bd3786"
             ],
             [
              0.5555555555555556,
              "#d8576b"
             ],
             [
              0.6666666666666666,
              "#ed7953"
             ],
             [
              0.7777777777777778,
              "#fb9f3a"
             ],
             [
              0.8888888888888888,
              "#fdca26"
             ],
             [
              1,
              "#f0f921"
             ]
            ],
            "type": "heatmap"
           }
          ],
          "heatmapgl": [
           {
            "colorbar": {
             "outlinewidth": 0,
             "ticks": ""
            },
            "colorscale": [
             [
              0,
              "#0d0887"
             ],
             [
              0.1111111111111111,
              "#46039f"
             ],
             [
              0.2222222222222222,
              "#7201a8"
             ],
             [
              0.3333333333333333,
              "#9c179e"
             ],
             [
              0.4444444444444444,
              "#bd3786"
             ],
             [
              0.5555555555555556,
              "#d8576b"
             ],
             [
              0.6666666666666666,
              "#ed7953"
             ],
             [
              0.7777777777777778,
              "#fb9f3a"
             ],
             [
              0.8888888888888888,
              "#fdca26"
             ],
             [
              1,
              "#f0f921"
             ]
            ],
            "type": "heatmapgl"
           }
          ],
          "histogram": [
           {
            "marker": {
             "pattern": {
              "fillmode": "overlay",
              "size": 10,
              "solidity": 0.2
             }
            },
            "type": "histogram"
           }
          ],
          "histogram2d": [
           {
            "colorbar": {
             "outlinewidth": 0,
             "ticks": ""
            },
            "colorscale": [
             [
              0,
              "#0d0887"
             ],
             [
              0.1111111111111111,
              "#46039f"
             ],
             [
              0.2222222222222222,
              "#7201a8"
             ],
             [
              0.3333333333333333,
              "#9c179e"
             ],
             [
              0.4444444444444444,
              "#bd3786"
             ],
             [
              0.5555555555555556,
              "#d8576b"
             ],
             [
              0.6666666666666666,
              "#ed7953"
             ],
             [
              0.7777777777777778,
              "#fb9f3a"
             ],
             [
              0.8888888888888888,
              "#fdca26"
             ],
             [
              1,
              "#f0f921"
             ]
            ],
            "type": "histogram2d"
           }
          ],
          "histogram2dcontour": [
           {
            "colorbar": {
             "outlinewidth": 0,
             "ticks": ""
            },
            "colorscale": [
             [
              0,
              "#0d0887"
             ],
             [
              0.1111111111111111,
              "#46039f"
             ],
             [
              0.2222222222222222,
              "#7201a8"
             ],
             [
              0.3333333333333333,
              "#9c179e"
             ],
             [
              0.4444444444444444,
              "#bd3786"
             ],
             [
              0.5555555555555556,
              "#d8576b"
             ],
             [
              0.6666666666666666,
              "#ed7953"
             ],
             [
              0.7777777777777778,
              "#fb9f3a"
             ],
             [
              0.8888888888888888,
              "#fdca26"
             ],
             [
              1,
              "#f0f921"
             ]
            ],
            "type": "histogram2dcontour"
           }
          ],
          "mesh3d": [
           {
            "colorbar": {
             "outlinewidth": 0,
             "ticks": ""
            },
            "type": "mesh3d"
           }
          ],
          "parcoords": [
           {
            "line": {
             "colorbar": {
              "outlinewidth": 0,
              "ticks": ""
             }
            },
            "type": "parcoords"
           }
          ],
          "pie": [
           {
            "automargin": true,
            "type": "pie"
           }
          ],
          "scatter": [
           {
            "fillpattern": {
             "fillmode": "overlay",
             "size": 10,
             "solidity": 0.2
            },
            "type": "scatter"
           }
          ],
          "scatter3d": [
           {
            "line": {
             "colorbar": {
              "outlinewidth": 0,
              "ticks": ""
             }
            },
            "marker": {
             "colorbar": {
              "outlinewidth": 0,
              "ticks": ""
             }
            },
            "type": "scatter3d"
           }
          ],
          "scattercarpet": [
           {
            "marker": {
             "colorbar": {
              "outlinewidth": 0,
              "ticks": ""
             }
            },
            "type": "scattercarpet"
           }
          ],
          "scattergeo": [
           {
            "marker": {
             "colorbar": {
              "outlinewidth": 0,
              "ticks": ""
             }
            },
            "type": "scattergeo"
           }
          ],
          "scattergl": [
           {
            "marker": {
             "colorbar": {
              "outlinewidth": 0,
              "ticks": ""
             }
            },
            "type": "scattergl"
           }
          ],
          "scattermapbox": [
           {
            "marker": {
             "colorbar": {
              "outlinewidth": 0,
              "ticks": ""
             }
            },
            "type": "scattermapbox"
           }
          ],
          "scatterpolar": [
           {
            "marker": {
             "colorbar": {
              "outlinewidth": 0,
              "ticks": ""
             }
            },
            "type": "scatterpolar"
           }
          ],
          "scatterpolargl": [
           {
            "marker": {
             "colorbar": {
              "outlinewidth": 0,
              "ticks": ""
             }
            },
            "type": "scatterpolargl"
           }
          ],
          "scatterternary": [
           {
            "marker": {
             "colorbar": {
              "outlinewidth": 0,
              "ticks": ""
             }
            },
            "type": "scatterternary"
           }
          ],
          "surface": [
           {
            "colorbar": {
             "outlinewidth": 0,
             "ticks": ""
            },
            "colorscale": [
             [
              0,
              "#0d0887"
             ],
             [
              0.1111111111111111,
              "#46039f"
             ],
             [
              0.2222222222222222,
              "#7201a8"
             ],
             [
              0.3333333333333333,
              "#9c179e"
             ],
             [
              0.4444444444444444,
              "#bd3786"
             ],
             [
              0.5555555555555556,
              "#d8576b"
             ],
             [
              0.6666666666666666,
              "#ed7953"
             ],
             [
              0.7777777777777778,
              "#fb9f3a"
             ],
             [
              0.8888888888888888,
              "#fdca26"
             ],
             [
              1,
              "#f0f921"
             ]
            ],
            "type": "surface"
           }
          ],
          "table": [
           {
            "cells": {
             "fill": {
              "color": "#EBF0F8"
             },
             "line": {
              "color": "white"
             }
            },
            "header": {
             "fill": {
              "color": "#C8D4E3"
             },
             "line": {
              "color": "white"
             }
            },
            "type": "table"
           }
          ]
         },
         "layout": {
          "annotationdefaults": {
           "arrowcolor": "#2a3f5f",
           "arrowhead": 0,
           "arrowwidth": 1
          },
          "autotypenumbers": "strict",
          "coloraxis": {
           "colorbar": {
            "outlinewidth": 0,
            "ticks": ""
           }
          },
          "colorscale": {
           "diverging": [
            [
             0,
             "#8e0152"
            ],
            [
             0.1,
             "#c51b7d"
            ],
            [
             0.2,
             "#de77ae"
            ],
            [
             0.3,
             "#f1b6da"
            ],
            [
             0.4,
             "#fde0ef"
            ],
            [
             0.5,
             "#f7f7f7"
            ],
            [
             0.6,
             "#e6f5d0"
            ],
            [
             0.7,
             "#b8e186"
            ],
            [
             0.8,
             "#7fbc41"
            ],
            [
             0.9,
             "#4d9221"
            ],
            [
             1,
             "#276419"
            ]
           ],
           "sequential": [
            [
             0,
             "#0d0887"
            ],
            [
             0.1111111111111111,
             "#46039f"
            ],
            [
             0.2222222222222222,
             "#7201a8"
            ],
            [
             0.3333333333333333,
             "#9c179e"
            ],
            [
             0.4444444444444444,
             "#bd3786"
            ],
            [
             0.5555555555555556,
             "#d8576b"
            ],
            [
             0.6666666666666666,
             "#ed7953"
            ],
            [
             0.7777777777777778,
             "#fb9f3a"
            ],
            [
             0.8888888888888888,
             "#fdca26"
            ],
            [
             1,
             "#f0f921"
            ]
           ],
           "sequentialminus": [
            [
             0,
             "#0d0887"
            ],
            [
             0.1111111111111111,
             "#46039f"
            ],
            [
             0.2222222222222222,
             "#7201a8"
            ],
            [
             0.3333333333333333,
             "#9c179e"
            ],
            [
             0.4444444444444444,
             "#bd3786"
            ],
            [
             0.5555555555555556,
             "#d8576b"
            ],
            [
             0.6666666666666666,
             "#ed7953"
            ],
            [
             0.7777777777777778,
             "#fb9f3a"
            ],
            [
             0.8888888888888888,
             "#fdca26"
            ],
            [
             1,
             "#f0f921"
            ]
           ]
          },
          "colorway": [
           "#636efa",
           "#EF553B",
           "#00cc96",
           "#ab63fa",
           "#FFA15A",
           "#19d3f3",
           "#FF6692",
           "#B6E880",
           "#FF97FF",
           "#FECB52"
          ],
          "font": {
           "color": "#2a3f5f"
          },
          "geo": {
           "bgcolor": "white",
           "lakecolor": "white",
           "landcolor": "#E5ECF6",
           "showlakes": true,
           "showland": true,
           "subunitcolor": "white"
          },
          "hoverlabel": {
           "align": "left"
          },
          "hovermode": "closest",
          "mapbox": {
           "style": "light"
          },
          "paper_bgcolor": "white",
          "plot_bgcolor": "#E5ECF6",
          "polar": {
           "angularaxis": {
            "gridcolor": "white",
            "linecolor": "white",
            "ticks": ""
           },
           "bgcolor": "#E5ECF6",
           "radialaxis": {
            "gridcolor": "white",
            "linecolor": "white",
            "ticks": ""
           }
          },
          "scene": {
           "xaxis": {
            "backgroundcolor": "#E5ECF6",
            "gridcolor": "white",
            "gridwidth": 2,
            "linecolor": "white",
            "showbackground": true,
            "ticks": "",
            "zerolinecolor": "white"
           },
           "yaxis": {
            "backgroundcolor": "#E5ECF6",
            "gridcolor": "white",
            "gridwidth": 2,
            "linecolor": "white",
            "showbackground": true,
            "ticks": "",
            "zerolinecolor": "white"
           },
           "zaxis": {
            "backgroundcolor": "#E5ECF6",
            "gridcolor": "white",
            "gridwidth": 2,
            "linecolor": "white",
            "showbackground": true,
            "ticks": "",
            "zerolinecolor": "white"
           }
          },
          "shapedefaults": {
           "line": {
            "color": "#2a3f5f"
           }
          },
          "ternary": {
           "aaxis": {
            "gridcolor": "white",
            "linecolor": "white",
            "ticks": ""
           },
           "baxis": {
            "gridcolor": "white",
            "linecolor": "white",
            "ticks": ""
           },
           "bgcolor": "#E5ECF6",
           "caxis": {
            "gridcolor": "white",
            "linecolor": "white",
            "ticks": ""
           }
          },
          "title": {
           "x": 0.05
          },
          "xaxis": {
           "automargin": true,
           "gridcolor": "white",
           "linecolor": "white",
           "ticks": "",
           "title": {
            "standoff": 15
           },
           "zerolinecolor": "white",
           "zerolinewidth": 2
          },
          "yaxis": {
           "automargin": true,
           "gridcolor": "white",
           "linecolor": "white",
           "ticks": "",
           "title": {
            "standoff": 15
           },
           "zerolinecolor": "white",
           "zerolinewidth": 2
          }
         }
        },
        "title": {
         "text": "Average amount of trips for every vehicle combined per day from 2018 to 2022",
         "x": 0.5
        },
        "xaxis": {
         "anchor": "y",
         "domain": [
          0,
          0.18400000000000002
         ],
         "title": {
          "text": "trips"
         }
        },
        "xaxis2": {
         "anchor": "y2",
         "domain": [
          0.20400000000000001,
          0.388
         ],
         "matches": "x",
         "title": {
          "text": "trips"
         }
        },
        "xaxis3": {
         "anchor": "y3",
         "domain": [
          0.40800000000000003,
          0.5920000000000001
         ],
         "matches": "x",
         "title": {
          "text": "trips"
         }
        },
        "xaxis4": {
         "anchor": "y4",
         "domain": [
          0.6120000000000001,
          0.7960000000000002
         ],
         "matches": "x",
         "title": {
          "text": "trips"
         }
        },
        "xaxis5": {
         "anchor": "y5",
         "domain": [
          0.8160000000000001,
          1
         ],
         "matches": "x",
         "title": {
          "text": "trips"
         }
        },
        "yaxis": {
         "anchor": "x",
         "categoryarray": [
          "Total",
          "Shopping, groceries, funshopping.",
          "Travel to/from work, (non)-daily commute",
          "Attending education/courses",
          "Services/care",
          "Professionally"
         ],
         "categoryorder": "array",
         "domain": [
          0,
          1
         ],
         "title": {
          "text": "Travel motives"
         }
        },
        "yaxis2": {
         "anchor": "x2",
         "domain": [
          0,
          1
         ],
         "matches": "y",
         "showticklabels": false,
         "title": {
          "text": "Travel motives"
         }
        },
        "yaxis3": {
         "anchor": "x3",
         "domain": [
          0,
          1
         ],
         "matches": "y",
         "showticklabels": false,
         "title": {
          "text": "Travel motives"
         }
        },
        "yaxis4": {
         "anchor": "x4",
         "domain": [
          0,
          1
         ],
         "matches": "y",
         "showticklabels": false,
         "title": {
          "text": "Travel motives"
         }
        },
        "yaxis5": {
         "anchor": "x5",
         "domain": [
          0,
          1
         ],
         "matches": "y",
         "showticklabels": false,
         "title": {
          "text": "Travel motives"
         }
        }
       }
      }
     },
     "metadata": {},
     "output_type": "display_data"
    }
   ],
   "source": [
    "\n",
    "mobility_trips_years = mobility_trips_motive[years]\n",
    "display(mobility_trips_motive)\n",
    "display(mobility_trips_years)\n",
    "\n",
    "\n",
    "# Melt the data to create a 'year' column\n",
    "mobility_trips_years = mobility_trips_years.reset_index().melt(id_vars=['motive'], var_name='year', value_name='trips')\n",
    "\n",
    "fig = px.bar(mobility_trips_years, x='trips', y='motive', color='motive', facet_col='year', orientation='h', hover_name='trips')\n",
    "\n",
    "fig.update_layout(title={\n",
    "    'text': 'Average amount of trips for every vehicle combined per day from 2018 to 2022',\n",
    "    'x': 0.5\n",
    "})\n",
    "fig.update_yaxes(title_text=\"Travel motives\")\n",
    "fig.show()"
   ]
  },
  {
   "cell_type": "code",
   "execution_count": 114,
   "metadata": {},
   "outputs": [
    {
     "data": {
      "application/vnd.plotly.v1+json": {
       "config": {
        "plotlyServerURL": "https://plot.ly"
       },
       "data": [
        {
         "alignmentgroup": "True",
         "bingroup": "y",
         "histfunc": "sum",
         "hovertemplate": "motive=%{y}<br>year=2018<br>sum of trips=%{x}<extra></extra>",
         "legendgroup": "Professionally",
         "marker": {
          "color": "#636efa",
          "pattern": {
           "shape": ""
          }
         },
         "name": "Professionally",
         "offsetgroup": "Professionally",
         "orientation": "h",
         "showlegend": true,
         "type": "histogram",
         "x": [
          "0.07"
         ],
         "xaxis": "x",
         "y": [
          "Professionally"
         ],
         "yaxis": "y"
        },
        {
         "alignmentgroup": "True",
         "bingroup": "y",
         "histfunc": "sum",
         "hovertemplate": "motive=%{y}<br>year=2018<br>sum of trips=%{x}<extra></extra>",
         "legendgroup": "Services/care",
         "marker": {
          "color": "#EF553B",
          "pattern": {
           "shape": ""
          }
         },
         "name": "Services/care",
         "offsetgroup": "Services/care",
         "orientation": "h",
         "showlegend": true,
         "type": "histogram",
         "x": [
          "0.09"
         ],
         "xaxis": "x",
         "y": [
          "Services/care"
         ],
         "yaxis": "y"
        },
        {
         "alignmentgroup": "True",
         "bingroup": "y",
         "histfunc": "sum",
         "hovertemplate": "motive=%{y}<br>year=2018<br>sum of trips=%{x}<extra></extra>",
         "legendgroup": "Attending education/courses",
         "marker": {
          "color": "#00cc96",
          "pattern": {
           "shape": ""
          }
         },
         "name": "Attending education/courses",
         "offsetgroup": "Attending education/courses",
         "orientation": "h",
         "showlegend": true,
         "type": "histogram",
         "x": [
          "0.23"
         ],
         "xaxis": "x",
         "y": [
          "Attending education/courses"
         ],
         "yaxis": "y"
        },
        {
         "alignmentgroup": "True",
         "bingroup": "y",
         "histfunc": "sum",
         "hovertemplate": "motive=%{y}<br>year=2018<br>sum of trips=%{x}<extra></extra>",
         "legendgroup": "Travel to/from work, (non)-daily commute",
         "marker": {
          "color": "#ab63fa",
          "pattern": {
           "shape": ""
          }
         },
         "name": "Travel to/from work, (non)-daily commute",
         "offsetgroup": "Travel to/from work, (non)-daily commute",
         "orientation": "h",
         "showlegend": true,
         "type": "histogram",
         "x": [
          "0.55"
         ],
         "xaxis": "x",
         "y": [
          "Travel to/from work, (non)-daily commute"
         ],
         "yaxis": "y"
        },
        {
         "alignmentgroup": "True",
         "bingroup": "y",
         "histfunc": "sum",
         "hovertemplate": "motive=%{y}<br>year=2018<br>sum of trips=%{x}<extra></extra>",
         "legendgroup": "Shopping, groceries, funshopping.",
         "marker": {
          "color": "#FFA15A",
          "pattern": {
           "shape": ""
          }
         },
         "name": "Shopping, groceries, funshopping.",
         "offsetgroup": "Shopping, groceries, funshopping.",
         "orientation": "h",
         "showlegend": true,
         "type": "histogram",
         "x": [
          "0.56"
         ],
         "xaxis": "x",
         "y": [
          "Shopping, groceries, funshopping."
         ],
         "yaxis": "y"
        },
        {
         "alignmentgroup": "True",
         "bingroup": "y",
         "histfunc": "sum",
         "hovertemplate": "motive=%{y}<br>year=2018<br>sum of trips=%{x}<extra></extra>",
         "legendgroup": "Total",
         "marker": {
          "color": "#19d3f3",
          "pattern": {
           "shape": ""
          }
         },
         "name": "Total",
         "offsetgroup": "Total",
         "orientation": "h",
         "showlegend": true,
         "type": "histogram",
         "x": [
          "2.78"
         ],
         "xaxis": "x",
         "y": [
          "Total"
         ],
         "yaxis": "y"
        }
       ],
       "frames": [
        {
         "data": [
          {
           "alignmentgroup": "True",
           "bingroup": "y",
           "histfunc": "sum",
           "hovertemplate": "motive=%{y}<br>year=2018<br>sum of trips=%{x}<extra></extra>",
           "legendgroup": "Professionally",
           "marker": {
            "color": "#636efa",
            "pattern": {
             "shape": ""
            }
           },
           "name": "Professionally",
           "offsetgroup": "Professionally",
           "orientation": "h",
           "showlegend": true,
           "type": "histogram",
           "x": [
            "0.07"
           ],
           "xaxis": "x",
           "y": [
            "Professionally"
           ],
           "yaxis": "y"
          },
          {
           "alignmentgroup": "True",
           "bingroup": "y",
           "histfunc": "sum",
           "hovertemplate": "motive=%{y}<br>year=2018<br>sum of trips=%{x}<extra></extra>",
           "legendgroup": "Services/care",
           "marker": {
            "color": "#EF553B",
            "pattern": {
             "shape": ""
            }
           },
           "name": "Services/care",
           "offsetgroup": "Services/care",
           "orientation": "h",
           "showlegend": true,
           "type": "histogram",
           "x": [
            "0.09"
           ],
           "xaxis": "x",
           "y": [
            "Services/care"
           ],
           "yaxis": "y"
          },
          {
           "alignmentgroup": "True",
           "bingroup": "y",
           "histfunc": "sum",
           "hovertemplate": "motive=%{y}<br>year=2018<br>sum of trips=%{x}<extra></extra>",
           "legendgroup": "Attending education/courses",
           "marker": {
            "color": "#00cc96",
            "pattern": {
             "shape": ""
            }
           },
           "name": "Attending education/courses",
           "offsetgroup": "Attending education/courses",
           "orientation": "h",
           "showlegend": true,
           "type": "histogram",
           "x": [
            "0.23"
           ],
           "xaxis": "x",
           "y": [
            "Attending education/courses"
           ],
           "yaxis": "y"
          },
          {
           "alignmentgroup": "True",
           "bingroup": "y",
           "histfunc": "sum",
           "hovertemplate": "motive=%{y}<br>year=2018<br>sum of trips=%{x}<extra></extra>",
           "legendgroup": "Travel to/from work, (non)-daily commute",
           "marker": {
            "color": "#ab63fa",
            "pattern": {
             "shape": ""
            }
           },
           "name": "Travel to/from work, (non)-daily commute",
           "offsetgroup": "Travel to/from work, (non)-daily commute",
           "orientation": "h",
           "showlegend": true,
           "type": "histogram",
           "x": [
            "0.55"
           ],
           "xaxis": "x",
           "y": [
            "Travel to/from work, (non)-daily commute"
           ],
           "yaxis": "y"
          },
          {
           "alignmentgroup": "True",
           "bingroup": "y",
           "histfunc": "sum",
           "hovertemplate": "motive=%{y}<br>year=2018<br>sum of trips=%{x}<extra></extra>",
           "legendgroup": "Shopping, groceries, funshopping.",
           "marker": {
            "color": "#FFA15A",
            "pattern": {
             "shape": ""
            }
           },
           "name": "Shopping, groceries, funshopping.",
           "offsetgroup": "Shopping, groceries, funshopping.",
           "orientation": "h",
           "showlegend": true,
           "type": "histogram",
           "x": [
            "0.56"
           ],
           "xaxis": "x",
           "y": [
            "Shopping, groceries, funshopping."
           ],
           "yaxis": "y"
          },
          {
           "alignmentgroup": "True",
           "bingroup": "y",
           "histfunc": "sum",
           "hovertemplate": "motive=%{y}<br>year=2018<br>sum of trips=%{x}<extra></extra>",
           "legendgroup": "Total",
           "marker": {
            "color": "#19d3f3",
            "pattern": {
             "shape": ""
            }
           },
           "name": "Total",
           "offsetgroup": "Total",
           "orientation": "h",
           "showlegend": true,
           "type": "histogram",
           "x": [
            "2.78"
           ],
           "xaxis": "x",
           "y": [
            "Total"
           ],
           "yaxis": "y"
          }
         ],
         "name": "2018"
        },
        {
         "data": [
          {
           "alignmentgroup": "True",
           "bingroup": "y",
           "histfunc": "sum",
           "hovertemplate": "motive=%{y}<br>year=2019<br>sum of trips=%{x}<extra></extra>",
           "legendgroup": "Professionally",
           "marker": {
            "color": "#636efa",
            "pattern": {
             "shape": ""
            }
           },
           "name": "Professionally",
           "offsetgroup": "Professionally",
           "orientation": "h",
           "showlegend": true,
           "type": "histogram",
           "x": [
            "0.11"
           ],
           "xaxis": "x",
           "y": [
            "Professionally"
           ],
           "yaxis": "y"
          },
          {
           "alignmentgroup": "True",
           "bingroup": "y",
           "histfunc": "sum",
           "hovertemplate": "motive=%{y}<br>year=2019<br>sum of trips=%{x}<extra></extra>",
           "legendgroup": "Services/care",
           "marker": {
            "color": "#EF553B",
            "pattern": {
             "shape": ""
            }
           },
           "name": "Services/care",
           "offsetgroup": "Services/care",
           "orientation": "h",
           "showlegend": true,
           "type": "histogram",
           "x": [
            "0.09"
           ],
           "xaxis": "x",
           "y": [
            "Services/care"
           ],
           "yaxis": "y"
          },
          {
           "alignmentgroup": "True",
           "bingroup": "y",
           "histfunc": "sum",
           "hovertemplate": "motive=%{y}<br>year=2019<br>sum of trips=%{x}<extra></extra>",
           "legendgroup": "Attending education/courses",
           "marker": {
            "color": "#00cc96",
            "pattern": {
             "shape": ""
            }
           },
           "name": "Attending education/courses",
           "offsetgroup": "Attending education/courses",
           "orientation": "h",
           "showlegend": true,
           "type": "histogram",
           "x": [
            "0.22"
           ],
           "xaxis": "x",
           "y": [
            "Attending education/courses"
           ],
           "yaxis": "y"
          },
          {
           "alignmentgroup": "True",
           "bingroup": "y",
           "histfunc": "sum",
           "hovertemplate": "motive=%{y}<br>year=2019<br>sum of trips=%{x}<extra></extra>",
           "legendgroup": "Travel to/from work, (non)-daily commute",
           "marker": {
            "color": "#ab63fa",
            "pattern": {
             "shape": ""
            }
           },
           "name": "Travel to/from work, (non)-daily commute",
           "offsetgroup": "Travel to/from work, (non)-daily commute",
           "orientation": "h",
           "showlegend": true,
           "type": "histogram",
           "x": [
            "0.50"
           ],
           "xaxis": "x",
           "y": [
            "Travel to/from work, (non)-daily commute"
           ],
           "yaxis": "y"
          },
          {
           "alignmentgroup": "True",
           "bingroup": "y",
           "histfunc": "sum",
           "hovertemplate": "motive=%{y}<br>year=2019<br>sum of trips=%{x}<extra></extra>",
           "legendgroup": "Shopping, groceries, funshopping.",
           "marker": {
            "color": "#FFA15A",
            "pattern": {
             "shape": ""
            }
           },
           "name": "Shopping, groceries, funshopping.",
           "offsetgroup": "Shopping, groceries, funshopping.",
           "orientation": "h",
           "showlegend": true,
           "type": "histogram",
           "x": [
            "0.54"
           ],
           "xaxis": "x",
           "y": [
            "Shopping, groceries, funshopping."
           ],
           "yaxis": "y"
          },
          {
           "alignmentgroup": "True",
           "bingroup": "y",
           "histfunc": "sum",
           "hovertemplate": "motive=%{y}<br>year=2019<br>sum of trips=%{x}<extra></extra>",
           "legendgroup": "Total",
           "marker": {
            "color": "#19d3f3",
            "pattern": {
             "shape": ""
            }
           },
           "name": "Total",
           "offsetgroup": "Total",
           "orientation": "h",
           "showlegend": true,
           "type": "histogram",
           "x": [
            "2.71"
           ],
           "xaxis": "x",
           "y": [
            "Total"
           ],
           "yaxis": "y"
          }
         ],
         "name": "2019"
        },
        {
         "data": [
          {
           "alignmentgroup": "True",
           "bingroup": "y",
           "histfunc": "sum",
           "hovertemplate": "motive=%{y}<br>year=2020<br>sum of trips=%{x}<extra></extra>",
           "legendgroup": "Professionally",
           "marker": {
            "color": "#636efa",
            "pattern": {
             "shape": ""
            }
           },
           "name": "Professionally",
           "offsetgroup": "Professionally",
           "orientation": "h",
           "showlegend": true,
           "type": "histogram",
           "x": [
            "0.07"
           ],
           "xaxis": "x",
           "y": [
            "Professionally"
           ],
           "yaxis": "y"
          },
          {
           "alignmentgroup": "True",
           "bingroup": "y",
           "histfunc": "sum",
           "hovertemplate": "motive=%{y}<br>year=2020<br>sum of trips=%{x}<extra></extra>",
           "legendgroup": "Services/care",
           "marker": {
            "color": "#EF553B",
            "pattern": {
             "shape": ""
            }
           },
           "name": "Services/care",
           "offsetgroup": "Services/care",
           "orientation": "h",
           "showlegend": true,
           "type": "histogram",
           "x": [
            "0.07"
           ],
           "xaxis": "x",
           "y": [
            "Services/care"
           ],
           "yaxis": "y"
          },
          {
           "alignmentgroup": "True",
           "bingroup": "y",
           "histfunc": "sum",
           "hovertemplate": "motive=%{y}<br>year=2020<br>sum of trips=%{x}<extra></extra>",
           "legendgroup": "Attending education/courses",
           "marker": {
            "color": "#00cc96",
            "pattern": {
             "shape": ""
            }
           },
           "name": "Attending education/courses",
           "offsetgroup": "Attending education/courses",
           "orientation": "h",
           "showlegend": true,
           "type": "histogram",
           "x": [
            "0.14"
           ],
           "xaxis": "x",
           "y": [
            "Attending education/courses"
           ],
           "yaxis": "y"
          },
          {
           "alignmentgroup": "True",
           "bingroup": "y",
           "histfunc": "sum",
           "hovertemplate": "motive=%{y}<br>year=2020<br>sum of trips=%{x}<extra></extra>",
           "legendgroup": "Travel to/from work, (non)-daily commute",
           "marker": {
            "color": "#ab63fa",
            "pattern": {
             "shape": ""
            }
           },
           "name": "Travel to/from work, (non)-daily commute",
           "offsetgroup": "Travel to/from work, (non)-daily commute",
           "orientation": "h",
           "showlegend": true,
           "type": "histogram",
           "x": [
            "0.37"
           ],
           "xaxis": "x",
           "y": [
            "Travel to/from work, (non)-daily commute"
           ],
           "yaxis": "y"
          },
          {
           "alignmentgroup": "True",
           "bingroup": "y",
           "histfunc": "sum",
           "hovertemplate": "motive=%{y}<br>year=2020<br>sum of trips=%{x}<extra></extra>",
           "legendgroup": "Shopping, groceries, funshopping.",
           "marker": {
            "color": "#FFA15A",
            "pattern": {
             "shape": ""
            }
           },
           "name": "Shopping, groceries, funshopping.",
           "offsetgroup": "Shopping, groceries, funshopping.",
           "orientation": "h",
           "showlegend": true,
           "type": "histogram",
           "x": [
            "0.55"
           ],
           "xaxis": "x",
           "y": [
            "Shopping, groceries, funshopping."
           ],
           "yaxis": "y"
          },
          {
           "alignmentgroup": "True",
           "bingroup": "y",
           "histfunc": "sum",
           "hovertemplate": "motive=%{y}<br>year=2020<br>sum of trips=%{x}<extra></extra>",
           "legendgroup": "Total",
           "marker": {
            "color": "#19d3f3",
            "pattern": {
             "shape": ""
            }
           },
           "name": "Total",
           "offsetgroup": "Total",
           "orientation": "h",
           "showlegend": true,
           "type": "histogram",
           "x": [
            "2.35"
           ],
           "xaxis": "x",
           "y": [
            "Total"
           ],
           "yaxis": "y"
          }
         ],
         "name": "2020"
        },
        {
         "data": [
          {
           "alignmentgroup": "True",
           "bingroup": "y",
           "histfunc": "sum",
           "hovertemplate": "motive=%{y}<br>year=2021<br>sum of trips=%{x}<extra></extra>",
           "legendgroup": "Professionally",
           "marker": {
            "color": "#636efa",
            "pattern": {
             "shape": ""
            }
           },
           "name": "Professionally",
           "offsetgroup": "Professionally",
           "orientation": "h",
           "showlegend": true,
           "type": "histogram",
           "x": [
            "0.08"
           ],
           "xaxis": "x",
           "y": [
            "Professionally"
           ],
           "yaxis": "y"
          },
          {
           "alignmentgroup": "True",
           "bingroup": "y",
           "histfunc": "sum",
           "hovertemplate": "motive=%{y}<br>year=2021<br>sum of trips=%{x}<extra></extra>",
           "legendgroup": "Services/care",
           "marker": {
            "color": "#EF553B",
            "pattern": {
             "shape": ""
            }
           },
           "name": "Services/care",
           "offsetgroup": "Services/care",
           "orientation": "h",
           "showlegend": true,
           "type": "histogram",
           "x": [
            "0.09"
           ],
           "xaxis": "x",
           "y": [
            "Services/care"
           ],
           "yaxis": "y"
          },
          {
           "alignmentgroup": "True",
           "bingroup": "y",
           "histfunc": "sum",
           "hovertemplate": "motive=%{y}<br>year=2021<br>sum of trips=%{x}<extra></extra>",
           "legendgroup": "Attending education/courses",
           "marker": {
            "color": "#00cc96",
            "pattern": {
             "shape": ""
            }
           },
           "name": "Attending education/courses",
           "offsetgroup": "Attending education/courses",
           "orientation": "h",
           "showlegend": true,
           "type": "histogram",
           "x": [
            "0.14"
           ],
           "xaxis": "x",
           "y": [
            "Attending education/courses"
           ],
           "yaxis": "y"
          },
          {
           "alignmentgroup": "True",
           "bingroup": "y",
           "histfunc": "sum",
           "hovertemplate": "motive=%{y}<br>year=2021<br>sum of trips=%{x}<extra></extra>",
           "legendgroup": "Travel to/from work, (non)-daily commute",
           "marker": {
            "color": "#ab63fa",
            "pattern": {
             "shape": ""
            }
           },
           "name": "Travel to/from work, (non)-daily commute",
           "offsetgroup": "Travel to/from work, (non)-daily commute",
           "orientation": "h",
           "showlegend": true,
           "type": "histogram",
           "x": [
            "0.37"
           ],
           "xaxis": "x",
           "y": [
            "Travel to/from work, (non)-daily commute"
           ],
           "yaxis": "y"
          },
          {
           "alignmentgroup": "True",
           "bingroup": "y",
           "histfunc": "sum",
           "hovertemplate": "motive=%{y}<br>year=2021<br>sum of trips=%{x}<extra></extra>",
           "legendgroup": "Shopping, groceries, funshopping.",
           "marker": {
            "color": "#FFA15A",
            "pattern": {
             "shape": ""
            }
           },
           "name": "Shopping, groceries, funshopping.",
           "offsetgroup": "Shopping, groceries, funshopping.",
           "orientation": "h",
           "showlegend": true,
           "type": "histogram",
           "x": [
            "0.56"
           ],
           "xaxis": "x",
           "y": [
            "Shopping, groceries, funshopping."
           ],
           "yaxis": "y"
          },
          {
           "alignmentgroup": "True",
           "bingroup": "y",
           "histfunc": "sum",
           "hovertemplate": "motive=%{y}<br>year=2021<br>sum of trips=%{x}<extra></extra>",
           "legendgroup": "Total",
           "marker": {
            "color": "#19d3f3",
            "pattern": {
             "shape": ""
            }
           },
           "name": "Total",
           "offsetgroup": "Total",
           "orientation": "h",
           "showlegend": true,
           "type": "histogram",
           "x": [
            "2.51"
           ],
           "xaxis": "x",
           "y": [
            "Total"
           ],
           "yaxis": "y"
          }
         ],
         "name": "2021"
        },
        {
         "data": [
          {
           "alignmentgroup": "True",
           "bingroup": "y",
           "histfunc": "sum",
           "hovertemplate": "motive=%{y}<br>year=2022<br>sum of trips=%{x}<extra></extra>",
           "legendgroup": "Professionally",
           "marker": {
            "color": "#636efa",
            "pattern": {
             "shape": ""
            }
           },
           "name": "Professionally",
           "offsetgroup": "Professionally",
           "orientation": "h",
           "showlegend": true,
           "type": "histogram",
           "x": [
            "0.08"
           ],
           "xaxis": "x",
           "y": [
            "Professionally"
           ],
           "yaxis": "y"
          },
          {
           "alignmentgroup": "True",
           "bingroup": "y",
           "histfunc": "sum",
           "hovertemplate": "motive=%{y}<br>year=2022<br>sum of trips=%{x}<extra></extra>",
           "legendgroup": "Services/care",
           "marker": {
            "color": "#EF553B",
            "pattern": {
             "shape": ""
            }
           },
           "name": "Services/care",
           "offsetgroup": "Services/care",
           "orientation": "h",
           "showlegend": true,
           "type": "histogram",
           "x": [
            "0.09"
           ],
           "xaxis": "x",
           "y": [
            "Services/care"
           ],
           "yaxis": "y"
          },
          {
           "alignmentgroup": "True",
           "bingroup": "y",
           "histfunc": "sum",
           "hovertemplate": "motive=%{y}<br>year=2022<br>sum of trips=%{x}<extra></extra>",
           "legendgroup": "Attending education/courses",
           "marker": {
            "color": "#00cc96",
            "pattern": {
             "shape": ""
            }
           },
           "name": "Attending education/courses",
           "offsetgroup": "Attending education/courses",
           "orientation": "h",
           "showlegend": true,
           "type": "histogram",
           "x": [
            "0.18"
           ],
           "xaxis": "x",
           "y": [
            "Attending education/courses"
           ],
           "yaxis": "y"
          },
          {
           "alignmentgroup": "True",
           "bingroup": "y",
           "histfunc": "sum",
           "hovertemplate": "motive=%{y}<br>year=2022<br>sum of trips=%{x}<extra></extra>",
           "legendgroup": "Travel to/from work, (non)-daily commute",
           "marker": {
            "color": "#ab63fa",
            "pattern": {
             "shape": ""
            }
           },
           "name": "Travel to/from work, (non)-daily commute",
           "offsetgroup": "Travel to/from work, (non)-daily commute",
           "orientation": "h",
           "showlegend": true,
           "type": "histogram",
           "x": [
            "0.42"
           ],
           "xaxis": "x",
           "y": [
            "Travel to/from work, (non)-daily commute"
           ],
           "yaxis": "y"
          },
          {
           "alignmentgroup": "True",
           "bingroup": "y",
           "histfunc": "sum",
           "hovertemplate": "motive=%{y}<br>year=2022<br>sum of trips=%{x}<extra></extra>",
           "legendgroup": "Shopping, groceries, funshopping.",
           "marker": {
            "color": "#FFA15A",
            "pattern": {
             "shape": ""
            }
           },
           "name": "Shopping, groceries, funshopping.",
           "offsetgroup": "Shopping, groceries, funshopping.",
           "orientation": "h",
           "showlegend": true,
           "type": "histogram",
           "x": [
            "0.58"
           ],
           "xaxis": "x",
           "y": [
            "Shopping, groceries, funshopping."
           ],
           "yaxis": "y"
          },
          {
           "alignmentgroup": "True",
           "bingroup": "y",
           "histfunc": "sum",
           "hovertemplate": "motive=%{y}<br>year=2022<br>sum of trips=%{x}<extra></extra>",
           "legendgroup": "Total",
           "marker": {
            "color": "#19d3f3",
            "pattern": {
             "shape": ""
            }
           },
           "name": "Total",
           "offsetgroup": "Total",
           "orientation": "h",
           "showlegend": true,
           "type": "histogram",
           "x": [
            "2.70"
           ],
           "xaxis": "x",
           "y": [
            "Total"
           ],
           "yaxis": "y"
          }
         ],
         "name": "2022"
        }
       ],
       "layout": {
        "barmode": "relative",
        "legend": {
         "title": {
          "text": "motive"
         },
         "tracegroupgap": 0
        },
        "margin": {
         "t": 60
        },
        "sliders": [
         {
          "active": 0,
          "currentvalue": {
           "prefix": "year="
          },
          "len": 0.9,
          "pad": {
           "b": 10,
           "t": 60
          },
          "steps": [
           {
            "args": [
             [
              "2018"
             ],
             {
              "frame": {
               "duration": 0,
               "redraw": true
              },
              "fromcurrent": true,
              "mode": "immediate",
              "transition": {
               "duration": 0,
               "easing": "linear"
              }
             }
            ],
            "label": "2018",
            "method": "animate"
           },
           {
            "args": [
             [
              "2019"
             ],
             {
              "frame": {
               "duration": 0,
               "redraw": true
              },
              "fromcurrent": true,
              "mode": "immediate",
              "transition": {
               "duration": 0,
               "easing": "linear"
              }
             }
            ],
            "label": "2019",
            "method": "animate"
           },
           {
            "args": [
             [
              "2020"
             ],
             {
              "frame": {
               "duration": 0,
               "redraw": true
              },
              "fromcurrent": true,
              "mode": "immediate",
              "transition": {
               "duration": 0,
               "easing": "linear"
              }
             }
            ],
            "label": "2020",
            "method": "animate"
           },
           {
            "args": [
             [
              "2021"
             ],
             {
              "frame": {
               "duration": 0,
               "redraw": true
              },
              "fromcurrent": true,
              "mode": "immediate",
              "transition": {
               "duration": 0,
               "easing": "linear"
              }
             }
            ],
            "label": "2021",
            "method": "animate"
           },
           {
            "args": [
             [
              "2022"
             ],
             {
              "frame": {
               "duration": 0,
               "redraw": true
              },
              "fromcurrent": true,
              "mode": "immediate",
              "transition": {
               "duration": 0,
               "easing": "linear"
              }
             }
            ],
            "label": "2022",
            "method": "animate"
           }
          ],
          "x": 0.1,
          "xanchor": "left",
          "y": 0,
          "yanchor": "top"
         }
        ],
        "template": {
         "data": {
          "bar": [
           {
            "error_x": {
             "color": "#2a3f5f"
            },
            "error_y": {
             "color": "#2a3f5f"
            },
            "marker": {
             "line": {
              "color": "#E5ECF6",
              "width": 0.5
             },
             "pattern": {
              "fillmode": "overlay",
              "size": 10,
              "solidity": 0.2
             }
            },
            "type": "bar"
           }
          ],
          "barpolar": [
           {
            "marker": {
             "line": {
              "color": "#E5ECF6",
              "width": 0.5
             },
             "pattern": {
              "fillmode": "overlay",
              "size": 10,
              "solidity": 0.2
             }
            },
            "type": "barpolar"
           }
          ],
          "carpet": [
           {
            "aaxis": {
             "endlinecolor": "#2a3f5f",
             "gridcolor": "white",
             "linecolor": "white",
             "minorgridcolor": "white",
             "startlinecolor": "#2a3f5f"
            },
            "baxis": {
             "endlinecolor": "#2a3f5f",
             "gridcolor": "white",
             "linecolor": "white",
             "minorgridcolor": "white",
             "startlinecolor": "#2a3f5f"
            },
            "type": "carpet"
           }
          ],
          "choropleth": [
           {
            "colorbar": {
             "outlinewidth": 0,
             "ticks": ""
            },
            "type": "choropleth"
           }
          ],
          "contour": [
           {
            "colorbar": {
             "outlinewidth": 0,
             "ticks": ""
            },
            "colorscale": [
             [
              0,
              "#0d0887"
             ],
             [
              0.1111111111111111,
              "#46039f"
             ],
             [
              0.2222222222222222,
              "#7201a8"
             ],
             [
              0.3333333333333333,
              "#9c179e"
             ],
             [
              0.4444444444444444,
              "#bd3786"
             ],
             [
              0.5555555555555556,
              "#d8576b"
             ],
             [
              0.6666666666666666,
              "#ed7953"
             ],
             [
              0.7777777777777778,
              "#fb9f3a"
             ],
             [
              0.8888888888888888,
              "#fdca26"
             ],
             [
              1,
              "#f0f921"
             ]
            ],
            "type": "contour"
           }
          ],
          "contourcarpet": [
           {
            "colorbar": {
             "outlinewidth": 0,
             "ticks": ""
            },
            "type": "contourcarpet"
           }
          ],
          "heatmap": [
           {
            "colorbar": {
             "outlinewidth": 0,
             "ticks": ""
            },
            "colorscale": [
             [
              0,
              "#0d0887"
             ],
             [
              0.1111111111111111,
              "#46039f"
             ],
             [
              0.2222222222222222,
              "#7201a8"
             ],
             [
              0.3333333333333333,
              "#9c179e"
             ],
             [
              0.4444444444444444,
              "#bd3786"
             ],
             [
              0.5555555555555556,
              "#d8576b"
             ],
             [
              0.6666666666666666,
              "#ed7953"
             ],
             [
              0.7777777777777778,
              "#fb9f3a"
             ],
             [
              0.8888888888888888,
              "#fdca26"
             ],
             [
              1,
              "#f0f921"
             ]
            ],
            "type": "heatmap"
           }
          ],
          "heatmapgl": [
           {
            "colorbar": {
             "outlinewidth": 0,
             "ticks": ""
            },
            "colorscale": [
             [
              0,
              "#0d0887"
             ],
             [
              0.1111111111111111,
              "#46039f"
             ],
             [
              0.2222222222222222,
              "#7201a8"
             ],
             [
              0.3333333333333333,
              "#9c179e"
             ],
             [
              0.4444444444444444,
              "#bd3786"
             ],
             [
              0.5555555555555556,
              "#d8576b"
             ],
             [
              0.6666666666666666,
              "#ed7953"
             ],
             [
              0.7777777777777778,
              "#fb9f3a"
             ],
             [
              0.8888888888888888,
              "#fdca26"
             ],
             [
              1,
              "#f0f921"
             ]
            ],
            "type": "heatmapgl"
           }
          ],
          "histogram": [
           {
            "marker": {
             "pattern": {
              "fillmode": "overlay",
              "size": 10,
              "solidity": 0.2
             }
            },
            "type": "histogram"
           }
          ],
          "histogram2d": [
           {
            "colorbar": {
             "outlinewidth": 0,
             "ticks": ""
            },
            "colorscale": [
             [
              0,
              "#0d0887"
             ],
             [
              0.1111111111111111,
              "#46039f"
             ],
             [
              0.2222222222222222,
              "#7201a8"
             ],
             [
              0.3333333333333333,
              "#9c179e"
             ],
             [
              0.4444444444444444,
              "#bd3786"
             ],
             [
              0.5555555555555556,
              "#d8576b"
             ],
             [
              0.6666666666666666,
              "#ed7953"
             ],
             [
              0.7777777777777778,
              "#fb9f3a"
             ],
             [
              0.8888888888888888,
              "#fdca26"
             ],
             [
              1,
              "#f0f921"
             ]
            ],
            "type": "histogram2d"
           }
          ],
          "histogram2dcontour": [
           {
            "colorbar": {
             "outlinewidth": 0,
             "ticks": ""
            },
            "colorscale": [
             [
              0,
              "#0d0887"
             ],
             [
              0.1111111111111111,
              "#46039f"
             ],
             [
              0.2222222222222222,
              "#7201a8"
             ],
             [
              0.3333333333333333,
              "#9c179e"
             ],
             [
              0.4444444444444444,
              "#bd3786"
             ],
             [
              0.5555555555555556,
              "#d8576b"
             ],
             [
              0.6666666666666666,
              "#ed7953"
             ],
             [
              0.7777777777777778,
              "#fb9f3a"
             ],
             [
              0.8888888888888888,
              "#fdca26"
             ],
             [
              1,
              "#f0f921"
             ]
            ],
            "type": "histogram2dcontour"
           }
          ],
          "mesh3d": [
           {
            "colorbar": {
             "outlinewidth": 0,
             "ticks": ""
            },
            "type": "mesh3d"
           }
          ],
          "parcoords": [
           {
            "line": {
             "colorbar": {
              "outlinewidth": 0,
              "ticks": ""
             }
            },
            "type": "parcoords"
           }
          ],
          "pie": [
           {
            "automargin": true,
            "type": "pie"
           }
          ],
          "scatter": [
           {
            "fillpattern": {
             "fillmode": "overlay",
             "size": 10,
             "solidity": 0.2
            },
            "type": "scatter"
           }
          ],
          "scatter3d": [
           {
            "line": {
             "colorbar": {
              "outlinewidth": 0,
              "ticks": ""
             }
            },
            "marker": {
             "colorbar": {
              "outlinewidth": 0,
              "ticks": ""
             }
            },
            "type": "scatter3d"
           }
          ],
          "scattercarpet": [
           {
            "marker": {
             "colorbar": {
              "outlinewidth": 0,
              "ticks": ""
             }
            },
            "type": "scattercarpet"
           }
          ],
          "scattergeo": [
           {
            "marker": {
             "colorbar": {
              "outlinewidth": 0,
              "ticks": ""
             }
            },
            "type": "scattergeo"
           }
          ],
          "scattergl": [
           {
            "marker": {
             "colorbar": {
              "outlinewidth": 0,
              "ticks": ""
             }
            },
            "type": "scattergl"
           }
          ],
          "scattermapbox": [
           {
            "marker": {
             "colorbar": {
              "outlinewidth": 0,
              "ticks": ""
             }
            },
            "type": "scattermapbox"
           }
          ],
          "scatterpolar": [
           {
            "marker": {
             "colorbar": {
              "outlinewidth": 0,
              "ticks": ""
             }
            },
            "type": "scatterpolar"
           }
          ],
          "scatterpolargl": [
           {
            "marker": {
             "colorbar": {
              "outlinewidth": 0,
              "ticks": ""
             }
            },
            "type": "scatterpolargl"
           }
          ],
          "scatterternary": [
           {
            "marker": {
             "colorbar": {
              "outlinewidth": 0,
              "ticks": ""
             }
            },
            "type": "scatterternary"
           }
          ],
          "surface": [
           {
            "colorbar": {
             "outlinewidth": 0,
             "ticks": ""
            },
            "colorscale": [
             [
              0,
              "#0d0887"
             ],
             [
              0.1111111111111111,
              "#46039f"
             ],
             [
              0.2222222222222222,
              "#7201a8"
             ],
             [
              0.3333333333333333,
              "#9c179e"
             ],
             [
              0.4444444444444444,
              "#bd3786"
             ],
             [
              0.5555555555555556,
              "#d8576b"
             ],
             [
              0.6666666666666666,
              "#ed7953"
             ],
             [
              0.7777777777777778,
              "#fb9f3a"
             ],
             [
              0.8888888888888888,
              "#fdca26"
             ],
             [
              1,
              "#f0f921"
             ]
            ],
            "type": "surface"
           }
          ],
          "table": [
           {
            "cells": {
             "fill": {
              "color": "#EBF0F8"
             },
             "line": {
              "color": "white"
             }
            },
            "header": {
             "fill": {
              "color": "#C8D4E3"
             },
             "line": {
              "color": "white"
             }
            },
            "type": "table"
           }
          ]
         },
         "layout": {
          "annotationdefaults": {
           "arrowcolor": "#2a3f5f",
           "arrowhead": 0,
           "arrowwidth": 1
          },
          "autotypenumbers": "strict",
          "coloraxis": {
           "colorbar": {
            "outlinewidth": 0,
            "ticks": ""
           }
          },
          "colorscale": {
           "diverging": [
            [
             0,
             "#8e0152"
            ],
            [
             0.1,
             "#c51b7d"
            ],
            [
             0.2,
             "#de77ae"
            ],
            [
             0.3,
             "#f1b6da"
            ],
            [
             0.4,
             "#fde0ef"
            ],
            [
             0.5,
             "#f7f7f7"
            ],
            [
             0.6,
             "#e6f5d0"
            ],
            [
             0.7,
             "#b8e186"
            ],
            [
             0.8,
             "#7fbc41"
            ],
            [
             0.9,
             "#4d9221"
            ],
            [
             1,
             "#276419"
            ]
           ],
           "sequential": [
            [
             0,
             "#0d0887"
            ],
            [
             0.1111111111111111,
             "#46039f"
            ],
            [
             0.2222222222222222,
             "#7201a8"
            ],
            [
             0.3333333333333333,
             "#9c179e"
            ],
            [
             0.4444444444444444,
             "#bd3786"
            ],
            [
             0.5555555555555556,
             "#d8576b"
            ],
            [
             0.6666666666666666,
             "#ed7953"
            ],
            [
             0.7777777777777778,
             "#fb9f3a"
            ],
            [
             0.8888888888888888,
             "#fdca26"
            ],
            [
             1,
             "#f0f921"
            ]
           ],
           "sequentialminus": [
            [
             0,
             "#0d0887"
            ],
            [
             0.1111111111111111,
             "#46039f"
            ],
            [
             0.2222222222222222,
             "#7201a8"
            ],
            [
             0.3333333333333333,
             "#9c179e"
            ],
            [
             0.4444444444444444,
             "#bd3786"
            ],
            [
             0.5555555555555556,
             "#d8576b"
            ],
            [
             0.6666666666666666,
             "#ed7953"
            ],
            [
             0.7777777777777778,
             "#fb9f3a"
            ],
            [
             0.8888888888888888,
             "#fdca26"
            ],
            [
             1,
             "#f0f921"
            ]
           ]
          },
          "colorway": [
           "#636efa",
           "#EF553B",
           "#00cc96",
           "#ab63fa",
           "#FFA15A",
           "#19d3f3",
           "#FF6692",
           "#B6E880",
           "#FF97FF",
           "#FECB52"
          ],
          "font": {
           "color": "#2a3f5f"
          },
          "geo": {
           "bgcolor": "white",
           "lakecolor": "white",
           "landcolor": "#E5ECF6",
           "showlakes": true,
           "showland": true,
           "subunitcolor": "white"
          },
          "hoverlabel": {
           "align": "left"
          },
          "hovermode": "closest",
          "mapbox": {
           "style": "light"
          },
          "paper_bgcolor": "white",
          "plot_bgcolor": "#E5ECF6",
          "polar": {
           "angularaxis": {
            "gridcolor": "white",
            "linecolor": "white",
            "ticks": ""
           },
           "bgcolor": "#E5ECF6",
           "radialaxis": {
            "gridcolor": "white",
            "linecolor": "white",
            "ticks": ""
           }
          },
          "scene": {
           "xaxis": {
            "backgroundcolor": "#E5ECF6",
            "gridcolor": "white",
            "gridwidth": 2,
            "linecolor": "white",
            "showbackground": true,
            "ticks": "",
            "zerolinecolor": "white"
           },
           "yaxis": {
            "backgroundcolor": "#E5ECF6",
            "gridcolor": "white",
            "gridwidth": 2,
            "linecolor": "white",
            "showbackground": true,
            "ticks": "",
            "zerolinecolor": "white"
           },
           "zaxis": {
            "backgroundcolor": "#E5ECF6",
            "gridcolor": "white",
            "gridwidth": 2,
            "linecolor": "white",
            "showbackground": true,
            "ticks": "",
            "zerolinecolor": "white"
           }
          },
          "shapedefaults": {
           "line": {
            "color": "#2a3f5f"
           }
          },
          "ternary": {
           "aaxis": {
            "gridcolor": "white",
            "linecolor": "white",
            "ticks": ""
           },
           "baxis": {
            "gridcolor": "white",
            "linecolor": "white",
            "ticks": ""
           },
           "bgcolor": "#E5ECF6",
           "caxis": {
            "gridcolor": "white",
            "linecolor": "white",
            "ticks": ""
           }
          },
          "title": {
           "x": 0.05
          },
          "xaxis": {
           "automargin": true,
           "gridcolor": "white",
           "linecolor": "white",
           "ticks": "",
           "title": {
            "standoff": 15
           },
           "zerolinecolor": "white",
           "zerolinewidth": 2
          },
          "yaxis": {
           "automargin": true,
           "gridcolor": "white",
           "linecolor": "white",
           "ticks": "",
           "title": {
            "standoff": 15
           },
           "zerolinecolor": "white",
           "zerolinewidth": 2
          }
         }
        },
        "title": {
         "text": "Average amount of trips for every vehicle combined per day from 2018 to 2022",
         "x": 0.5
        },
        "updatemenus": [
         {
          "buttons": [
           {
            "args": [
             null,
             {
              "frame": {
               "duration": 500,
               "redraw": true
              },
              "fromcurrent": true,
              "mode": "immediate",
              "transition": {
               "duration": 500,
               "easing": "linear"
              }
             }
            ],
            "label": "&#9654;",
            "method": "animate"
           },
           {
            "args": [
             [
              null
             ],
             {
              "frame": {
               "duration": 0,
               "redraw": true
              },
              "fromcurrent": true,
              "mode": "immediate",
              "transition": {
               "duration": 0,
               "easing": "linear"
              }
             }
            ],
            "label": "&#9724;",
            "method": "animate"
           }
          ],
          "direction": "left",
          "pad": {
           "r": 10,
           "t": 70
          },
          "showactive": false,
          "type": "buttons",
          "x": 0.1,
          "xanchor": "right",
          "y": 0,
          "yanchor": "top"
         }
        ],
        "xaxis": {
         "anchor": "y",
         "domain": [
          0,
          1
         ],
         "title": {
          "text": "sum of trips"
         }
        },
        "yaxis": {
         "anchor": "x",
         "categoryarray": [
          "Total",
          "Shopping, groceries, funshopping.",
          "Travel to/from work, (non)-daily commute",
          "Attending education/courses",
          "Services/care",
          "Professionally"
         ],
         "categoryorder": "array",
         "domain": [
          0,
          1
         ],
         "title": {
          "text": "Travel motives"
         }
        }
       }
      }
     },
     "metadata": {},
     "output_type": "display_data"
    }
   ],
   "source": [
    "fig2 = px.histogram(mobility_trips_years, x='trips', y='motive', color='motive',  orientation='h',  animation_frame='year')\n",
    "\n",
    "fig2.update_layout(title={\n",
    "    'text': 'Average amount of trips for every vehicle combined per day from 2018 to 2022',\n",
    "    'x': 0.5\n",
    "})\n",
    "\n",
    "fig2.update_yaxes(title_text=\"Travel motives\")\n",
    "fig2.show()"
   ]
  },
  {
   "cell_type": "markdown",
   "metadata": {},
   "source": [
    "This bar plots the same as the previous one, but for the entire given time scale. It can be seen that for all motives a substantial drop can be seen in 2020 due to the Corona virus. But if looked at before and after the Corona virus, the motive 'shopping, groceries and funshopping' is increased, but the other substantial shares of motives have descreased."
   ]
  },
  {
   "cell_type": "code",
   "execution_count": null,
   "metadata": {},
   "outputs": [],
   "source": []
  }
 ],
 "metadata": {
  "kernelspec": {
   "display_name": "Python 3 (ipykernel)",
   "language": "python",
   "name": "python3"
  },
  "language_info": {
   "codemirror_mode": {
    "name": "ipython",
    "version": 3
   },
   "file_extension": ".py",
   "mimetype": "text/x-python",
   "name": "python",
   "nbconvert_exporter": "python",
   "pygments_lexer": "ipython3",
   "version": "3.11.5"
  },
  "vscode": {
   "interpreter": {
    "hash": "31f2aee4e71d21fbe5cf8b01ff0e069b9275f58929596ceb00d14d90e3e16cd6"
   }
  }
 },
 "nbformat": 4,
 "nbformat_minor": 4
}
