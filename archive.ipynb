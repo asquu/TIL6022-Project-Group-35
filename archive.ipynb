{
 "cells": [
  {
   "cell_type": "code",
   "execution_count": null,
   "metadata": {},
   "outputs": [],
   "source": [
    "#graph with the subplots for each year\n",
    "# mobility_trips_years = mobility_trips_motive[years]\n",
    "\n",
    "# # Melt the data to create a 'year' column\n",
    "# mobility_trips_years = mobility_trips_years.reset_index().melt(id_vars=['motive'], var_name='year', value_name='trips')\n",
    "\n",
    "# fig = px.bar(mobility_trips_years, x='trips', y='motive', color='motive', facet_col='year', orientation='h', hover_name='trips', width=1100, height=400)\n",
    "\n",
    "# fig.update_layout(title={\n",
    "#     'text': 'Average amount of trips for every vehicle combined per day from 2018 to 2022',\n",
    "#     'x': 0.5\n",
    "# })\n",
    "# fig.update_yaxes(title_text=\"Travel motives\")\n",
    "# fig.show()"
   ]
  }
 ],
 "metadata": {
  "language_info": {
   "name": "python"
  }
 },
 "nbformat": 4,
 "nbformat_minor": 2
}
