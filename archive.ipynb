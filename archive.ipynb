{
 "cells": [
  {
   "cell_type": "code",
   "execution_count": null,
   "metadata": {},
   "outputs": [],
   "source": [
    "#graph with the subplots for each year\n",
    "# mobility_trips_years = mobility_trips_motive[years]\n",
    "\n",
    "# # Melt the data to create a 'year' column\n",
    "# mobility_trips_years = mobility_trips_years.reset_index().melt(id_vars=['motive'], var_name='year', value_name='trips')\n",
    "\n",
    "# fig = px.bar(mobility_trips_years, x='trips', y='motive', color='motive', facet_col='year', orientation='h', hover_name='trips', width=1100, height=400)\n",
    "\n",
    "# fig.update_layout(title={\n",
    "#     'text': 'Average amount of trips for every vehicle combined per day from 2018 to 2022',\n",
    "#     'x': 0.5\n",
    "# })\n",
    "# fig.update_yaxes(title_text=\"Travel motives\")\n",
    "# fig.show()"
   ]
  },
  {
   "cell_type": "code",
   "execution_count": null,
   "metadata": {},
   "outputs": [],
   "source": [
    "# Reshape data for year to year plot\n",
    "fuel_prices_yearly = fuel_prices.resample('Y').mean() \n",
    "fuel_prices_yearly['Average'] = fuel_prices_yearly.mean(axis=1)\n",
    "fuel_prices_yearly['Year'] = fuel_prices_yearly.index.strftime('%Y')\n",
    "fuel_prices_yearly = fuel_prices_yearly.set_index('Year')\n",
    "fuel_prices_yearly.reset_index(level=0, inplace=True)\n",
    "\n",
    "# Calculate Year-over-Year percentage changes for each fuel type\n",
    "fuel_data_yearly = fuel_prices_yearly\n",
    "fuel_types = ['Euro95', 'Diesel', 'LPG', 'Average']\n",
    "for fuel_type in fuel_types:\n",
    "    column_name = f\"{fuel_type}_YoY\"\n",
    "    fuel_data_yearly[column_name] = fuel_data_yearly[fuel_type].pct_change() * 100\n",
    "\n",
    "# Insert '0' YoY change for the year 2019 (second year)\n",
    "for fuel_type in fuel_types:\n",
    "    column_name = f\"{fuel_type}_YoY\"\n",
    "    fuel_data_yearly.at[0, column_name] = 0\n",
    "\n",
    "# Create a long-form DataFrame for Plotly Express\n",
    "melted_fuel_data = fuel_data_yearly.melt(id_vars='Year', value_vars=[f\"{fuel_type}_YoY\" for fuel_type in fuel_types], var_name='Fuel_Type', value_name='YoY_Change')\n",
    "Fuel_Yoy = pivot_df = melted_fuel_data.pivot(index='Year', columns='Fuel_Type', values='YoY_Change').reset_index()\n",
    "\n",
    "display(Fuel_Yoy)"
   ]
  },
  {
   "cell_type": "code",
   "execution_count": null,
   "metadata": {},
   "outputs": [],
   "source": [
    "# Plot the Year-over-Year changes using Plotly Express\n",
    "fig = px.line(melted_fuel_data, x='Year', y='YoY_Change', color='Fuel_Type', title='Year-over-Year Fuel Price Changes')\n",
    "fig.update_layout(xaxis_title='Year', yaxis_title='YoY Change (%)', legend_title='Fuel Type', width=1100, height=400)\n",
    "fig.add_vrect(x0=2.25, x1=4, \n",
    "              annotation_text=\"COVID \", annotation_position=\"top left\",\n",
    "              fillcolor=\"green\", opacity=0.25, line_width=0)\n",
    "fig.show()"
   ]
  },
  {
   "cell_type": "code",
   "execution_count": null,
   "metadata": {},
   "outputs": [],
   "source": [
    "yoy_changes = mobility_trend_dist.copy()\n",
    "\n",
    "# Calculate year-over-year changes for each mode while setting the first year's change to 0\n",
    "yoy_changes.iloc[:, 1:] = yoy_changes.iloc[:, 1:].pct_change(axis=1) * 100\n",
    "yoy_changes.iloc[:, 1] = 0  # Set the first year's change to 0 for all modes\n",
    "\n",
    "yoy_changes"
   ]
  },
  {
   "cell_type": "code",
   "execution_count": null,
   "metadata": {},
   "outputs": [],
   "source": [
    "# Plotting the year-over-year changes for each mode\n",
    "melted_yoy = yoy_changes.melt(id_vars='modes', var_name='Year', value_name='YoY Change %')\n",
    "fig = px.line(melted_yoy, x='Year', y='YoY Change %', color='modes',\n",
    "    title='Year-over-Year Changes for distance travelled in different Modes of Transportation')\n",
    "fig.update_layout(height=600, width=800 )\n",
    "fig.show()"
   ]
  }
 ],
 "metadata": {
  "kernelspec": {
   "display_name": "Python 3 (ipykernel)",
   "language": "python",
   "name": "python3"
  },
  "language_info": {
   "codemirror_mode": {
    "name": "ipython",
    "version": 3
   },
   "file_extension": ".py",
   "mimetype": "text/x-python",
   "name": "python",
   "nbconvert_exporter": "python",
   "pygments_lexer": "ipython3",
   "version": "3.8.18"
  }
 },
 "nbformat": 4,
 "nbformat_minor": 4
}
