{
 "cells": [
  {
   "cell_type": "code",
   "execution_count": 63,
   "metadata": {
    "tags": []
   },
   "outputs": [],
   "source": [
    "import numpy as np\n",
    "import pandas as pd\n",
    "import matplotlib.pyplot as plt\n",
    "import plotly.io as pio\n",
    "import plotly.express as px\n",
    "import seaborn as sns\n",
    "import warnings"
   ]
  },
  {
   "cell_type": "code",
   "execution_count": 64,
   "metadata": {
    "tags": []
   },
   "outputs": [
    {
     "data": {
      "text/html": [
       "<div>\n",
       "<style scoped>\n",
       "    .dataframe tbody tr th:only-of-type {\n",
       "        vertical-align: middle;\n",
       "    }\n",
       "\n",
       "    .dataframe tbody tr th {\n",
       "        vertical-align: top;\n",
       "    }\n",
       "\n",
       "    .dataframe thead th {\n",
       "        text-align: right;\n",
       "    }\n",
       "</style>\n",
       "<table border=\"1\" class=\"dataframe\">\n",
       "  <thead>\n",
       "    <tr style=\"text-align: right;\">\n",
       "      <th></th>\n",
       "      <th>Euro95</th>\n",
       "      <th>Diesel</th>\n",
       "      <th>LPG</th>\n",
       "      <th>Average</th>\n",
       "    </tr>\n",
       "    <tr>\n",
       "      <th>Months</th>\n",
       "      <th></th>\n",
       "      <th></th>\n",
       "      <th></th>\n",
       "      <th></th>\n",
       "    </tr>\n",
       "  </thead>\n",
       "  <tbody>\n",
       "    <tr>\n",
       "      <th>2018-01-01</th>\n",
       "      <td>1.589</td>\n",
       "      <td>1.292</td>\n",
       "      <td>0.696</td>\n",
       "      <td>1.192333</td>\n",
       "    </tr>\n",
       "    <tr>\n",
       "      <th>2018-02-01</th>\n",
       "      <td>1.566</td>\n",
       "      <td>1.254</td>\n",
       "      <td>0.667</td>\n",
       "      <td>1.162333</td>\n",
       "    </tr>\n",
       "    <tr>\n",
       "      <th>2018-03-01</th>\n",
       "      <td>1.545</td>\n",
       "      <td>1.260</td>\n",
       "      <td>0.654</td>\n",
       "      <td>1.153000</td>\n",
       "    </tr>\n",
       "    <tr>\n",
       "      <th>2018-04-01</th>\n",
       "      <td>1.608</td>\n",
       "      <td>1.301</td>\n",
       "      <td>0.663</td>\n",
       "      <td>1.190667</td>\n",
       "    </tr>\n",
       "    <tr>\n",
       "      <th>2018-05-01</th>\n",
       "      <td>1.668</td>\n",
       "      <td>1.360</td>\n",
       "      <td>0.675</td>\n",
       "      <td>1.234333</td>\n",
       "    </tr>\n",
       "    <tr>\n",
       "      <th>2018-06-01</th>\n",
       "      <td>1.660</td>\n",
       "      <td>1.362</td>\n",
       "      <td>0.681</td>\n",
       "      <td>1.234333</td>\n",
       "    </tr>\n",
       "    <tr>\n",
       "      <th>2018-07-01</th>\n",
       "      <td>1.661</td>\n",
       "      <td>1.356</td>\n",
       "      <td>0.688</td>\n",
       "      <td>1.235000</td>\n",
       "    </tr>\n",
       "    <tr>\n",
       "      <th>2018-08-01</th>\n",
       "      <td>1.683</td>\n",
       "      <td>1.359</td>\n",
       "      <td>0.692</td>\n",
       "      <td>1.244667</td>\n",
       "    </tr>\n",
       "    <tr>\n",
       "      <th>2018-09-01</th>\n",
       "      <td>1.680</td>\n",
       "      <td>1.384</td>\n",
       "      <td>0.714</td>\n",
       "      <td>1.259333</td>\n",
       "    </tr>\n",
       "    <tr>\n",
       "      <th>2018-10-01</th>\n",
       "      <td>1.657</td>\n",
       "      <td>1.417</td>\n",
       "      <td>0.744</td>\n",
       "      <td>1.272667</td>\n",
       "    </tr>\n",
       "    <tr>\n",
       "      <th>2018-11-01</th>\n",
       "      <td>1.583</td>\n",
       "      <td>1.378</td>\n",
       "      <td>0.701</td>\n",
       "      <td>1.220667</td>\n",
       "    </tr>\n",
       "    <tr>\n",
       "      <th>2018-12-01</th>\n",
       "      <td>1.512</td>\n",
       "      <td>1.297</td>\n",
       "      <td>0.650</td>\n",
       "      <td>1.153000</td>\n",
       "    </tr>\n",
       "    <tr>\n",
       "      <th>2019-01-01</th>\n",
       "      <td>1.545</td>\n",
       "      <td>1.304</td>\n",
       "      <td>0.634</td>\n",
       "      <td>1.161000</td>\n",
       "    </tr>\n",
       "    <tr>\n",
       "      <th>2019-02-01</th>\n",
       "      <td>1.578</td>\n",
       "      <td>1.345</td>\n",
       "      <td>0.646</td>\n",
       "      <td>1.189667</td>\n",
       "    </tr>\n",
       "    <tr>\n",
       "      <th>2019-03-01</th>\n",
       "      <td>1.619</td>\n",
       "      <td>1.362</td>\n",
       "      <td>0.656</td>\n",
       "      <td>1.212333</td>\n",
       "    </tr>\n",
       "    <tr>\n",
       "      <th>2019-04-01</th>\n",
       "      <td>1.702</td>\n",
       "      <td>1.378</td>\n",
       "      <td>0.664</td>\n",
       "      <td>1.248000</td>\n",
       "    </tr>\n",
       "    <tr>\n",
       "      <th>2019-05-01</th>\n",
       "      <td>1.724</td>\n",
       "      <td>1.392</td>\n",
       "      <td>0.664</td>\n",
       "      <td>1.260000</td>\n",
       "    </tr>\n",
       "    <tr>\n",
       "      <th>2019-06-01</th>\n",
       "      <td>1.663</td>\n",
       "      <td>1.333</td>\n",
       "      <td>0.637</td>\n",
       "      <td>1.211000</td>\n",
       "    </tr>\n",
       "    <tr>\n",
       "      <th>2019-07-01</th>\n",
       "      <td>1.672</td>\n",
       "      <td>1.344</td>\n",
       "      <td>0.620</td>\n",
       "      <td>1.212000</td>\n",
       "    </tr>\n",
       "    <tr>\n",
       "      <th>2019-08-01</th>\n",
       "      <td>1.650</td>\n",
       "      <td>1.329</td>\n",
       "      <td>0.593</td>\n",
       "      <td>1.190667</td>\n",
       "    </tr>\n",
       "    <tr>\n",
       "      <th>2019-09-01</th>\n",
       "      <td>1.648</td>\n",
       "      <td>1.366</td>\n",
       "      <td>0.577</td>\n",
       "      <td>1.197000</td>\n",
       "    </tr>\n",
       "    <tr>\n",
       "      <th>2019-10-01</th>\n",
       "      <td>1.643</td>\n",
       "      <td>1.369</td>\n",
       "      <td>0.607</td>\n",
       "      <td>1.206333</td>\n",
       "    </tr>\n",
       "    <tr>\n",
       "      <th>2019-11-01</th>\n",
       "      <td>1.657</td>\n",
       "      <td>1.369</td>\n",
       "      <td>0.636</td>\n",
       "      <td>1.220667</td>\n",
       "    </tr>\n",
       "    <tr>\n",
       "      <th>2019-12-01</th>\n",
       "      <td>1.663</td>\n",
       "      <td>1.386</td>\n",
       "      <td>0.661</td>\n",
       "      <td>1.236667</td>\n",
       "    </tr>\n",
       "    <tr>\n",
       "      <th>2020-01-01</th>\n",
       "      <td>1.697</td>\n",
       "      <td>1.413</td>\n",
       "      <td>0.697</td>\n",
       "      <td>1.269000</td>\n",
       "    </tr>\n",
       "    <tr>\n",
       "      <th>2020-02-01</th>\n",
       "      <td>1.664</td>\n",
       "      <td>1.359</td>\n",
       "      <td>0.668</td>\n",
       "      <td>1.230333</td>\n",
       "    </tr>\n",
       "    <tr>\n",
       "      <th>2020-03-01</th>\n",
       "      <td>1.567</td>\n",
       "      <td>1.268</td>\n",
       "      <td>0.607</td>\n",
       "      <td>1.147333</td>\n",
       "    </tr>\n",
       "    <tr>\n",
       "      <th>2020-04-01</th>\n",
       "      <td>1.468</td>\n",
       "      <td>1.224</td>\n",
       "      <td>0.547</td>\n",
       "      <td>1.079667</td>\n",
       "    </tr>\n",
       "    <tr>\n",
       "      <th>2020-05-01</th>\n",
       "      <td>1.482</td>\n",
       "      <td>1.196</td>\n",
       "      <td>0.540</td>\n",
       "      <td>1.072667</td>\n",
       "    </tr>\n",
       "    <tr>\n",
       "      <th>2020-06-01</th>\n",
       "      <td>1.539</td>\n",
       "      <td>1.202</td>\n",
       "      <td>0.574</td>\n",
       "      <td>1.105000</td>\n",
       "    </tr>\n",
       "    <tr>\n",
       "      <th>2020-07-01</th>\n",
       "      <td>1.561</td>\n",
       "      <td>1.219</td>\n",
       "      <td>0.590</td>\n",
       "      <td>1.123333</td>\n",
       "    </tr>\n",
       "    <tr>\n",
       "      <th>2020-08-01</th>\n",
       "      <td>1.564</td>\n",
       "      <td>1.207</td>\n",
       "      <td>0.589</td>\n",
       "      <td>1.120000</td>\n",
       "    </tr>\n",
       "    <tr>\n",
       "      <th>2020-09-01</th>\n",
       "      <td>1.564</td>\n",
       "      <td>1.167</td>\n",
       "      <td>0.583</td>\n",
       "      <td>1.104667</td>\n",
       "    </tr>\n",
       "    <tr>\n",
       "      <th>2020-10-01</th>\n",
       "      <td>1.558</td>\n",
       "      <td>1.172</td>\n",
       "      <td>0.616</td>\n",
       "      <td>1.115333</td>\n",
       "    </tr>\n",
       "    <tr>\n",
       "      <th>2020-11-01</th>\n",
       "      <td>1.525</td>\n",
       "      <td>1.185</td>\n",
       "      <td>0.622</td>\n",
       "      <td>1.110667</td>\n",
       "    </tr>\n",
       "    <tr>\n",
       "      <th>2020-12-01</th>\n",
       "      <td>1.553</td>\n",
       "      <td>1.233</td>\n",
       "      <td>0.627</td>\n",
       "      <td>1.137667</td>\n",
       "    </tr>\n",
       "    <tr>\n",
       "      <th>2021-01-01</th>\n",
       "      <td>1.615</td>\n",
       "      <td>1.289</td>\n",
       "      <td>0.674</td>\n",
       "      <td>1.192667</td>\n",
       "    </tr>\n",
       "    <tr>\n",
       "      <th>2021-02-01</th>\n",
       "      <td>1.676</td>\n",
       "      <td>1.354</td>\n",
       "      <td>0.706</td>\n",
       "      <td>1.245333</td>\n",
       "    </tr>\n",
       "    <tr>\n",
       "      <th>2021-03-01</th>\n",
       "      <td>1.730</td>\n",
       "      <td>1.392</td>\n",
       "      <td>0.739</td>\n",
       "      <td>1.287000</td>\n",
       "    </tr>\n",
       "    <tr>\n",
       "      <th>2021-04-01</th>\n",
       "      <td>1.746</td>\n",
       "      <td>1.387</td>\n",
       "      <td>0.740</td>\n",
       "      <td>1.291000</td>\n",
       "    </tr>\n",
       "    <tr>\n",
       "      <th>2021-05-01</th>\n",
       "      <td>1.773</td>\n",
       "      <td>1.409</td>\n",
       "      <td>0.740</td>\n",
       "      <td>1.307333</td>\n",
       "    </tr>\n",
       "    <tr>\n",
       "      <th>2021-06-01</th>\n",
       "      <td>1.793</td>\n",
       "      <td>1.440</td>\n",
       "      <td>0.734</td>\n",
       "      <td>1.322333</td>\n",
       "    </tr>\n",
       "    <tr>\n",
       "      <th>2021-07-01</th>\n",
       "      <td>1.832</td>\n",
       "      <td>1.463</td>\n",
       "      <td>0.751</td>\n",
       "      <td>1.348667</td>\n",
       "    </tr>\n",
       "    <tr>\n",
       "      <th>2021-08-01</th>\n",
       "      <td>1.836</td>\n",
       "      <td>1.457</td>\n",
       "      <td>0.758</td>\n",
       "      <td>1.350333</td>\n",
       "    </tr>\n",
       "    <tr>\n",
       "      <th>2021-09-01</th>\n",
       "      <td>1.852</td>\n",
       "      <td>1.489</td>\n",
       "      <td>0.792</td>\n",
       "      <td>1.377667</td>\n",
       "    </tr>\n",
       "    <tr>\n",
       "      <th>2021-10-01</th>\n",
       "      <td>1.942</td>\n",
       "      <td>1.608</td>\n",
       "      <td>0.889</td>\n",
       "      <td>1.479667</td>\n",
       "    </tr>\n",
       "    <tr>\n",
       "      <th>2021-11-01</th>\n",
       "      <td>2.004</td>\n",
       "      <td>1.638</td>\n",
       "      <td>0.937</td>\n",
       "      <td>1.526333</td>\n",
       "    </tr>\n",
       "    <tr>\n",
       "      <th>2021-12-01</th>\n",
       "      <td>1.968</td>\n",
       "      <td>1.601</td>\n",
       "      <td>0.929</td>\n",
       "      <td>1.499333</td>\n",
       "    </tr>\n",
       "    <tr>\n",
       "      <th>2022-01-01</th>\n",
       "      <td>1.989</td>\n",
       "      <td>1.666</td>\n",
       "      <td>0.911</td>\n",
       "      <td>1.522000</td>\n",
       "    </tr>\n",
       "    <tr>\n",
       "      <th>2022-02-01</th>\n",
       "      <td>2.049</td>\n",
       "      <td>1.744</td>\n",
       "      <td>0.918</td>\n",
       "      <td>1.570333</td>\n",
       "    </tr>\n",
       "    <tr>\n",
       "      <th>2022-03-01</th>\n",
       "      <td>2.290</td>\n",
       "      <td>2.118</td>\n",
       "      <td>1.089</td>\n",
       "      <td>1.832333</td>\n",
       "    </tr>\n",
       "    <tr>\n",
       "      <th>2022-04-01</th>\n",
       "      <td>2.088</td>\n",
       "      <td>2.002</td>\n",
       "      <td>1.109</td>\n",
       "      <td>1.733000</td>\n",
       "    </tr>\n",
       "    <tr>\n",
       "      <th>2022-05-01</th>\n",
       "      <td>2.187</td>\n",
       "      <td>1.993</td>\n",
       "      <td>1.073</td>\n",
       "      <td>1.751000</td>\n",
       "    </tr>\n",
       "    <tr>\n",
       "      <th>2022-06-01</th>\n",
       "      <td>2.353</td>\n",
       "      <td>2.143</td>\n",
       "      <td>1.007</td>\n",
       "      <td>1.834333</td>\n",
       "    </tr>\n",
       "    <tr>\n",
       "      <th>2022-07-01</th>\n",
       "      <td>2.209</td>\n",
       "      <td>2.068</td>\n",
       "      <td>0.900</td>\n",
       "      <td>1.725667</td>\n",
       "    </tr>\n",
       "    <tr>\n",
       "      <th>2022-08-01</th>\n",
       "      <td>2.065</td>\n",
       "      <td>1.974</td>\n",
       "      <td>0.849</td>\n",
       "      <td>1.629333</td>\n",
       "    </tr>\n",
       "    <tr>\n",
       "      <th>2022-09-01</th>\n",
       "      <td>1.967</td>\n",
       "      <td>1.999</td>\n",
       "      <td>0.841</td>\n",
       "      <td>1.602333</td>\n",
       "    </tr>\n",
       "    <tr>\n",
       "      <th>2022-10-01</th>\n",
       "      <td>1.995</td>\n",
       "      <td>2.076</td>\n",
       "      <td>0.834</td>\n",
       "      <td>1.635000</td>\n",
       "    </tr>\n",
       "    <tr>\n",
       "      <th>2022-11-01</th>\n",
       "      <td>1.912</td>\n",
       "      <td>1.925</td>\n",
       "      <td>0.824</td>\n",
       "      <td>1.553667</td>\n",
       "    </tr>\n",
       "    <tr>\n",
       "      <th>2022-12-01</th>\n",
       "      <td>1.759</td>\n",
       "      <td>1.751</td>\n",
       "      <td>0.796</td>\n",
       "      <td>1.435333</td>\n",
       "    </tr>\n",
       "  </tbody>\n",
       "</table>\n",
       "</div>"
      ],
      "text/plain": [
       "            Euro95  Diesel    LPG   Average\n",
       "Months                                     \n",
       "2018-01-01   1.589   1.292  0.696  1.192333\n",
       "2018-02-01   1.566   1.254  0.667  1.162333\n",
       "2018-03-01   1.545   1.260  0.654  1.153000\n",
       "2018-04-01   1.608   1.301  0.663  1.190667\n",
       "2018-05-01   1.668   1.360  0.675  1.234333\n",
       "2018-06-01   1.660   1.362  0.681  1.234333\n",
       "2018-07-01   1.661   1.356  0.688  1.235000\n",
       "2018-08-01   1.683   1.359  0.692  1.244667\n",
       "2018-09-01   1.680   1.384  0.714  1.259333\n",
       "2018-10-01   1.657   1.417  0.744  1.272667\n",
       "2018-11-01   1.583   1.378  0.701  1.220667\n",
       "2018-12-01   1.512   1.297  0.650  1.153000\n",
       "2019-01-01   1.545   1.304  0.634  1.161000\n",
       "2019-02-01   1.578   1.345  0.646  1.189667\n",
       "2019-03-01   1.619   1.362  0.656  1.212333\n",
       "2019-04-01   1.702   1.378  0.664  1.248000\n",
       "2019-05-01   1.724   1.392  0.664  1.260000\n",
       "2019-06-01   1.663   1.333  0.637  1.211000\n",
       "2019-07-01   1.672   1.344  0.620  1.212000\n",
       "2019-08-01   1.650   1.329  0.593  1.190667\n",
       "2019-09-01   1.648   1.366  0.577  1.197000\n",
       "2019-10-01   1.643   1.369  0.607  1.206333\n",
       "2019-11-01   1.657   1.369  0.636  1.220667\n",
       "2019-12-01   1.663   1.386  0.661  1.236667\n",
       "2020-01-01   1.697   1.413  0.697  1.269000\n",
       "2020-02-01   1.664   1.359  0.668  1.230333\n",
       "2020-03-01   1.567   1.268  0.607  1.147333\n",
       "2020-04-01   1.468   1.224  0.547  1.079667\n",
       "2020-05-01   1.482   1.196  0.540  1.072667\n",
       "2020-06-01   1.539   1.202  0.574  1.105000\n",
       "2020-07-01   1.561   1.219  0.590  1.123333\n",
       "2020-08-01   1.564   1.207  0.589  1.120000\n",
       "2020-09-01   1.564   1.167  0.583  1.104667\n",
       "2020-10-01   1.558   1.172  0.616  1.115333\n",
       "2020-11-01   1.525   1.185  0.622  1.110667\n",
       "2020-12-01   1.553   1.233  0.627  1.137667\n",
       "2021-01-01   1.615   1.289  0.674  1.192667\n",
       "2021-02-01   1.676   1.354  0.706  1.245333\n",
       "2021-03-01   1.730   1.392  0.739  1.287000\n",
       "2021-04-01   1.746   1.387  0.740  1.291000\n",
       "2021-05-01   1.773   1.409  0.740  1.307333\n",
       "2021-06-01   1.793   1.440  0.734  1.322333\n",
       "2021-07-01   1.832   1.463  0.751  1.348667\n",
       "2021-08-01   1.836   1.457  0.758  1.350333\n",
       "2021-09-01   1.852   1.489  0.792  1.377667\n",
       "2021-10-01   1.942   1.608  0.889  1.479667\n",
       "2021-11-01   2.004   1.638  0.937  1.526333\n",
       "2021-12-01   1.968   1.601  0.929  1.499333\n",
       "2022-01-01   1.989   1.666  0.911  1.522000\n",
       "2022-02-01   2.049   1.744  0.918  1.570333\n",
       "2022-03-01   2.290   2.118  1.089  1.832333\n",
       "2022-04-01   2.088   2.002  1.109  1.733000\n",
       "2022-05-01   2.187   1.993  1.073  1.751000\n",
       "2022-06-01   2.353   2.143  1.007  1.834333\n",
       "2022-07-01   2.209   2.068  0.900  1.725667\n",
       "2022-08-01   2.065   1.974  0.849  1.629333\n",
       "2022-09-01   1.967   1.999  0.841  1.602333\n",
       "2022-10-01   1.995   2.076  0.834  1.635000\n",
       "2022-11-01   1.912   1.925  0.824  1.553667\n",
       "2022-12-01   1.759   1.751  0.796  1.435333"
      ]
     },
     "execution_count": 64,
     "metadata": {},
     "output_type": "execute_result"
    }
   ],
   "source": [
    "df= read_csv('fuelprices.csv', skiprows = 5, delimiter = ';', index_col = 0, parse_dates=True, infer_datetime_format=True)\n",
    "\n",
    "data = df.dropna().rename({'euro/liter':'Euro95','euro/liter.1':'Diesel', 'euro/liter.2':'LPG' }, axis=1)\n",
    "\n",
    "data.index.names = ['Months']\n",
    "\n",
    "data.index = pd.to_datetime(data.index)\n",
    "\n",
    "warnings.filterwarnings(\"ignore\", message=\"The argument 'infer_datetime_format' is deprecated.*\", category=FutureWarning) #ignore warning\n",
    "\n",
    "data['Average'] = data.mean(axis=1) #Add Average price \n",
    "data\n"
   ]
  },
  {
   "cell_type": "code",
   "execution_count": 65,
   "metadata": {
    "tags": []
   },
   "outputs": [
    {
     "data": {
      "text/plain": [
       "Text(0.5, 1.0, 'Fuel prices per month')"
      ]
     },
     "execution_count": 65,
     "metadata": {},
     "output_type": "execute_result"
    },
    {
     "data": {
      "image/png": "[encoded data removed]",
      "text/plain": [
       "<Figure size 1500x1000 with 1 Axes>"
      ]
     },
     "metadata": {},
     "output_type": "display_data"
    }
   ],
   "source": [
    "data.plot(figsize=(15,10))\n",
    "plt.ylabel('Fuel price (euro/liter)', fontsize=12)\n",
    "plt.xlabel('Date (months)', fontsize=12)\n",
    "plt.title('Fuel prices per month', fontsize=15)"
   ]
  },
  {
   "cell_type": "code",
   "execution_count": 66,
   "metadata": {},
   "outputs": [
    {
     "data": {
      "text/html": [
       "<div>\n",
       "<style scoped>\n",
       "    .dataframe tbody tr th:only-of-type {\n",
       "        vertical-align: middle;\n",
       "    }\n",
       "\n",
       "    .dataframe tbody tr th {\n",
       "        vertical-align: top;\n",
       "    }\n",
       "\n",
       "    .dataframe thead th {\n",
       "        text-align: right;\n",
       "    }\n",
       "</style>\n",
       "<table border=\"1\" class=\"dataframe\">\n",
       "  <thead>\n",
       "    <tr style=\"text-align: right;\">\n",
       "      <th></th>\n",
       "      <th>Year</th>\n",
       "      <th>Euro95</th>\n",
       "      <th>Diesel</th>\n",
       "      <th>LPG</th>\n",
       "      <th>Average</th>\n",
       "    </tr>\n",
       "  </thead>\n",
       "  <tbody>\n",
       "    <tr>\n",
       "      <th>0</th>\n",
       "      <td>2018</td>\n",
       "      <td>1.617667</td>\n",
       "      <td>1.335000</td>\n",
       "      <td>0.685417</td>\n",
       "      <td>1.212694</td>\n",
       "    </tr>\n",
       "    <tr>\n",
       "      <th>1</th>\n",
       "      <td>2019</td>\n",
       "      <td>1.647000</td>\n",
       "      <td>1.356417</td>\n",
       "      <td>0.632917</td>\n",
       "      <td>1.212111</td>\n",
       "    </tr>\n",
       "    <tr>\n",
       "      <th>2</th>\n",
       "      <td>2020</td>\n",
       "      <td>1.561833</td>\n",
       "      <td>1.237083</td>\n",
       "      <td>0.605000</td>\n",
       "      <td>1.134639</td>\n",
       "    </tr>\n",
       "    <tr>\n",
       "      <th>3</th>\n",
       "      <td>2021</td>\n",
       "      <td>1.813917</td>\n",
       "      <td>1.460583</td>\n",
       "      <td>0.782417</td>\n",
       "      <td>1.352306</td>\n",
       "    </tr>\n",
       "    <tr>\n",
       "      <th>4</th>\n",
       "      <td>2022</td>\n",
       "      <td>2.071917</td>\n",
       "      <td>1.954917</td>\n",
       "      <td>0.929250</td>\n",
       "      <td>1.652028</td>\n",
       "    </tr>\n",
       "  </tbody>\n",
       "</table>\n",
       "</div>"
      ],
      "text/plain": [
       "   Year    Euro95    Diesel       LPG   Average\n",
       "0  2018  1.617667  1.335000  0.685417  1.212694\n",
       "1  2019  1.647000  1.356417  0.632917  1.212111\n",
       "2  2020  1.561833  1.237083  0.605000  1.134639\n",
       "3  2021  1.813917  1.460583  0.782417  1.352306\n",
       "4  2022  2.071917  1.954917  0.929250  1.652028"
      ]
     },
     "execution_count": 66,
     "metadata": {},
     "output_type": "execute_result"
    }
   ],
   "source": [
    "data_yearly = data.resample('Y').mean() \n",
    "data_yearly['Average'] = data_yearly.mean(axis=1)\n",
    "data.index.names = ['Year']\n",
    "data_yearly['Year'] = data_yearly.index.strftime('%Y')\n",
    "data_yearly = data_yearly.set_index('Year')\n",
    "data_yearly.reset_index(level=0, inplace=True)\n",
    "data_yearly\n"
   ]
  },
  {
   "cell_type": "code",
   "execution_count": 71,
   "metadata": {},
   "outputs": [
    {
     "data": {
      "image/png": "[encoded data removed]",
      "text/plain": [
       "<Figure size 1000x600 with 1 Axes>"
      ]
     },
     "metadata": {},
     "output_type": "display_data"
    }
   ],
   "source": [
    "\n",
    "fueltypes = [\"Year\", \"Euro95\", \"Diesel\", \"LPG\", \"Average\"]\n",
    "\n",
    "plt.figure(figsize=(10, 6)) \n",
    "\n",
    "sns.lineplot(x='Year', y='Average', data=data_yearly, label='Average')\n",
    "sns.lineplot(x='Year', y='Euro95', data=data_yearly, label='Euro95')\n",
    "sns.lineplot(x='Year', y='Diesel', data=data_yearly, label='Diesel')\n",
    "sns.lineplot(x='Year', y='LPG', data=data_yearly, label='LPG')\n",
    "\n",
    "plt.title('Yearly Average Fuel Prices')\n",
    "plt.xlabel('Year')\n",
    "plt.ylabel('Average Price')\n",
    "\n",
    "plt.xticks(rotation=45)\n",
    "\n",
    "plt.legend() \n",
    "\n",
    "plt.show()\n"
   ]
  },
  {
   "cell_type": "code",
   "execution_count": 13,
   "metadata": {
    "tags": []
   },
   "outputs": [],
   "source": [
    "mobility_trips = read_csv('mobility_perday.csv', index_col = 1, skiprows = 6, delimiter = ';', usecols = [0,1,2,3,4,5,6])\n",
    "mobility_trips = mobility_trips.dropna()\n",
    "mobility_trips = mobility_trips.drop('Travel modes')\n",
    "mobility_trips = mobility_trips.rename({'Unnamed: 0':'motive'}, axis=1)\n",
    "display(mobility_trips.head())\n",
    "\n"
   ]
  },
  {
   "cell_type": "code",
   "execution_count": null,
   "metadata": {},
   "outputs": [],
   "source": [
    "#The average amount of trips per day for every vehicle combined in 2022\n",
    "year = '2022'\n",
    "\n",
    "mobility_trips_total = mobility_trips[mobility_trips.index==\"Total\"]\n",
    "mobility_trips_motive = mobility_trips_total.set_index(['motive']).sort_values(year)\n",
    "fig = px.bar(mobility_trips_motive.sort_values(year), x=year, y=mobility_trips_motive.sort_values(year).index, \n",
    "             orientation='h', color = mobility_trips_motive.sort_values(year).index, )\n",
    "fig.update_layout(title={\n",
    "    'text': f'Average amount of trips per day for every vehicle combined in {year}',\n",
    "    'x': 0.5\n",
    "}, xaxis_range=[0, 5])\n",
    "fig.show()"
   ]
  },
  {
   "cell_type": "code",
   "execution_count": null,
   "metadata": {},
   "outputs": [],
   "source": [
    "years = ['2018', '2019', '2020', '2021', '2022']\n",
    "mobility_trips_years = mobility_trips_motive[years]\n",
    "\n",
    "\n",
    "# Melt the data to create a 'year' column\n",
    "mobility_trips_years = mobility_trips_years.reset_index().melt(id_vars=['motive'], var_name='year', value_name='trips')\n",
    "\n",
    "fig = px.bar(mobility_trips_years, x='trips', y='motive', color='motive', facet_col='year', orientation='h', hover_name='trips')\n",
    "\n",
    "fig.update_layout(title={\n",
    "    'text': 'Average amount of trips for every vehicle combined per day from 2018 to 2022',\n",
    "    'x': 0.5\n",
    "})\n",
    "fig.update_yaxes(title_text=\"Travel motives\")\n",
    "fig.show()"
   ]
  },
  {
   "cell_type": "code",
   "execution_count": 29,
   "metadata": {
    "tags": []
   },
   "outputs": [
    {
     "data": {
      "text/html": [
       "<div>\n",
       "<style scoped>\n",
       "    .dataframe tbody tr th:only-of-type {\n",
       "        vertical-align: middle;\n",
       "    }\n",
       "\n",
       "    .dataframe tbody tr th {\n",
       "        vertical-align: top;\n",
       "    }\n",
       "\n",
       "    .dataframe thead th {\n",
       "        text-align: right;\n",
       "    }\n",
       "</style>\n",
       "<table border=\"1\" class=\"dataframe\">\n",
       "  <thead>\n",
       "    <tr style=\"text-align: right;\">\n",
       "      <th></th>\n",
       "      <th>motive</th>\n",
       "      <th>2018</th>\n",
       "      <th>2019</th>\n",
       "      <th>2020</th>\n",
       "      <th>2021</th>\n",
       "      <th>2022</th>\n",
       "    </tr>\n",
       "    <tr>\n",
       "      <th>Periods</th>\n",
       "      <th></th>\n",
       "      <th></th>\n",
       "      <th></th>\n",
       "      <th></th>\n",
       "      <th></th>\n",
       "      <th></th>\n",
       "    </tr>\n",
       "  </thead>\n",
       "  <tbody>\n",
       "    <tr>\n",
       "      <th>Total</th>\n",
       "      <td>Total</td>\n",
       "      <td>36.16</td>\n",
       "      <td>36.00</td>\n",
       "      <td>24.88</td>\n",
       "      <td>27.24</td>\n",
       "      <td>30.21</td>\n",
       "    </tr>\n",
       "    <tr>\n",
       "      <th>Passenger car (driver)</th>\n",
       "      <td>Total</td>\n",
       "      <td>18.16</td>\n",
       "      <td>18.02</td>\n",
       "      <td>13.14</td>\n",
       "      <td>14.05</td>\n",
       "      <td>15.13</td>\n",
       "    </tr>\n",
       "    <tr>\n",
       "      <th>Train</th>\n",
       "      <td>Total</td>\n",
       "      <td>3.88</td>\n",
       "      <td>4.08</td>\n",
       "      <td>1.60</td>\n",
       "      <td>1.67</td>\n",
       "      <td>2.62</td>\n",
       "    </tr>\n",
       "    <tr>\n",
       "      <th>Bike</th>\n",
       "      <td>Total</td>\n",
       "      <td>3.16</td>\n",
       "      <td>3.01</td>\n",
       "      <td>2.61</td>\n",
       "      <td>2.68</td>\n",
       "      <td>3.04</td>\n",
       "    </tr>\n",
       "    <tr>\n",
       "      <th>Walking</th>\n",
       "      <td>Total</td>\n",
       "      <td>0.90</td>\n",
       "      <td>0.88</td>\n",
       "      <td>1.12</td>\n",
       "      <td>1.38</td>\n",
       "      <td>1.21</td>\n",
       "    </tr>\n",
       "    <tr>\n",
       "      <th>Total</th>\n",
       "      <td>Travel to/from work, (non)-daily commute</td>\n",
       "      <td>10.55</td>\n",
       "      <td>9.72</td>\n",
       "      <td>6.16</td>\n",
       "      <td>6.13</td>\n",
       "      <td>7.40</td>\n",
       "    </tr>\n",
       "    <tr>\n",
       "      <th>Passenger car (driver)</th>\n",
       "      <td>Travel to/from work, (non)-daily commute</td>\n",
       "      <td>6.79</td>\n",
       "      <td>6.20</td>\n",
       "      <td>4.37</td>\n",
       "      <td>4.33</td>\n",
       "      <td>4.90</td>\n",
       "    </tr>\n",
       "    <tr>\n",
       "      <th>Train</th>\n",
       "      <td>Travel to/from work, (non)-daily commute</td>\n",
       "      <td>1.33</td>\n",
       "      <td>1.35</td>\n",
       "      <td>0.50</td>\n",
       "      <td>0.36</td>\n",
       "      <td>0.71</td>\n",
       "    </tr>\n",
       "    <tr>\n",
       "      <th>Bike</th>\n",
       "      <td>Travel to/from work, (non)-daily commute</td>\n",
       "      <td>0.68</td>\n",
       "      <td>0.65</td>\n",
       "      <td>0.44</td>\n",
       "      <td>0.45</td>\n",
       "      <td>0.55</td>\n",
       "    </tr>\n",
       "    <tr>\n",
       "      <th>Walking</th>\n",
       "      <td>Travel to/from work, (non)-daily commute</td>\n",
       "      <td>0.06</td>\n",
       "      <td>0.06</td>\n",
       "      <td>0.03</td>\n",
       "      <td>0.03</td>\n",
       "      <td>0.04</td>\n",
       "    </tr>\n",
       "    <tr>\n",
       "      <th>Total</th>\n",
       "      <td>Professionally</td>\n",
       "      <td>2.20</td>\n",
       "      <td>3.27</td>\n",
       "      <td>1.85</td>\n",
       "      <td>1.93</td>\n",
       "      <td>2.08</td>\n",
       "    </tr>\n",
       "    <tr>\n",
       "      <th>Passenger car (driver)</th>\n",
       "      <td>Professionally</td>\n",
       "      <td>1.40</td>\n",
       "      <td>2.15</td>\n",
       "      <td>1.17</td>\n",
       "      <td>1.18</td>\n",
       "      <td>1.28</td>\n",
       "    </tr>\n",
       "    <tr>\n",
       "      <th>Train</th>\n",
       "      <td>Professionally</td>\n",
       "      <td>0.20</td>\n",
       "      <td>0.21</td>\n",
       "      <td>0.09</td>\n",
       "      <td>0.07</td>\n",
       "      <td>0.14</td>\n",
       "    </tr>\n",
       "    <tr>\n",
       "      <th>Bike</th>\n",
       "      <td>Professionally</td>\n",
       "      <td>0.04</td>\n",
       "      <td>0.05</td>\n",
       "      <td>0.03</td>\n",
       "      <td>0.04</td>\n",
       "      <td>0.05</td>\n",
       "    </tr>\n",
       "    <tr>\n",
       "      <th>Walking</th>\n",
       "      <td>Professionally</td>\n",
       "      <td>0.01</td>\n",
       "      <td>0.01</td>\n",
       "      <td>0.00</td>\n",
       "      <td>0.01</td>\n",
       "      <td>0.01</td>\n",
       "    </tr>\n",
       "    <tr>\n",
       "      <th>Total</th>\n",
       "      <td>Services/care</td>\n",
       "      <td>0.83</td>\n",
       "      <td>0.73</td>\n",
       "      <td>0.61</td>\n",
       "      <td>0.74</td>\n",
       "      <td>0.72</td>\n",
       "    </tr>\n",
       "    <tr>\n",
       "      <th>Passenger car (driver)</th>\n",
       "      <td>Services/care</td>\n",
       "      <td>0.41</td>\n",
       "      <td>0.38</td>\n",
       "      <td>0.36</td>\n",
       "      <td>0.42</td>\n",
       "      <td>0.42</td>\n",
       "    </tr>\n",
       "    <tr>\n",
       "      <th>Train</th>\n",
       "      <td>Services/care</td>\n",
       "      <td>0.07</td>\n",
       "      <td>.</td>\n",
       "      <td>.</td>\n",
       "      <td>.</td>\n",
       "      <td>.</td>\n",
       "    </tr>\n",
       "    <tr>\n",
       "      <th>Bike</th>\n",
       "      <td>Services/care</td>\n",
       "      <td>0.06</td>\n",
       "      <td>0.06</td>\n",
       "      <td>0.05</td>\n",
       "      <td>0.07</td>\n",
       "      <td>0.07</td>\n",
       "    </tr>\n",
       "    <tr>\n",
       "      <th>Walking</th>\n",
       "      <td>Services/care</td>\n",
       "      <td>0.01</td>\n",
       "      <td>0.01</td>\n",
       "      <td>0.01</td>\n",
       "      <td>0.01</td>\n",
       "      <td>0.01</td>\n",
       "    </tr>\n",
       "    <tr>\n",
       "      <th>Total</th>\n",
       "      <td>Shopping, groceries, funshopping.</td>\n",
       "      <td>3.13</td>\n",
       "      <td>3.13</td>\n",
       "      <td>2.48</td>\n",
       "      <td>2.59</td>\n",
       "      <td>2.85</td>\n",
       "    </tr>\n",
       "    <tr>\n",
       "      <th>Passenger car (driver)</th>\n",
       "      <td>Shopping, groceries, funshopping.</td>\n",
       "      <td>1.52</td>\n",
       "      <td>1.52</td>\n",
       "      <td>1.37</td>\n",
       "      <td>1.41</td>\n",
       "      <td>1.45</td>\n",
       "    </tr>\n",
       "    <tr>\n",
       "      <th>Train</th>\n",
       "      <td>Shopping, groceries, funshopping.</td>\n",
       "      <td>0.23</td>\n",
       "      <td>0.22</td>\n",
       "      <td>0.08</td>\n",
       "      <td>0.09</td>\n",
       "      <td>0.15</td>\n",
       "    </tr>\n",
       "    <tr>\n",
       "      <th>Bike</th>\n",
       "      <td>Shopping, groceries, funshopping.</td>\n",
       "      <td>0.35</td>\n",
       "      <td>0.33</td>\n",
       "      <td>0.31</td>\n",
       "      <td>0.30</td>\n",
       "      <td>0.36</td>\n",
       "    </tr>\n",
       "    <tr>\n",
       "      <th>Walking</th>\n",
       "      <td>Shopping, groceries, funshopping.</td>\n",
       "      <td>0.10</td>\n",
       "      <td>0.09</td>\n",
       "      <td>0.10</td>\n",
       "      <td>0.12</td>\n",
       "      <td>0.12</td>\n",
       "    </tr>\n",
       "    <tr>\n",
       "      <th>Total</th>\n",
       "      <td>Attending education/courses</td>\n",
       "      <td>2.08</td>\n",
       "      <td>2.05</td>\n",
       "      <td>1.02</td>\n",
       "      <td>1.17</td>\n",
       "      <td>1.62</td>\n",
       "    </tr>\n",
       "    <tr>\n",
       "      <th>Passenger car (driver)</th>\n",
       "      <td>Attending education/courses</td>\n",
       "      <td>0.39</td>\n",
       "      <td>0.37</td>\n",
       "      <td>0.21</td>\n",
       "      <td>0.23</td>\n",
       "      <td>0.34</td>\n",
       "    </tr>\n",
       "    <tr>\n",
       "      <th>Train</th>\n",
       "      <td>Attending education/courses</td>\n",
       "      <td>0.63</td>\n",
       "      <td>0.66</td>\n",
       "      <td>0.22</td>\n",
       "      <td>0.28</td>\n",
       "      <td>0.41</td>\n",
       "    </tr>\n",
       "    <tr>\n",
       "      <th>Bike</th>\n",
       "      <td>Attending education/courses</td>\n",
       "      <td>0.43</td>\n",
       "      <td>0.42</td>\n",
       "      <td>0.26</td>\n",
       "      <td>0.26</td>\n",
       "      <td>0.35</td>\n",
       "    </tr>\n",
       "    <tr>\n",
       "      <th>Walking</th>\n",
       "      <td>Attending education/courses</td>\n",
       "      <td>0.04</td>\n",
       "      <td>0.04</td>\n",
       "      <td>0.02</td>\n",
       "      <td>0.03</td>\n",
       "      <td>0.03</td>\n",
       "    </tr>\n",
       "  </tbody>\n",
       "</table>\n",
       "</div>"
      ],
      "text/plain": [
       "                                                          motive   2018  \\\n",
       "Periods                                                                   \n",
       "Total                                                      Total  36.16   \n",
       "Passenger car (driver)                                     Total  18.16   \n",
       "Train                                                      Total   3.88   \n",
       "Bike                                                       Total   3.16   \n",
       "Walking                                                    Total   0.90   \n",
       "Total                   Travel to/from work, (non)-daily commute  10.55   \n",
       "Passenger car (driver)  Travel to/from work, (non)-daily commute   6.79   \n",
       "Train                   Travel to/from work, (non)-daily commute   1.33   \n",
       "Bike                    Travel to/from work, (non)-daily commute   0.68   \n",
       "Walking                 Travel to/from work, (non)-daily commute   0.06   \n",
       "Total                                             Professionally   2.20   \n",
       "Passenger car (driver)                            Professionally   1.40   \n",
       "Train                                             Professionally   0.20   \n",
       "Bike                                              Professionally   0.04   \n",
       "Walking                                           Professionally   0.01   \n",
       "Total                                              Services/care   0.83   \n",
       "Passenger car (driver)                             Services/care   0.41   \n",
       "Train                                              Services/care   0.07   \n",
       "Bike                                               Services/care   0.06   \n",
       "Walking                                            Services/care   0.01   \n",
       "Total                          Shopping, groceries, funshopping.   3.13   \n",
       "Passenger car (driver)         Shopping, groceries, funshopping.   1.52   \n",
       "Train                          Shopping, groceries, funshopping.   0.23   \n",
       "Bike                           Shopping, groceries, funshopping.   0.35   \n",
       "Walking                        Shopping, groceries, funshopping.   0.10   \n",
       "Total                                Attending education/courses   2.08   \n",
       "Passenger car (driver)               Attending education/courses   0.39   \n",
       "Train                                Attending education/courses   0.63   \n",
       "Bike                                 Attending education/courses   0.43   \n",
       "Walking                              Attending education/courses   0.04   \n",
       "\n",
       "                         2019   2020   2021   2022  \n",
       "Periods                                             \n",
       "Total                   36.00  24.88  27.24  30.21  \n",
       "Passenger car (driver)  18.02  13.14  14.05  15.13  \n",
       "Train                    4.08   1.60   1.67   2.62  \n",
       "Bike                     3.01   2.61   2.68   3.04  \n",
       "Walking                  0.88   1.12   1.38   1.21  \n",
       "Total                    9.72   6.16   6.13   7.40  \n",
       "Passenger car (driver)   6.20   4.37   4.33   4.90  \n",
       "Train                    1.35   0.50   0.36   0.71  \n",
       "Bike                     0.65   0.44   0.45   0.55  \n",
       "Walking                  0.06   0.03   0.03   0.04  \n",
       "Total                    3.27   1.85   1.93   2.08  \n",
       "Passenger car (driver)   2.15   1.17   1.18   1.28  \n",
       "Train                    0.21   0.09   0.07   0.14  \n",
       "Bike                     0.05   0.03   0.04   0.05  \n",
       "Walking                  0.01   0.00   0.01   0.01  \n",
       "Total                    0.73   0.61   0.74   0.72  \n",
       "Passenger car (driver)   0.38   0.36   0.42   0.42  \n",
       "Train                       .      .      .      .  \n",
       "Bike                     0.06   0.05   0.07   0.07  \n",
       "Walking                  0.01   0.01   0.01   0.01  \n",
       "Total                    3.13   2.48   2.59   2.85  \n",
       "Passenger car (driver)   1.52   1.37   1.41   1.45  \n",
       "Train                    0.22   0.08   0.09   0.15  \n",
       "Bike                     0.33   0.31   0.30   0.36  \n",
       "Walking                  0.09   0.10   0.12   0.12  \n",
       "Total                    2.05   1.02   1.17   1.62  \n",
       "Passenger car (driver)   0.37   0.21   0.23   0.34  \n",
       "Train                    0.66   0.22   0.28   0.41  \n",
       "Bike                     0.42   0.26   0.26   0.35  \n",
       "Walking                  0.04   0.02   0.03   0.03  "
      ]
     },
     "metadata": {},
     "output_type": "display_data"
    }
   ],
   "source": [
    "mobility_dist = read_csv('mobility_perday.csv', index_col = 1, skiprows = 6, delimiter = ';', usecols = [0,1,7,8,9,10,11])\n",
    "mobility_dist = mobility_dist.dropna()\n",
    "mobility_dist = mobility_dist.drop('Travel modes')\n",
    "mobility_dist = mobility_dist.rename({'Unnamed: 0':'motive', '2018.1':'2018',  '2019.1':'2019', '2020.1':'2020', '2021.1':'2021', '2022.1':'2022'}, axis=1)\n",
    "display(mobility_dist)"
   ]
  },
  {
   "cell_type": "code",
   "execution_count": 52,
   "metadata": {
    "tags": []
   },
   "outputs": [],
   "source": [
    "# # Melt the dataframe to create a suitable format for Plotly Express\n",
    "# melted_df = mobility_dist.melt(id_vars=['motive'], var_name='Year', value_name='Count')\n",
    "\n",
    "# # Filter for the 'work' motive and the years 2018 to 2022\n",
    "# work_df = melted_df[(melted_df['motive'] == 'Travel to/from work, (non)-daily commute') & (melted_df['Year'].isin(['2018', '2019', '2020', '2021', '2022']))]\n",
    "\n",
    "# # Create a bar chart using Plotly Express\n",
    "# fig = px.bar(work_df, x='Year', y='Count', color='motive', title='Travel Methods for Work Motive (2018-2022)')\n",
    "# fig.show()"
   ]
  },
  {
   "cell_type": "code",
   "execution_count": 63,
   "metadata": {
    "tags": []
   },
   "outputs": [
    {
     "name": "stderr",
     "output_type": "stream",
     "text": [
      "C:\\Users\\irene\\AppData\\Local\\Temp\\ipykernel_15536\\1301853829.py:1: FutureWarning:\n",
      "\n",
      "The argument 'infer_datetime_format' is deprecated and will be removed in a future version. A strict version of it is now the default, see https://pandas.pydata.org/pdeps/0004-consistent-to-datetime-parsing.html. You can safely remove this argument.\n",
      "\n",
      "C:\\Users\\irene\\AppData\\Local\\Temp\\ipykernel_15536\\1301853829.py:1: ParserWarning:\n",
      "\n",
      "Falling back to the 'python' engine because the 'c' engine does not support regex separators (separators > 1 char and different from '\\s+' are interpreted as regex); you can avoid this warning by specifying engine='python'.\n",
      "\n"
     ]
    },
    {
     "data": {
      "text/html": [
       "<div>\n",
       "<style scoped>\n",
       "    .dataframe tbody tr th:only-of-type {\n",
       "        vertical-align: middle;\n",
       "    }\n",
       "\n",
       "    .dataframe tbody tr th {\n",
       "        vertical-align: top;\n",
       "    }\n",
       "\n",
       "    .dataframe thead th {\n",
       "        text-align: right;\n",
       "    }\n",
       "</style>\n",
       "<table border=\"1\" class=\"dataframe\">\n",
       "  <thead>\n",
       "    <tr style=\"text-align: right;\">\n",
       "      <th></th>\n",
       "      <th>Months</th>\n",
       "      <th>2019</th>\n",
       "      <th>2020</th>\n",
       "      <th>2021</th>\n",
       "      <th>2022</th>\n",
       "    </tr>\n",
       "  </thead>\n",
       "  <tbody>\n",
       "    <tr>\n",
       "      <th>0</th>\n",
       "      <td>jan</td>\n",
       "      <td>4.8</td>\n",
       "      <td>4.6</td>\n",
       "      <td>2.6</td>\n",
       "      <td>3.2</td>\n",
       "    </tr>\n",
       "    <tr>\n",
       "      <th>1</th>\n",
       "      <td>feb</td>\n",
       "      <td>4.5</td>\n",
       "      <td>4.3</td>\n",
       "      <td>2.3</td>\n",
       "      <td>3.4</td>\n",
       "    </tr>\n",
       "    <tr>\n",
       "      <th>2</th>\n",
       "      <td>mrt</td>\n",
       "      <td>4.6</td>\n",
       "      <td>3.7</td>\n",
       "      <td>3.2</td>\n",
       "      <td>4.5</td>\n",
       "    </tr>\n",
       "    <tr>\n",
       "      <th>3</th>\n",
       "      <td>apr</td>\n",
       "      <td>4.9</td>\n",
       "      <td>1.9</td>\n",
       "      <td>3.0</td>\n",
       "      <td>3.4</td>\n",
       "    </tr>\n",
       "    <tr>\n",
       "      <th>4</th>\n",
       "      <td>mei</td>\n",
       "      <td>5.1</td>\n",
       "      <td>2.3</td>\n",
       "      <td>2.8</td>\n",
       "      <td>3.8</td>\n",
       "    </tr>\n",
       "    <tr>\n",
       "      <th>5</th>\n",
       "      <td>jun</td>\n",
       "      <td>4.3</td>\n",
       "      <td>3.0</td>\n",
       "      <td>3.2</td>\n",
       "      <td>3.8</td>\n",
       "    </tr>\n",
       "    <tr>\n",
       "      <th>6</th>\n",
       "      <td>jul</td>\n",
       "      <td>4.9</td>\n",
       "      <td>3.0</td>\n",
       "      <td>3.3</td>\n",
       "      <td>3.3</td>\n",
       "    </tr>\n",
       "    <tr>\n",
       "      <th>7</th>\n",
       "      <td>aug</td>\n",
       "      <td>4.1</td>\n",
       "      <td>2.6</td>\n",
       "      <td>2.6</td>\n",
       "      <td>3.2</td>\n",
       "    </tr>\n",
       "    <tr>\n",
       "      <th>8</th>\n",
       "      <td>sep</td>\n",
       "      <td>4.7</td>\n",
       "      <td>3.2</td>\n",
       "      <td>3.5</td>\n",
       "      <td>3.9</td>\n",
       "    </tr>\n",
       "    <tr>\n",
       "      <th>9</th>\n",
       "      <td>okt</td>\n",
       "      <td>5.4</td>\n",
       "      <td>3.0</td>\n",
       "      <td>3.4</td>\n",
       "      <td>3.9</td>\n",
       "    </tr>\n",
       "    <tr>\n",
       "      <th>10</th>\n",
       "      <td>nov</td>\n",
       "      <td>5.2</td>\n",
       "      <td>2.6</td>\n",
       "      <td>3.5</td>\n",
       "      <td>4.1</td>\n",
       "    </tr>\n",
       "    <tr>\n",
       "      <th>11</th>\n",
       "      <td>dec</td>\n",
       "      <td>4.5</td>\n",
       "      <td>2.2</td>\n",
       "      <td>2.9</td>\n",
       "      <td>3.8</td>\n",
       "    </tr>\n",
       "  </tbody>\n",
       "</table>\n",
       "</div>"
      ],
      "text/plain": [
       "   Months  2019  2020  2021 2022\n",
       "0     jan   4.8   4.6   2.6  3.2\n",
       "1     feb   4.5   4.3   2.3  3.4\n",
       "2     mrt   4.6   3.7   3.2  4.5\n",
       "3     apr   4.9   1.9   3.0  3.4\n",
       "4     mei   5.1   2.3   2.8  3.8\n",
       "5     jun   4.3   3.0   3.2  3.8\n",
       "6     jul   4.9   3.0   3.3  3.3\n",
       "7     aug   4.1   2.6   2.6  3.2\n",
       "8     sep   4.7   3.2   3.5  3.9\n",
       "9     okt   5.4   3.0   3.4  3.9\n",
       "10    nov   5.2   2.6   3.5  4.1\n",
       "11    dec   4.5   2.2   2.9  3.8"
      ]
     },
     "metadata": {},
     "output_type": "display_data"
    },
    {
     "data": {
      "application/vnd.plotly.v1+json": {
       "config": {
        "plotlyServerURL": "https://plot.ly"
       },
       "data": [
        {
         "hovertemplate": "Year=2019<br>Months=%{x}<br>Distance=%{y}<extra></extra>",
         "legendgroup": "2019",
         "line": {
          "color": "#636efa",
          "dash": "solid"
         },
         "marker": {
          "symbol": "circle"
         },
         "mode": "lines",
         "name": "2019",
         "orientation": "v",
         "showlegend": true,
         "type": "scatter",
         "x": [
          "jan",
          "feb",
          "mrt",
          "apr",
          "mei",
          "jun",
          "jul",
          "aug",
          "sep",
          "okt",
          "nov",
          "dec"
         ],
         "xaxis": "x",
         "y": [
          4.8,
          4.5,
          4.6,
          4.9,
          5.1,
          4.3,
          4.9,
          4.1,
          4.7,
          5.4,
          5.2,
          4.5
         ],
         "yaxis": "y"
        },
        {
         "hovertemplate": "Year=2020<br>Months=%{x}<br>Distance=%{y}<extra></extra>",
         "legendgroup": "2020",
         "line": {
          "color": "#EF553B",
          "dash": "solid"
         },
         "marker": {
          "symbol": "circle"
         },
         "mode": "lines",
         "name": "2020",
         "orientation": "v",
         "showlegend": true,
         "type": "scatter",
         "x": [
          "jan",
          "feb",
          "mrt",
          "apr",
          "mei",
          "jun",
          "jul",
          "aug",
          "sep",
          "okt",
          "nov",
          "dec"
         ],
         "xaxis": "x",
         "y": [
          4.6,
          4.3,
          3.7,
          1.9,
          2.3,
          3,
          3,
          2.6,
          3.2,
          3,
          2.6,
          2.2
         ],
         "yaxis": "y"
        },
        {
         "hovertemplate": "Year=2021<br>Months=%{x}<br>Distance=%{y}<extra></extra>",
         "legendgroup": "2021",
         "line": {
          "color": "#00cc96",
          "dash": "solid"
         },
         "marker": {
          "symbol": "circle"
         },
         "mode": "lines",
         "name": "2021",
         "orientation": "v",
         "showlegend": true,
         "type": "scatter",
         "x": [
          "jan",
          "feb",
          "mrt",
          "apr",
          "mei",
          "jun",
          "jul",
          "aug",
          "sep",
          "okt",
          "nov",
          "dec"
         ],
         "xaxis": "x",
         "y": [
          2.6,
          2.3,
          3.2,
          3,
          2.8,
          3.2,
          3.3,
          2.6,
          3.5,
          3.4,
          3.5,
          2.9
         ],
         "yaxis": "y"
        },
        {
         "hovertemplate": "Year=2022<br>Months=%{x}<br>Distance=%{y}<extra></extra>",
         "legendgroup": "2022",
         "line": {
          "color": "#ab63fa",
          "dash": "solid"
         },
         "marker": {
          "symbol": "circle"
         },
         "mode": "lines",
         "name": "2022",
         "orientation": "v",
         "showlegend": true,
         "type": "scatter",
         "x": [
          "jan",
          "feb",
          "mrt",
          "apr",
          "mei",
          "jun",
          "jul",
          "aug",
          "sep",
          "okt",
          "nov",
          "dec"
         ],
         "xaxis": "x",
         "y": [
          "3.2",
          "3.4",
          "4.5",
          "3.4",
          "3.8",
          "3.8",
          "3.3",
          "3.2",
          "3.9",
          "3.9",
          "4.1",
          "3.8"
         ],
         "yaxis": "y"
        }
       ],
       "layout": {
        "autosize": true,
        "legend": {
         "title": {
          "text": "Year"
         },
         "tracegroupgap": 0
        },
        "template": {
         "data": {
          "bar": [
           {
            "error_x": {
             "color": "#2a3f5f"
            },
            "error_y": {
             "color": "#2a3f5f"
            },
            "marker": {
             "line": {
              "color": "#E5ECF6",
              "width": 0.5
             },
             "pattern": {
              "fillmode": "overlay",
              "size": 10,
              "solidity": 0.2
             }
            },
            "type": "bar"
           }
          ],
          "barpolar": [
           {
            "marker": {
             "line": {
              "color": "#E5ECF6",
              "width": 0.5
             },
             "pattern": {
              "fillmode": "overlay",
              "size": 10,
              "solidity": 0.2
             }
            },
            "type": "barpolar"
           }
          ],
          "carpet": [
           {
            "aaxis": {
             "endlinecolor": "#2a3f5f",
             "gridcolor": "white",
             "linecolor": "white",
             "minorgridcolor": "white",
             "startlinecolor": "#2a3f5f"
            },
            "baxis": {
             "endlinecolor": "#2a3f5f",
             "gridcolor": "white",
             "linecolor": "white",
             "minorgridcolor": "white",
             "startlinecolor": "#2a3f5f"
            },
            "type": "carpet"
           }
          ],
          "choropleth": [
           {
            "colorbar": {
             "outlinewidth": 0,
             "ticks": ""
            },
            "type": "choropleth"
           }
          ],
          "contour": [
           {
            "colorbar": {
             "outlinewidth": 0,
             "ticks": ""
            },
            "colorscale": [
             [
              0,
              "#0d0887"
             ],
             [
              0.1111111111111111,
              "#46039f"
             ],
             [
              0.2222222222222222,
              "#7201a8"
             ],
             [
              0.3333333333333333,
              "#9c179e"
             ],
             [
              0.4444444444444444,
              "#bd3786"
             ],
             [
              0.5555555555555556,
              "#d8576b"
             ],
             [
              0.6666666666666666,
              "#ed7953"
             ],
             [
              0.7777777777777778,
              "#fb9f3a"
             ],
             [
              0.8888888888888888,
              "#fdca26"
             ],
             [
              1,
              "#f0f921"
             ]
            ],
            "type": "contour"
           }
          ],
          "contourcarpet": [
           {
            "colorbar": {
             "outlinewidth": 0,
             "ticks": ""
            },
            "type": "contourcarpet"
           }
          ],
          "heatmap": [
           {
            "colorbar": {
             "outlinewidth": 0,
             "ticks": ""
            },
            "colorscale": [
             [
              0,
              "#0d0887"
             ],
             [
              0.1111111111111111,
              "#46039f"
             ],
             [
              0.2222222222222222,
              "#7201a8"
             ],
             [
              0.3333333333333333,
              "#9c179e"
             ],
             [
              0.4444444444444444,
              "#bd3786"
             ],
             [
              0.5555555555555556,
              "#d8576b"
             ],
             [
              0.6666666666666666,
              "#ed7953"
             ],
             [
              0.7777777777777778,
              "#fb9f3a"
             ],
             [
              0.8888888888888888,
              "#fdca26"
             ],
             [
              1,
              "#f0f921"
             ]
            ],
            "type": "heatmap"
           }
          ],
          "heatmapgl": [
           {
            "colorbar": {
             "outlinewidth": 0,
             "ticks": ""
            },
            "colorscale": [
             [
              0,
              "#0d0887"
             ],
             [
              0.1111111111111111,
              "#46039f"
             ],
             [
              0.2222222222222222,
              "#7201a8"
             ],
             [
              0.3333333333333333,
              "#9c179e"
             ],
             [
              0.4444444444444444,
              "#bd3786"
             ],
             [
              0.5555555555555556,
              "#d8576b"
             ],
             [
              0.6666666666666666,
              "#ed7953"
             ],
             [
              0.7777777777777778,
              "#fb9f3a"
             ],
             [
              0.8888888888888888,
              "#fdca26"
             ],
             [
              1,
              "#f0f921"
             ]
            ],
            "type": "heatmapgl"
           }
          ],
          "histogram": [
           {
            "marker": {
             "pattern": {
              "fillmode": "overlay",
              "size": 10,
              "solidity": 0.2
             }
            },
            "type": "histogram"
           }
          ],
          "histogram2d": [
           {
            "colorbar": {
             "outlinewidth": 0,
             "ticks": ""
            },
            "colorscale": [
             [
              0,
              "#0d0887"
             ],
             [
              0.1111111111111111,
              "#46039f"
             ],
             [
              0.2222222222222222,
              "#7201a8"
             ],
             [
              0.3333333333333333,
              "#9c179e"
             ],
             [
              0.4444444444444444,
              "#bd3786"
             ],
             [
              0.5555555555555556,
              "#d8576b"
             ],
             [
              0.6666666666666666,
              "#ed7953"
             ],
             [
              0.7777777777777778,
              "#fb9f3a"
             ],
             [
              0.8888888888888888,
              "#fdca26"
             ],
             [
              1,
              "#f0f921"
             ]
            ],
            "type": "histogram2d"
           }
          ],
          "histogram2dcontour": [
           {
            "colorbar": {
             "outlinewidth": 0,
             "ticks": ""
            },
            "colorscale": [
             [
              0,
              "#0d0887"
             ],
             [
              0.1111111111111111,
              "#46039f"
             ],
             [
              0.2222222222222222,
              "#7201a8"
             ],
             [
              0.3333333333333333,
              "#9c179e"
             ],
             [
              0.4444444444444444,
              "#bd3786"
             ],
             [
              0.5555555555555556,
              "#d8576b"
             ],
             [
              0.6666666666666666,
              "#ed7953"
             ],
             [
              0.7777777777777778,
              "#fb9f3a"
             ],
             [
              0.8888888888888888,
              "#fdca26"
             ],
             [
              1,
              "#f0f921"
             ]
            ],
            "type": "histogram2dcontour"
           }
          ],
          "mesh3d": [
           {
            "colorbar": {
             "outlinewidth": 0,
             "ticks": ""
            },
            "type": "mesh3d"
           }
          ],
          "parcoords": [
           {
            "line": {
             "colorbar": {
              "outlinewidth": 0,
              "ticks": ""
             }
            },
            "type": "parcoords"
           }
          ],
          "pie": [
           {
            "automargin": true,
            "type": "pie"
           }
          ],
          "scatter": [
           {
            "fillpattern": {
             "fillmode": "overlay",
             "size": 10,
             "solidity": 0.2
            },
            "type": "scatter"
           }
          ],
          "scatter3d": [
           {
            "line": {
             "colorbar": {
              "outlinewidth": 0,
              "ticks": ""
             }
            },
            "marker": {
             "colorbar": {
              "outlinewidth": 0,
              "ticks": ""
             }
            },
            "type": "scatter3d"
           }
          ],
          "scattercarpet": [
           {
            "marker": {
             "colorbar": {
              "outlinewidth": 0,
              "ticks": ""
             }
            },
            "type": "scattercarpet"
           }
          ],
          "scattergeo": [
           {
            "marker": {
             "colorbar": {
              "outlinewidth": 0,
              "ticks": ""
             }
            },
            "type": "scattergeo"
           }
          ],
          "scattergl": [
           {
            "marker": {
             "colorbar": {
              "outlinewidth": 0,
              "ticks": ""
             }
            },
            "type": "scattergl"
           }
          ],
          "scattermapbox": [
           {
            "marker": {
             "colorbar": {
              "outlinewidth": 0,
              "ticks": ""
             }
            },
            "type": "scattermapbox"
           }
          ],
          "scatterpolar": [
           {
            "marker": {
             "colorbar": {
              "outlinewidth": 0,
              "ticks": ""
             }
            },
            "type": "scatterpolar"
           }
          ],
          "scatterpolargl": [
           {
            "marker": {
             "colorbar": {
              "outlinewidth": 0,
              "ticks": ""
             }
            },
            "type": "scatterpolargl"
           }
          ],
          "scatterternary": [
           {
            "marker": {
             "colorbar": {
              "outlinewidth": 0,
              "ticks": ""
             }
            },
            "type": "scatterternary"
           }
          ],
          "surface": [
           {
            "colorbar": {
             "outlinewidth": 0,
             "ticks": ""
            },
            "colorscale": [
             [
              0,
              "#0d0887"
             ],
             [
              0.1111111111111111,
              "#46039f"
             ],
             [
              0.2222222222222222,
              "#7201a8"
             ],
             [
              0.3333333333333333,
              "#9c179e"
             ],
             [
              0.4444444444444444,
              "#bd3786"
             ],
             [
              0.5555555555555556,
              "#d8576b"
             ],
             [
              0.6666666666666666,
              "#ed7953"
             ],
             [
              0.7777777777777778,
              "#fb9f3a"
             ],
             [
              0.8888888888888888,
              "#fdca26"
             ],
             [
              1,
              "#f0f921"
             ]
            ],
            "type": "surface"
           }
          ],
          "table": [
           {
            "cells": {
             "fill": {
              "color": "#EBF0F8"
             },
             "line": {
              "color": "white"
             }
            },
            "header": {
             "fill": {
              "color": "#C8D4E3"
             },
             "line": {
              "color": "white"
             }
            },
            "type": "table"
           }
          ]
         },
         "layout": {
          "annotationdefaults": {
           "arrowcolor": "#2a3f5f",
           "arrowhead": 0,
           "arrowwidth": 1
          },
          "autotypenumbers": "strict",
          "coloraxis": {
           "colorbar": {
            "outlinewidth": 0,
            "ticks": ""
           }
          },
          "colorscale": {
           "diverging": [
            [
             0,
             "#8e0152"
            ],
            [
             0.1,
             "#c51b7d"
            ],
            [
             0.2,
             "#de77ae"
            ],
            [
             0.3,
             "#f1b6da"
            ],
            [
             0.4,
             "#fde0ef"
            ],
            [
             0.5,
             "#f7f7f7"
            ],
            [
             0.6,
             "#e6f5d0"
            ],
            [
             0.7,
             "#b8e186"
            ],
            [
             0.8,
             "#7fbc41"
            ],
            [
             0.9,
             "#4d9221"
            ],
            [
             1,
             "#276419"
            ]
           ],
           "sequential": [
            [
             0,
             "#0d0887"
            ],
            [
             0.1111111111111111,
             "#46039f"
            ],
            [
             0.2222222222222222,
             "#7201a8"
            ],
            [
             0.3333333333333333,
             "#9c179e"
            ],
            [
             0.4444444444444444,
             "#bd3786"
            ],
            [
             0.5555555555555556,
             "#d8576b"
            ],
            [
             0.6666666666666666,
             "#ed7953"
            ],
            [
             0.7777777777777778,
             "#fb9f3a"
            ],
            [
             0.8888888888888888,
             "#fdca26"
            ],
            [
             1,
             "#f0f921"
            ]
           ],
           "sequentialminus": [
            [
             0,
             "#0d0887"
            ],
            [
             0.1111111111111111,
             "#46039f"
            ],
            [
             0.2222222222222222,
             "#7201a8"
            ],
            [
             0.3333333333333333,
             "#9c179e"
            ],
            [
             0.4444444444444444,
             "#bd3786"
            ],
            [
             0.5555555555555556,
             "#d8576b"
            ],
            [
             0.6666666666666666,
             "#ed7953"
            ],
            [
             0.7777777777777778,
             "#fb9f3a"
            ],
            [
             0.8888888888888888,
             "#fdca26"
            ],
            [
             1,
             "#f0f921"
            ]
           ]
          },
          "colorway": [
           "#636efa",
           "#EF553B",
           "#00cc96",
           "#ab63fa",
           "#FFA15A",
           "#19d3f3",
           "#FF6692",
           "#B6E880",
           "#FF97FF",
           "#FECB52"
          ],
          "font": {
           "color": "#2a3f5f"
          },
          "geo": {
           "bgcolor": "white",
           "lakecolor": "white",
           "landcolor": "#E5ECF6",
           "showlakes": true,
           "showland": true,
           "subunitcolor": "white"
          },
          "hoverlabel": {
           "align": "left"
          },
          "hovermode": "closest",
          "mapbox": {
           "style": "light"
          },
          "paper_bgcolor": "white",
          "plot_bgcolor": "#E5ECF6",
          "polar": {
           "angularaxis": {
            "gridcolor": "white",
            "linecolor": "white",
            "ticks": ""
           },
           "bgcolor": "#E5ECF6",
           "radialaxis": {
            "gridcolor": "white",
            "linecolor": "white",
            "ticks": ""
           }
          },
          "scene": {
           "xaxis": {
            "backgroundcolor": "#E5ECF6",
            "gridcolor": "white",
            "gridwidth": 2,
            "linecolor": "white",
            "showbackground": true,
            "ticks": "",
            "zerolinecolor": "white"
           },
           "yaxis": {
            "backgroundcolor": "#E5ECF6",
            "gridcolor": "white",
            "gridwidth": 2,
            "linecolor": "white",
            "showbackground": true,
            "ticks": "",
            "zerolinecolor": "white"
           },
           "zaxis": {
            "backgroundcolor": "#E5ECF6",
            "gridcolor": "white",
            "gridwidth": 2,
            "linecolor": "white",
            "showbackground": true,
            "ticks": "",
            "zerolinecolor": "white"
           }
          },
          "shapedefaults": {
           "line": {
            "color": "#2a3f5f"
           }
          },
          "ternary": {
           "aaxis": {
            "gridcolor": "white",
            "linecolor": "white",
            "ticks": ""
           },
           "baxis": {
            "gridcolor": "white",
            "linecolor": "white",
            "ticks": ""
           },
           "bgcolor": "#E5ECF6",
           "caxis": {
            "gridcolor": "white",
            "linecolor": "white",
            "ticks": ""
           }
          },
          "title": {
           "x": 0.05
          },
          "xaxis": {
           "automargin": true,
           "gridcolor": "white",
           "linecolor": "white",
           "ticks": "",
           "title": {
            "standoff": 15
           },
           "zerolinecolor": "white",
           "zerolinewidth": 2
          },
          "yaxis": {
           "automargin": true,
           "gridcolor": "white",
           "linecolor": "white",
           "ticks": "",
           "title": {
            "standoff": 15
           },
           "zerolinecolor": "white",
           "zerolinewidth": 2
          }
         }
        },
        "title": {
         "text": "Travel Distance Over the Years (2019-2022)"
        },
        "xaxis": {
         "anchor": "y",
         "autorange": true,
         "domain": [
          0,
          1
         ],
         "range": [
          0,
          11
         ],
         "title": {
          "text": "Months"
         },
         "type": "category"
        },
        "yaxis": {
         "anchor": "x",
         "autorange": true,
         "domain": [
          0,
          1
         ],
         "range": [
          1.7055555555555555,
          5.594444444444445
         ],
         "title": {
          "text": "Distance"
         },
         "type": "linear"
        }
       }
      },
      "image/png": "[encoded data removed]",
      "text/html": [
       "<div>                            <div id=\"f9a62f4b-d349-489b-a9db-4ffafa295480\" class=\"plotly-graph-div\" style=\"height:525px; width:100%;\"></div>            <script type=\"text/javascript\">                require([\"plotly\"], function(Plotly) {                    window.PLOTLYENV=window.PLOTLYENV || {};                                    if (document.getElementById(\"f9a62f4b-d349-489b-a9db-4ffafa295480\")) {                    Plotly.newPlot(                        \"f9a62f4b-d349-489b-a9db-4ffafa295480\",                        [{\"hovertemplate\":\"Year=2019<br>Months=%{x}<br>Distance=%{y}<extra></extra>\",\"legendgroup\":\"2019\",\"line\":{\"color\":\"#636efa\",\"dash\":\"solid\"},\"marker\":{\"symbol\":\"circle\"},\"mode\":\"lines\",\"name\":\"2019\",\"orientation\":\"v\",\"showlegend\":true,\"x\":[\"jan\",\"feb\",\"mrt\",\"apr\",\"mei\",\"jun\",\"jul\",\"aug\",\"sep\",\"okt\",\"nov\",\"dec\"],\"xaxis\":\"x\",\"y\":[4.8,4.5,4.6,4.9,5.1,4.3,4.9,4.1,4.7,5.4,5.2,4.5],\"yaxis\":\"y\",\"type\":\"scatter\"},{\"hovertemplate\":\"Year=2020<br>Months=%{x}<br>Distance=%{y}<extra></extra>\",\"legendgroup\":\"2020\",\"line\":{\"color\":\"#EF553B\",\"dash\":\"solid\"},\"marker\":{\"symbol\":\"circle\"},\"mode\":\"lines\",\"name\":\"2020\",\"orientation\":\"v\",\"showlegend\":true,\"x\":[\"jan\",\"feb\",\"mrt\",\"apr\",\"mei\",\"jun\",\"jul\",\"aug\",\"sep\",\"okt\",\"nov\",\"dec\"],\"xaxis\":\"x\",\"y\":[4.6,4.3,3.7,1.9,2.3,3.0,3.0,2.6,3.2,3.0,2.6,2.2],\"yaxis\":\"y\",\"type\":\"scatter\"},{\"hovertemplate\":\"Year=2021<br>Months=%{x}<br>Distance=%{y}<extra></extra>\",\"legendgroup\":\"2021\",\"line\":{\"color\":\"#00cc96\",\"dash\":\"solid\"},\"marker\":{\"symbol\":\"circle\"},\"mode\":\"lines\",\"name\":\"2021\",\"orientation\":\"v\",\"showlegend\":true,\"x\":[\"jan\",\"feb\",\"mrt\",\"apr\",\"mei\",\"jun\",\"jul\",\"aug\",\"sep\",\"okt\",\"nov\",\"dec\"],\"xaxis\":\"x\",\"y\":[2.6,2.3,3.2,3.0,2.8,3.2,3.3,2.6,3.5,3.4,3.5,2.9],\"yaxis\":\"y\",\"type\":\"scatter\"},{\"hovertemplate\":\"Year=2022<br>Months=%{x}<br>Distance=%{y}<extra></extra>\",\"legendgroup\":\"2022\",\"line\":{\"color\":\"#ab63fa\",\"dash\":\"solid\"},\"marker\":{\"symbol\":\"circle\"},\"mode\":\"lines\",\"name\":\"2022\",\"orientation\":\"v\",\"showlegend\":true,\"x\":[\"jan\",\"feb\",\"mrt\",\"apr\",\"mei\",\"jun\",\"jul\",\"aug\",\"sep\",\"okt\",\"nov\",\"dec\"],\"xaxis\":\"x\",\"y\":[\"3.2\",\"3.4\",\"4.5\",\"3.4\",\"3.8\",\"3.8\",\"3.3\",\"3.2\",\"3.9\",\"3.9\",\"4.1\",\"3.8\"],\"yaxis\":\"y\",\"type\":\"scatter\"}],                        {\"template\":{\"data\":{\"histogram2dcontour\":[{\"type\":\"histogram2dcontour\",\"colorbar\":{\"outlinewidth\":0,\"ticks\":\"\"},\"colorscale\":[[0.0,\"#0d0887\"],[0.1111111111111111,\"#46039f\"],[0.2222222222222222,\"#7201a8\"],[0.3333333333333333,\"#9c179e\"],[0.4444444444444444,\"#bd3786\"],[0.5555555555555556,\"#d8576b\"],[0.6666666666666666,\"#ed7953\"],[0.7777777777777778,\"#fb9f3a\"],[0.8888888888888888,\"#fdca26\"],[1.0,\"#f0f921\"]]}],\"choropleth\":[{\"type\":\"choropleth\",\"colorbar\":{\"outlinewidth\":0,\"ticks\":\"\"}}],\"histogram2d\":[{\"type\":\"histogram2d\",\"colorbar\":{\"outlinewidth\":0,\"ticks\":\"\"},\"colorscale\":[[0.0,\"#0d0887\"],[0.1111111111111111,\"#46039f\"],[0.2222222222222222,\"#7201a8\"],[0.3333333333333333,\"#9c179e\"],[0.4444444444444444,\"#bd3786\"],[0.5555555555555556,\"#d8576b\"],[0.6666666666666666,\"#ed7953\"],[0.7777777777777778,\"#fb9f3a\"],[0.8888888888888888,\"#fdca26\"],[1.0,\"#f0f921\"]]}],\"heatmap\":[{\"type\":\"heatmap\",\"colorbar\":{\"outlinewidth\":0,\"ticks\":\"\"},\"colorscale\":[[0.0,\"#0d0887\"],[0.1111111111111111,\"#46039f\"],[0.2222222222222222,\"#7201a8\"],[0.3333333333333333,\"#9c179e\"],[0.4444444444444444,\"#bd3786\"],[0.5555555555555556,\"#d8576b\"],[0.6666666666666666,\"#ed7953\"],[0.7777777777777778,\"#fb9f3a\"],[0.8888888888888888,\"#fdca26\"],[1.0,\"#f0f921\"]]}],\"heatmapgl\":[{\"type\":\"heatmapgl\",\"colorbar\":{\"outlinewidth\":0,\"ticks\":\"\"},\"colorscale\":[[0.0,\"#0d0887\"],[0.1111111111111111,\"#46039f\"],[0.2222222222222222,\"#7201a8\"],[0.3333333333333333,\"#9c179e\"],[0.4444444444444444,\"#bd3786\"],[0.5555555555555556,\"#d8576b\"],[0.6666666666666666,\"#ed7953\"],[0.7777777777777778,\"#fb9f3a\"],[0.8888888888888888,\"#fdca26\"],[1.0,\"#f0f921\"]]}],\"contourcarpet\":[{\"type\":\"contourcarpet\",\"colorbar\":{\"outlinewidth\":0,\"ticks\":\"\"}}],\"contour\":[{\"type\":\"contour\",\"colorbar\":{\"outlinewidth\":0,\"ticks\":\"\"},\"colorscale\":[[0.0,\"#0d0887\"],[0.1111111111111111,\"#46039f\"],[0.2222222222222222,\"#7201a8\"],[0.3333333333333333,\"#9c179e\"],[0.4444444444444444,\"#bd3786\"],[0.5555555555555556,\"#d8576b\"],[0.6666666666666666,\"#ed7953\"],[0.7777777777777778,\"#fb9f3a\"],[0.8888888888888888,\"#fdca26\"],[1.0,\"#f0f921\"]]}],\"surface\":[{\"type\":\"surface\",\"colorbar\":{\"outlinewidth\":0,\"ticks\":\"\"},\"colorscale\":[[0.0,\"#0d0887\"],[0.1111111111111111,\"#46039f\"],[0.2222222222222222,\"#7201a8\"],[0.3333333333333333,\"#9c179e\"],[0.4444444444444444,\"#bd3786\"],[0.5555555555555556,\"#d8576b\"],[0.6666666666666666,\"#ed7953\"],[0.7777777777777778,\"#fb9f3a\"],[0.8888888888888888,\"#fdca26\"],[1.0,\"#f0f921\"]]}],\"mesh3d\":[{\"type\":\"mesh3d\",\"colorbar\":{\"outlinewidth\":0,\"ticks\":\"\"}}],\"scatter\":[{\"fillpattern\":{\"fillmode\":\"overlay\",\"size\":10,\"solidity\":0.2},\"type\":\"scatter\"}],\"parcoords\":[{\"type\":\"parcoords\",\"line\":{\"colorbar\":{\"outlinewidth\":0,\"ticks\":\"\"}}}],\"scatterpolargl\":[{\"type\":\"scatterpolargl\",\"marker\":{\"colorbar\":{\"outlinewidth\":0,\"ticks\":\"\"}}}],\"bar\":[{\"error_x\":{\"color\":\"#2a3f5f\"},\"error_y\":{\"color\":\"#2a3f5f\"},\"marker\":{\"line\":{\"color\":\"#E5ECF6\",\"width\":0.5},\"pattern\":{\"fillmode\":\"overlay\",\"size\":10,\"solidity\":0.2}},\"type\":\"bar\"}],\"scattergeo\":[{\"type\":\"scattergeo\",\"marker\":{\"colorbar\":{\"outlinewidth\":0,\"ticks\":\"\"}}}],\"scatterpolar\":[{\"type\":\"scatterpolar\",\"marker\":{\"colorbar\":{\"outlinewidth\":0,\"ticks\":\"\"}}}],\"histogram\":[{\"marker\":{\"pattern\":{\"fillmode\":\"overlay\",\"size\":10,\"solidity\":0.2}},\"type\":\"histogram\"}],\"scattergl\":[{\"type\":\"scattergl\",\"marker\":{\"colorbar\":{\"outlinewidth\":0,\"ticks\":\"\"}}}],\"scatter3d\":[{\"type\":\"scatter3d\",\"line\":{\"colorbar\":{\"outlinewidth\":0,\"ticks\":\"\"}},\"marker\":{\"colorbar\":{\"outlinewidth\":0,\"ticks\":\"\"}}}],\"scattermapbox\":[{\"type\":\"scattermapbox\",\"marker\":{\"colorbar\":{\"outlinewidth\":0,\"ticks\":\"\"}}}],\"scatterternary\":[{\"type\":\"scatterternary\",\"marker\":{\"colorbar\":{\"outlinewidth\":0,\"ticks\":\"\"}}}],\"scattercarpet\":[{\"type\":\"scattercarpet\",\"marker\":{\"colorbar\":{\"outlinewidth\":0,\"ticks\":\"\"}}}],\"carpet\":[{\"aaxis\":{\"endlinecolor\":\"#2a3f5f\",\"gridcolor\":\"white\",\"linecolor\":\"white\",\"minorgridcolor\":\"white\",\"startlinecolor\":\"#2a3f5f\"},\"baxis\":{\"endlinecolor\":\"#2a3f5f\",\"gridcolor\":\"white\",\"linecolor\":\"white\",\"minorgridcolor\":\"white\",\"startlinecolor\":\"#2a3f5f\"},\"type\":\"carpet\"}],\"table\":[{\"cells\":{\"fill\":{\"color\":\"#EBF0F8\"},\"line\":{\"color\":\"white\"}},\"header\":{\"fill\":{\"color\":\"#C8D4E3\"},\"line\":{\"color\":\"white\"}},\"type\":\"table\"}],\"barpolar\":[{\"marker\":{\"line\":{\"color\":\"#E5ECF6\",\"width\":0.5},\"pattern\":{\"fillmode\":\"overlay\",\"size\":10,\"solidity\":0.2}},\"type\":\"barpolar\"}],\"pie\":[{\"automargin\":true,\"type\":\"pie\"}]},\"layout\":{\"autotypenumbers\":\"strict\",\"colorway\":[\"#636efa\",\"#EF553B\",\"#00cc96\",\"#ab63fa\",\"#FFA15A\",\"#19d3f3\",\"#FF6692\",\"#B6E880\",\"#FF97FF\",\"#FECB52\"],\"font\":{\"color\":\"#2a3f5f\"},\"hovermode\":\"closest\",\"hoverlabel\":{\"align\":\"left\"},\"paper_bgcolor\":\"white\",\"plot_bgcolor\":\"#E5ECF6\",\"polar\":{\"bgcolor\":\"#E5ECF6\",\"angularaxis\":{\"gridcolor\":\"white\",\"linecolor\":\"white\",\"ticks\":\"\"},\"radialaxis\":{\"gridcolor\":\"white\",\"linecolor\":\"white\",\"ticks\":\"\"}},\"ternary\":{\"bgcolor\":\"#E5ECF6\",\"aaxis\":{\"gridcolor\":\"white\",\"linecolor\":\"white\",\"ticks\":\"\"},\"baxis\":{\"gridcolor\":\"white\",\"linecolor\":\"white\",\"ticks\":\"\"},\"caxis\":{\"gridcolor\":\"white\",\"linecolor\":\"white\",\"ticks\":\"\"}},\"coloraxis\":{\"colorbar\":{\"outlinewidth\":0,\"ticks\":\"\"}},\"colorscale\":{\"sequential\":[[0.0,\"#0d0887\"],[0.1111111111111111,\"#46039f\"],[0.2222222222222222,\"#7201a8\"],[0.3333333333333333,\"#9c179e\"],[0.4444444444444444,\"#bd3786\"],[0.5555555555555556,\"#d8576b\"],[0.6666666666666666,\"#ed7953\"],[0.7777777777777778,\"#fb9f3a\"],[0.8888888888888888,\"#fdca26\"],[1.0,\"#f0f921\"]],\"sequentialminus\":[[0.0,\"#0d0887\"],[0.1111111111111111,\"#46039f\"],[0.2222222222222222,\"#7201a8\"],[0.3333333333333333,\"#9c179e\"],[0.4444444444444444,\"#bd3786\"],[0.5555555555555556,\"#d8576b\"],[0.6666666666666666,\"#ed7953\"],[0.7777777777777778,\"#fb9f3a\"],[0.8888888888888888,\"#fdca26\"],[1.0,\"#f0f921\"]],\"diverging\":[[0,\"#8e0152\"],[0.1,\"#c51b7d\"],[0.2,\"#de77ae\"],[0.3,\"#f1b6da\"],[0.4,\"#fde0ef\"],[0.5,\"#f7f7f7\"],[0.6,\"#e6f5d0\"],[0.7,\"#b8e186\"],[0.8,\"#7fbc41\"],[0.9,\"#4d9221\"],[1,\"#276419\"]]},\"xaxis\":{\"gridcolor\":\"white\",\"linecolor\":\"white\",\"ticks\":\"\",\"title\":{\"standoff\":15},\"zerolinecolor\":\"white\",\"automargin\":true,\"zerolinewidth\":2},\"yaxis\":{\"gridcolor\":\"white\",\"linecolor\":\"white\",\"ticks\":\"\",\"title\":{\"standoff\":15},\"zerolinecolor\":\"white\",\"automargin\":true,\"zerolinewidth\":2},\"scene\":{\"xaxis\":{\"backgroundcolor\":\"#E5ECF6\",\"gridcolor\":\"white\",\"linecolor\":\"white\",\"showbackground\":true,\"ticks\":\"\",\"zerolinecolor\":\"white\",\"gridwidth\":2},\"yaxis\":{\"backgroundcolor\":\"#E5ECF6\",\"gridcolor\":\"white\",\"linecolor\":\"white\",\"showbackground\":true,\"ticks\":\"\",\"zerolinecolor\":\"white\",\"gridwidth\":2},\"zaxis\":{\"backgroundcolor\":\"#E5ECF6\",\"gridcolor\":\"white\",\"linecolor\":\"white\",\"showbackground\":true,\"ticks\":\"\",\"zerolinecolor\":\"white\",\"gridwidth\":2}},\"shapedefaults\":{\"line\":{\"color\":\"#2a3f5f\"}},\"annotationdefaults\":{\"arrowcolor\":\"#2a3f5f\",\"arrowhead\":0,\"arrowwidth\":1},\"geo\":{\"bgcolor\":\"white\",\"landcolor\":\"#E5ECF6\",\"subunitcolor\":\"white\",\"showland\":true,\"showlakes\":true,\"lakecolor\":\"white\"},\"title\":{\"x\":0.05},\"mapbox\":{\"style\":\"light\"}}},\"xaxis\":{\"anchor\":\"y\",\"domain\":[0.0,1.0],\"title\":{\"text\":\"Months\"}},\"yaxis\":{\"anchor\":\"x\",\"domain\":[0.0,1.0],\"title\":{\"text\":\"Distance\"}},\"legend\":{\"title\":{\"text\":\"Year\"},\"tracegroupgap\":0},\"title\":{\"text\":\"Travel Distance Over the Years (2019-2022)\"}},                        {\"responsive\": true}                    ).then(function(){\n",
       "                            \n",
       "var gd = document.getElementById('f9a62f4b-d349-489b-a9db-4ffafa295480');\n",
       "var x = new MutationObserver(function (mutations, observer) {{\n",
       "        var display = window.getComputedStyle(gd).display;\n",
       "        if (!display || display === 'none') {{\n",
       "            console.log([gd, 'removed!']);\n",
       "            Plotly.purge(gd);\n",
       "            observer.disconnect();\n",
       "        }}\n",
       "}});\n",
       "\n",
       "// Listen for the removal of the full notebook cells\n",
       "var notebookContainer = gd.closest('#notebook-container');\n",
       "if (notebookContainer) {{\n",
       "    x.observe(notebookContainer, {childList: true});\n",
       "}}\n",
       "\n",
       "// Listen for the clearing of the current output cell\n",
       "var outputEl = gd.closest('.output');\n",
       "if (outputEl) {{\n",
       "    x.observe(outputEl, {childList: true});\n",
       "}}\n",
       "\n",
       "                        })                };                });            </script>        </div>"
      ]
     },
     "metadata": {},
     "output_type": "display_data"
    }
   ],
   "source": [
    "travel_distance_work = read_csv('traveldistance_work.csv', delimiter = '; ', parse_dates=True, infer_datetime_format=True)\n",
    "travel_distance_work = travel_distance_work.replace({'\"': ''}, regex=True)\n",
    "travel_distance_work = travel_distance_work.rename({'\"maand':'Months',  \n",
    "            '2019 (Mld km)':'2019', '2020 (Mld km)':'2020', '2021 (Mld km)':'2021', '2022 (Mld km)\"':'2022'}, axis=1)\n",
    "display(travel_distance_work)\n",
    "\n",
    "# Melt the DataFrame to create a suitable format for Plotly Express\n",
    "melted_df = travel_distance_work.melt(id_vars='Months', var_name='Year', value_name='Distance')\n",
    "\n",
    "# Create a line plot using Plotly Express with a single line for all years\n",
    "fig = px.line(melted_df, x='Months', y='Distance', color='Year', title='Travel Distance Over the Years (2019-2022)')\n",
    "fig.show();"
   ]
  },
  {
   "cell_type": "code",
   "execution_count": null,
   "metadata": {},
   "outputs": [],
   "source": []
  },
  {
   "cell_type": "code",
   "execution_count": null,
   "metadata": {},
   "outputs": [],
   "source": []
  }
 ],
 "metadata": {
  "kernelspec": {
   "display_name": "Python 3 (ipykernel)",
   "language": "python",
   "name": "python3"
  },
  "language_info": {
   "codemirror_mode": {
    "name": "ipython",
    "version": 3
   },
   "file_extension": ".py",
   "mimetype": "text/x-python",
   "name": "python",
   "nbconvert_exporter": "python",
   "pygments_lexer": "ipython3",
   "version": "3.11.5"
  }
 },
 "nbformat": 4,
 "nbformat_minor": 4
}
