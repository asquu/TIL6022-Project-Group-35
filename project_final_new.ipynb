{
 "cells": [
  {
   "cell_type": "markdown",
   "metadata": {},
   "source": [
    "# Project Group 35\n",
    "\n",
    "Members: Mathijs Kop, Roos Wentges, Irene Bosman, Sathvik Gadiraju, Sophie Pijnenburg\n",
    "\n",
    "Student numbers: 5095433, 4869419 , 4882237, 6084435 , 4851404"
   ]
  },
  {
   "cell_type": "markdown",
   "metadata": {},
   "source": [
    "# Research Objective\n",
    "\n",
    "*Requires data modeling and quantitative research in Transport, Infrastructure & Logistics*"
   ]
  },
  {
   "cell_type": "markdown",
   "metadata": {},
   "source": [
    "In the recent years, fuel cost have undergone substatantial increases due to geopolitical devlopements and policy changes. The rising fuel prices becoming a prevalent concern for individuals and this could impact the human mobility behaviour. This study investigates the relationship between the increasing fual prices and the choices people make in terms of there travel behaviour, especially fuel based travelling.\n",
    "\n",
    "Therefore, the research question in this data analysis is: \n",
    "\n",
    "*What relation can be found between rising fuel costs and mobility behaviour from 2018 to 2022?*\n",
    "\n",
    "Subquestions:\n",
    "1.  How have fuel prices developed in the considered time in the Netherlands?\n",
    "2.  To what extend does the location of the gas stations determine fuel price trends?\n",
    "3.  How did the general mobility behaviour for all modes compared to fuel based modes change in the Netherlands?\n",
    "4.  How have the mobility motives developed in the considered time in the Netherlands?\n",
    "\n",
    "Geographical boundary: The Netherlands\n",
    "\n",
    "Time scale:  2018-2022"
   ]
  },
  {
   "cell_type": "markdown",
   "metadata": {},
   "source": [
    "# Contribution Statement\n",
    "\n",
    "*Be specific. Some of the tasks can be coding (expect everyone to do this), background research, conceptualisation, visualisation, data analysis, data modelling*"
   ]
  },
  {
   "cell_type": "markdown",
   "metadata": {},
   "source": [
    "**Author 1**:\n",
    "\n",
    "**Author 2**:\n",
    "\n",
    "**Author 3**:"
   ]
  },
  {
   "cell_type": "markdown",
   "metadata": {},
   "source": [
    "# Data Used"
   ]
  },
  {
   "cell_type": "markdown",
   "metadata": {},
   "source": [
    "CBS: https://opendata.cbs.nl/#/CBS/en/dataset/84710ENG/table?ts=1696337832049, \\\n",
    "https://opendata.cbs.nl/#/CBS/en/dataset/80416ENG/table?ts=1696337975859, \\\n",
    "https://opendata.cbs.nl/statline/#/CBS/en/dataset/84755ENG/table?ts=1696338796089, \\\n",
    "https://opendata.cbs.nl/statline/#/CBS/en/dataset/81567eng/table?ts=1698660850868. "
   ]
  },
  {
   "cell_type": "markdown",
   "metadata": {},
   "source": [
    "# Data Pipeline"
   ]
  },
  {
   "cell_type": "markdown",
   "metadata": {},
   "source": [
    "From the first link we will look into distance traveled in passenger kilometres for different travel motives. \n",
    "From the second link we will look into the mean fuel prices per year, to compare with the distance traveled. The third link can be used to find the general mobility trend for the different travel motives over the years. And the last link is of the local and highway fuel prices.\n"
   ]
  },
  {
   "cell_type": "code",
   "execution_count": 121,
   "metadata": {
    "tags": []
   },
   "outputs": [],
   "source": [
    "import numpy as np\n",
    "import pandas as pd\n",
    "import matplotlib.pyplot as plt\n",
    "import plotly.io as pio\n",
    "import plotly.express as px\n",
    "import plotly.graph_objects as go\n",
    "import seaborn as sns\n",
    "import warnings\n",
    "from pandas import read_csv"
   ]
  },
  {
   "cell_type": "markdown",
   "metadata": {
    "tags": []
   },
   "source": [
    "### data preperation subquestion 1"
   ]
  },
  {
   "cell_type": "code",
   "execution_count": 105,
   "metadata": {
    "tags": []
   },
   "outputs": [
    {
     "name": "stderr",
     "output_type": "stream",
     "text": [
      "/var/folders/ct/lgh6xncj2wn1r5_21z6ldw8m0000gn/T/ipykernel_55551/4226807594.py:2: FutureWarning:\n",
      "\n",
      "The argument 'infer_datetime_format' is deprecated and will be removed in a future version. A strict version of it is now the default, see https://pandas.pydata.org/pdeps/0004-consistent-to-datetime-parsing.html. You can safely remove this argument.\n",
      "\n"
     ]
    },
    {
     "data": {
      "text/html": [
       "<div>\n",
       "<style scoped>\n",
       "    .dataframe tbody tr th:only-of-type {\n",
       "        vertical-align: middle;\n",
       "    }\n",
       "\n",
       "    .dataframe tbody tr th {\n",
       "        vertical-align: top;\n",
       "    }\n",
       "\n",
       "    .dataframe thead th {\n",
       "        text-align: right;\n",
       "    }\n",
       "</style>\n",
       "<table border=\"1\" class=\"dataframe\">\n",
       "  <thead>\n",
       "    <tr style=\"text-align: right;\">\n",
       "      <th></th>\n",
       "      <th>Euro95</th>\n",
       "      <th>Diesel</th>\n",
       "      <th>LPG</th>\n",
       "      <th>Average</th>\n",
       "    </tr>\n",
       "    <tr>\n",
       "      <th>Months</th>\n",
       "      <th></th>\n",
       "      <th></th>\n",
       "      <th></th>\n",
       "      <th></th>\n",
       "    </tr>\n",
       "  </thead>\n",
       "  <tbody>\n",
       "    <tr>\n",
       "      <th>2018-01-01</th>\n",
       "      <td>1.589</td>\n",
       "      <td>1.292</td>\n",
       "      <td>0.696</td>\n",
       "      <td>1.192333</td>\n",
       "    </tr>\n",
       "    <tr>\n",
       "      <th>2018-02-01</th>\n",
       "      <td>1.566</td>\n",
       "      <td>1.254</td>\n",
       "      <td>0.667</td>\n",
       "      <td>1.162333</td>\n",
       "    </tr>\n",
       "    <tr>\n",
       "      <th>2018-03-01</th>\n",
       "      <td>1.545</td>\n",
       "      <td>1.260</td>\n",
       "      <td>0.654</td>\n",
       "      <td>1.153000</td>\n",
       "    </tr>\n",
       "    <tr>\n",
       "      <th>2018-04-01</th>\n",
       "      <td>1.608</td>\n",
       "      <td>1.301</td>\n",
       "      <td>0.663</td>\n",
       "      <td>1.190667</td>\n",
       "    </tr>\n",
       "    <tr>\n",
       "      <th>2018-05-01</th>\n",
       "      <td>1.668</td>\n",
       "      <td>1.360</td>\n",
       "      <td>0.675</td>\n",
       "      <td>1.234333</td>\n",
       "    </tr>\n",
       "  </tbody>\n",
       "</table>\n",
       "</div>"
      ],
      "text/plain": [
       "            Euro95  Diesel    LPG   Average\n",
       "Months                                     \n",
       "2018-01-01   1.589   1.292  0.696  1.192333\n",
       "2018-02-01   1.566   1.254  0.667  1.162333\n",
       "2018-03-01   1.545   1.260  0.654  1.153000\n",
       "2018-04-01   1.608   1.301  0.663  1.190667\n",
       "2018-05-01   1.668   1.360  0.675  1.234333"
      ]
     },
     "metadata": {},
     "output_type": "display_data"
    },
    {
     "data": {
      "text/html": [
       "<div>\n",
       "<style scoped>\n",
       "    .dataframe tbody tr th:only-of-type {\n",
       "        vertical-align: middle;\n",
       "    }\n",
       "\n",
       "    .dataframe tbody tr th {\n",
       "        vertical-align: top;\n",
       "    }\n",
       "\n",
       "    .dataframe thead th {\n",
       "        text-align: right;\n",
       "    }\n",
       "</style>\n",
       "<table border=\"1\" class=\"dataframe\">\n",
       "  <thead>\n",
       "    <tr style=\"text-align: right;\">\n",
       "      <th></th>\n",
       "      <th>Months</th>\n",
       "      <th>Fuel Type</th>\n",
       "      <th>Price</th>\n",
       "    </tr>\n",
       "  </thead>\n",
       "  <tbody>\n",
       "    <tr>\n",
       "      <th>0</th>\n",
       "      <td>2018-01-01</td>\n",
       "      <td>Euro95</td>\n",
       "      <td>1.589</td>\n",
       "    </tr>\n",
       "    <tr>\n",
       "      <th>1</th>\n",
       "      <td>2018-02-01</td>\n",
       "      <td>Euro95</td>\n",
       "      <td>1.566</td>\n",
       "    </tr>\n",
       "    <tr>\n",
       "      <th>2</th>\n",
       "      <td>2018-03-01</td>\n",
       "      <td>Euro95</td>\n",
       "      <td>1.545</td>\n",
       "    </tr>\n",
       "    <tr>\n",
       "      <th>3</th>\n",
       "      <td>2018-04-01</td>\n",
       "      <td>Euro95</td>\n",
       "      <td>1.608</td>\n",
       "    </tr>\n",
       "    <tr>\n",
       "      <th>4</th>\n",
       "      <td>2018-05-01</td>\n",
       "      <td>Euro95</td>\n",
       "      <td>1.668</td>\n",
       "    </tr>\n",
       "  </tbody>\n",
       "</table>\n",
       "</div>"
      ],
      "text/plain": [
       "      Months Fuel Type  Price\n",
       "0 2018-01-01    Euro95  1.589\n",
       "1 2018-02-01    Euro95  1.566\n",
       "2 2018-03-01    Euro95  1.545\n",
       "3 2018-04-01    Euro95  1.608\n",
       "4 2018-05-01    Euro95  1.668"
      ]
     },
     "metadata": {},
     "output_type": "display_data"
    }
   ],
   "source": [
    "# Read and clean data\n",
    "fuel_prices = read_csv('fuelprices.csv', skiprows = 5, delimiter = ';', index_col = 0, parse_dates=True, infer_datetime_format=True).dropna().rename({'euro/liter':'Euro95','euro/liter.1':'Diesel', 'euro/liter.2':'LPG' }, axis=1)\n",
    "fuel_prices.index.names = ['Months']\n",
    "fuel_prices.index = pd.to_datetime(fuel_prices.index)\n",
    "\n",
    "# Add average of fuel prices to data\n",
    "fuel_prices['Average'] = fuel_prices.mean(axis=1)\n",
    "display(fuel_prices.head())\n",
    "\n",
    "# Melt data for plotly\n",
    "melted_fuel_prices = pd.melt(fuel_prices.reset_index(), id_vars=['Months'], value_vars=['Euro95', 'Diesel', 'LPG', 'Average'], var_name='Fuel Type', value_name='Price')\n",
    "display(melted_fuel_prices.head())"
   ]
  },
  {
   "cell_type": "markdown",
   "metadata": {
    "tags": []
   },
   "source": [
    "### data preperation subquestion 2\n"
   ]
  },
  {
   "cell_type": "code",
   "execution_count": 3,
   "metadata": {
    "tags": []
   },
   "outputs": [
    {
     "name": "stderr",
     "output_type": "stream",
     "text": [
      "C:\\Users\\irene\\AppData\\Local\\Temp\\ipykernel_18204\\2645903065.py:2: FutureWarning: The argument 'infer_datetime_format' is deprecated and will be removed in a future version. A strict version of it is now the default, see https://pandas.pydata.org/pdeps/0004-consistent-to-datetime-parsing.html. You can safely remove this argument.\n",
      "  data_highway = read_csv('highway.csv', skiprows = 5, delimiter = ';', index_col = 0, parse_dates=True, infer_datetime_format=True)\n"
     ]
    },
    {
     "data": {
      "text/html": [
       "<div>\n",
       "<style scoped>\n",
       "    .dataframe tbody tr th:only-of-type {\n",
       "        vertical-align: middle;\n",
       "    }\n",
       "\n",
       "    .dataframe tbody tr th {\n",
       "        vertical-align: top;\n",
       "    }\n",
       "\n",
       "    .dataframe thead th {\n",
       "        text-align: right;\n",
       "    }\n",
       "</style>\n",
       "<table border=\"1\" class=\"dataframe\">\n",
       "  <thead>\n",
       "    <tr style=\"text-align: right;\">\n",
       "      <th></th>\n",
       "      <th>highway Euro95</th>\n",
       "      <th>highway Diesel</th>\n",
       "      <th>highway LPG</th>\n",
       "    </tr>\n",
       "    <tr>\n",
       "      <th>Periods</th>\n",
       "      <th></th>\n",
       "      <th></th>\n",
       "      <th></th>\n",
       "    </tr>\n",
       "  </thead>\n",
       "  <tbody>\n",
       "    <tr>\n",
       "      <th>2018-01-01</th>\n",
       "      <td>1.681</td>\n",
       "      <td>1.376</td>\n",
       "      <td>0.748</td>\n",
       "    </tr>\n",
       "    <tr>\n",
       "      <th>2018-02-01</th>\n",
       "      <td>1.657</td>\n",
       "      <td>1.336</td>\n",
       "      <td>0.717</td>\n",
       "    </tr>\n",
       "    <tr>\n",
       "      <th>2018-03-01</th>\n",
       "      <td>1.637</td>\n",
       "      <td>1.344</td>\n",
       "      <td>0.708</td>\n",
       "    </tr>\n",
       "    <tr>\n",
       "      <th>2018-04-01</th>\n",
       "      <td>1.701</td>\n",
       "      <td>1.385</td>\n",
       "      <td>0.717</td>\n",
       "    </tr>\n",
       "    <tr>\n",
       "      <th>2018-05-01</th>\n",
       "      <td>1.761</td>\n",
       "      <td>1.445</td>\n",
       "      <td>0.730</td>\n",
       "    </tr>\n",
       "  </tbody>\n",
       "</table>\n",
       "</div>"
      ],
      "text/plain": [
       "            highway Euro95  highway Diesel  highway LPG\n",
       "Periods                                                \n",
       "2018-01-01           1.681           1.376        0.748\n",
       "2018-02-01           1.657           1.336        0.717\n",
       "2018-03-01           1.637           1.344        0.708\n",
       "2018-04-01           1.701           1.385        0.717\n",
       "2018-05-01           1.761           1.445        0.730"
      ]
     },
     "metadata": {},
     "output_type": "display_data"
    },
    {
     "name": "stderr",
     "output_type": "stream",
     "text": [
      "C:\\Users\\irene\\AppData\\Local\\Temp\\ipykernel_18204\\2645903065.py:9: FutureWarning: The argument 'infer_datetime_format' is deprecated and will be removed in a future version. A strict version of it is now the default, see https://pandas.pydata.org/pdeps/0004-consistent-to-datetime-parsing.html. You can safely remove this argument.\n",
      "  data_local = read_csv('local.csv', skiprows = 5, delimiter = ';', index_col = 0, parse_dates=True, infer_datetime_format=True)\n"
     ]
    },
    {
     "data": {
      "text/html": [
       "<div>\n",
       "<style scoped>\n",
       "    .dataframe tbody tr th:only-of-type {\n",
       "        vertical-align: middle;\n",
       "    }\n",
       "\n",
       "    .dataframe tbody tr th {\n",
       "        vertical-align: top;\n",
       "    }\n",
       "\n",
       "    .dataframe thead th {\n",
       "        text-align: right;\n",
       "    }\n",
       "</style>\n",
       "<table border=\"1\" class=\"dataframe\">\n",
       "  <thead>\n",
       "    <tr style=\"text-align: right;\">\n",
       "      <th></th>\n",
       "      <th>local Euro95</th>\n",
       "      <th>local Diesel</th>\n",
       "      <th>local LPG</th>\n",
       "    </tr>\n",
       "    <tr>\n",
       "      <th>Periods</th>\n",
       "      <th></th>\n",
       "      <th></th>\n",
       "      <th></th>\n",
       "    </tr>\n",
       "  </thead>\n",
       "  <tbody>\n",
       "    <tr>\n",
       "      <th>2018-01-01</th>\n",
       "      <td>1.588</td>\n",
       "      <td>1.294</td>\n",
       "      <td>0.676</td>\n",
       "    </tr>\n",
       "    <tr>\n",
       "      <th>2018-02-01</th>\n",
       "      <td>1.565</td>\n",
       "      <td>1.256</td>\n",
       "      <td>0.647</td>\n",
       "    </tr>\n",
       "    <tr>\n",
       "      <th>2018-03-01</th>\n",
       "      <td>1.544</td>\n",
       "      <td>1.261</td>\n",
       "      <td>0.633</td>\n",
       "    </tr>\n",
       "    <tr>\n",
       "      <th>2018-04-01</th>\n",
       "      <td>1.606</td>\n",
       "      <td>1.303</td>\n",
       "      <td>0.642</td>\n",
       "    </tr>\n",
       "    <tr>\n",
       "      <th>2018-05-01</th>\n",
       "      <td>1.666</td>\n",
       "      <td>1.362</td>\n",
       "      <td>0.654</td>\n",
       "    </tr>\n",
       "  </tbody>\n",
       "</table>\n",
       "</div>"
      ],
      "text/plain": [
       "            local Euro95  local Diesel  local LPG\n",
       "Periods                                          \n",
       "2018-01-01         1.588         1.294      0.676\n",
       "2018-02-01         1.565         1.256      0.647\n",
       "2018-03-01         1.544         1.261      0.633\n",
       "2018-04-01         1.606         1.303      0.642\n",
       "2018-05-01         1.666         1.362      0.654"
      ]
     },
     "metadata": {},
     "output_type": "display_data"
    },
    {
     "name": "stderr",
     "output_type": "stream",
     "text": [
      "C:\\Users\\irene\\AppData\\Local\\Temp\\ipykernel_18204\\2645903065.py:16: FutureWarning: The argument 'infer_datetime_format' is deprecated and will be removed in a future version. A strict version of it is now the default, see https://pandas.pydata.org/pdeps/0004-consistent-to-datetime-parsing.html. You can safely remove this argument.\n",
      "  data_avg = read_csv('avg.csv', skiprows = 5, delimiter = ';', index_col = 0, parse_dates=True, infer_datetime_format=True)\n"
     ]
    },
    {
     "data": {
      "text/html": [
       "<div>\n",
       "<style scoped>\n",
       "    .dataframe tbody tr th:only-of-type {\n",
       "        vertical-align: middle;\n",
       "    }\n",
       "\n",
       "    .dataframe tbody tr th {\n",
       "        vertical-align: top;\n",
       "    }\n",
       "\n",
       "    .dataframe thead th {\n",
       "        text-align: right;\n",
       "    }\n",
       "</style>\n",
       "<table border=\"1\" class=\"dataframe\">\n",
       "  <thead>\n",
       "    <tr style=\"text-align: right;\">\n",
       "      <th></th>\n",
       "      <th>avg Euro95</th>\n",
       "      <th>avg Diesel</th>\n",
       "      <th>avg LPG</th>\n",
       "    </tr>\n",
       "    <tr>\n",
       "      <th>Periods</th>\n",
       "      <th></th>\n",
       "      <th></th>\n",
       "      <th></th>\n",
       "    </tr>\n",
       "  </thead>\n",
       "  <tbody>\n",
       "    <tr>\n",
       "      <th>2018-01-01</th>\n",
       "      <td>1.589</td>\n",
       "      <td>1.292</td>\n",
       "      <td>0.696</td>\n",
       "    </tr>\n",
       "    <tr>\n",
       "      <th>2018-02-01</th>\n",
       "      <td>1.566</td>\n",
       "      <td>1.254</td>\n",
       "      <td>0.667</td>\n",
       "    </tr>\n",
       "    <tr>\n",
       "      <th>2018-03-01</th>\n",
       "      <td>1.545</td>\n",
       "      <td>1.260</td>\n",
       "      <td>0.654</td>\n",
       "    </tr>\n",
       "    <tr>\n",
       "      <th>2018-04-01</th>\n",
       "      <td>1.608</td>\n",
       "      <td>1.301</td>\n",
       "      <td>0.663</td>\n",
       "    </tr>\n",
       "    <tr>\n",
       "      <th>2018-05-01</th>\n",
       "      <td>1.668</td>\n",
       "      <td>1.360</td>\n",
       "      <td>0.675</td>\n",
       "    </tr>\n",
       "  </tbody>\n",
       "</table>\n",
       "</div>"
      ],
      "text/plain": [
       "            avg Euro95  avg Diesel  avg LPG\n",
       "Periods                                    \n",
       "2018-01-01       1.589       1.292    0.696\n",
       "2018-02-01       1.566       1.254    0.667\n",
       "2018-03-01       1.545       1.260    0.654\n",
       "2018-04-01       1.608       1.301    0.663\n",
       "2018-05-01       1.668       1.360    0.675"
      ]
     },
     "metadata": {},
     "output_type": "display_data"
    }
   ],
   "source": [
    "# Read, clean and prep data highway\n",
    "data_highway = read_csv('highway.csv', skiprows = 5, delimiter = ';', index_col = 0, parse_dates=True, infer_datetime_format=True)\n",
    "highway = data_highway.dropna().rename({'euro/litre':'highway Euro95','euro/litre.1':'highway Diesel', 'euro/litre.2':'highway LPG' }, axis=1)\n",
    "highway.index.names = ['Months']\n",
    "highway.index = pd.to_datetime(data_highway.index)\n",
    "display(highway.head())\n",
    "\n",
    "# Read, clean and prep data local\n",
    "data_local = read_csv('local.csv', skiprows = 5, delimiter = ';', index_col = 0, parse_dates=True, infer_datetime_format=True)\n",
    "local = data_local.dropna().rename({'euro/litre':'local Euro95','euro/litre.1':'local Diesel', 'euro/litre.2':'local LPG' }, axis=1)\n",
    "local.index.names = ['Months']\n",
    "local.index = pd.to_datetime(data_local.index)\n",
    "display(local.head())\n",
    "\n",
    "# Read, clean and prep data average\n",
    "data_avg = read_csv('avg.csv', skiprows = 5, delimiter = ';', index_col = 0, parse_dates=True, infer_datetime_format=True)\n",
    "avg = data_avg.dropna().rename({'euro/litre':'avg Euro95','euro/litre.1':'avg Diesel', 'euro/litre.2':'avg LPG' }, axis=1)\n",
    "avg.index.names = ['Months']\n",
    "avg.index = pd.to_datetime(data_avg.index)\n",
    "display(avg.head())\n",
    "\n",
    "# Put in dataframe per fuel type for plotly\n",
    "euro95 = pd.DataFrame({'highway': highway['highway Euro95'], 'local': local['local Euro95'],'avg': avg['avg Euro95']})\n",
    "diesel = pd.DataFrame({'highway': highway['highway Diesel'], 'local': local['local Diesel'],'avg': avg['avg Diesel']})\n",
    "LPG = pd.DataFrame({'highway': highway['highway LPG'], 'local': local['local LPG'],'avg': avg['avg LPG']})"
   ]
  },
  {
   "cell_type": "markdown",
   "metadata": {},
   "source": [
    "### data preperation subquestion 3\n"
   ]
  },
  {
   "cell_type": "code",
   "execution_count": 85,
   "metadata": {
    "tags": []
   },
   "outputs": [
    {
     "data": {
      "text/html": [
       "<div>\n",
       "<style scoped>\n",
       "    .dataframe tbody tr th:only-of-type {\n",
       "        vertical-align: middle;\n",
       "    }\n",
       "\n",
       "    .dataframe tbody tr th {\n",
       "        vertical-align: top;\n",
       "    }\n",
       "\n",
       "    .dataframe thead th {\n",
       "        text-align: right;\n",
       "    }\n",
       "</style>\n",
       "<table border=\"1\" class=\"dataframe\">\n",
       "  <thead>\n",
       "    <tr style=\"text-align: right;\">\n",
       "      <th></th>\n",
       "      <th>modes</th>\n",
       "      <th>2018</th>\n",
       "      <th>2019</th>\n",
       "      <th>2020</th>\n",
       "      <th>2021</th>\n",
       "      <th>2022</th>\n",
       "    </tr>\n",
       "  </thead>\n",
       "  <tbody>\n",
       "    <tr>\n",
       "      <th>0</th>\n",
       "      <td>Total</td>\n",
       "      <td>36.16</td>\n",
       "      <td>36.00</td>\n",
       "      <td>24.88</td>\n",
       "      <td>27.24</td>\n",
       "      <td>30.21</td>\n",
       "    </tr>\n",
       "    <tr>\n",
       "      <th>1</th>\n",
       "      <td>Passenger car (driver)</td>\n",
       "      <td>18.16</td>\n",
       "      <td>18.02</td>\n",
       "      <td>13.14</td>\n",
       "      <td>14.05</td>\n",
       "      <td>15.13</td>\n",
       "    </tr>\n",
       "    <tr>\n",
       "      <th>2</th>\n",
       "      <td>Train</td>\n",
       "      <td>3.88</td>\n",
       "      <td>4.08</td>\n",
       "      <td>1.60</td>\n",
       "      <td>1.67</td>\n",
       "      <td>2.62</td>\n",
       "    </tr>\n",
       "    <tr>\n",
       "      <th>3</th>\n",
       "      <td>Bike</td>\n",
       "      <td>3.16</td>\n",
       "      <td>3.01</td>\n",
       "      <td>2.61</td>\n",
       "      <td>2.68</td>\n",
       "      <td>3.04</td>\n",
       "    </tr>\n",
       "    <tr>\n",
       "      <th>4</th>\n",
       "      <td>Walking</td>\n",
       "      <td>0.90</td>\n",
       "      <td>0.88</td>\n",
       "      <td>1.12</td>\n",
       "      <td>1.38</td>\n",
       "      <td>1.21</td>\n",
       "    </tr>\n",
       "  </tbody>\n",
       "</table>\n",
       "</div>"
      ],
      "text/plain": [
       "                    modes   2018   2019   2020   2021   2022\n",
       "0                   Total  36.16  36.00  24.88  27.24  30.21\n",
       "1  Passenger car (driver)  18.16  18.02  13.14  14.05  15.13\n",
       "2                   Train   3.88   4.08   1.60   1.67   2.62\n",
       "3                    Bike   3.16   3.01   2.61   2.68   3.04\n",
       "4                 Walking   0.90   0.88   1.12   1.38   1.21"
      ]
     },
     "metadata": {},
     "output_type": "display_data"
    }
   ],
   "source": [
    "# Read and clean data\n",
    "mobility_trips = read_csv('mobility_perday.csv', index_col = 1, skiprows = 6, delimiter = ';', usecols = [0,1,7,8,9,10,11])\n",
    "mobility_trips.index.name = 'modes'\n",
    "mobility_trips = mobility_trips.dropna().drop('Travel modes')\n",
    "mobility_trips = mobility_trips.rename({'Unnamed: 0':'motive'}, axis=1) \n",
    "mobility_trips = mobility_trips.rename({'2018.1':'2018' ,'2019.1':'2019', '2020.1':'2020', '2021.1':'2021', '2022.1':'2022'}, axis=1) \n",
    "\n",
    "# Select data total for motives and reshape for plotly \n",
    "mobility_trend = mobility_trips[mobility_trips['motive'] == 'Total'] # this is double ??????\n",
    "mobility_trend = mobility_trend.drop(columns='motive')\n",
    "mobility_trend = mobility_trend.astype(float)\n",
    "mobility_trend.reset_index(inplace=True)\n",
    "display(mobility_trend)"
   ]
  },
  {
   "cell_type": "markdown",
   "metadata": {},
   "source": [
    "### data preperation subquestion 4\n"
   ]
  },
  {
   "cell_type": "code",
   "execution_count": 5,
   "metadata": {
    "tags": []
   },
   "outputs": [
    {
     "data": {
      "text/html": [
       "<div>\n",
       "<style scoped>\n",
       "    .dataframe tbody tr th:only-of-type {\n",
       "        vertical-align: middle;\n",
       "    }\n",
       "\n",
       "    .dataframe tbody tr th {\n",
       "        vertical-align: top;\n",
       "    }\n",
       "\n",
       "    .dataframe thead th {\n",
       "        text-align: right;\n",
       "    }\n",
       "</style>\n",
       "<table border=\"1\" class=\"dataframe\">\n",
       "  <thead>\n",
       "    <tr style=\"text-align: right;\">\n",
       "      <th></th>\n",
       "      <th>motive</th>\n",
       "      <th>2018</th>\n",
       "      <th>2019</th>\n",
       "      <th>2020</th>\n",
       "      <th>2021</th>\n",
       "      <th>2022</th>\n",
       "    </tr>\n",
       "    <tr>\n",
       "      <th>modes</th>\n",
       "      <th></th>\n",
       "      <th></th>\n",
       "      <th></th>\n",
       "      <th></th>\n",
       "      <th></th>\n",
       "      <th></th>\n",
       "    </tr>\n",
       "  </thead>\n",
       "  <tbody>\n",
       "    <tr>\n",
       "      <th>Total</th>\n",
       "      <td>Total</td>\n",
       "      <td>2.78</td>\n",
       "      <td>2.71</td>\n",
       "      <td>2.35</td>\n",
       "      <td>2.51</td>\n",
       "      <td>2.70</td>\n",
       "    </tr>\n",
       "    <tr>\n",
       "      <th>Total</th>\n",
       "      <td>Travel to/from work, (non)-daily commute</td>\n",
       "      <td>0.55</td>\n",
       "      <td>0.50</td>\n",
       "      <td>0.37</td>\n",
       "      <td>0.37</td>\n",
       "      <td>0.42</td>\n",
       "    </tr>\n",
       "    <tr>\n",
       "      <th>Total</th>\n",
       "      <td>Professionally</td>\n",
       "      <td>0.07</td>\n",
       "      <td>0.11</td>\n",
       "      <td>0.07</td>\n",
       "      <td>0.08</td>\n",
       "      <td>0.08</td>\n",
       "    </tr>\n",
       "    <tr>\n",
       "      <th>Total</th>\n",
       "      <td>Services/care</td>\n",
       "      <td>0.09</td>\n",
       "      <td>0.09</td>\n",
       "      <td>0.07</td>\n",
       "      <td>0.09</td>\n",
       "      <td>0.09</td>\n",
       "    </tr>\n",
       "    <tr>\n",
       "      <th>Total</th>\n",
       "      <td>Shopping, groceries, funshopping.</td>\n",
       "      <td>0.56</td>\n",
       "      <td>0.54</td>\n",
       "      <td>0.55</td>\n",
       "      <td>0.56</td>\n",
       "      <td>0.58</td>\n",
       "    </tr>\n",
       "    <tr>\n",
       "      <th>Total</th>\n",
       "      <td>Attending education/courses</td>\n",
       "      <td>0.23</td>\n",
       "      <td>0.22</td>\n",
       "      <td>0.14</td>\n",
       "      <td>0.14</td>\n",
       "      <td>0.18</td>\n",
       "    </tr>\n",
       "  </tbody>\n",
       "</table>\n",
       "</div>"
      ],
      "text/plain": [
       "                                         motive  2018  2019  2020  2021  2022\n",
       "modes                                                                        \n",
       "Total                                     Total  2.78  2.71  2.35  2.51  2.70\n",
       "Total  Travel to/from work, (non)-daily commute  0.55  0.50  0.37  0.37  0.42\n",
       "Total                            Professionally  0.07  0.11  0.07  0.08  0.08\n",
       "Total                             Services/care  0.09  0.09  0.07  0.09  0.09\n",
       "Total         Shopping, groceries, funshopping.  0.56  0.54  0.55  0.56  0.58\n",
       "Total               Attending education/courses  0.23  0.22  0.14  0.14  0.18"
      ]
     },
     "metadata": {},
     "output_type": "display_data"
    },
    {
     "data": {
      "text/html": [
       "<div>\n",
       "<style scoped>\n",
       "    .dataframe tbody tr th:only-of-type {\n",
       "        vertical-align: middle;\n",
       "    }\n",
       "\n",
       "    .dataframe tbody tr th {\n",
       "        vertical-align: top;\n",
       "    }\n",
       "\n",
       "    .dataframe thead th {\n",
       "        text-align: right;\n",
       "    }\n",
       "</style>\n",
       "<table border=\"1\" class=\"dataframe\">\n",
       "  <thead>\n",
       "    <tr style=\"text-align: right;\">\n",
       "      <th></th>\n",
       "      <th>2018</th>\n",
       "      <th>2019</th>\n",
       "      <th>2020</th>\n",
       "      <th>2021</th>\n",
       "      <th>2022</th>\n",
       "    </tr>\n",
       "    <tr>\n",
       "      <th>motive</th>\n",
       "      <th></th>\n",
       "      <th></th>\n",
       "      <th></th>\n",
       "      <th></th>\n",
       "      <th></th>\n",
       "    </tr>\n",
       "  </thead>\n",
       "  <tbody>\n",
       "    <tr>\n",
       "      <th>Professionally</th>\n",
       "      <td>0.07</td>\n",
       "      <td>0.11</td>\n",
       "      <td>0.07</td>\n",
       "      <td>0.08</td>\n",
       "      <td>0.08</td>\n",
       "    </tr>\n",
       "    <tr>\n",
       "      <th>Services/care</th>\n",
       "      <td>0.09</td>\n",
       "      <td>0.09</td>\n",
       "      <td>0.07</td>\n",
       "      <td>0.09</td>\n",
       "      <td>0.09</td>\n",
       "    </tr>\n",
       "    <tr>\n",
       "      <th>Attending education/courses</th>\n",
       "      <td>0.23</td>\n",
       "      <td>0.22</td>\n",
       "      <td>0.14</td>\n",
       "      <td>0.14</td>\n",
       "      <td>0.18</td>\n",
       "    </tr>\n",
       "    <tr>\n",
       "      <th>Travel to/from work, (non)-daily commute</th>\n",
       "      <td>0.55</td>\n",
       "      <td>0.50</td>\n",
       "      <td>0.37</td>\n",
       "      <td>0.37</td>\n",
       "      <td>0.42</td>\n",
       "    </tr>\n",
       "    <tr>\n",
       "      <th>Shopping, groceries, funshopping.</th>\n",
       "      <td>0.56</td>\n",
       "      <td>0.54</td>\n",
       "      <td>0.55</td>\n",
       "      <td>0.56</td>\n",
       "      <td>0.58</td>\n",
       "    </tr>\n",
       "    <tr>\n",
       "      <th>Total</th>\n",
       "      <td>2.78</td>\n",
       "      <td>2.71</td>\n",
       "      <td>2.35</td>\n",
       "      <td>2.51</td>\n",
       "      <td>2.70</td>\n",
       "    </tr>\n",
       "  </tbody>\n",
       "</table>\n",
       "</div>"
      ],
      "text/plain": [
       "                                          2018  2019  2020  2021  2022\n",
       "motive                                                                \n",
       "Professionally                            0.07  0.11  0.07  0.08  0.08\n",
       "Services/care                             0.09  0.09  0.07  0.09  0.09\n",
       "Attending education/courses               0.23  0.22  0.14  0.14  0.18\n",
       "Travel to/from work, (non)-daily commute  0.55  0.50  0.37  0.37  0.42\n",
       "Shopping, groceries, funshopping.         0.56  0.54  0.55  0.56  0.58\n",
       "Total                                     2.78  2.71  2.35  2.51  2.70"
      ]
     },
     "metadata": {},
     "output_type": "display_data"
    },
    {
     "data": {
      "text/html": [
       "<div>\n",
       "<style scoped>\n",
       "    .dataframe tbody tr th:only-of-type {\n",
       "        vertical-align: middle;\n",
       "    }\n",
       "\n",
       "    .dataframe tbody tr th {\n",
       "        vertical-align: top;\n",
       "    }\n",
       "\n",
       "    .dataframe thead th {\n",
       "        text-align: right;\n",
       "    }\n",
       "</style>\n",
       "<table border=\"1\" class=\"dataframe\">\n",
       "  <thead>\n",
       "    <tr style=\"text-align: right;\">\n",
       "      <th></th>\n",
       "      <th>2018</th>\n",
       "      <th>2019</th>\n",
       "      <th>2020</th>\n",
       "      <th>2021</th>\n",
       "      <th>2022</th>\n",
       "    </tr>\n",
       "    <tr>\n",
       "      <th>motive</th>\n",
       "      <th></th>\n",
       "      <th></th>\n",
       "      <th></th>\n",
       "      <th></th>\n",
       "      <th></th>\n",
       "    </tr>\n",
       "  </thead>\n",
       "  <tbody>\n",
       "    <tr>\n",
       "      <th>Professionally</th>\n",
       "      <td>0.07</td>\n",
       "      <td>0.11</td>\n",
       "      <td>0.07</td>\n",
       "      <td>0.08</td>\n",
       "      <td>0.08</td>\n",
       "    </tr>\n",
       "    <tr>\n",
       "      <th>Services/care</th>\n",
       "      <td>0.09</td>\n",
       "      <td>0.09</td>\n",
       "      <td>0.07</td>\n",
       "      <td>0.09</td>\n",
       "      <td>0.09</td>\n",
       "    </tr>\n",
       "    <tr>\n",
       "      <th>Attending education/courses</th>\n",
       "      <td>0.23</td>\n",
       "      <td>0.22</td>\n",
       "      <td>0.14</td>\n",
       "      <td>0.14</td>\n",
       "      <td>0.18</td>\n",
       "    </tr>\n",
       "    <tr>\n",
       "      <th>Travel to/from work, (non)-daily commute</th>\n",
       "      <td>0.55</td>\n",
       "      <td>0.50</td>\n",
       "      <td>0.37</td>\n",
       "      <td>0.37</td>\n",
       "      <td>0.42</td>\n",
       "    </tr>\n",
       "    <tr>\n",
       "      <th>Shopping, groceries, funshopping.</th>\n",
       "      <td>0.56</td>\n",
       "      <td>0.54</td>\n",
       "      <td>0.55</td>\n",
       "      <td>0.56</td>\n",
       "      <td>0.58</td>\n",
       "    </tr>\n",
       "    <tr>\n",
       "      <th>Total</th>\n",
       "      <td>2.78</td>\n",
       "      <td>2.71</td>\n",
       "      <td>2.35</td>\n",
       "      <td>2.51</td>\n",
       "      <td>2.70</td>\n",
       "    </tr>\n",
       "  </tbody>\n",
       "</table>\n",
       "</div>"
      ],
      "text/plain": [
       "                                          2018  2019  2020  2021  2022\n",
       "motive                                                                \n",
       "Professionally                            0.07  0.11  0.07  0.08  0.08\n",
       "Services/care                             0.09  0.09  0.07  0.09  0.09\n",
       "Attending education/courses               0.23  0.22  0.14  0.14  0.18\n",
       "Travel to/from work, (non)-daily commute  0.55  0.50  0.37  0.37  0.42\n",
       "Shopping, groceries, funshopping.         0.56  0.54  0.55  0.56  0.58\n",
       "Total                                     2.78  2.71  2.35  2.51  2.70"
      ]
     },
     "metadata": {},
     "output_type": "display_data"
    }
   ],
   "source": [
    "#The average amount of trips per day for every vehicle combined in 2022\n",
    "year = '2018'\n",
    "mobility_trips_total = mobility_trips[mobility_trips.index==\"Total\"]\n",
    "display(mobility_trips_total)\n",
    "mobility_trips_motive = mobility_trips_total.set_index(['motive']).sort_values(year)\n",
    "\n",
    "mobility_trips_years = mobility_trips_motive[years]\n",
    "display(mobility_trips_motive)\n",
    "display(mobility_trips_years)\n",
    "\n",
    "# Melt the data to create a 'year' column\n",
    "mobility_trips_years = mobility_trips_years.reset_index().melt(id_vars=['motive'], var_name='year', value_name='trips')"
   ]
  },
  {
   "cell_type": "markdown",
   "metadata": {
    "tags": []
   },
   "source": [
    "# Subquestion 1: How have fuel prices developed in the considered time in the Netherlands?\n",
    "Fuel prices can develop a lot throughout the year and in between years, in this subquestion the variations in fuel prices is analysed. The data is retrieved from CBS and the fuel prices of Euro95, Diesel and LPG are available on a daily basis. In this question the monthly values are considered and a visualisation is made out of the available data from 2018 until 2022. The changes in fuel prices can have multiple reasons and can be explained from different perspectives, such as environmental regulations, big global events, exchange rates and political events. It is expected that the fuel prices will rise because in the past years some global events, tax rises and inflation occured which have had a significant influence on the fuel prices.\n"
   ]
  },
  {
   "cell_type": "code",
   "execution_count": 106,
   "metadata": {
    "tags": []
   },
   "outputs": [
    {
     "name": "stderr",
     "output_type": "stream",
     "text": [
      "/Users/sathvikgadiraju/Documents/TU Delft/Coding/.venv/lib/python3.11/site-packages/_plotly_utils/basevalidators.py:105: FutureWarning:\n",
      "\n",
      "The behavior of DatetimeProperties.to_pydatetime is deprecated, in a future version this will return a Series containing python datetime objects instead of an ndarray. To retain the old behavior, call `np.array` on the result\n",
      "\n"
     ]
    },
    {
   "data": {
      "application/vnd.plotly.v1+json": {
       "config": {
        "plotlyServerURL": "https://plot.ly"
       },
       "data": [
        {
         "hovertemplate": "Fuel Type=Euro95<br>Year=%{x}<br>Price=%{y}<extra></extra>",
         "legendgroup": "Euro95",
         "line": {
          "color": "#636efa",
          "dash": "solid"
         },
         "marker": {
          "symbol": "circle"
         },
         "mode": "lines",
         "name": "Euro95",
         "orientation": "v",
         "showlegend": true,
         "type": "scatter",
         "x": [
          "2018-01-01T00:00:00",
          "2018-02-01T00:00:00",
          "2018-03-01T00:00:00",
          "2018-04-01T00:00:00",
          "2018-05-01T00:00:00",
          "2018-06-01T00:00:00",
          "2018-07-01T00:00:00",
          "2018-08-01T00:00:00",
          "2018-09-01T00:00:00",
          "2018-10-01T00:00:00",
          "2018-11-01T00:00:00",
          "2018-12-01T00:00:00",
          "2019-01-01T00:00:00",
          "2019-02-01T00:00:00",
          "2019-03-01T00:00:00",
          "2019-04-01T00:00:00",
          "2019-05-01T00:00:00",
          "2019-06-01T00:00:00",
          "2019-07-01T00:00:00",
          "2019-08-01T00:00:00",
          "2019-09-01T00:00:00",
          "2019-10-01T00:00:00",
          "2019-11-01T00:00:00",
          "2019-12-01T00:00:00",
          "2020-01-01T00:00:00",
          "2020-02-01T00:00:00",
          "2020-03-01T00:00:00",
          "2020-04-01T00:00:00",
          "2020-05-01T00:00:00",
          "2020-06-01T00:00:00",
          "2020-07-01T00:00:00",
          "2020-08-01T00:00:00",
          "2020-09-01T00:00:00",
          "2020-10-01T00:00:00",
          "2020-11-01T00:00:00",
          "2020-12-01T00:00:00",
          "2021-01-01T00:00:00",
          "2021-02-01T00:00:00",
          "2021-03-01T00:00:00",
          "2021-04-01T00:00:00",
          "2021-05-01T00:00:00",
          "2021-06-01T00:00:00",
          "2021-07-01T00:00:00",
          "2021-08-01T00:00:00",
          "2021-09-01T00:00:00",
          "2021-10-01T00:00:00",
          "2021-11-01T00:00:00",
          "2021-12-01T00:00:00",
          "2022-01-01T00:00:00",
          "2022-02-01T00:00:00",
          "2022-03-01T00:00:00",
          "2022-04-01T00:00:00",
          "2022-05-01T00:00:00",
          "2022-06-01T00:00:00",
          "2022-07-01T00:00:00",
          "2022-08-01T00:00:00",
          "2022-09-01T00:00:00",
          "2022-10-01T00:00:00",
          "2022-11-01T00:00:00",
          "2022-12-01T00:00:00"
         ],
         "xaxis": "x",
         "y": [
          1.589,
          1.566,
          1.545,
          1.608,
          1.668,
          1.66,
          1.661,
          1.683,
          1.68,
          1.657,
          1.583,
          1.512,
          1.545,
          1.578,
          1.619,
          1.702,
          1.724,
          1.663,
          1.672,
          1.65,
          1.648,
          1.643,
          1.657,
          1.663,
          1.697,
          1.664,
          1.567,
          1.468,
          1.482,
          1.539,
          1.561,
          1.564,
          1.564,
          1.558,
          1.525,
          1.553,
          1.615,
          1.676,
          1.73,
          1.746,
          1.773,
          1.793,
          1.832,
          1.836,
          1.852,
          1.942,
          2.004,
          1.968,
          1.989,
          2.049,
          2.29,
          2.088,
          2.187,
          2.353,
          2.209,
          2.065,
          1.967,
          1.995,
          1.912,
          1.759
         ],
         "yaxis": "y"
        },
        {
         "hovertemplate": "Fuel Type=Diesel<br>Year=%{x}<br>Price=%{y}<extra></extra>",
         "legendgroup": "Diesel",
         "line": {
          "color": "#EF553B",
          "dash": "solid"
         },
         "marker": {
          "symbol": "circle"
         },
         "mode": "lines",
         "name": "Diesel",
         "orientation": "v",
         "showlegend": true,
         "type": "scatter",
         "x": [
          "2018-01-01T00:00:00",
          "2018-02-01T00:00:00",
          "2018-03-01T00:00:00",
          "2018-04-01T00:00:00",
          "2018-05-01T00:00:00",
          "2018-06-01T00:00:00",
          "2018-07-01T00:00:00",
          "2018-08-01T00:00:00",
          "2018-09-01T00:00:00",
          "2018-10-01T00:00:00",
          "2018-11-01T00:00:00",
          "2018-12-01T00:00:00",
          "2019-01-01T00:00:00",
          "2019-02-01T00:00:00",
          "2019-03-01T00:00:00",
          "2019-04-01T00:00:00",
          "2019-05-01T00:00:00",
          "2019-06-01T00:00:00",
          "2019-07-01T00:00:00",
          "2019-08-01T00:00:00",
          "2019-09-01T00:00:00",
          "2019-10-01T00:00:00",
          "2019-11-01T00:00:00",
          "2019-12-01T00:00:00",
          "2020-01-01T00:00:00",
          "2020-02-01T00:00:00",
          "2020-03-01T00:00:00",
          "2020-04-01T00:00:00",
          "2020-05-01T00:00:00",
          "2020-06-01T00:00:00",
          "2020-07-01T00:00:00",
          "2020-08-01T00:00:00",
          "2020-09-01T00:00:00",
          "2020-10-01T00:00:00",
          "2020-11-01T00:00:00",
          "2020-12-01T00:00:00",
          "2021-01-01T00:00:00",
          "2021-02-01T00:00:00",
          "2021-03-01T00:00:00",
          "2021-04-01T00:00:00",
          "2021-05-01T00:00:00",
          "2021-06-01T00:00:00",
          "2021-07-01T00:00:00",
          "2021-08-01T00:00:00",
          "2021-09-01T00:00:00",
          "2021-10-01T00:00:00",
          "2021-11-01T00:00:00",
          "2021-12-01T00:00:00",
          "2022-01-01T00:00:00",
          "2022-02-01T00:00:00",
          "2022-03-01T00:00:00",
          "2022-04-01T00:00:00",
          "2022-05-01T00:00:00",
          "2022-06-01T00:00:00",
          "2022-07-01T00:00:00",
          "2022-08-01T00:00:00",
          "2022-09-01T00:00:00",
          "2022-10-01T00:00:00",
          "2022-11-01T00:00:00",
          "2022-12-01T00:00:00"
         ],
         "xaxis": "x",
         "y": [
          1.292,
          1.254,
          1.26,
          1.301,
          1.36,
          1.362,
          1.356,
          1.359,
          1.384,
          1.417,
          1.378,
          1.297,
          1.304,
          1.345,
          1.362,
          1.378,
          1.392,
          1.333,
          1.344,
          1.329,
          1.366,
          1.369,
          1.369,
          1.386,
          1.413,
          1.359,
          1.268,
          1.224,
          1.196,
          1.202,
          1.219,
          1.207,
          1.167,
          1.172,
          1.185,
          1.233,
          1.289,
          1.354,
          1.392,
          1.387,
          1.409,
          1.44,
          1.463,
          1.457,
          1.489,
          1.608,
          1.638,
          1.601,
          1.666,
          1.744,
          2.118,
          2.002,
          1.993,
          2.143,
          2.068,
          1.974,
          1.999,
          2.076,
          1.925,
          1.751
         ],
         "yaxis": "y"
        },
        {
         "hovertemplate": "Fuel Type=LPG<br>Year=%{x}<br>Price=%{y}<extra></extra>",
         "legendgroup": "LPG",
         "line": {
          "color": "#00cc96",
          "dash": "solid"
         },
         "marker": {
          "symbol": "circle"
         },
         "mode": "lines",
         "name": "LPG",
         "orientation": "v",
         "showlegend": true,
         "type": "scatter",
         "x": [
          "2018-01-01T00:00:00",
          "2018-02-01T00:00:00",
          "2018-03-01T00:00:00",
          "2018-04-01T00:00:00",
          "2018-05-01T00:00:00",
          "2018-06-01T00:00:00",
          "2018-07-01T00:00:00",
          "2018-08-01T00:00:00",
          "2018-09-01T00:00:00",
          "2018-10-01T00:00:00",
          "2018-11-01T00:00:00",
          "2018-12-01T00:00:00",
          "2019-01-01T00:00:00",
          "2019-02-01T00:00:00",
          "2019-03-01T00:00:00",
          "2019-04-01T00:00:00",
          "2019-05-01T00:00:00",
          "2019-06-01T00:00:00",
          "2019-07-01T00:00:00",
          "2019-08-01T00:00:00",
          "2019-09-01T00:00:00",
          "2019-10-01T00:00:00",
          "2019-11-01T00:00:00",
          "2019-12-01T00:00:00",
          "2020-01-01T00:00:00",
          "2020-02-01T00:00:00",
          "2020-03-01T00:00:00",
          "2020-04-01T00:00:00",
          "2020-05-01T00:00:00",
          "2020-06-01T00:00:00",
          "2020-07-01T00:00:00",
          "2020-08-01T00:00:00",
          "2020-09-01T00:00:00",
          "2020-10-01T00:00:00",
          "2020-11-01T00:00:00",
          "2020-12-01T00:00:00",
          "2021-01-01T00:00:00",
          "2021-02-01T00:00:00",
          "2021-03-01T00:00:00",
          "2021-04-01T00:00:00",
          "2021-05-01T00:00:00",
          "2021-06-01T00:00:00",
          "2021-07-01T00:00:00",
          "2021-08-01T00:00:00",
          "2021-09-01T00:00:00",
          "2021-10-01T00:00:00",
          "2021-11-01T00:00:00",
          "2021-12-01T00:00:00",
          "2022-01-01T00:00:00",
          "2022-02-01T00:00:00",
          "2022-03-01T00:00:00",
          "2022-04-01T00:00:00",
          "2022-05-01T00:00:00",
          "2022-06-01T00:00:00",
          "2022-07-01T00:00:00",
          "2022-08-01T00:00:00",
          "2022-09-01T00:00:00",
          "2022-10-01T00:00:00",
          "2022-11-01T00:00:00",
          "2022-12-01T00:00:00"
         ],
         "xaxis": "x",
         "y": [
          0.696,
          0.667,
          0.654,
          0.663,
          0.675,
          0.681,
          0.688,
          0.692,
          0.714,
          0.744,
          0.701,
          0.65,
          0.634,
          0.646,
          0.656,
          0.664,
          0.664,
          0.637,
          0.62,
          0.593,
          0.577,
          0.607,
          0.636,
          0.661,
          0.697,
          0.668,
          0.607,
          0.547,
          0.54,
          0.574,
          0.59,
          0.589,
          0.583,
          0.616,
          0.622,
          0.627,
          0.674,
          0.706,
          0.739,
          0.74,
          0.74,
          0.734,
          0.751,
          0.758,
          0.792,
          0.889,
          0.937,
          0.929,
          0.911,
          0.918,
          1.089,
          1.109,
          1.073,
          1.007,
          0.9,
          0.849,
          0.841,
          0.834,
          0.824,
          0.796
         ],
         "yaxis": "y"
        },
        {
         "hovertemplate": "Fuel Type=Average<br>Year=%{x}<br>Price=%{y}<extra></extra>",
         "legendgroup": "Average",
         "line": {
          "color": "#ab63fa",
          "dash": "solid"
         },
         "marker": {
          "symbol": "circle"
         },
         "mode": "lines",
         "name": "Average",
         "orientation": "v",
         "showlegend": true,
         "type": "scatter",
         "x": [
          "2018-01-01T00:00:00",
          "2018-02-01T00:00:00",
          "2018-03-01T00:00:00",
          "2018-04-01T00:00:00",
          "2018-05-01T00:00:00",
          "2018-06-01T00:00:00",
          "2018-07-01T00:00:00",
          "2018-08-01T00:00:00",
          "2018-09-01T00:00:00",
          "2018-10-01T00:00:00",
          "2018-11-01T00:00:00",
          "2018-12-01T00:00:00",
          "2019-01-01T00:00:00",
          "2019-02-01T00:00:00",
          "2019-03-01T00:00:00",
          "2019-04-01T00:00:00",
          "2019-05-01T00:00:00",
          "2019-06-01T00:00:00",
          "2019-07-01T00:00:00",
          "2019-08-01T00:00:00",
          "2019-09-01T00:00:00",
          "2019-10-01T00:00:00",
          "2019-11-01T00:00:00",
          "2019-12-01T00:00:00",
          "2020-01-01T00:00:00",
          "2020-02-01T00:00:00",
          "2020-03-01T00:00:00",
          "2020-04-01T00:00:00",
          "2020-05-01T00:00:00",
          "2020-06-01T00:00:00",
          "2020-07-01T00:00:00",
          "2020-08-01T00:00:00",
          "2020-09-01T00:00:00",
          "2020-10-01T00:00:00",
          "2020-11-01T00:00:00",
          "2020-12-01T00:00:00",
          "2021-01-01T00:00:00",
          "2021-02-01T00:00:00",
          "2021-03-01T00:00:00",
          "2021-04-01T00:00:00",
          "2021-05-01T00:00:00",
          "2021-06-01T00:00:00",
          "2021-07-01T00:00:00",
          "2021-08-01T00:00:00",
          "2021-09-01T00:00:00",
          "2021-10-01T00:00:00",
          "2021-11-01T00:00:00",
          "2021-12-01T00:00:00",
          "2022-01-01T00:00:00",
          "2022-02-01T00:00:00",
          "2022-03-01T00:00:00",
          "2022-04-01T00:00:00",
          "2022-05-01T00:00:00",
          "2022-06-01T00:00:00",
          "2022-07-01T00:00:00",
          "2022-08-01T00:00:00",
          "2022-09-01T00:00:00",
          "2022-10-01T00:00:00",
          "2022-11-01T00:00:00",
          "2022-12-01T00:00:00"
         ],
         "xaxis": "x",
         "y": [
          1.1923333333333332,
          1.1623333333333334,
          1.1529999999999998,
          1.1906666666666668,
          1.2343333333333335,
          1.2343333333333335,
          1.235,
          1.2446666666666666,
          1.2593333333333334,
          1.2726666666666666,
          1.2206666666666666,
          1.153,
          1.161,
          1.1896666666666667,
          1.2123333333333333,
          1.248,
          1.26,
          1.211,
          1.212,
          1.1906666666666668,
          1.197,
          1.2063333333333333,
          1.2206666666666666,
          1.2366666666666666,
          1.2690000000000001,
          1.2303333333333333,
          1.1473333333333333,
          1.0796666666666668,
          1.0726666666666667,
          1.1049999999999998,
          1.1233333333333333,
          1.1199999999999999,
          1.1046666666666667,
          1.1153333333333333,
          1.1106666666666667,
          1.1376666666666668,
          1.1926666666666665,
          1.2453333333333334,
          1.287,
          1.2910000000000001,
          1.3073333333333332,
          1.3223333333333331,
          1.3486666666666667,
          1.3503333333333334,
          1.3776666666666666,
          1.4796666666666667,
          1.5263333333333333,
          1.4993333333333334,
          1.5220000000000002,
          1.5703333333333334,
          1.8323333333333334,
          1.7329999999999999,
          1.7510000000000001,
          1.8343333333333334,
          1.725666666666667,
          1.6293333333333333,
          1.6023333333333334,
          1.6349999999999998,
          1.5536666666666665,
          1.4353333333333333
         ],
         "yaxis": "y"
        }
       ],
       "layout": {
 e31f8d81e5dd03e7217d4d93510f86c47a6b050e
        "legend": {
         "title": {
          "text": "Fuel Type"
         },
         "tracegroupgap": 0
        },
        "margin": {
         "t": 60
        },
        "shapes": [
         {
          "fillcolor": "green",
          "line": {
           "width": 0
          },
          "opacity": 0.25,
          "type": "rect",
          "x0": "2020-03",
          "x1": "2022-05",
          "xref": "x",
          "y0": 0,
          "y1": 1,
          "yref": "y domain"
         },
         {
          "fillcolor": "blue",
          "line": {
           "width": 0
          },
          "opacity": 0.25,
          "type": "rect",
          "x0": "2022-03",
          "x1": "2022-12",
          "xref": "x",
          "y0": 0,
          "y1": 1,
          "yref": "y domain"
         }
        ],
        "template": {
         "data": {
          "bar": [
           {
            "error_x": {
             "color": "#2a3f5f"
            },
            "error_y": {
             "color": "#2a3f5f"
            },
            "marker": {
             "line": {
              "color": "#E5ECF6",
              "width": 0.5
             },
             "pattern": {
              "fillmode": "overlay",
              "size": 10,
              "solidity": 0.2
             }
            },
            "type": "bar"
           }
          ],
          "barpolar": [
           {
            "marker": {
             "line": {
              "color": "#E5ECF6",
              "width": 0.5
             },
             "pattern": {
              "fillmode": "overlay",
              "size": 10,
              "solidity": 0.2
             }
            },
            "type": "barpolar"
           }
          ],
          "carpet": [
           {
            "aaxis": {
             "endlinecolor": "#2a3f5f",
             "gridcolor": "white",
             "linecolor": "white",
             "minorgridcolor": "white",
             "startlinecolor": "#2a3f5f"
            },
            "baxis": {
             "endlinecolor": "#2a3f5f",
             "gridcolor": "white",
             "linecolor": "white",
             "minorgridcolor": "white",
             "startlinecolor": "#2a3f5f"
            },
            "type": "carpet"
           }
          ],
          "choropleth": [
           {
            "colorbar": {
             "outlinewidth": 0,
             "ticks": ""
            },
            "type": "choropleth"
           }
          ],
          "contour": [
           {
            "colorbar": {
             "outlinewidth": 0,
             "ticks": ""
            },
            "colorscale": [
             [
              0,
              "#0d0887"
             ],
             [
              0.1111111111111111,
              "#46039f"
             ],
             [
              0.2222222222222222,
              "#7201a8"
             ],
             [
              0.3333333333333333,
              "#9c179e"
             ],
             [
              0.4444444444444444,
              "#bd3786"
             ],
             [
              0.5555555555555556,
              "#d8576b"
             ],
             [
              0.6666666666666666,
              "#ed7953"
             ],
             [
              0.7777777777777778,
              "#fb9f3a"
             ],
             [
              0.8888888888888888,
              "#fdca26"
             ],
             [
              1,
              "#f0f921"
             ]
            ],
            "type": "contour"
           }
          ],
          "contourcarpet": [
           {
            "colorbar": {
             "outlinewidth": 0,
             "ticks": ""
            },
            "type": "contourcarpet"
           }
          ],
          "heatmap": [
           {
            "colorbar": {
             "outlinewidth": 0,
             "ticks": ""
            },
            "colorscale": [
             [
              0,
              "#0d0887"
             ],
             [
              0.1111111111111111,
              "#46039f"
             ],
             [
              0.2222222222222222,
              "#7201a8"
             ],
             [
              0.3333333333333333,
              "#9c179e"
             ],
             [
              0.4444444444444444,
              "#bd3786"
             ],
             [
              0.5555555555555556,
              "#d8576b"
             ],
             [
              0.6666666666666666,
              "#ed7953"
             ],
             [
              0.7777777777777778,
              "#fb9f3a"
             ],
             [
              0.8888888888888888,
              "#fdca26"
             ],
             [
              1,
              "#f0f921"
             ]
            ],
            "type": "heatmap"
           }
          ],
          "heatmapgl": [
           {
            "colorbar": {
             "outlinewidth": 0,
             "ticks": ""
            },
            "colorscale": [
             [
              0,
              "#0d0887"
             ],
             [
              0.1111111111111111,
              "#46039f"
             ],
             [
              0.2222222222222222,
              "#7201a8"
             ],
             [
              0.3333333333333333,
              "#9c179e"
             ],
             [
              0.4444444444444444,
              "#bd3786"
             ],
             [
              0.5555555555555556,
              "#d8576b"
             ],
             [
              0.6666666666666666,
              "#ed7953"
             ],
             [
              0.7777777777777778,
              "#fb9f3a"
             ],
             [
              0.8888888888888888,
              "#fdca26"
             ],
             [
              1,
              "#f0f921"
             ]
            ],
            "type": "heatmapgl"
           }
          ],
          "histogram": [
           {
            "marker": {
             "pattern": {
              "fillmode": "overlay",
              "size": 10,
              "solidity": 0.2
             }
            },
            "type": "histogram"
           }
          ],
          "histogram2d": [
           {
            "colorbar": {
             "outlinewidth": 0,
             "ticks": ""
            },
            "colorscale": [
             [
              0,
              "#0d0887"
             ],
             [
              0.1111111111111111,
              "#46039f"
             ],
             [
              0.2222222222222222,
              "#7201a8"
             ],
             [
              0.3333333333333333,
              "#9c179e"
             ],
             [
              0.4444444444444444,
              "#bd3786"
             ],
             [
              0.5555555555555556,
              "#d8576b"
             ],
             [
              0.6666666666666666,
              "#ed7953"
             ],
             [
              0.7777777777777778,
              "#fb9f3a"
             ],
             [
              0.8888888888888888,
              "#fdca26"
             ],
             [
              1,
              "#f0f921"
             ]
            ],
            "type": "histogram2d"
           }
          ],
          "histogram2dcontour": [
           {
            "colorbar": {
             "outlinewidth": 0,
             "ticks": ""
            },
            "colorscale": [
             [
              0,
              "#0d0887"
             ],
             [
              0.1111111111111111,
              "#46039f"
             ],
             [
              0.2222222222222222,
              "#7201a8"
             ],
             [
              0.3333333333333333,
              "#9c179e"
             ],
             [
              0.4444444444444444,
              "#bd3786"
             ],
             [
              0.5555555555555556,
              "#d8576b"
             ],
             [
              0.6666666666666666,
              "#ed7953"
             ],
             [
              0.7777777777777778,
              "#fb9f3a"
             ],
             [
              0.8888888888888888,
              "#fdca26"
             ],
             [
              1,
              "#f0f921"
             ]
            ],
            "type": "histogram2dcontour"
           }
          ],
          "mesh3d": [
           {
            "colorbar": {
             "outlinewidth": 0,
             "ticks": ""
            },
            "type": "mesh3d"
           }
          ],
          "parcoords": [
           {
            "line": {
             "colorbar": {
              "outlinewidth": 0,
              "ticks": ""
             }
            },
            "type": "parcoords"
           }
          ],
          "pie": [
           {
            "automargin": true,
            "type": "pie"
           }
          ],
          "scatter": [
           {
            "fillpattern": {
             "fillmode": "overlay",
             "size": 10,
             "solidity": 0.2
            },
            "type": "scatter"
           }
          ],
          "scatter3d": [
           {
            "line": {
             "colorbar": {
              "outlinewidth": 0,
              "ticks": ""
             }
            },
            "marker": {
             "colorbar": {
              "outlinewidth": 0,
              "ticks": ""
             }
            },
            "type": "scatter3d"
           }
          ],
          "scattercarpet": [
           {
            "marker": {
             "colorbar": {
              "outlinewidth": 0,
              "ticks": ""
             }
            },
            "type": "scattercarpet"
           }
          ],
          "scattergeo": [
           {
            "marker": {
             "colorbar": {
              "outlinewidth": 0,
              "ticks": ""
             }
            },
            "type": "scattergeo"
           }
          ],
          "scattergl": [
           {
            "marker": {
             "colorbar": {
              "outlinewidth": 0,
              "ticks": ""
             }
            },
            "type": "scattergl"
           }
          ],
          "scattermapbox": [
           {
            "marker": {
             "colorbar": {
              "outlinewidth": 0,
              "ticks": ""
             }
            },
            "type": "scattermapbox"
           }
          ],
          "scatterpolar": [
           {
            "marker": {
             "colorbar": {
              "outlinewidth": 0,
              "ticks": ""
             }
            },
            "type": "scatterpolar"
           }
          ],
          "scatterpolargl": [
           {
            "marker": {
             "colorbar": {
              "outlinewidth": 0,
              "ticks": ""
             }
            },
            "type": "scatterpolargl"
           }
          ],
          "scatterternary": [
           {
            "marker": {
             "colorbar": {
              "outlinewidth": 0,
              "ticks": ""
             }
            },
            "type": "scatterternary"
           }
          ],
          "surface": [
           {
            "colorbar": {
             "outlinewidth": 0,
             "ticks": ""
            },
            "colorscale": [
             [
              0,
              "#0d0887"
             ],
             [
              0.1111111111111111,
              "#46039f"
             ],
             [
              0.2222222222222222,
              "#7201a8"
             ],
             [
              0.3333333333333333,
              "#9c179e"
             ],
             [
              0.4444444444444444,
              "#bd3786"
             ],
             [
              0.5555555555555556,
              "#d8576b"
             ],
             [
              0.6666666666666666,
              "#ed7953"
             ],
             [
              0.7777777777777778,
              "#fb9f3a"
             ],
             [
              0.8888888888888888,
              "#fdca26"
             ],
             [
              1,
              "#f0f921"
             ]
            ],
            "type": "surface"
           }
          ],
          "table": [
           {
            "cells": {
             "fill": {
              "color": "#EBF0F8"
             },
             "line": {
              "color": "white"
             }
            },
            "header": {
             "fill": {
              "color": "#C8D4E3"
             },
             "line": {
              "color": "white"
             }
            },
            "type": "table"
           }
          ]
         },
         "layout": {
          "annotationdefaults": {
           "arrowcolor": "#2a3f5f",
           "arrowhead": 0,
           "arrowwidth": 1
          },
          "autotypenumbers": "strict",
          "coloraxis": {
           "colorbar": {
            "outlinewidth": 0,
            "ticks": ""
           }
          },
          "colorscale": {
           "diverging": [
            [
             0,
             "#8e0152"
            ],
            [
             0.1,
             "#c51b7d"
            ],
            [
             0.2,
             "#de77ae"
            ],
            [
             0.3,
             "#f1b6da"
            ],
            [
             0.4,
             "#fde0ef"
            ],
            [
             0.5,
             "#f7f7f7"
            ],
            [
             0.6,
             "#e6f5d0"
            ],
            [
             0.7,
             "#b8e186"
            ],
            [
             0.8,
             "#7fbc41"
            ],
            [
             0.9,
             "#4d9221"
            ],
            [
             1,
             "#276419"
            ]
           ],
           "sequential": [
            [
             0,
             "#0d0887"
            ],
            [
             0.1111111111111111,
             "#46039f"
            ],
            [
             0.2222222222222222,
             "#7201a8"
            ],
            [
             0.3333333333333333,
             "#9c179e"
            ],
            [
             0.4444444444444444,
             "#bd3786"
            ],
            [
             0.5555555555555556,
             "#d8576b"
            ],
            [
             0.6666666666666666,
             "#ed7953"
            ],
            [
             0.7777777777777778,
             "#fb9f3a"
            ],
            [
             0.8888888888888888,
             "#fdca26"
            ],
            [
             1,
             "#f0f921"
            ]
           ],
           "sequentialminus": [
            [
             0,
             "#0d0887"
            ],
            [
             0.1111111111111111,
             "#46039f"
            ],
            [
             0.2222222222222222,
             "#7201a8"
            ],
            [
             0.3333333333333333,
             "#9c179e"
            ],
            [
             0.4444444444444444,
             "#bd3786"
            ],
            [
             0.5555555555555556,
             "#d8576b"
            ],
            [
             0.6666666666666666,
             "#ed7953"
            ],
            [
             0.7777777777777778,
             "#fb9f3a"
            ],
            [
             0.8888888888888888,
             "#fdca26"
            ],
            [
             1,
             "#f0f921"
            ]
           ]
          },
          "colorway": [
           "#636efa",
           "#EF553B",
           "#00cc96",
           "#ab63fa",
           "#FFA15A",
           "#19d3f3",
           "#FF6692",
           "#B6E880",
           "#FF97FF",
           "#FECB52"
          ],
          "font": {
           "color": "#2a3f5f"
          },
          "geo": {
           "bgcolor": "white",
           "lakecolor": "white",
           "landcolor": "#E5ECF6",
           "showlakes": true,
           "showland": true,
           "subunitcolor": "white"
          },
          "hoverlabel": {
           "align": "left"
          },
          "hovermode": "closest",
          "mapbox": {
           "style": "light"
          },
          "paper_bgcolor": "white",
          "plot_bgcolor": "#E5ECF6",
          "polar": {
           "angularaxis": {
            "gridcolor": "white",
            "linecolor": "white",
            "ticks": ""
           },
           "bgcolor": "#E5ECF6",
           "radialaxis": {
            "gridcolor": "white",
            "linecolor": "white",
            "ticks": ""
           }
          },
          "scene": {
           "xaxis": {
            "backgroundcolor": "#E5ECF6",
            "gridcolor": "white",
            "gridwidth": 2,
            "linecolor": "white",
            "showbackground": true,
            "ticks": "",
            "zerolinecolor": "white"
           },
           "yaxis": {
            "backgroundcolor": "#E5ECF6",
            "gridcolor": "white",
            "gridwidth": 2,
            "linecolor": "white",
            "showbackground": true,
            "ticks": "",
            "zerolinecolor": "white"
           },
           "zaxis": {
            "backgroundcolor": "#E5ECF6",
            "gridcolor": "white",
            "gridwidth": 2,
            "linecolor": "white",
            "showbackground": true,
            "ticks": "",
            "zerolinecolor": "white"
           }
          },
          "shapedefaults": {
           "line": {
            "color": "#2a3f5f"
           }
          },
          "ternary": {
           "aaxis": {
            "gridcolor": "white",
            "linecolor": "white",
            "ticks": ""
           },
           "baxis": {
            "gridcolor": "white",
            "linecolor": "white",
            "ticks": ""
           },
           "bgcolor": "#E5ECF6",
           "caxis": {
            "gridcolor": "white",
            "linecolor": "white",
            "ticks": ""
           }
          },
          "title": {
           "x": 0.05
          },
          "xaxis": {
           "automargin": true,
           "gridcolor": "white",
           "linecolor": "white",
           "ticks": "",
           "title": {
            "standoff": 15
           },
           "zerolinecolor": "white",
           "zerolinewidth": 2
          },
          "yaxis": {
           "automargin": true,
           "gridcolor": "white",
           "linecolor": "white",
           "ticks": "",
           "title": {
            "standoff": 15
           },
           "zerolinecolor": "white",
           "zerolinewidth": 2
          }
         }
        },
        "xaxis": {
         "anchor": "y",
         "domain": [
          0,
          1
         ],
         "title": {
          "text": "Year"
         }
        },
        "yaxis": {
         "anchor": "x",
         "domain": [
          0,
          1
         ],
         "title": {
          "text": "Price"
         }
        }
       }
      }
     },
     "metadata": {},
     "output_type": "display_data"
    }
   ],
   "source": [
    "# Plot fuel prices per month 2018-2022\n",
    "fig = px.line(melted_fuel_prices, x='Months', y='Price', color='Fuel Type',\n",
    "              labels={'Months': 'Year', 'Price': 'Price', 'Fuel Type': 'Fuel Type'})\n",
    "fig.update_layout(legend_title='Fuel Type')\n",
    "fig.add_vrect(x0=\"2020-03\", x1=\"2022-05\", \n",
    "              annotation_text=\"COVID \", annotation_position=\"top left\",\n",
    "              fillcolor=\"green\", opacity=0.25, line_width=0)\n",
    "fig.add_vrect(x0=\"2022-03\", x1=\"2022-12\", \n",
    "              annotation_text=\"War \", annotation_position=\"top right\",\n",
    "              fillcolor=\"blue\", opacity=0.25, line_width=0)\n",
    "fig.show()"
   ]
  },
  {
   "cell_type": "markdown",
   "metadata": {},
   "source": [
    "In this graph, It can be seen that LPG has had a slightly divergent development in terms of price in recent years. Diesel and Euro95 are going through a similar development. However, from 2021 the price of diesel has been increasing all along, possibly because of the war between Russia and Ukraine.The price of Euro95 has dropped a little, the price of LPG has experienced a significant drop."
   ]
  },
  {
   "cell_type": "code",


   "execution_count": 111,
   "metadata": {
    "tags": []
   },
   "outputs": [
    {
     "data": {
      "text/html": [
       "<div>\n",
       "<style scoped>\n",
       "    .dataframe tbody tr th:only-of-type {\n",
       "        vertical-align: middle;\n",
       "    }\n",
       "\n",
       "    .dataframe tbody tr th {\n",
       "        vertical-align: top;\n",
       "    }\n",
       "\n",
       "    .dataframe thead th {\n",
       "        text-align: right;\n",
       "    }\n",
       "</style>\n",
       "<table border=\"1\" class=\"dataframe\">\n",
       "  <thead>\n",
       "    <tr style=\"text-align: right;\">\n",
       "      <th>Fuel_Type</th>\n",
       "      <th>Year</th>\n",
       "      <th>Average_YoY</th>\n",
       "      <th>Diesel_YoY</th>\n",
       "      <th>Euro95_YoY</th>\n",
       "      <th>LPG_YoY</th>\n",
       "    </tr>\n",
       "  </thead>\n",
       "  <tbody>\n",
       "    <tr>\n",
       "      <th>0</th>\n",
       "      <td>2018</td>\n",
       "      <td>0.000000</td>\n",
       "      <td>0.000000</td>\n",
       "      <td>0.000000</td>\n",
       "      <td>0.000000</td>\n",
       "    </tr>\n",
       "    <tr>\n",
       "      <th>1</th>\n",
       "      <td>2019</td>\n",
       "      <td>-0.048102</td>\n",
       "      <td>1.604245</td>\n",
       "      <td>1.813311</td>\n",
       "      <td>-7.659574</td>\n",
       "    </tr>\n",
       "    <tr>\n",
       "      <th>2</th>\n",
       "      <td>2020</td>\n",
       "      <td>-6.391512</td>\n",
       "      <td>-8.797690</td>\n",
       "      <td>-5.171018</td>\n",
       "      <td>-4.410797</td>\n",
       "    </tr>\n",
       "    <tr>\n",
       "      <th>3</th>\n",
       "      <td>2021</td>\n",
       "      <td>19.183783</td>\n",
       "      <td>18.066689</td>\n",
       "      <td>16.140220</td>\n",
       "      <td>29.325069</td>\n",
       "    </tr>\n",
       "    <tr>\n",
       "      <th>4</th>\n",
       "      <td>2022</td>\n",
       "      <td>22.163794</td>\n",
       "      <td>33.844925</td>\n",
       "      <td>14.223366</td>\n",
       "      <td>18.766642</td>\n",
       "    </tr>\n",
       "  </tbody>\n",
       "</table>\n",
       "</div>"
      ],
      "text/plain": [
       "Fuel_Type  Year  Average_YoY  Diesel_YoY  Euro95_YoY    LPG_YoY\n",
       "0          2018     0.000000    0.000000    0.000000   0.000000\n",
       "1          2019    -0.048102    1.604245    1.813311  -7.659574\n",
       "2          2020    -6.391512   -8.797690   -5.171018  -4.410797\n",
       "3          2021    19.183783   18.066689   16.140220  29.325069\n",
       "4          2022    22.163794   33.844925   14.223366  18.766642"
      ]
     },
     "metadata": {},
     "output_type": "display_data"
    }
   ],
   "source": [
    "# Reshape data for year to year plot\n",
    "fuel_prices_yearly = fuel_prices.resample('Y').mean() \n",
    "fuel_prices_yearly['Average'] = fuel_prices_yearly.mean(axis=1)\n",
    "fuel_prices_yearly['Year'] = fuel_prices_yearly.index.strftime('%Y')\n",
    "fuel_prices_yearly = fuel_prices_yearly.set_index('Year')\n",
    "fuel_prices_yearly.reset_index(level=0, inplace=True)\n",
    "\n",
    "# Calculate Year-over-Year percentage changes for each fuel type\n",
    "fuel_data_yearly = fuel_prices_yearly\n",
    "fuel_types = ['Euro95', 'Diesel', 'LPG', 'Average']\n",
    "for fuel_type in fuel_types:\n",
    "    column_name = f\"{fuel_type}_YoY\"\n",
    "    fuel_data_yearly[column_name] = fuel_data_yearly[fuel_type].pct_change() * 100\n",
    "\n",
    "# Insert '0' YoY change for the year 2019 (second year)\n",
    "for fuel_type in fuel_types:\n",
    "    column_name = f\"{fuel_type}_YoY\"\n",
    "    fuel_data_yearly.at[0, column_name] = 0\n",
    "\n",
    "# Create a long-form DataFrame for Plotly Express\n",
    "melted_fuel_data = fuel_data_yearly.melt(id_vars='Year', value_vars=[f\"{fuel_type}_YoY\" for fuel_type in fuel_types], var_name='Fuel_Type', value_name='YoY_Change')\n",
    "Fuel_Yoy = pivot_df = melted_fuel_data.pivot(index='Year', columns='Fuel_Type', values='YoY_Change').reset_index()\n",
    "\n",
    "display(Fuel_Yoy)"
   ]
  },
  {
   "cell_type": "code",
   "execution_count": 50,
   "metadata": {},
   "outputs": [
    {
     "data": {
      "application/vnd.plotly.v1+json": {
       "config": {
        "plotlyServerURL": "https://plot.ly"
       },
       "data": [
        {
         "hovertemplate": "Fuel_Type=Euro95_YoY<br>Year=%{x}<br>YoY_Change=%{y}<extra></extra>",
         "legendgroup": "Euro95_YoY",
         "line": {
          "color": "#636efa",
          "dash": "solid"
         },
         "marker": {
          "symbol": "circle"
         },
         "mode": "lines",
         "name": "Euro95_YoY",
         "orientation": "v",
         "showlegend": true,
         "type": "scatter",
         "x": [
          "2018",
          "2019",
          "2020",
          "2021",
          "2022"
         ],
         "xaxis": "x",
         "y": [
          0,
          1.813311353801783,
          -5.171018012548068,
          16.140219827126234,
          14.223365645242803
         ],
         "yaxis": "y"
        },
        {
         "hovertemplate": "Fuel_Type=Diesel_YoY<br>Year=%{x}<br>YoY_Change=%{y}<extra></extra>",
         "legendgroup": "Diesel_YoY",
         "line": {
          "color": "#EF553B",
          "dash": "solid"
         },
         "marker": {
          "symbol": "circle"
         },
         "mode": "lines",
         "name": "Diesel_YoY",
         "orientation": "v",
         "showlegend": true,
         "type": "scatter",
         "x": [
          "2018",
          "2019",
          "2020",
          "2021",
          "2022"
         ],
         "xaxis": "x",
         "y": [
          0,
          1.6042446941323396,
          -8.79768999201328,
          18.066689120916134,
          33.84492497289895
         ],
         "yaxis": "y"
        },
        {
         "hovertemplate": "Fuel_Type=LPG_YoY<br>Year=%{x}<br>YoY_Change=%{y}<extra></extra>",
         "legendgroup": "LPG_YoY",
         "line": {
          "color": "#00cc96",
          "dash": "solid"
         },
         "marker": {
          "symbol": "circle"
         },
         "mode": "lines",
         "name": "LPG_YoY",
         "orientation": "v",
         "showlegend": true,
         "type": "scatter",
         "x": [
          "2018",
          "2019",
          "2020",
          "2021",
          "2022"
         ],
         "xaxis": "x",
         "y": [
          0,
          -7.659574468085106,
          -4.410796576695198,
          29.325068870523417,
          18.766641814889763
         ],
         "yaxis": "y"
        },
        {
         "hovertemplate": "Fuel_Type=Average_YoY<br>Year=%{x}<br>YoY_Change=%{y}<extra></extra>",
         "legendgroup": "Average_YoY",
         "line": {
          "color": "#ab63fa",
          "dash": "solid"
         },
         "marker": {
          "symbol": "circle"
         },
         "mode": "lines",
         "name": "Average_YoY",
         "orientation": "v",
         "showlegend": true,
         "type": "scatter",
         "x": [
          "2018",
          "2019",
          "2020",
          "2021",
          "2022"
         ],
         "xaxis": "x",
         "y": [
          0,
          -0.04810225164350035,
          -6.391511595929966,
          19.183783386784814,
          22.16379434299447
         ],
         "yaxis": "y"
        }
       ],
       "layout": {
        "annotations": [
         {
          "showarrow": false,
          "text": "COVID ",
          "x": 2.25,
          "xanchor": "left",
          "xref": "x",
          "y": 1,
          "yanchor": "top",
          "yref": "y domain"
         },
         {
          "showarrow": false,
          "text": "War ",
          "x": "2022-12",
          "xanchor": "right",
          "xref": "x",
          "y": 1,
          "yanchor": "top",
          "yref": "y domain"
         }
        ],
        "legend": {
         "title": {
          "text": "Fuel Type"
         },
         "tracegroupgap": 0
        },
        "shapes": [
         {
          "fillcolor": "green",
          "line": {
           "width": 0
          },
          "opacity": 0.25,
          "type": "rect",
          "x0": 2.25,
          "x1": 4,
          "xref": "x",
          "y0": 0,
          "y1": 1,
          "yref": "y domain"
         },
         {
          "fillcolor": "blue",
          "line": {
           "width": 0
          },
          "opacity": 0.25,
          "type": "rect",
          "x0": "2022-03",
          "x1": "2022-12",
          "xref": "x",
          "y0": 0,
          "y1": 1,
          "yref": "y domain"
         }
        ],
        "template": {
         "data": {
          "bar": [
           {
            "error_x": {
             "color": "#2a3f5f"
            },
            "error_y": {
             "color": "#2a3f5f"
            },
            "marker": {
             "line": {
              "color": "#E5ECF6",
              "width": 0.5
             },
             "pattern": {
              "fillmode": "overlay",
              "size": 10,
              "solidity": 0.2
             }
            },
            "type": "bar"
           }
          ],
          "barpolar": [
           {
            "marker": {
             "line": {
              "color": "#E5ECF6",
              "width": 0.5
             },
             "pattern": {
              "fillmode": "overlay",
              "size": 10,
              "solidity": 0.2
             }
            },
            "type": "barpolar"
           }
          ],
          "carpet": [
           {
            "aaxis": {
             "endlinecolor": "#2a3f5f",
             "gridcolor": "white",
             "linecolor": "white",
             "minorgridcolor": "white",
             "startlinecolor": "#2a3f5f"
            },
            "baxis": {
             "endlinecolor": "#2a3f5f",
             "gridcolor": "white",
             "linecolor": "white",
             "minorgridcolor": "white",
             "startlinecolor": "#2a3f5f"
            },
            "type": "carpet"
           }
          ],
          "choropleth": [
           {
            "colorbar": {
             "outlinewidth": 0,
             "ticks": ""
            },
            "type": "choropleth"
           }
          ],
          "contour": [
           {
            "colorbar": {
             "outlinewidth": 0,
             "ticks": ""
            },
            "colorscale": [
             [
              0,
              "#0d0887"
             ],
             [
              0.1111111111111111,
              "#46039f"
             ],
             [
              0.2222222222222222,
              "#7201a8"
             ],
             [
              0.3333333333333333,
              "#9c179e"
             ],
             [
              0.4444444444444444,
              "#bd3786"
             ],
             [
              0.5555555555555556,
              "#d8576b"
             ],
             [
              0.6666666666666666,
              "#ed7953"
             ],
             [
              0.7777777777777778,
              "#fb9f3a"
             ],
             [
              0.8888888888888888,
              "#fdca26"
             ],
             [
              1,
              "#f0f921"
             ]
            ],
            "type": "contour"
           }
          ],
          "contourcarpet": [
           {
            "colorbar": {
             "outlinewidth": 0,
             "ticks": ""
            },
            "type": "contourcarpet"
           }
          ],
          "heatmap": [
           {
            "colorbar": {
             "outlinewidth": 0,
             "ticks": ""
            },
            "colorscale": [
             [
              0,
              "#0d0887"
             ],
             [
              0.1111111111111111,
              "#46039f"
             ],
             [
              0.2222222222222222,
              "#7201a8"
             ],
             [
              0.3333333333333333,
              "#9c179e"
             ],
             [
              0.4444444444444444,
              "#bd3786"
             ],
             [
              0.5555555555555556,
              "#d8576b"
             ],
             [
              0.6666666666666666,
              "#ed7953"
             ],
             [
              0.7777777777777778,
              "#fb9f3a"
             ],
             [
              0.8888888888888888,
              "#fdca26"
             ],
             [
              1,
              "#f0f921"
             ]
            ],
            "type": "heatmap"
           }
          ],
          "heatmapgl": [
           {
            "colorbar": {
             "outlinewidth": 0,
             "ticks": ""
            },
            "colorscale": [
             [
              0,
              "#0d0887"
             ],
             [
              0.1111111111111111,
              "#46039f"
             ],
             [
              0.2222222222222222,
              "#7201a8"
             ],
             [
              0.3333333333333333,
              "#9c179e"
             ],
             [
              0.4444444444444444,
              "#bd3786"
             ],
             [
              0.5555555555555556,
              "#d8576b"
             ],
             [
              0.6666666666666666,
              "#ed7953"
             ],
             [
              0.7777777777777778,
              "#fb9f3a"
             ],
             [
              0.8888888888888888,
              "#fdca26"
             ],
             [
              1,
              "#f0f921"
             ]
            ],
            "type": "heatmapgl"
           }
          ],
          "histogram": [
           {
            "marker": {
             "pattern": {
              "fillmode": "overlay",
              "size": 10,
              "solidity": 0.2
             }
            },
            "type": "histogram"
           }
          ],
          "histogram2d": [
           {
            "colorbar": {
             "outlinewidth": 0,
             "ticks": ""
            },
            "colorscale": [
             [
              0,
              "#0d0887"
             ],
             [
              0.1111111111111111,
              "#46039f"
             ],
             [
              0.2222222222222222,
              "#7201a8"
             ],
             [
              0.3333333333333333,
              "#9c179e"
             ],
             [
              0.4444444444444444,
              "#bd3786"
             ],
             [
              0.5555555555555556,
              "#d8576b"
             ],
             [
              0.6666666666666666,
              "#ed7953"
             ],
             [
              0.7777777777777778,
              "#fb9f3a"
             ],
             [
              0.8888888888888888,
              "#fdca26"
             ],
             [
              1,
              "#f0f921"
             ]
            ],
            "type": "histogram2d"
           }
          ],
          "histogram2dcontour": [
           {
            "colorbar": {
             "outlinewidth": 0,
             "ticks": ""
            },
            "colorscale": [
             [
              0,
              "#0d0887"
             ],
             [
              0.1111111111111111,
              "#46039f"
             ],
             [
              0.2222222222222222,
              "#7201a8"
             ],
             [
              0.3333333333333333,
              "#9c179e"
             ],
             [
              0.4444444444444444,
              "#bd3786"
             ],
             [
              0.5555555555555556,
              "#d8576b"
             ],
             [
              0.6666666666666666,
              "#ed7953"
             ],
             [
              0.7777777777777778,
              "#fb9f3a"
             ],
             [
              0.8888888888888888,
              "#fdca26"
             ],
             [
              1,
              "#f0f921"
             ]
            ],
            "type": "histogram2dcontour"
           }
          ],
          "mesh3d": [
           {
            "colorbar": {
             "outlinewidth": 0,
             "ticks": ""
            },
            "type": "mesh3d"
           }
          ],
          "parcoords": [
           {
            "line": {
             "colorbar": {
              "outlinewidth": 0,
              "ticks": ""
             }
            },
            "type": "parcoords"
           }
          ],
          "pie": [
           {
            "automargin": true,
            "type": "pie"
           }
          ],
          "scatter": [
           {
            "fillpattern": {
             "fillmode": "overlay",
             "size": 10,
             "solidity": 0.2
            },
            "type": "scatter"
           }
          ],
          "scatter3d": [
           {
            "line": {
             "colorbar": {
              "outlinewidth": 0,
              "ticks": ""
             }
            },
            "marker": {
             "colorbar": {
              "outlinewidth": 0,
              "ticks": ""
             }
            },
            "type": "scatter3d"
           }
          ],
          "scattercarpet": [
           {
            "marker": {
             "colorbar": {
              "outlinewidth": 0,
              "ticks": ""
             }
            },
            "type": "scattercarpet"
           }
          ],
          "scattergeo": [
           {
            "marker": {
             "colorbar": {
              "outlinewidth": 0,
              "ticks": ""
             }
            },
            "type": "scattergeo"
           }
          ],
          "scattergl": [
           {
            "marker": {
             "colorbar": {
              "outlinewidth": 0,
              "ticks": ""
             }
            },
            "type": "scattergl"
           }
          ],
          "scattermapbox": [
           {
            "marker": {
             "colorbar": {
              "outlinewidth": 0,
              "ticks": ""
             }
            },
            "type": "scattermapbox"
           }
          ],
          "scatterpolar": [
           {
            "marker": {
             "colorbar": {
              "outlinewidth": 0,
              "ticks": ""
             }
            },
            "type": "scatterpolar"
           }
          ],
          "scatterpolargl": [
           {
            "marker": {
             "colorbar": {
              "outlinewidth": 0,
              "ticks": ""
             }
            },
            "type": "scatterpolargl"
           }
          ],
          "scatterternary": [
           {
            "marker": {
             "colorbar": {
              "outlinewidth": 0,
              "ticks": ""
             }
            },
            "type": "scatterternary"
           }
          ],
          "surface": [
           {
            "colorbar": {
             "outlinewidth": 0,
             "ticks": ""
            },
            "colorscale": [
             [
              0,
              "#0d0887"
             ],
             [
              0.1111111111111111,
              "#46039f"
             ],
             [
              0.2222222222222222,
              "#7201a8"
             ],
             [
              0.3333333333333333,
              "#9c179e"
             ],
             [
              0.4444444444444444,
              "#bd3786"
             ],
             [
              0.5555555555555556,
              "#d8576b"
             ],
             [
              0.6666666666666666,
              "#ed7953"
             ],
             [
              0.7777777777777778,
              "#fb9f3a"
             ],
             [
              0.8888888888888888,
              "#fdca26"
             ],
             [
              1,
              "#f0f921"
             ]
            ],
            "type": "surface"
           }
          ],
          "table": [
           {
            "cells": {
             "fill": {
              "color": "#EBF0F8"
             },
             "line": {
              "color": "white"
             }
            },
            "header": {
             "fill": {
              "color": "#C8D4E3"
             },
             "line": {
              "color": "white"
             }
            },
            "type": "table"
           }
          ]
         },
         "layout": {
          "annotationdefaults": {
           "arrowcolor": "#2a3f5f",
           "arrowhead": 0,
           "arrowwidth": 1
          },
          "autotypenumbers": "strict",
          "coloraxis": {
           "colorbar": {
            "outlinewidth": 0,
            "ticks": ""
           }
          },
          "colorscale": {
           "diverging": [
            [
             0,
             "#8e0152"
            ],
            [
             0.1,
             "#c51b7d"
            ],
            [
             0.2,
             "#de77ae"
            ],
            [
             0.3,
             "#f1b6da"
            ],
            [
             0.4,
             "#fde0ef"
            ],
            [
             0.5,
             "#f7f7f7"
            ],
            [
             0.6,
             "#e6f5d0"
            ],
            [
             0.7,
             "#b8e186"
            ],
            [
             0.8,
             "#7fbc41"
            ],
            [
             0.9,
             "#4d9221"
            ],
            [
             1,
             "#276419"
            ]
           ],
           "sequential": [
            [
             0,
             "#0d0887"
            ],
            [
             0.1111111111111111,
             "#46039f"
            ],
            [
             0.2222222222222222,
             "#7201a8"
            ],
            [
             0.3333333333333333,
             "#9c179e"
            ],
            [
             0.4444444444444444,
             "#bd3786"
            ],
            [
             0.5555555555555556,
             "#d8576b"
            ],
            [
             0.6666666666666666,
             "#ed7953"
            ],
            [
             0.7777777777777778,
             "#fb9f3a"
            ],
            [
             0.8888888888888888,
             "#fdca26"
            ],
            [
             1,
             "#f0f921"
            ]
           ],
           "sequentialminus": [
            [
             0,
             "#0d0887"
            ],
            [
             0.1111111111111111,
             "#46039f"
            ],
            [
             0.2222222222222222,
             "#7201a8"
            ],
            [
             0.3333333333333333,
             "#9c179e"
            ],
            [
             0.4444444444444444,
             "#bd3786"
            ],
            [
             0.5555555555555556,
             "#d8576b"
            ],
            [
             0.6666666666666666,
             "#ed7953"
            ],
            [
             0.7777777777777778,
             "#fb9f3a"
            ],
            [
             0.8888888888888888,
             "#fdca26"
            ],
            [
             1,
             "#f0f921"
            ]
           ]
          },
          "colorway": [
           "#636efa",
           "#EF553B",
           "#00cc96",
           "#ab63fa",
           "#FFA15A",
           "#19d3f3",
           "#FF6692",
           "#B6E880",
           "#FF97FF",
           "#FECB52"
          ],
          "font": {
           "color": "#2a3f5f"
          },
          "geo": {
           "bgcolor": "white",
           "lakecolor": "white",
           "landcolor": "#E5ECF6",
           "showlakes": true,
           "showland": true,
           "subunitcolor": "white"
          },
          "hoverlabel": {
           "align": "left"
          },
          "hovermode": "closest",
          "mapbox": {
           "style": "light"
          },
          "paper_bgcolor": "white",
          "plot_bgcolor": "#E5ECF6",
          "polar": {
           "angularaxis": {
            "gridcolor": "white",
            "linecolor": "white",
            "ticks": ""
           },
           "bgcolor": "#E5ECF6",
           "radialaxis": {
            "gridcolor": "white",
            "linecolor": "white",
            "ticks": ""
           }
          },
          "scene": {
           "xaxis": {
            "backgroundcolor": "#E5ECF6",
            "gridcolor": "white",
            "gridwidth": 2,
            "linecolor": "white",
            "showbackground": true,
            "ticks": "",
            "zerolinecolor": "white"
           },
           "yaxis": {
            "backgroundcolor": "#E5ECF6",
            "gridcolor": "white",
            "gridwidth": 2,
            "linecolor": "white",
            "showbackground": true,
            "ticks": "",
            "zerolinecolor": "white"
           },
           "zaxis": {
            "backgroundcolor": "#E5ECF6",
            "gridcolor": "white",
            "gridwidth": 2,
            "linecolor": "white",
            "showbackground": true,
            "ticks": "",
            "zerolinecolor": "white"
           }
          },
          "shapedefaults": {
           "line": {
            "color": "#2a3f5f"
           }
          },
          "ternary": {
           "aaxis": {
            "gridcolor": "white",
            "linecolor": "white",
            "ticks": ""
           },
           "baxis": {
            "gridcolor": "white",
            "linecolor": "white",
            "ticks": ""
           },
           "bgcolor": "#E5ECF6",
           "caxis": {
            "gridcolor": "white",
            "linecolor": "white",
            "ticks": ""
           }
          },
          "title": {
           "x": 0.05
          },
          "xaxis": {
           "automargin": true,
           "gridcolor": "white",
           "linecolor": "white",
           "ticks": "",
           "title": {
            "standoff": 15
           },
           "zerolinecolor": "white",
           "zerolinewidth": 2
          },
          "yaxis": {
           "automargin": true,
           "gridcolor": "white",
           "linecolor": "white",
           "ticks": "",
           "title": {
            "standoff": 15
           },
           "zerolinecolor": "white",
           "zerolinewidth": 2
          }
         }
        },
        "title": {
         "text": "Year-over-Year Fuel Price Changes"
        },
        "xaxis": {
         "anchor": "y",
         "domain": [
          0,
          1
         ],
         "title": {
          "text": "Year"
         }
        },
        "yaxis": {
         "anchor": "x",
         "domain": [
          0,
          1
         ],
         "title": {
          "text": "YoY Change (%)"
         }
        }
       }
      }
     },
     "metadata": {},
     "output_type": "display_data"
    }
   ],
   "source": [
    "# Plot the Year-over-Year changes using Plotly Express\n",
    "fig = px.line(melted_fuel_data, x='Year', y='YoY_Change', color='Fuel_Type', title='Year-over-Year Fuel Price Changes')\n",
    "fig.update_layout(xaxis_title='Year', yaxis_title='YoY Change (%)', legend_title='Fuel Type')\n",
    "fig.add_vrect(x0=2.25, x1=4, \n",
    "              annotation_text=\"COVID \", annotation_position=\"top left\",\n",
    "              fillcolor=\"green\", opacity=0.25, line_width=0)\n",
    "fig.add_vrect(x0=\"2022-03\", x1=\"2022-12\", \n",
    "              annotation_text=\"War \", annotation_position=\"top right\",\n",
    "              fillcolor=\"blue\", opacity=0.25, line_width=0)\n",
    "fig.show()"
   ]
  },
  {
   "cell_type": "markdown",
   "metadata": {},
   "source": []
  },
  {
   "cell_type": "markdown",
   "metadata": {},
   "source": [
    "### Conclusion subquestion 1:\n"
   ]
  },
  {
   "cell_type": "markdown",
   "metadata": {
    "tags": []
   },
   "source": [
    "# Subquestion 2: To what extend does the location of the gas stations determine fuel price trends?\n",
    "Gas station can have different locations, in this subquestion two locations are distinguished: gas stations near the highways and gas stations far away from the highways. It is investigated to what extend this location has an influence on the development of the fuel prices and how this relates to the general fuel trend. It is expected that gas station near highways have higher prices due to the convenience they offer to travelers and the associated operating costs. Additionally, factors like regional regulations, and supply and demand dynamics can influence the variation in fuel prices near highways.\n"
   ]
  },
  {
   "cell_type": "code",
   "execution_count": 9,
   "metadata": {},
   "outputs": [
    {
     "data": {
      "application/vnd.plotly.v1+json": {
       "config": {
        "plotlyServerURL": "https://plot.ly"
       },
       "data": [
        {
         "mode": "lines",
         "name": "highway",
         "type": "scatter",
         "x": [
          "2018-01-01T00:00:00",
          "2018-02-01T00:00:00",
          "2018-03-01T00:00:00",
          "2018-04-01T00:00:00",
          "2018-05-01T00:00:00",
          "2018-06-01T00:00:00",
          "2018-07-01T00:00:00",
          "2018-08-01T00:00:00",
          "2018-09-01T00:00:00",
          "2018-10-01T00:00:00",
          "2018-11-01T00:00:00",
          "2018-12-01T00:00:00",
          "2019-01-01T00:00:00",
          "2019-02-01T00:00:00",
          "2019-03-01T00:00:00",
          "2019-04-01T00:00:00",
          "2019-05-01T00:00:00",
          "2019-06-01T00:00:00",
          "2019-07-01T00:00:00",
          "2019-08-01T00:00:00",
          "2019-09-01T00:00:00",
          "2019-10-01T00:00:00",
          "2019-11-01T00:00:00",
          "2019-12-01T00:00:00",
          "2020-01-01T00:00:00",
          "2020-02-01T00:00:00",
          "2020-03-01T00:00:00",
          "2020-04-01T00:00:00",
          "2020-05-01T00:00:00",
          "2020-06-01T00:00:00",
          "2020-07-01T00:00:00",
          "2020-08-01T00:00:00",
          "2020-09-01T00:00:00",
          "2020-10-01T00:00:00",
          "2020-11-01T00:00:00",
          "2020-12-01T00:00:00",
          "2021-01-01T00:00:00",
          "2021-02-01T00:00:00",
          "2021-03-01T00:00:00",
          "2021-04-01T00:00:00",
          "2021-05-01T00:00:00",
          "2021-06-01T00:00:00",
          "2021-07-01T00:00:00",
          "2021-08-01T00:00:00",
          "2021-09-01T00:00:00",
          "2021-10-01T00:00:00",
          "2021-11-01T00:00:00",
          "2021-12-01T00:00:00",
          "2022-01-01T00:00:00",
          "2022-02-01T00:00:00",
          "2022-03-01T00:00:00",
          "2022-04-01T00:00:00",
          "2022-05-01T00:00:00",
          "2022-06-01T00:00:00",
          "2022-07-01T00:00:00",
          "2022-08-01T00:00:00",
          "2022-09-01T00:00:00",
          "2022-10-01T00:00:00",
          "2022-11-01T00:00:00",
          "2022-12-01T00:00:00"
         ],
         "y": [
          1.681,
          1.657,
          1.637,
          1.701,
          1.761,
          1.752,
          1.754,
          1.776,
          1.773,
          1.749,
          1.676,
          1.605,
          1.642,
          1.674,
          1.716,
          1.798,
          1.819,
          1.765,
          1.776,
          1.757,
          1.754,
          1.75,
          1.768,
          1.772,
          1.808,
          1.777,
          1.679,
          1.582,
          1.595,
          1.659,
          1.682,
          1.686,
          1.685,
          1.682,
          1.65,
          1.681,
          1.745,
          1.806,
          1.858,
          1.874,
          1.902,
          1.927,
          1.961,
          1.966,
          1.981,
          2.069,
          2.133,
          2.106,
          2.123,
          2.182,
          2.421,
          2.223,
          2.323,
          2.49,
          2.348,
          2.205,
          2.115,
          2.137,
          2.054,
          1.903
         ]
        },
        {
         "line": {
          "color": "red",
          "width": 2
         },
         "name": "local",
         "type": "scatter",
         "x": [
          "2018-01-01T00:00:00",
          "2018-02-01T00:00:00",
          "2018-03-01T00:00:00",
          "2018-04-01T00:00:00",
          "2018-05-01T00:00:00",
          "2018-06-01T00:00:00",
          "2018-07-01T00:00:00",
          "2018-08-01T00:00:00",
          "2018-09-01T00:00:00",
          "2018-10-01T00:00:00",
          "2018-11-01T00:00:00",
          "2018-12-01T00:00:00",
          "2019-01-01T00:00:00",
          "2019-02-01T00:00:00",
          "2019-03-01T00:00:00",
          "2019-04-01T00:00:00",
          "2019-05-01T00:00:00",
          "2019-06-01T00:00:00",
          "2019-07-01T00:00:00",
          "2019-08-01T00:00:00",
          "2019-09-01T00:00:00",
          "2019-10-01T00:00:00",
          "2019-11-01T00:00:00",
          "2019-12-01T00:00:00",
          "2020-01-01T00:00:00",
          "2020-02-01T00:00:00",
          "2020-03-01T00:00:00",
          "2020-04-01T00:00:00",
          "2020-05-01T00:00:00",
          "2020-06-01T00:00:00",
          "2020-07-01T00:00:00",
          "2020-08-01T00:00:00",
          "2020-09-01T00:00:00",
          "2020-10-01T00:00:00",
          "2020-11-01T00:00:00",
          "2020-12-01T00:00:00",
          "2021-01-01T00:00:00",
          "2021-02-01T00:00:00",
          "2021-03-01T00:00:00",
          "2021-04-01T00:00:00",
          "2021-05-01T00:00:00",
          "2021-06-01T00:00:00",
          "2021-07-01T00:00:00",
          "2021-08-01T00:00:00",
          "2021-09-01T00:00:00",
          "2021-10-01T00:00:00",
          "2021-11-01T00:00:00",
          "2021-12-01T00:00:00",
          "2022-01-01T00:00:00",
          "2022-02-01T00:00:00",
          "2022-03-01T00:00:00",
          "2022-04-01T00:00:00",
          "2022-05-01T00:00:00",
          "2022-06-01T00:00:00",
          "2022-07-01T00:00:00",
          "2022-08-01T00:00:00",
          "2022-09-01T00:00:00",
          "2022-10-01T00:00:00",
          "2022-11-01T00:00:00",
          "2022-12-01T00:00:00"
         ],
         "y": [
          1.588,
          1.565,
          1.544,
          1.606,
          1.666,
          1.66,
          1.659,
          1.681,
          1.679,
          1.656,
          1.581,
          1.508,
          1.543,
          1.577,
          1.618,
          1.7,
          1.722,
          1.661,
          1.669,
          1.646,
          1.644,
          1.64,
          1.655,
          1.661,
          1.694,
          1.661,
          1.565,
          1.467,
          1.479,
          1.537,
          1.559,
          1.562,
          1.564,
          1.556,
          1.522,
          1.55,
          1.612,
          1.673,
          1.727,
          1.743,
          1.771,
          1.789,
          1.829,
          1.833,
          1.85,
          1.94,
          2,
          1.965,
          1.992,
          2.054,
          2.296,
          2.094,
          2.193,
          2.358,
          2.215,
          2.071,
          1.974,
          1.999,
          1.916,
          1.762
         ]
        },
        {
         "line": {
          "dash": "dash",
          "width": 3
         },
         "name": "avg",
         "type": "scatter",
         "x": [
          "2018-01-01T00:00:00",
          "2018-02-01T00:00:00",
          "2018-03-01T00:00:00",
          "2018-04-01T00:00:00",
          "2018-05-01T00:00:00",
          "2018-06-01T00:00:00",
          "2018-07-01T00:00:00",
          "2018-08-01T00:00:00",
          "2018-09-01T00:00:00",
          "2018-10-01T00:00:00",
          "2018-11-01T00:00:00",
          "2018-12-01T00:00:00",
          "2019-01-01T00:00:00",
          "2019-02-01T00:00:00",
          "2019-03-01T00:00:00",
          "2019-04-01T00:00:00",
          "2019-05-01T00:00:00",
          "2019-06-01T00:00:00",
          "2019-07-01T00:00:00",
          "2019-08-01T00:00:00",
          "2019-09-01T00:00:00",
          "2019-10-01T00:00:00",
          "2019-11-01T00:00:00",
          "2019-12-01T00:00:00",
          "2020-01-01T00:00:00",
          "2020-02-01T00:00:00",
          "2020-03-01T00:00:00",
          "2020-04-01T00:00:00",
          "2020-05-01T00:00:00",
          "2020-06-01T00:00:00",
          "2020-07-01T00:00:00",
          "2020-08-01T00:00:00",
          "2020-09-01T00:00:00",
          "2020-10-01T00:00:00",
          "2020-11-01T00:00:00",
          "2020-12-01T00:00:00",
          "2021-01-01T00:00:00",
          "2021-02-01T00:00:00",
          "2021-03-01T00:00:00",
          "2021-04-01T00:00:00",
          "2021-05-01T00:00:00",
          "2021-06-01T00:00:00",
          "2021-07-01T00:00:00",
          "2021-08-01T00:00:00",
          "2021-09-01T00:00:00",
          "2021-10-01T00:00:00",
          "2021-11-01T00:00:00",
          "2021-12-01T00:00:00",
          "2022-01-01T00:00:00",
          "2022-02-01T00:00:00",
          "2022-03-01T00:00:00",
          "2022-04-01T00:00:00",
          "2022-05-01T00:00:00",
          "2022-06-01T00:00:00",
          "2022-07-01T00:00:00",
          "2022-08-01T00:00:00",
          "2022-09-01T00:00:00",
          "2022-10-01T00:00:00",
          "2022-11-01T00:00:00",
          "2022-12-01T00:00:00"
         ],
         "y": [
          1.589,
          1.566,
          1.545,
          1.608,
          1.668,
          1.66,
          1.661,
          1.683,
          1.68,
          1.657,
          1.583,
          1.512,
          1.545,
          1.578,
          1.619,
          1.702,
          1.724,
          1.663,
          1.672,
          1.65,
          1.648,
          1.643,
          1.657,
          1.663,
          1.697,
          1.664,
          1.567,
          1.468,
          1.482,
          1.539,
          1.561,
          1.564,
          1.564,
          1.558,
          1.525,
          1.553,
          1.615,
          1.676,
          1.73,
          1.746,
          1.773,
          1.793,
          1.832,
          1.836,
          1.852,
          1.942,
          2.004,
          1.968,
          1.989,
          2.049,
          2.29,
          2.088,
          2.187,
          2.353,
          2.209,
          2.065,
          1.967,
          1.995,
          1.912,
          1.759
         ]
        }
       ],
       "layout": {
        "height": 400,
        "template": {
         "data": {
          "bar": [
           {
            "error_x": {
             "color": "#2a3f5f"
            },
            "error_y": {
             "color": "#2a3f5f"
            },
            "marker": {
             "line": {
              "color": "#E5ECF6",
              "width": 0.5
             },
             "pattern": {
              "fillmode": "overlay",
              "size": 10,
              "solidity": 0.2
             }
            },
            "type": "bar"
           }
          ],
          "barpolar": [
           {
            "marker": {
             "line": {
              "color": "#E5ECF6",
              "width": 0.5
             },
             "pattern": {
              "fillmode": "overlay",
              "size": 10,
              "solidity": 0.2
             }
            },
            "type": "barpolar"
           }
          ],
          "carpet": [
           {
            "aaxis": {
             "endlinecolor": "#2a3f5f",
             "gridcolor": "white",
             "linecolor": "white",
             "minorgridcolor": "white",
             "startlinecolor": "#2a3f5f"
            },
            "baxis": {
             "endlinecolor": "#2a3f5f",
             "gridcolor": "white",
             "linecolor": "white",
             "minorgridcolor": "white",
             "startlinecolor": "#2a3f5f"
            },
            "type": "carpet"
           }
          ],
          "choropleth": [
           {
            "colorbar": {
             "outlinewidth": 0,
             "ticks": ""
            },
            "type": "choropleth"
           }
          ],
          "contour": [
           {
            "colorbar": {
             "outlinewidth": 0,
             "ticks": ""
            },
            "colorscale": [
             [
              0,
              "#0d0887"
             ],
             [
              0.1111111111111111,
              "#46039f"
             ],
             [
              0.2222222222222222,
              "#7201a8"
             ],
             [
              0.3333333333333333,
              "#9c179e"
             ],
             [
              0.4444444444444444,
              "#bd3786"
             ],
             [
              0.5555555555555556,
              "#d8576b"
             ],
             [
              0.6666666666666666,
              "#ed7953"
             ],
             [
              0.7777777777777778,
              "#fb9f3a"
             ],
             [
              0.8888888888888888,
              "#fdca26"
             ],
             [
              1,
              "#f0f921"
             ]
            ],
            "type": "contour"
           }
          ],
          "contourcarpet": [
           {
            "colorbar": {
             "outlinewidth": 0,
             "ticks": ""
            },
            "type": "contourcarpet"
           }
          ],
          "heatmap": [
           {
            "colorbar": {
             "outlinewidth": 0,
             "ticks": ""
            },
            "colorscale": [
             [
              0,
              "#0d0887"
             ],
             [
              0.1111111111111111,
              "#46039f"
             ],
             [
              0.2222222222222222,
              "#7201a8"
             ],
             [
              0.3333333333333333,
              "#9c179e"
             ],
             [
              0.4444444444444444,
              "#bd3786"
             ],
             [
              0.5555555555555556,
              "#d8576b"
             ],
             [
              0.6666666666666666,
              "#ed7953"
             ],
             [
              0.7777777777777778,
              "#fb9f3a"
             ],
             [
              0.8888888888888888,
              "#fdca26"
             ],
             [
              1,
              "#f0f921"
             ]
            ],
            "type": "heatmap"
           }
          ],
          "heatmapgl": [
           {
            "colorbar": {
             "outlinewidth": 0,
             "ticks": ""
            },
            "colorscale": [
             [
              0,
              "#0d0887"
             ],
             [
              0.1111111111111111,
              "#46039f"
             ],
             [
              0.2222222222222222,
              "#7201a8"
             ],
             [
              0.3333333333333333,
              "#9c179e"
             ],
             [
              0.4444444444444444,
              "#bd3786"
             ],
             [
              0.5555555555555556,
              "#d8576b"
             ],
             [
              0.6666666666666666,
              "#ed7953"
             ],
             [
              0.7777777777777778,
              "#fb9f3a"
             ],
             [
              0.8888888888888888,
              "#fdca26"
             ],
             [
              1,
              "#f0f921"
             ]
            ],
            "type": "heatmapgl"
           }
          ],
          "histogram": [
           {
            "marker": {
             "pattern": {
              "fillmode": "overlay",
              "size": 10,
              "solidity": 0.2
             }
            },
            "type": "histogram"
           }
          ],
          "histogram2d": [
           {
            "colorbar": {
             "outlinewidth": 0,
             "ticks": ""
            },
            "colorscale": [
             [
              0,
              "#0d0887"
             ],
             [
              0.1111111111111111,
              "#46039f"
             ],
             [
              0.2222222222222222,
              "#7201a8"
             ],
             [
              0.3333333333333333,
              "#9c179e"
             ],
             [
              0.4444444444444444,
              "#bd3786"
             ],
             [
              0.5555555555555556,
              "#d8576b"
             ],
             [
              0.6666666666666666,
              "#ed7953"
             ],
             [
              0.7777777777777778,
              "#fb9f3a"
             ],
             [
              0.8888888888888888,
              "#fdca26"
             ],
             [
              1,
              "#f0f921"
             ]
            ],
            "type": "histogram2d"
           }
          ],
          "histogram2dcontour": [
           {
            "colorbar": {
             "outlinewidth": 0,
             "ticks": ""
            },
            "colorscale": [
             [
              0,
              "#0d0887"
             ],
             [
              0.1111111111111111,
              "#46039f"
             ],
             [
              0.2222222222222222,
              "#7201a8"
             ],
             [
              0.3333333333333333,
              "#9c179e"
             ],
             [
              0.4444444444444444,
              "#bd3786"
             ],
             [
              0.5555555555555556,
              "#d8576b"
             ],
             [
              0.6666666666666666,
              "#ed7953"
             ],
             [
              0.7777777777777778,
              "#fb9f3a"
             ],
             [
              0.8888888888888888,
              "#fdca26"
             ],
             [
              1,
              "#f0f921"
             ]
            ],
            "type": "histogram2dcontour"
           }
          ],
          "mesh3d": [
           {
            "colorbar": {
             "outlinewidth": 0,
             "ticks": ""
            },
            "type": "mesh3d"
           }
          ],
          "parcoords": [
           {
            "line": {
             "colorbar": {
              "outlinewidth": 0,
              "ticks": ""
             }
            },
            "type": "parcoords"
           }
          ],
          "pie": [
           {
            "automargin": true,
            "type": "pie"
           }
          ],
          "scatter": [
           {
            "fillpattern": {
             "fillmode": "overlay",
             "size": 10,
             "solidity": 0.2
            },
            "type": "scatter"
           }
          ],
          "scatter3d": [
           {
            "line": {
             "colorbar": {
              "outlinewidth": 0,
              "ticks": ""
             }
            },
            "marker": {
             "colorbar": {
              "outlinewidth": 0,
              "ticks": ""
             }
            },
            "type": "scatter3d"
           }
          ],
          "scattercarpet": [
           {
            "marker": {
             "colorbar": {
              "outlinewidth": 0,
              "ticks": ""
             }
            },
            "type": "scattercarpet"
           }
          ],
          "scattergeo": [
           {
            "marker": {
             "colorbar": {
              "outlinewidth": 0,
              "ticks": ""
             }
            },
            "type": "scattergeo"
           }
          ],
          "scattergl": [
           {
            "marker": {
             "colorbar": {
              "outlinewidth": 0,
              "ticks": ""
             }
            },
            "type": "scattergl"
           }
          ],
          "scattermapbox": [
           {
            "marker": {
             "colorbar": {
              "outlinewidth": 0,
              "ticks": ""
             }
            },
            "type": "scattermapbox"
           }
          ],
          "scatterpolar": [
           {
            "marker": {
             "colorbar": {
              "outlinewidth": 0,
              "ticks": ""
             }
            },
            "type": "scatterpolar"
           }
          ],
          "scatterpolargl": [
           {
            "marker": {
             "colorbar": {
              "outlinewidth": 0,
              "ticks": ""
             }
            },
            "type": "scatterpolargl"
           }
          ],
          "scatterternary": [
           {
            "marker": {
             "colorbar": {
              "outlinewidth": 0,
              "ticks": ""
             }
            },
            "type": "scatterternary"
           }
          ],
          "surface": [
           {
            "colorbar": {
             "outlinewidth": 0,
             "ticks": ""
            },
            "colorscale": [
             [
              0,
              "#0d0887"
             ],
             [
              0.1111111111111111,
              "#46039f"
             ],
             [
              0.2222222222222222,
              "#7201a8"
             ],
             [
              0.3333333333333333,
              "#9c179e"
             ],
             [
              0.4444444444444444,
              "#bd3786"
             ],
             [
              0.5555555555555556,
              "#d8576b"
             ],
             [
              0.6666666666666666,
              "#ed7953"
             ],
             [
              0.7777777777777778,
              "#fb9f3a"
             ],
             [
              0.8888888888888888,
              "#fdca26"
             ],
             [
              1,
              "#f0f921"
             ]
            ],
            "type": "surface"
           }
          ],
          "table": [
           {
            "cells": {
             "fill": {
              "color": "#EBF0F8"
             },
             "line": {
              "color": "white"
             }
            },
            "header": {
             "fill": {
              "color": "#C8D4E3"
             },
             "line": {
              "color": "white"
             }
            },
            "type": "table"
           }
          ]
         },
         "layout": {
          "annotationdefaults": {
           "arrowcolor": "#2a3f5f",
           "arrowhead": 0,
           "arrowwidth": 1
          },
          "autotypenumbers": "strict",
          "coloraxis": {
           "colorbar": {
            "outlinewidth": 0,
            "ticks": ""
           }
          },
          "colorscale": {
           "diverging": [
            [
             0,
             "#8e0152"
            ],
            [
             0.1,
             "#c51b7d"
            ],
            [
             0.2,
             "#de77ae"
            ],
            [
             0.3,
             "#f1b6da"
            ],
            [
             0.4,
             "#fde0ef"
            ],
            [
             0.5,
             "#f7f7f7"
            ],
            [
             0.6,
             "#e6f5d0"
            ],
            [
             0.7,
             "#b8e186"
            ],
            [
             0.8,
             "#7fbc41"
            ],
            [
             0.9,
             "#4d9221"
            ],
            [
             1,
             "#276419"
            ]
           ],
           "sequential": [
            [
             0,
             "#0d0887"
            ],
            [
             0.1111111111111111,
             "#46039f"
            ],
            [
             0.2222222222222222,
             "#7201a8"
            ],
            [
             0.3333333333333333,
             "#9c179e"
            ],
            [
             0.4444444444444444,
             "#bd3786"
            ],
            [
             0.5555555555555556,
             "#d8576b"
            ],
            [
             0.6666666666666666,
             "#ed7953"
            ],
            [
             0.7777777777777778,
             "#fb9f3a"
            ],
            [
             0.8888888888888888,
             "#fdca26"
            ],
            [
             1,
             "#f0f921"
            ]
           ],
           "sequentialminus": [
            [
             0,
             "#0d0887"
            ],
            [
             0.1111111111111111,
             "#46039f"
            ],
            [
             0.2222222222222222,
             "#7201a8"
            ],
            [
             0.3333333333333333,
             "#9c179e"
            ],
            [
             0.4444444444444444,
             "#bd3786"
            ],
            [
             0.5555555555555556,
             "#d8576b"
            ],
            [
             0.6666666666666666,
             "#ed7953"
            ],
            [
             0.7777777777777778,
             "#fb9f3a"
            ],
            [
             0.8888888888888888,
             "#fdca26"
            ],
            [
             1,
             "#f0f921"
            ]
           ]
          },
          "colorway": [
           "#636efa",
           "#EF553B",
           "#00cc96",
           "#ab63fa",
           "#FFA15A",
           "#19d3f3",
           "#FF6692",
           "#B6E880",
           "#FF97FF",
           "#FECB52"
          ],
          "font": {
           "color": "#2a3f5f"
          },
          "geo": {
           "bgcolor": "white",
           "lakecolor": "white",
           "landcolor": "#E5ECF6",
           "showlakes": true,
           "showland": true,
           "subunitcolor": "white"
          },
          "hoverlabel": {
           "align": "left"
          },
          "hovermode": "closest",
          "mapbox": {
           "style": "light"
          },
          "paper_bgcolor": "white",
          "plot_bgcolor": "#E5ECF6",
          "polar": {
           "angularaxis": {
            "gridcolor": "white",
            "linecolor": "white",
            "ticks": ""
           },
           "bgcolor": "#E5ECF6",
           "radialaxis": {
            "gridcolor": "white",
            "linecolor": "white",
            "ticks": ""
           }
          },
          "scene": {
           "xaxis": {
            "backgroundcolor": "#E5ECF6",
            "gridcolor": "white",
            "gridwidth": 2,
            "linecolor": "white",
            "showbackground": true,
            "ticks": "",
            "zerolinecolor": "white"
           },
           "yaxis": {
            "backgroundcolor": "#E5ECF6",
            "gridcolor": "white",
            "gridwidth": 2,
            "linecolor": "white",
            "showbackground": true,
            "ticks": "",
            "zerolinecolor": "white"
           },
           "zaxis": {
            "backgroundcolor": "#E5ECF6",
            "gridcolor": "white",
            "gridwidth": 2,
            "linecolor": "white",
            "showbackground": true,
            "ticks": "",
            "zerolinecolor": "white"
           }
          },
          "shapedefaults": {
           "line": {
            "color": "#2a3f5f"
           }
          },
          "ternary": {
           "aaxis": {
            "gridcolor": "white",
            "linecolor": "white",
            "ticks": ""
           },
           "baxis": {
            "gridcolor": "white",
            "linecolor": "white",
            "ticks": ""
           },
           "bgcolor": "#E5ECF6",
           "caxis": {
            "gridcolor": "white",
            "linecolor": "white",
            "ticks": ""
           }
          },
          "title": {
           "x": 0.05
          },
          "xaxis": {
           "automargin": true,
           "gridcolor": "white",
           "linecolor": "white",
           "ticks": "",
           "title": {
            "standoff": 15
           },
           "zerolinecolor": "white",
           "zerolinewidth": 2
          },
          "yaxis": {
           "automargin": true,
           "gridcolor": "white",
           "linecolor": "white",
           "ticks": "",
           "title": {
            "standoff": 15
           },
           "zerolinecolor": "white",
           "zerolinewidth": 2
          }
         }
        },
        "title": {
         "text": "Euro95 prices",
         "x": 0.5
        },
        "width": 1100,
        "xaxis": {
         "autorange": true,
         "range": [
          "2018-01-01",
          "2022-12-01"
         ],
         "title": {
          "text": "Month"
         },
         "type": "date"
        },
        "yaxis": {
         "autorange": true,
         "range": [
          1.4101666666666668,
          2.5468333333333337
         ],
         "title": {
          "text": "Price (euro)"
         },
         "type": "linear"
        }
       }
      },
      "image/png": "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",
      "text/html": [
       "<div>                            <div id=\"ce8e6182-a663-4390-8fc8-d98684d662b9\" class=\"plotly-graph-div\" style=\"height:400px; width:1100px;\"></div>            <script type=\"text/javascript\">                require([\"plotly\"], function(Plotly) {                    window.PLOTLYENV=window.PLOTLYENV || {};                                    if (document.getElementById(\"ce8e6182-a663-4390-8fc8-d98684d662b9\")) {                    Plotly.newPlot(                        \"ce8e6182-a663-4390-8fc8-d98684d662b9\",                        [{\"mode\":\"lines\",\"name\":\"highway\",\"x\":[\"2018-01-01T00:00:00\",\"2018-02-01T00:00:00\",\"2018-03-01T00:00:00\",\"2018-04-01T00:00:00\",\"2018-05-01T00:00:00\",\"2018-06-01T00:00:00\",\"2018-07-01T00:00:00\",\"2018-08-01T00:00:00\",\"2018-09-01T00:00:00\",\"2018-10-01T00:00:00\",\"2018-11-01T00:00:00\",\"2018-12-01T00:00:00\",\"2019-01-01T00:00:00\",\"2019-02-01T00:00:00\",\"2019-03-01T00:00:00\",\"2019-04-01T00:00:00\",\"2019-05-01T00:00:00\",\"2019-06-01T00:00:00\",\"2019-07-01T00:00:00\",\"2019-08-01T00:00:00\",\"2019-09-01T00:00:00\",\"2019-10-01T00:00:00\",\"2019-11-01T00:00:00\",\"2019-12-01T00:00:00\",\"2020-01-01T00:00:00\",\"2020-02-01T00:00:00\",\"2020-03-01T00:00:00\",\"2020-04-01T00:00:00\",\"2020-05-01T00:00:00\",\"2020-06-01T00:00:00\",\"2020-07-01T00:00:00\",\"2020-08-01T00:00:00\",\"2020-09-01T00:00:00\",\"2020-10-01T00:00:00\",\"2020-11-01T00:00:00\",\"2020-12-01T00:00:00\",\"2021-01-01T00:00:00\",\"2021-02-01T00:00:00\",\"2021-03-01T00:00:00\",\"2021-04-01T00:00:00\",\"2021-05-01T00:00:00\",\"2021-06-01T00:00:00\",\"2021-07-01T00:00:00\",\"2021-08-01T00:00:00\",\"2021-09-01T00:00:00\",\"2021-10-01T00:00:00\",\"2021-11-01T00:00:00\",\"2021-12-01T00:00:00\",\"2022-01-01T00:00:00\",\"2022-02-01T00:00:00\",\"2022-03-01T00:00:00\",\"2022-04-01T00:00:00\",\"2022-05-01T00:00:00\",\"2022-06-01T00:00:00\",\"2022-07-01T00:00:00\",\"2022-08-01T00:00:00\",\"2022-09-01T00:00:00\",\"2022-10-01T00:00:00\",\"2022-11-01T00:00:00\",\"2022-12-01T00:00:00\"],\"y\":[1.681,1.657,1.637,1.701,1.761,1.752,1.754,1.776,1.773,1.749,1.676,1.605,1.642,1.674,1.716,1.798,1.819,1.765,1.776,1.757,1.754,1.75,1.768,1.772,1.808,1.777,1.679,1.582,1.595,1.659,1.682,1.686,1.685,1.682,1.65,1.681,1.745,1.806,1.858,1.874,1.902,1.927,1.961,1.966,1.981,2.069,2.133,2.106,2.123,2.182,2.421,2.223,2.323,2.49,2.348,2.205,2.115,2.137,2.054,1.903],\"type\":\"scatter\"},{\"line\":{\"color\":\"red\",\"width\":2},\"name\":\"local\",\"x\":[\"2018-01-01T00:00:00\",\"2018-02-01T00:00:00\",\"2018-03-01T00:00:00\",\"2018-04-01T00:00:00\",\"2018-05-01T00:00:00\",\"2018-06-01T00:00:00\",\"2018-07-01T00:00:00\",\"2018-08-01T00:00:00\",\"2018-09-01T00:00:00\",\"2018-10-01T00:00:00\",\"2018-11-01T00:00:00\",\"2018-12-01T00:00:00\",\"2019-01-01T00:00:00\",\"2019-02-01T00:00:00\",\"2019-03-01T00:00:00\",\"2019-04-01T00:00:00\",\"2019-05-01T00:00:00\",\"2019-06-01T00:00:00\",\"2019-07-01T00:00:00\",\"2019-08-01T00:00:00\",\"2019-09-01T00:00:00\",\"2019-10-01T00:00:00\",\"2019-11-01T00:00:00\",\"2019-12-01T00:00:00\",\"2020-01-01T00:00:00\",\"2020-02-01T00:00:00\",\"2020-03-01T00:00:00\",\"2020-04-01T00:00:00\",\"2020-05-01T00:00:00\",\"2020-06-01T00:00:00\",\"2020-07-01T00:00:00\",\"2020-08-01T00:00:00\",\"2020-09-01T00:00:00\",\"2020-10-01T00:00:00\",\"2020-11-01T00:00:00\",\"2020-12-01T00:00:00\",\"2021-01-01T00:00:00\",\"2021-02-01T00:00:00\",\"2021-03-01T00:00:00\",\"2021-04-01T00:00:00\",\"2021-05-01T00:00:00\",\"2021-06-01T00:00:00\",\"2021-07-01T00:00:00\",\"2021-08-01T00:00:00\",\"2021-09-01T00:00:00\",\"2021-10-01T00:00:00\",\"2021-11-01T00:00:00\",\"2021-12-01T00:00:00\",\"2022-01-01T00:00:00\",\"2022-02-01T00:00:00\",\"2022-03-01T00:00:00\",\"2022-04-01T00:00:00\",\"2022-05-01T00:00:00\",\"2022-06-01T00:00:00\",\"2022-07-01T00:00:00\",\"2022-08-01T00:00:00\",\"2022-09-01T00:00:00\",\"2022-10-01T00:00:00\",\"2022-11-01T00:00:00\",\"2022-12-01T00:00:00\"],\"y\":[1.588,1.565,1.544,1.606,1.666,1.66,1.659,1.681,1.679,1.656,1.581,1.508,1.543,1.577,1.618,1.7,1.722,1.661,1.669,1.646,1.644,1.64,1.655,1.661,1.694,1.661,1.565,1.467,1.479,1.537,1.559,1.562,1.564,1.556,1.522,1.55,1.612,1.673,1.727,1.743,1.771,1.789,1.829,1.833,1.85,1.94,2.0,1.965,1.992,2.054,2.296,2.094,2.193,2.358,2.215,2.071,1.974,1.999,1.916,1.762],\"type\":\"scatter\"},{\"line\":{\"dash\":\"dash\",\"width\":3},\"name\":\"avg\",\"x\":[\"2018-01-01T00:00:00\",\"2018-02-01T00:00:00\",\"2018-03-01T00:00:00\",\"2018-04-01T00:00:00\",\"2018-05-01T00:00:00\",\"2018-06-01T00:00:00\",\"2018-07-01T00:00:00\",\"2018-08-01T00:00:00\",\"2018-09-01T00:00:00\",\"2018-10-01T00:00:00\",\"2018-11-01T00:00:00\",\"2018-12-01T00:00:00\",\"2019-01-01T00:00:00\",\"2019-02-01T00:00:00\",\"2019-03-01T00:00:00\",\"2019-04-01T00:00:00\",\"2019-05-01T00:00:00\",\"2019-06-01T00:00:00\",\"2019-07-01T00:00:00\",\"2019-08-01T00:00:00\",\"2019-09-01T00:00:00\",\"2019-10-01T00:00:00\",\"2019-11-01T00:00:00\",\"2019-12-01T00:00:00\",\"2020-01-01T00:00:00\",\"2020-02-01T00:00:00\",\"2020-03-01T00:00:00\",\"2020-04-01T00:00:00\",\"2020-05-01T00:00:00\",\"2020-06-01T00:00:00\",\"2020-07-01T00:00:00\",\"2020-08-01T00:00:00\",\"2020-09-01T00:00:00\",\"2020-10-01T00:00:00\",\"2020-11-01T00:00:00\",\"2020-12-01T00:00:00\",\"2021-01-01T00:00:00\",\"2021-02-01T00:00:00\",\"2021-03-01T00:00:00\",\"2021-04-01T00:00:00\",\"2021-05-01T00:00:00\",\"2021-06-01T00:00:00\",\"2021-07-01T00:00:00\",\"2021-08-01T00:00:00\",\"2021-09-01T00:00:00\",\"2021-10-01T00:00:00\",\"2021-11-01T00:00:00\",\"2021-12-01T00:00:00\",\"2022-01-01T00:00:00\",\"2022-02-01T00:00:00\",\"2022-03-01T00:00:00\",\"2022-04-01T00:00:00\",\"2022-05-01T00:00:00\",\"2022-06-01T00:00:00\",\"2022-07-01T00:00:00\",\"2022-08-01T00:00:00\",\"2022-09-01T00:00:00\",\"2022-10-01T00:00:00\",\"2022-11-01T00:00:00\",\"2022-12-01T00:00:00\"],\"y\":[1.589,1.566,1.545,1.608,1.668,1.66,1.661,1.683,1.68,1.657,1.583,1.512,1.545,1.578,1.619,1.702,1.724,1.663,1.672,1.65,1.648,1.643,1.657,1.663,1.697,1.664,1.567,1.468,1.482,1.539,1.561,1.564,1.564,1.558,1.525,1.553,1.615,1.676,1.73,1.746,1.773,1.793,1.832,1.836,1.852,1.942,2.004,1.968,1.989,2.049,2.29,2.088,2.187,2.353,2.209,2.065,1.967,1.995,1.912,1.759],\"type\":\"scatter\"}],                        {\"template\":{\"data\":{\"histogram2dcontour\":[{\"type\":\"histogram2dcontour\",\"colorbar\":{\"outlinewidth\":0,\"ticks\":\"\"},\"colorscale\":[[0.0,\"#0d0887\"],[0.1111111111111111,\"#46039f\"],[0.2222222222222222,\"#7201a8\"],[0.3333333333333333,\"#9c179e\"],[0.4444444444444444,\"#bd3786\"],[0.5555555555555556,\"#d8576b\"],[0.6666666666666666,\"#ed7953\"],[0.7777777777777778,\"#fb9f3a\"],[0.8888888888888888,\"#fdca26\"],[1.0,\"#f0f921\"]]}],\"choropleth\":[{\"type\":\"choropleth\",\"colorbar\":{\"outlinewidth\":0,\"ticks\":\"\"}}],\"histogram2d\":[{\"type\":\"histogram2d\",\"colorbar\":{\"outlinewidth\":0,\"ticks\":\"\"},\"colorscale\":[[0.0,\"#0d0887\"],[0.1111111111111111,\"#46039f\"],[0.2222222222222222,\"#7201a8\"],[0.3333333333333333,\"#9c179e\"],[0.4444444444444444,\"#bd3786\"],[0.5555555555555556,\"#d8576b\"],[0.6666666666666666,\"#ed7953\"],[0.7777777777777778,\"#fb9f3a\"],[0.8888888888888888,\"#fdca26\"],[1.0,\"#f0f921\"]]}],\"heatmap\":[{\"type\":\"heatmap\",\"colorbar\":{\"outlinewidth\":0,\"ticks\":\"\"},\"colorscale\":[[0.0,\"#0d0887\"],[0.1111111111111111,\"#46039f\"],[0.2222222222222222,\"#7201a8\"],[0.3333333333333333,\"#9c179e\"],[0.4444444444444444,\"#bd3786\"],[0.5555555555555556,\"#d8576b\"],[0.6666666666666666,\"#ed7953\"],[0.7777777777777778,\"#fb9f3a\"],[0.8888888888888888,\"#fdca26\"],[1.0,\"#f0f921\"]]}],\"heatmapgl\":[{\"type\":\"heatmapgl\",\"colorbar\":{\"outlinewidth\":0,\"ticks\":\"\"},\"colorscale\":[[0.0,\"#0d0887\"],[0.1111111111111111,\"#46039f\"],[0.2222222222222222,\"#7201a8\"],[0.3333333333333333,\"#9c179e\"],[0.4444444444444444,\"#bd3786\"],[0.5555555555555556,\"#d8576b\"],[0.6666666666666666,\"#ed7953\"],[0.7777777777777778,\"#fb9f3a\"],[0.8888888888888888,\"#fdca26\"],[1.0,\"#f0f921\"]]}],\"contourcarpet\":[{\"type\":\"contourcarpet\",\"colorbar\":{\"outlinewidth\":0,\"ticks\":\"\"}}],\"contour\":[{\"type\":\"contour\",\"colorbar\":{\"outlinewidth\":0,\"ticks\":\"\"},\"colorscale\":[[0.0,\"#0d0887\"],[0.1111111111111111,\"#46039f\"],[0.2222222222222222,\"#7201a8\"],[0.3333333333333333,\"#9c179e\"],[0.4444444444444444,\"#bd3786\"],[0.5555555555555556,\"#d8576b\"],[0.6666666666666666,\"#ed7953\"],[0.7777777777777778,\"#fb9f3a\"],[0.8888888888888888,\"#fdca26\"],[1.0,\"#f0f921\"]]}],\"surface\":[{\"type\":\"surface\",\"colorbar\":{\"outlinewidth\":0,\"ticks\":\"\"},\"colorscale\":[[0.0,\"#0d0887\"],[0.1111111111111111,\"#46039f\"],[0.2222222222222222,\"#7201a8\"],[0.3333333333333333,\"#9c179e\"],[0.4444444444444444,\"#bd3786\"],[0.5555555555555556,\"#d8576b\"],[0.6666666666666666,\"#ed7953\"],[0.7777777777777778,\"#fb9f3a\"],[0.8888888888888888,\"#fdca26\"],[1.0,\"#f0f921\"]]}],\"mesh3d\":[{\"type\":\"mesh3d\",\"colorbar\":{\"outlinewidth\":0,\"ticks\":\"\"}}],\"scatter\":[{\"fillpattern\":{\"fillmode\":\"overlay\",\"size\":10,\"solidity\":0.2},\"type\":\"scatter\"}],\"parcoords\":[{\"type\":\"parcoords\",\"line\":{\"colorbar\":{\"outlinewidth\":0,\"ticks\":\"\"}}}],\"scatterpolargl\":[{\"type\":\"scatterpolargl\",\"marker\":{\"colorbar\":{\"outlinewidth\":0,\"ticks\":\"\"}}}],\"bar\":[{\"error_x\":{\"color\":\"#2a3f5f\"},\"error_y\":{\"color\":\"#2a3f5f\"},\"marker\":{\"line\":{\"color\":\"#E5ECF6\",\"width\":0.5},\"pattern\":{\"fillmode\":\"overlay\",\"size\":10,\"solidity\":0.2}},\"type\":\"bar\"}],\"scattergeo\":[{\"type\":\"scattergeo\",\"marker\":{\"colorbar\":{\"outlinewidth\":0,\"ticks\":\"\"}}}],\"scatterpolar\":[{\"type\":\"scatterpolar\",\"marker\":{\"colorbar\":{\"outlinewidth\":0,\"ticks\":\"\"}}}],\"histogram\":[{\"marker\":{\"pattern\":{\"fillmode\":\"overlay\",\"size\":10,\"solidity\":0.2}},\"type\":\"histogram\"}],\"scattergl\":[{\"type\":\"scattergl\",\"marker\":{\"colorbar\":{\"outlinewidth\":0,\"ticks\":\"\"}}}],\"scatter3d\":[{\"type\":\"scatter3d\",\"line\":{\"colorbar\":{\"outlinewidth\":0,\"ticks\":\"\"}},\"marker\":{\"colorbar\":{\"outlinewidth\":0,\"ticks\":\"\"}}}],\"scattermapbox\":[{\"type\":\"scattermapbox\",\"marker\":{\"colorbar\":{\"outlinewidth\":0,\"ticks\":\"\"}}}],\"scatterternary\":[{\"type\":\"scatterternary\",\"marker\":{\"colorbar\":{\"outlinewidth\":0,\"ticks\":\"\"}}}],\"scattercarpet\":[{\"type\":\"scattercarpet\",\"marker\":{\"colorbar\":{\"outlinewidth\":0,\"ticks\":\"\"}}}],\"carpet\":[{\"aaxis\":{\"endlinecolor\":\"#2a3f5f\",\"gridcolor\":\"white\",\"linecolor\":\"white\",\"minorgridcolor\":\"white\",\"startlinecolor\":\"#2a3f5f\"},\"baxis\":{\"endlinecolor\":\"#2a3f5f\",\"gridcolor\":\"white\",\"linecolor\":\"white\",\"minorgridcolor\":\"white\",\"startlinecolor\":\"#2a3f5f\"},\"type\":\"carpet\"}],\"table\":[{\"cells\":{\"fill\":{\"color\":\"#EBF0F8\"},\"line\":{\"color\":\"white\"}},\"header\":{\"fill\":{\"color\":\"#C8D4E3\"},\"line\":{\"color\":\"white\"}},\"type\":\"table\"}],\"barpolar\":[{\"marker\":{\"line\":{\"color\":\"#E5ECF6\",\"width\":0.5},\"pattern\":{\"fillmode\":\"overlay\",\"size\":10,\"solidity\":0.2}},\"type\":\"barpolar\"}],\"pie\":[{\"automargin\":true,\"type\":\"pie\"}]},\"layout\":{\"autotypenumbers\":\"strict\",\"colorway\":[\"#636efa\",\"#EF553B\",\"#00cc96\",\"#ab63fa\",\"#FFA15A\",\"#19d3f3\",\"#FF6692\",\"#B6E880\",\"#FF97FF\",\"#FECB52\"],\"font\":{\"color\":\"#2a3f5f\"},\"hovermode\":\"closest\",\"hoverlabel\":{\"align\":\"left\"},\"paper_bgcolor\":\"white\",\"plot_bgcolor\":\"#E5ECF6\",\"polar\":{\"bgcolor\":\"#E5ECF6\",\"angularaxis\":{\"gridcolor\":\"white\",\"linecolor\":\"white\",\"ticks\":\"\"},\"radialaxis\":{\"gridcolor\":\"white\",\"linecolor\":\"white\",\"ticks\":\"\"}},\"ternary\":{\"bgcolor\":\"#E5ECF6\",\"aaxis\":{\"gridcolor\":\"white\",\"linecolor\":\"white\",\"ticks\":\"\"},\"baxis\":{\"gridcolor\":\"white\",\"linecolor\":\"white\",\"ticks\":\"\"},\"caxis\":{\"gridcolor\":\"white\",\"linecolor\":\"white\",\"ticks\":\"\"}},\"coloraxis\":{\"colorbar\":{\"outlinewidth\":0,\"ticks\":\"\"}},\"colorscale\":{\"sequential\":[[0.0,\"#0d0887\"],[0.1111111111111111,\"#46039f\"],[0.2222222222222222,\"#7201a8\"],[0.3333333333333333,\"#9c179e\"],[0.4444444444444444,\"#bd3786\"],[0.5555555555555556,\"#d8576b\"],[0.6666666666666666,\"#ed7953\"],[0.7777777777777778,\"#fb9f3a\"],[0.8888888888888888,\"#fdca26\"],[1.0,\"#f0f921\"]],\"sequentialminus\":[[0.0,\"#0d0887\"],[0.1111111111111111,\"#46039f\"],[0.2222222222222222,\"#7201a8\"],[0.3333333333333333,\"#9c179e\"],[0.4444444444444444,\"#bd3786\"],[0.5555555555555556,\"#d8576b\"],[0.6666666666666666,\"#ed7953\"],[0.7777777777777778,\"#fb9f3a\"],[0.8888888888888888,\"#fdca26\"],[1.0,\"#f0f921\"]],\"diverging\":[[0,\"#8e0152\"],[0.1,\"#c51b7d\"],[0.2,\"#de77ae\"],[0.3,\"#f1b6da\"],[0.4,\"#fde0ef\"],[0.5,\"#f7f7f7\"],[0.6,\"#e6f5d0\"],[0.7,\"#b8e186\"],[0.8,\"#7fbc41\"],[0.9,\"#4d9221\"],[1,\"#276419\"]]},\"xaxis\":{\"gridcolor\":\"white\",\"linecolor\":\"white\",\"ticks\":\"\",\"title\":{\"standoff\":15},\"zerolinecolor\":\"white\",\"automargin\":true,\"zerolinewidth\":2},\"yaxis\":{\"gridcolor\":\"white\",\"linecolor\":\"white\",\"ticks\":\"\",\"title\":{\"standoff\":15},\"zerolinecolor\":\"white\",\"automargin\":true,\"zerolinewidth\":2},\"scene\":{\"xaxis\":{\"backgroundcolor\":\"#E5ECF6\",\"gridcolor\":\"white\",\"linecolor\":\"white\",\"showbackground\":true,\"ticks\":\"\",\"zerolinecolor\":\"white\",\"gridwidth\":2},\"yaxis\":{\"backgroundcolor\":\"#E5ECF6\",\"gridcolor\":\"white\",\"linecolor\":\"white\",\"showbackground\":true,\"ticks\":\"\",\"zerolinecolor\":\"white\",\"gridwidth\":2},\"zaxis\":{\"backgroundcolor\":\"#E5ECF6\",\"gridcolor\":\"white\",\"linecolor\":\"white\",\"showbackground\":true,\"ticks\":\"\",\"zerolinecolor\":\"white\",\"gridwidth\":2}},\"shapedefaults\":{\"line\":{\"color\":\"#2a3f5f\"}},\"annotationdefaults\":{\"arrowcolor\":\"#2a3f5f\",\"arrowhead\":0,\"arrowwidth\":1},\"geo\":{\"bgcolor\":\"white\",\"landcolor\":\"#E5ECF6\",\"subunitcolor\":\"white\",\"showland\":true,\"showlakes\":true,\"lakecolor\":\"white\"},\"title\":{\"x\":0.05},\"mapbox\":{\"style\":\"light\"}}},\"width\":1100,\"height\":400,\"title\":{\"text\":\"Euro95 prices\",\"x\":0.5},\"xaxis\":{\"title\":{\"text\":\"Month\"}},\"yaxis\":{\"title\":{\"text\":\"Price (euro)\"}}},                        {\"responsive\": true}                    ).then(function(){\n",
       "                            \n",
       "var gd = document.getElementById('ce8e6182-a663-4390-8fc8-d98684d662b9');\n",
       "var x = new MutationObserver(function (mutations, observer) {{\n",
       "        var display = window.getComputedStyle(gd).display;\n",
       "        if (!display || display === 'none') {{\n",
       "            console.log([gd, 'removed!']);\n",
       "            Plotly.purge(gd);\n",
       "            observer.disconnect();\n",
       "        }}\n",
       "}});\n",
       "\n",
       "// Listen for the removal of the full notebook cells\n",
       "var notebookContainer = gd.closest('#notebook-container');\n",
       "if (notebookContainer) {{\n",
       "    x.observe(notebookContainer, {childList: true});\n",
       "}}\n",
       "\n",
       "// Listen for the clearing of the current output cell\n",
       "var outputEl = gd.closest('.output');\n",
       "if (outputEl) {{\n",
       "    x.observe(outputEl, {childList: true});\n",
       "}}\n",
       "\n",
       "                        })                };                });            </script>        </div>"
      ]
     },
     "metadata": {},
     "output_type": "display_data"
    },
    {
     "data": {
      "application/vnd.plotly.v1+json": {
       "config": {
        "plotlyServerURL": "https://plot.ly"
       },
       "data": [
        {
         "mode": "lines",
         "name": "highway",
         "type": "scatter",
         "x": [
          "2018-01-01T00:00:00",
          "2018-02-01T00:00:00",
          "2018-03-01T00:00:00",
          "2018-04-01T00:00:00",
          "2018-05-01T00:00:00",
          "2018-06-01T00:00:00",
          "2018-07-01T00:00:00",
          "2018-08-01T00:00:00",
          "2018-09-01T00:00:00",
          "2018-10-01T00:00:00",
          "2018-11-01T00:00:00",
          "2018-12-01T00:00:00",
          "2019-01-01T00:00:00",
          "2019-02-01T00:00:00",
          "2019-03-01T00:00:00",
          "2019-04-01T00:00:00",
          "2019-05-01T00:00:00",
          "2019-06-01T00:00:00",
          "2019-07-01T00:00:00",
          "2019-08-01T00:00:00",
          "2019-09-01T00:00:00",
          "2019-10-01T00:00:00",
          "2019-11-01T00:00:00",
          "2019-12-01T00:00:00",
          "2020-01-01T00:00:00",
          "2020-02-01T00:00:00",
          "2020-03-01T00:00:00",
          "2020-04-01T00:00:00",
          "2020-05-01T00:00:00",
          "2020-06-01T00:00:00",
          "2020-07-01T00:00:00",
          "2020-08-01T00:00:00",
          "2020-09-01T00:00:00",
          "2020-10-01T00:00:00",
          "2020-11-01T00:00:00",
          "2020-12-01T00:00:00",
          "2021-01-01T00:00:00",
          "2021-02-01T00:00:00",
          "2021-03-01T00:00:00",
          "2021-04-01T00:00:00",
          "2021-05-01T00:00:00",
          "2021-06-01T00:00:00",
          "2021-07-01T00:00:00",
          "2021-08-01T00:00:00",
          "2021-09-01T00:00:00",
          "2021-10-01T00:00:00",
          "2021-11-01T00:00:00",
          "2021-12-01T00:00:00",
          "2022-01-01T00:00:00",
          "2022-02-01T00:00:00",
          "2022-03-01T00:00:00",
          "2022-04-01T00:00:00",
          "2022-05-01T00:00:00",
          "2022-06-01T00:00:00",
          "2022-07-01T00:00:00",
          "2022-08-01T00:00:00",
          "2022-09-01T00:00:00",
          "2022-10-01T00:00:00",
          "2022-11-01T00:00:00",
          "2022-12-01T00:00:00"
         ],
         "y": [
          1.376,
          1.336,
          1.344,
          1.385,
          1.445,
          1.445,
          1.438,
          1.442,
          1.467,
          1.501,
          1.461,
          1.379,
          1.391,
          1.433,
          1.449,
          1.464,
          1.479,
          1.428,
          1.441,
          1.428,
          1.465,
          1.468,
          1.472,
          1.488,
          1.517,
          1.464,
          1.372,
          1.327,
          1.299,
          1.313,
          1.329,
          1.317,
          1.277,
          1.284,
          1.301,
          1.351,
          1.409,
          1.477,
          1.509,
          1.502,
          1.529,
          1.561,
          1.581,
          1.578,
          1.617,
          1.736,
          1.76,
          1.722,
          1.798,
          1.876,
          2.249,
          2.13,
          2.121,
          2.276,
          2.198,
          2.103,
          2.133,
          2.209,
          2.057,
          1.885
         ]
        },
        {
         "line": {
          "color": "red",
          "width": 2
         },
         "name": "local",
         "type": "scatter",
         "x": [
          "2018-01-01T00:00:00",
          "2018-02-01T00:00:00",
          "2018-03-01T00:00:00",
          "2018-04-01T00:00:00",
          "2018-05-01T00:00:00",
          "2018-06-01T00:00:00",
          "2018-07-01T00:00:00",
          "2018-08-01T00:00:00",
          "2018-09-01T00:00:00",
          "2018-10-01T00:00:00",
          "2018-11-01T00:00:00",
          "2018-12-01T00:00:00",
          "2019-01-01T00:00:00",
          "2019-02-01T00:00:00",
          "2019-03-01T00:00:00",
          "2019-04-01T00:00:00",
          "2019-05-01T00:00:00",
          "2019-06-01T00:00:00",
          "2019-07-01T00:00:00",
          "2019-08-01T00:00:00",
          "2019-09-01T00:00:00",
          "2019-10-01T00:00:00",
          "2019-11-01T00:00:00",
          "2019-12-01T00:00:00",
          "2020-01-01T00:00:00",
          "2020-02-01T00:00:00",
          "2020-03-01T00:00:00",
          "2020-04-01T00:00:00",
          "2020-05-01T00:00:00",
          "2020-06-01T00:00:00",
          "2020-07-01T00:00:00",
          "2020-08-01T00:00:00",
          "2020-09-01T00:00:00",
          "2020-10-01T00:00:00",
          "2020-11-01T00:00:00",
          "2020-12-01T00:00:00",
          "2021-01-01T00:00:00",
          "2021-02-01T00:00:00",
          "2021-03-01T00:00:00",
          "2021-04-01T00:00:00",
          "2021-05-01T00:00:00",
          "2021-06-01T00:00:00",
          "2021-07-01T00:00:00",
          "2021-08-01T00:00:00",
          "2021-09-01T00:00:00",
          "2021-10-01T00:00:00",
          "2021-11-01T00:00:00",
          "2021-12-01T00:00:00",
          "2022-01-01T00:00:00",
          "2022-02-01T00:00:00",
          "2022-03-01T00:00:00",
          "2022-04-01T00:00:00",
          "2022-05-01T00:00:00",
          "2022-06-01T00:00:00",
          "2022-07-01T00:00:00",
          "2022-08-01T00:00:00",
          "2022-09-01T00:00:00",
          "2022-10-01T00:00:00",
          "2022-11-01T00:00:00",
          "2022-12-01T00:00:00"
         ],
         "y": [
          1.294,
          1.256,
          1.261,
          1.303,
          1.362,
          1.365,
          1.358,
          1.362,
          1.387,
          1.419,
          1.38,
          1.3,
          1.307,
          1.349,
          1.366,
          1.38,
          1.395,
          1.336,
          1.347,
          1.33,
          1.368,
          1.371,
          1.371,
          1.389,
          1.416,
          1.361,
          1.271,
          1.229,
          1.2,
          1.206,
          1.223,
          1.212,
          1.173,
          1.177,
          1.19,
          1.238,
          1.299,
          1.365,
          1.402,
          1.397,
          1.419,
          1.449,
          1.473,
          1.467,
          1.499,
          1.617,
          1.647,
          1.611,
          1.678,
          1.757,
          2.132,
          2.015,
          2.005,
          2.155,
          2.082,
          1.986,
          2.01,
          2.084,
          1.938,
          1.762
         ]
        },
        {
         "line": {
          "dash": "dash",
          "width": 3
         },
         "name": "avg",
         "type": "scatter",
         "x": [
          "2018-01-01T00:00:00",
          "2018-02-01T00:00:00",
          "2018-03-01T00:00:00",
          "2018-04-01T00:00:00",
          "2018-05-01T00:00:00",
          "2018-06-01T00:00:00",
          "2018-07-01T00:00:00",
          "2018-08-01T00:00:00",
          "2018-09-01T00:00:00",
          "2018-10-01T00:00:00",
          "2018-11-01T00:00:00",
          "2018-12-01T00:00:00",
          "2019-01-01T00:00:00",
          "2019-02-01T00:00:00",
          "2019-03-01T00:00:00",
          "2019-04-01T00:00:00",
          "2019-05-01T00:00:00",
          "2019-06-01T00:00:00",
          "2019-07-01T00:00:00",
          "2019-08-01T00:00:00",
          "2019-09-01T00:00:00",
          "2019-10-01T00:00:00",
          "2019-11-01T00:00:00",
          "2019-12-01T00:00:00",
          "2020-01-01T00:00:00",
          "2020-02-01T00:00:00",
          "2020-03-01T00:00:00",
          "2020-04-01T00:00:00",
          "2020-05-01T00:00:00",
          "2020-06-01T00:00:00",
          "2020-07-01T00:00:00",
          "2020-08-01T00:00:00",
          "2020-09-01T00:00:00",
          "2020-10-01T00:00:00",
          "2020-11-01T00:00:00",
          "2020-12-01T00:00:00",
          "2021-01-01T00:00:00",
          "2021-02-01T00:00:00",
          "2021-03-01T00:00:00",
          "2021-04-01T00:00:00",
          "2021-05-01T00:00:00",
          "2021-06-01T00:00:00",
          "2021-07-01T00:00:00",
          "2021-08-01T00:00:00",
          "2021-09-01T00:00:00",
          "2021-10-01T00:00:00",
          "2021-11-01T00:00:00",
          "2021-12-01T00:00:00",
          "2022-01-01T00:00:00",
          "2022-02-01T00:00:00",
          "2022-03-01T00:00:00",
          "2022-04-01T00:00:00",
          "2022-05-01T00:00:00",
          "2022-06-01T00:00:00",
          "2022-07-01T00:00:00",
          "2022-08-01T00:00:00",
          "2022-09-01T00:00:00",
          "2022-10-01T00:00:00",
          "2022-11-01T00:00:00",
          "2022-12-01T00:00:00"
         ],
         "y": [
          1.292,
          1.254,
          1.26,
          1.301,
          1.36,
          1.362,
          1.356,
          1.359,
          1.384,
          1.417,
          1.378,
          1.297,
          1.304,
          1.345,
          1.362,
          1.378,
          1.392,
          1.333,
          1.344,
          1.329,
          1.366,
          1.369,
          1.369,
          1.386,
          1.413,
          1.359,
          1.268,
          1.224,
          1.196,
          1.202,
          1.219,
          1.207,
          1.167,
          1.172,
          1.185,
          1.233,
          1.289,
          1.354,
          1.392,
          1.387,
          1.409,
          1.44,
          1.463,
          1.457,
          1.489,
          1.608,
          1.638,
          1.601,
          1.666,
          1.744,
          2.118,
          2.002,
          1.993,
          2.143,
          2.068,
          1.974,
          1.999,
          2.076,
          1.925,
          1.751
         ]
        }
       ],
       "layout": {
        "height": 400,
        "template": {
         "data": {
          "bar": [
           {
            "error_x": {
             "color": "#2a3f5f"
            },
            "error_y": {
             "color": "#2a3f5f"
            },
            "marker": {
             "line": {
              "color": "#E5ECF6",
              "width": 0.5
             },
             "pattern": {
              "fillmode": "overlay",
              "size": 10,
              "solidity": 0.2
             }
            },
            "type": "bar"
           }
          ],
          "barpolar": [
           {
            "marker": {
             "line": {
              "color": "#E5ECF6",
              "width": 0.5
             },
             "pattern": {
              "fillmode": "overlay",
              "size": 10,
              "solidity": 0.2
             }
            },
            "type": "barpolar"
           }
          ],
          "carpet": [
           {
            "aaxis": {
             "endlinecolor": "#2a3f5f",
             "gridcolor": "white",
             "linecolor": "white",
             "minorgridcolor": "white",
             "startlinecolor": "#2a3f5f"
            },
            "baxis": {
             "endlinecolor": "#2a3f5f",
             "gridcolor": "white",
             "linecolor": "white",
             "minorgridcolor": "white",
             "startlinecolor": "#2a3f5f"
            },
            "type": "carpet"
           }
          ],
          "choropleth": [
           {
            "colorbar": {
             "outlinewidth": 0,
             "ticks": ""
            },
            "type": "choropleth"
           }
          ],
          "contour": [
           {
            "colorbar": {
             "outlinewidth": 0,
             "ticks": ""
            },
            "colorscale": [
             [
              0,
              "#0d0887"
             ],
             [
              0.1111111111111111,
              "#46039f"
             ],
             [
              0.2222222222222222,
              "#7201a8"
             ],
             [
              0.3333333333333333,
              "#9c179e"
             ],
             [
              0.4444444444444444,
              "#bd3786"
             ],
             [
              0.5555555555555556,
              "#d8576b"
             ],
             [
              0.6666666666666666,
              "#ed7953"
             ],
             [
              0.7777777777777778,
              "#fb9f3a"
             ],
             [
              0.8888888888888888,
              "#fdca26"
             ],
             [
              1,
              "#f0f921"
             ]
            ],
            "type": "contour"
           }
          ],
          "contourcarpet": [
           {
            "colorbar": {
             "outlinewidth": 0,
             "ticks": ""
            },
            "type": "contourcarpet"
           }
          ],
          "heatmap": [
           {
            "colorbar": {
             "outlinewidth": 0,
             "ticks": ""
            },
            "colorscale": [
             [
              0,
              "#0d0887"
             ],
             [
              0.1111111111111111,
              "#46039f"
             ],
             [
              0.2222222222222222,
              "#7201a8"
             ],
             [
              0.3333333333333333,
              "#9c179e"
             ],
             [
              0.4444444444444444,
              "#bd3786"
             ],
             [
              0.5555555555555556,
              "#d8576b"
             ],
             [
              0.6666666666666666,
              "#ed7953"
             ],
             [
              0.7777777777777778,
              "#fb9f3a"
             ],
             [
              0.8888888888888888,
              "#fdca26"
             ],
             [
              1,
              "#f0f921"
             ]
            ],
            "type": "heatmap"
           }
          ],
          "heatmapgl": [
           {
            "colorbar": {
             "outlinewidth": 0,
             "ticks": ""
            },
            "colorscale": [
             [
              0,
              "#0d0887"
             ],
             [
              0.1111111111111111,
              "#46039f"
             ],
             [
              0.2222222222222222,
              "#7201a8"
             ],
             [
              0.3333333333333333,
              "#9c179e"
             ],
             [
              0.4444444444444444,
              "#bd3786"
             ],
             [
              0.5555555555555556,
              "#d8576b"
             ],
             [
              0.6666666666666666,
              "#ed7953"
             ],
             [
              0.7777777777777778,
              "#fb9f3a"
             ],
             [
              0.8888888888888888,
              "#fdca26"
             ],
             [
              1,
              "#f0f921"
             ]
            ],
            "type": "heatmapgl"
           }
          ],
          "histogram": [
           {
            "marker": {
             "pattern": {
              "fillmode": "overlay",
              "size": 10,
              "solidity": 0.2
             }
            },
            "type": "histogram"
           }
          ],
          "histogram2d": [
           {
            "colorbar": {
             "outlinewidth": 0,
             "ticks": ""
            },
            "colorscale": [
             [
              0,
              "#0d0887"
             ],
             [
              0.1111111111111111,
              "#46039f"
             ],
             [
              0.2222222222222222,
              "#7201a8"
             ],
             [
              0.3333333333333333,
              "#9c179e"
             ],
             [
              0.4444444444444444,
              "#bd3786"
             ],
             [
              0.5555555555555556,
              "#d8576b"
             ],
             [
              0.6666666666666666,
              "#ed7953"
             ],
             [
              0.7777777777777778,
              "#fb9f3a"
             ],
             [
              0.8888888888888888,
              "#fdca26"
             ],
             [
              1,
              "#f0f921"
             ]
            ],
            "type": "histogram2d"
           }
          ],
          "histogram2dcontour": [
           {
            "colorbar": {
             "outlinewidth": 0,
             "ticks": ""
            },
            "colorscale": [
             [
              0,
              "#0d0887"
             ],
             [
              0.1111111111111111,
              "#46039f"
             ],
             [
              0.2222222222222222,
              "#7201a8"
             ],
             [
              0.3333333333333333,
              "#9c179e"
             ],
             [
              0.4444444444444444,
              "#bd3786"
             ],
             [
              0.5555555555555556,
              "#d8576b"
             ],
             [
              0.6666666666666666,
              "#ed7953"
             ],
             [
              0.7777777777777778,
              "#fb9f3a"
             ],
             [
              0.8888888888888888,
              "#fdca26"
             ],
             [
              1,
              "#f0f921"
             ]
            ],
            "type": "histogram2dcontour"
           }
          ],
          "mesh3d": [
           {
            "colorbar": {
             "outlinewidth": 0,
             "ticks": ""
            },
            "type": "mesh3d"
           }
          ],
          "parcoords": [
           {
            "line": {
             "colorbar": {
              "outlinewidth": 0,
              "ticks": ""
             }
            },
            "type": "parcoords"
           }
          ],
          "pie": [
           {
            "automargin": true,
            "type": "pie"
           }
          ],
          "scatter": [
           {
            "fillpattern": {
             "fillmode": "overlay",
             "size": 10,
             "solidity": 0.2
            },
            "type": "scatter"
           }
          ],
          "scatter3d": [
           {
            "line": {
             "colorbar": {
              "outlinewidth": 0,
              "ticks": ""
             }
            },
            "marker": {
             "colorbar": {
              "outlinewidth": 0,
              "ticks": ""
             }
            },
            "type": "scatter3d"
           }
          ],
          "scattercarpet": [
           {
            "marker": {
             "colorbar": {
              "outlinewidth": 0,
              "ticks": ""
             }
            },
            "type": "scattercarpet"
           }
          ],
          "scattergeo": [
           {
            "marker": {
             "colorbar": {
              "outlinewidth": 0,
              "ticks": ""
             }
            },
            "type": "scattergeo"
           }
          ],
          "scattergl": [
           {
            "marker": {
             "colorbar": {
              "outlinewidth": 0,
              "ticks": ""
             }
            },
            "type": "scattergl"
           }
          ],
          "scattermapbox": [
           {
            "marker": {
             "colorbar": {
              "outlinewidth": 0,
              "ticks": ""
             }
            },
            "type": "scattermapbox"
           }
          ],
          "scatterpolar": [
           {
            "marker": {
             "colorbar": {
              "outlinewidth": 0,
              "ticks": ""
             }
            },
            "type": "scatterpolar"
           }
          ],
          "scatterpolargl": [
           {
            "marker": {
             "colorbar": {
              "outlinewidth": 0,
              "ticks": ""
             }
            },
            "type": "scatterpolargl"
           }
          ],
          "scatterternary": [
           {
            "marker": {
             "colorbar": {
              "outlinewidth": 0,
              "ticks": ""
             }
            },
            "type": "scatterternary"
           }
          ],
          "surface": [
           {
            "colorbar": {
             "outlinewidth": 0,
             "ticks": ""
            },
            "colorscale": [
             [
              0,
              "#0d0887"
             ],
             [
              0.1111111111111111,
              "#46039f"
             ],
             [
              0.2222222222222222,
              "#7201a8"
             ],
             [
              0.3333333333333333,
              "#9c179e"
             ],
             [
              0.4444444444444444,
              "#bd3786"
             ],
             [
              0.5555555555555556,
              "#d8576b"
             ],
             [
              0.6666666666666666,
              "#ed7953"
             ],
             [
              0.7777777777777778,
              "#fb9f3a"
             ],
             [
              0.8888888888888888,
              "#fdca26"
             ],
             [
              1,
              "#f0f921"
             ]
            ],
            "type": "surface"
           }
          ],
          "table": [
           {
            "cells": {
             "fill": {
              "color": "#EBF0F8"
             },
             "line": {
              "color": "white"
             }
            },
            "header": {
             "fill": {
              "color": "#C8D4E3"
             },
             "line": {
              "color": "white"
             }
            },
            "type": "table"
           }
          ]
         },
         "layout": {
          "annotationdefaults": {
           "arrowcolor": "#2a3f5f",
           "arrowhead": 0,
           "arrowwidth": 1
          },
          "autotypenumbers": "strict",
          "coloraxis": {
           "colorbar": {
            "outlinewidth": 0,
            "ticks": ""
           }
          },
          "colorscale": {
           "diverging": [
            [
             0,
             "#8e0152"
            ],
            [
             0.1,
             "#c51b7d"
            ],
            [
             0.2,
             "#de77ae"
            ],
            [
             0.3,
             "#f1b6da"
            ],
            [
             0.4,
             "#fde0ef"
            ],
            [
             0.5,
             "#f7f7f7"
            ],
            [
             0.6,
             "#e6f5d0"
            ],
            [
             0.7,
             "#b8e186"
            ],
            [
             0.8,
             "#7fbc41"
            ],
            [
             0.9,
             "#4d9221"
            ],
            [
             1,
             "#276419"
            ]
           ],
           "sequential": [
            [
             0,
             "#0d0887"
            ],
            [
             0.1111111111111111,
             "#46039f"
            ],
            [
             0.2222222222222222,
             "#7201a8"
            ],
            [
             0.3333333333333333,
             "#9c179e"
            ],
            [
             0.4444444444444444,
             "#bd3786"
            ],
            [
             0.5555555555555556,
             "#d8576b"
            ],
            [
             0.6666666666666666,
             "#ed7953"
            ],
            [
             0.7777777777777778,
             "#fb9f3a"
            ],
            [
             0.8888888888888888,
             "#fdca26"
            ],
            [
             1,
             "#f0f921"
            ]
           ],
           "sequentialminus": [
            [
             0,
             "#0d0887"
            ],
            [
             0.1111111111111111,
             "#46039f"
            ],
            [
             0.2222222222222222,
             "#7201a8"
            ],
            [
             0.3333333333333333,
             "#9c179e"
            ],
            [
             0.4444444444444444,
             "#bd3786"
            ],
            [
             0.5555555555555556,
             "#d8576b"
            ],
            [
             0.6666666666666666,
             "#ed7953"
            ],
            [
             0.7777777777777778,
             "#fb9f3a"
            ],
            [
             0.8888888888888888,
             "#fdca26"
            ],
            [
             1,
             "#f0f921"
            ]
           ]
          },
          "colorway": [
           "#636efa",
           "#EF553B",
           "#00cc96",
           "#ab63fa",
           "#FFA15A",
           "#19d3f3",
           "#FF6692",
           "#B6E880",
           "#FF97FF",
           "#FECB52"
          ],
          "font": {
           "color": "#2a3f5f"
          },
          "geo": {
           "bgcolor": "white",
           "lakecolor": "white",
           "landcolor": "#E5ECF6",
           "showlakes": true,
           "showland": true,
           "subunitcolor": "white"
          },
          "hoverlabel": {
           "align": "left"
          },
          "hovermode": "closest",
          "mapbox": {
           "style": "light"
          },
          "paper_bgcolor": "white",
          "plot_bgcolor": "#E5ECF6",
          "polar": {
           "angularaxis": {
            "gridcolor": "white",
            "linecolor": "white",
            "ticks": ""
           },
           "bgcolor": "#E5ECF6",
           "radialaxis": {
            "gridcolor": "white",
            "linecolor": "white",
            "ticks": ""
           }
          },
          "scene": {
           "xaxis": {
            "backgroundcolor": "#E5ECF6",
            "gridcolor": "white",
            "gridwidth": 2,
            "linecolor": "white",
            "showbackground": true,
            "ticks": "",
            "zerolinecolor": "white"
           },
           "yaxis": {
            "backgroundcolor": "#E5ECF6",
            "gridcolor": "white",
            "gridwidth": 2,
            "linecolor": "white",
            "showbackground": true,
            "ticks": "",
            "zerolinecolor": "white"
           },
           "zaxis": {
            "backgroundcolor": "#E5ECF6",
            "gridcolor": "white",
            "gridwidth": 2,
            "linecolor": "white",
            "showbackground": true,
            "ticks": "",
            "zerolinecolor": "white"
           }
          },
          "shapedefaults": {
           "line": {
            "color": "#2a3f5f"
           }
          },
          "ternary": {
           "aaxis": {
            "gridcolor": "white",
            "linecolor": "white",
            "ticks": ""
           },
           "baxis": {
            "gridcolor": "white",
            "linecolor": "white",
            "ticks": ""
           },
           "bgcolor": "#E5ECF6",
           "caxis": {
            "gridcolor": "white",
            "linecolor": "white",
            "ticks": ""
           }
          },
          "title": {
           "x": 0.05
          },
          "xaxis": {
           "automargin": true,
           "gridcolor": "white",
           "linecolor": "white",
           "ticks": "",
           "title": {
            "standoff": 15
           },
           "zerolinecolor": "white",
           "zerolinewidth": 2
          },
          "yaxis": {
           "automargin": true,
           "gridcolor": "white",
           "linecolor": "white",
           "ticks": "",
           "title": {
            "standoff": 15
           },
           "zerolinecolor": "white",
           "zerolinewidth": 2
          }
         }
        },
        "title": {
         "text": "Diesel prices",
         "x": 0.5
        },
        "width": 1100,
        "xaxis": {
         "autorange": true,
         "range": [
          "2018-01-01",
          "2022-12-01"
         ],
         "title": {
          "text": "Month"
         },
         "type": "date"
        },
        "yaxis": {
         "autorange": true,
         "range": [
          1.105388888888889,
          2.337611111111111
         ],
         "title": {
          "text": "Price (euro)"
         },
         "type": "linear"
        }
       }
      },
      "image/png": "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",
      "text/html": [
       "<div>                            <div id=\"0ec394e9-930c-4f23-9b49-2176235b763a\" class=\"plotly-graph-div\" style=\"height:400px; width:1100px;\"></div>            <script type=\"text/javascript\">                require([\"plotly\"], function(Plotly) {                    window.PLOTLYENV=window.PLOTLYENV || {};                                    if (document.getElementById(\"0ec394e9-930c-4f23-9b49-2176235b763a\")) {                    Plotly.newPlot(                        \"0ec394e9-930c-4f23-9b49-2176235b763a\",                        [{\"mode\":\"lines\",\"name\":\"highway\",\"x\":[\"2018-01-01T00:00:00\",\"2018-02-01T00:00:00\",\"2018-03-01T00:00:00\",\"2018-04-01T00:00:00\",\"2018-05-01T00:00:00\",\"2018-06-01T00:00:00\",\"2018-07-01T00:00:00\",\"2018-08-01T00:00:00\",\"2018-09-01T00:00:00\",\"2018-10-01T00:00:00\",\"2018-11-01T00:00:00\",\"2018-12-01T00:00:00\",\"2019-01-01T00:00:00\",\"2019-02-01T00:00:00\",\"2019-03-01T00:00:00\",\"2019-04-01T00:00:00\",\"2019-05-01T00:00:00\",\"2019-06-01T00:00:00\",\"2019-07-01T00:00:00\",\"2019-08-01T00:00:00\",\"2019-09-01T00:00:00\",\"2019-10-01T00:00:00\",\"2019-11-01T00:00:00\",\"2019-12-01T00:00:00\",\"2020-01-01T00:00:00\",\"2020-02-01T00:00:00\",\"2020-03-01T00:00:00\",\"2020-04-01T00:00:00\",\"2020-05-01T00:00:00\",\"2020-06-01T00:00:00\",\"2020-07-01T00:00:00\",\"2020-08-01T00:00:00\",\"2020-09-01T00:00:00\",\"2020-10-01T00:00:00\",\"2020-11-01T00:00:00\",\"2020-12-01T00:00:00\",\"2021-01-01T00:00:00\",\"2021-02-01T00:00:00\",\"2021-03-01T00:00:00\",\"2021-04-01T00:00:00\",\"2021-05-01T00:00:00\",\"2021-06-01T00:00:00\",\"2021-07-01T00:00:00\",\"2021-08-01T00:00:00\",\"2021-09-01T00:00:00\",\"2021-10-01T00:00:00\",\"2021-11-01T00:00:00\",\"2021-12-01T00:00:00\",\"2022-01-01T00:00:00\",\"2022-02-01T00:00:00\",\"2022-03-01T00:00:00\",\"2022-04-01T00:00:00\",\"2022-05-01T00:00:00\",\"2022-06-01T00:00:00\",\"2022-07-01T00:00:00\",\"2022-08-01T00:00:00\",\"2022-09-01T00:00:00\",\"2022-10-01T00:00:00\",\"2022-11-01T00:00:00\",\"2022-12-01T00:00:00\"],\"y\":[1.376,1.336,1.344,1.385,1.445,1.445,1.438,1.442,1.467,1.501,1.461,1.379,1.391,1.433,1.449,1.464,1.479,1.428,1.441,1.428,1.465,1.468,1.472,1.488,1.517,1.464,1.372,1.327,1.299,1.313,1.329,1.317,1.277,1.284,1.301,1.351,1.409,1.477,1.509,1.502,1.529,1.561,1.581,1.578,1.617,1.736,1.76,1.722,1.798,1.876,2.249,2.13,2.121,2.276,2.198,2.103,2.133,2.209,2.057,1.885],\"type\":\"scatter\"},{\"line\":{\"color\":\"red\",\"width\":2},\"name\":\"local\",\"x\":[\"2018-01-01T00:00:00\",\"2018-02-01T00:00:00\",\"2018-03-01T00:00:00\",\"2018-04-01T00:00:00\",\"2018-05-01T00:00:00\",\"2018-06-01T00:00:00\",\"2018-07-01T00:00:00\",\"2018-08-01T00:00:00\",\"2018-09-01T00:00:00\",\"2018-10-01T00:00:00\",\"2018-11-01T00:00:00\",\"2018-12-01T00:00:00\",\"2019-01-01T00:00:00\",\"2019-02-01T00:00:00\",\"2019-03-01T00:00:00\",\"2019-04-01T00:00:00\",\"2019-05-01T00:00:00\",\"2019-06-01T00:00:00\",\"2019-07-01T00:00:00\",\"2019-08-01T00:00:00\",\"2019-09-01T00:00:00\",\"2019-10-01T00:00:00\",\"2019-11-01T00:00:00\",\"2019-12-01T00:00:00\",\"2020-01-01T00:00:00\",\"2020-02-01T00:00:00\",\"2020-03-01T00:00:00\",\"2020-04-01T00:00:00\",\"2020-05-01T00:00:00\",\"2020-06-01T00:00:00\",\"2020-07-01T00:00:00\",\"2020-08-01T00:00:00\",\"2020-09-01T00:00:00\",\"2020-10-01T00:00:00\",\"2020-11-01T00:00:00\",\"2020-12-01T00:00:00\",\"2021-01-01T00:00:00\",\"2021-02-01T00:00:00\",\"2021-03-01T00:00:00\",\"2021-04-01T00:00:00\",\"2021-05-01T00:00:00\",\"2021-06-01T00:00:00\",\"2021-07-01T00:00:00\",\"2021-08-01T00:00:00\",\"2021-09-01T00:00:00\",\"2021-10-01T00:00:00\",\"2021-11-01T00:00:00\",\"2021-12-01T00:00:00\",\"2022-01-01T00:00:00\",\"2022-02-01T00:00:00\",\"2022-03-01T00:00:00\",\"2022-04-01T00:00:00\",\"2022-05-01T00:00:00\",\"2022-06-01T00:00:00\",\"2022-07-01T00:00:00\",\"2022-08-01T00:00:00\",\"2022-09-01T00:00:00\",\"2022-10-01T00:00:00\",\"2022-11-01T00:00:00\",\"2022-12-01T00:00:00\"],\"y\":[1.294,1.256,1.261,1.303,1.362,1.365,1.358,1.362,1.387,1.419,1.38,1.3,1.307,1.349,1.366,1.38,1.395,1.336,1.347,1.33,1.368,1.371,1.371,1.389,1.416,1.361,1.271,1.229,1.2,1.206,1.223,1.212,1.173,1.177,1.19,1.238,1.299,1.365,1.402,1.397,1.419,1.449,1.473,1.467,1.499,1.617,1.647,1.611,1.678,1.757,2.132,2.015,2.005,2.155,2.082,1.986,2.01,2.084,1.938,1.762],\"type\":\"scatter\"},{\"line\":{\"dash\":\"dash\",\"width\":3},\"name\":\"avg\",\"x\":[\"2018-01-01T00:00:00\",\"2018-02-01T00:00:00\",\"2018-03-01T00:00:00\",\"2018-04-01T00:00:00\",\"2018-05-01T00:00:00\",\"2018-06-01T00:00:00\",\"2018-07-01T00:00:00\",\"2018-08-01T00:00:00\",\"2018-09-01T00:00:00\",\"2018-10-01T00:00:00\",\"2018-11-01T00:00:00\",\"2018-12-01T00:00:00\",\"2019-01-01T00:00:00\",\"2019-02-01T00:00:00\",\"2019-03-01T00:00:00\",\"2019-04-01T00:00:00\",\"2019-05-01T00:00:00\",\"2019-06-01T00:00:00\",\"2019-07-01T00:00:00\",\"2019-08-01T00:00:00\",\"2019-09-01T00:00:00\",\"2019-10-01T00:00:00\",\"2019-11-01T00:00:00\",\"2019-12-01T00:00:00\",\"2020-01-01T00:00:00\",\"2020-02-01T00:00:00\",\"2020-03-01T00:00:00\",\"2020-04-01T00:00:00\",\"2020-05-01T00:00:00\",\"2020-06-01T00:00:00\",\"2020-07-01T00:00:00\",\"2020-08-01T00:00:00\",\"2020-09-01T00:00:00\",\"2020-10-01T00:00:00\",\"2020-11-01T00:00:00\",\"2020-12-01T00:00:00\",\"2021-01-01T00:00:00\",\"2021-02-01T00:00:00\",\"2021-03-01T00:00:00\",\"2021-04-01T00:00:00\",\"2021-05-01T00:00:00\",\"2021-06-01T00:00:00\",\"2021-07-01T00:00:00\",\"2021-08-01T00:00:00\",\"2021-09-01T00:00:00\",\"2021-10-01T00:00:00\",\"2021-11-01T00:00:00\",\"2021-12-01T00:00:00\",\"2022-01-01T00:00:00\",\"2022-02-01T00:00:00\",\"2022-03-01T00:00:00\",\"2022-04-01T00:00:00\",\"2022-05-01T00:00:00\",\"2022-06-01T00:00:00\",\"2022-07-01T00:00:00\",\"2022-08-01T00:00:00\",\"2022-09-01T00:00:00\",\"2022-10-01T00:00:00\",\"2022-11-01T00:00:00\",\"2022-12-01T00:00:00\"],\"y\":[1.292,1.254,1.26,1.301,1.36,1.362,1.356,1.359,1.384,1.417,1.378,1.297,1.304,1.345,1.362,1.378,1.392,1.333,1.344,1.329,1.366,1.369,1.369,1.386,1.413,1.359,1.268,1.224,1.196,1.202,1.219,1.207,1.167,1.172,1.185,1.233,1.289,1.354,1.392,1.387,1.409,1.44,1.463,1.457,1.489,1.608,1.638,1.601,1.666,1.744,2.118,2.002,1.993,2.143,2.068,1.974,1.999,2.076,1.925,1.751],\"type\":\"scatter\"}],                        {\"template\":{\"data\":{\"histogram2dcontour\":[{\"type\":\"histogram2dcontour\",\"colorbar\":{\"outlinewidth\":0,\"ticks\":\"\"},\"colorscale\":[[0.0,\"#0d0887\"],[0.1111111111111111,\"#46039f\"],[0.2222222222222222,\"#7201a8\"],[0.3333333333333333,\"#9c179e\"],[0.4444444444444444,\"#bd3786\"],[0.5555555555555556,\"#d8576b\"],[0.6666666666666666,\"#ed7953\"],[0.7777777777777778,\"#fb9f3a\"],[0.8888888888888888,\"#fdca26\"],[1.0,\"#f0f921\"]]}],\"choropleth\":[{\"type\":\"choropleth\",\"colorbar\":{\"outlinewidth\":0,\"ticks\":\"\"}}],\"histogram2d\":[{\"type\":\"histogram2d\",\"colorbar\":{\"outlinewidth\":0,\"ticks\":\"\"},\"colorscale\":[[0.0,\"#0d0887\"],[0.1111111111111111,\"#46039f\"],[0.2222222222222222,\"#7201a8\"],[0.3333333333333333,\"#9c179e\"],[0.4444444444444444,\"#bd3786\"],[0.5555555555555556,\"#d8576b\"],[0.6666666666666666,\"#ed7953\"],[0.7777777777777778,\"#fb9f3a\"],[0.8888888888888888,\"#fdca26\"],[1.0,\"#f0f921\"]]}],\"heatmap\":[{\"type\":\"heatmap\",\"colorbar\":{\"outlinewidth\":0,\"ticks\":\"\"},\"colorscale\":[[0.0,\"#0d0887\"],[0.1111111111111111,\"#46039f\"],[0.2222222222222222,\"#7201a8\"],[0.3333333333333333,\"#9c179e\"],[0.4444444444444444,\"#bd3786\"],[0.5555555555555556,\"#d8576b\"],[0.6666666666666666,\"#ed7953\"],[0.7777777777777778,\"#fb9f3a\"],[0.8888888888888888,\"#fdca26\"],[1.0,\"#f0f921\"]]}],\"heatmapgl\":[{\"type\":\"heatmapgl\",\"colorbar\":{\"outlinewidth\":0,\"ticks\":\"\"},\"colorscale\":[[0.0,\"#0d0887\"],[0.1111111111111111,\"#46039f\"],[0.2222222222222222,\"#7201a8\"],[0.3333333333333333,\"#9c179e\"],[0.4444444444444444,\"#bd3786\"],[0.5555555555555556,\"#d8576b\"],[0.6666666666666666,\"#ed7953\"],[0.7777777777777778,\"#fb9f3a\"],[0.8888888888888888,\"#fdca26\"],[1.0,\"#f0f921\"]]}],\"contourcarpet\":[{\"type\":\"contourcarpet\",\"colorbar\":{\"outlinewidth\":0,\"ticks\":\"\"}}],\"contour\":[{\"type\":\"contour\",\"colorbar\":{\"outlinewidth\":0,\"ticks\":\"\"},\"colorscale\":[[0.0,\"#0d0887\"],[0.1111111111111111,\"#46039f\"],[0.2222222222222222,\"#7201a8\"],[0.3333333333333333,\"#9c179e\"],[0.4444444444444444,\"#bd3786\"],[0.5555555555555556,\"#d8576b\"],[0.6666666666666666,\"#ed7953\"],[0.7777777777777778,\"#fb9f3a\"],[0.8888888888888888,\"#fdca26\"],[1.0,\"#f0f921\"]]}],\"surface\":[{\"type\":\"surface\",\"colorbar\":{\"outlinewidth\":0,\"ticks\":\"\"},\"colorscale\":[[0.0,\"#0d0887\"],[0.1111111111111111,\"#46039f\"],[0.2222222222222222,\"#7201a8\"],[0.3333333333333333,\"#9c179e\"],[0.4444444444444444,\"#bd3786\"],[0.5555555555555556,\"#d8576b\"],[0.6666666666666666,\"#ed7953\"],[0.7777777777777778,\"#fb9f3a\"],[0.8888888888888888,\"#fdca26\"],[1.0,\"#f0f921\"]]}],\"mesh3d\":[{\"type\":\"mesh3d\",\"colorbar\":{\"outlinewidth\":0,\"ticks\":\"\"}}],\"scatter\":[{\"fillpattern\":{\"fillmode\":\"overlay\",\"size\":10,\"solidity\":0.2},\"type\":\"scatter\"}],\"parcoords\":[{\"type\":\"parcoords\",\"line\":{\"colorbar\":{\"outlinewidth\":0,\"ticks\":\"\"}}}],\"scatterpolargl\":[{\"type\":\"scatterpolargl\",\"marker\":{\"colorbar\":{\"outlinewidth\":0,\"ticks\":\"\"}}}],\"bar\":[{\"error_x\":{\"color\":\"#2a3f5f\"},\"error_y\":{\"color\":\"#2a3f5f\"},\"marker\":{\"line\":{\"color\":\"#E5ECF6\",\"width\":0.5},\"pattern\":{\"fillmode\":\"overlay\",\"size\":10,\"solidity\":0.2}},\"type\":\"bar\"}],\"scattergeo\":[{\"type\":\"scattergeo\",\"marker\":{\"colorbar\":{\"outlinewidth\":0,\"ticks\":\"\"}}}],\"scatterpolar\":[{\"type\":\"scatterpolar\",\"marker\":{\"colorbar\":{\"outlinewidth\":0,\"ticks\":\"\"}}}],\"histogram\":[{\"marker\":{\"pattern\":{\"fillmode\":\"overlay\",\"size\":10,\"solidity\":0.2}},\"type\":\"histogram\"}],\"scattergl\":[{\"type\":\"scattergl\",\"marker\":{\"colorbar\":{\"outlinewidth\":0,\"ticks\":\"\"}}}],\"scatter3d\":[{\"type\":\"scatter3d\",\"line\":{\"colorbar\":{\"outlinewidth\":0,\"ticks\":\"\"}},\"marker\":{\"colorbar\":{\"outlinewidth\":0,\"ticks\":\"\"}}}],\"scattermapbox\":[{\"type\":\"scattermapbox\",\"marker\":{\"colorbar\":{\"outlinewidth\":0,\"ticks\":\"\"}}}],\"scatterternary\":[{\"type\":\"scatterternary\",\"marker\":{\"colorbar\":{\"outlinewidth\":0,\"ticks\":\"\"}}}],\"scattercarpet\":[{\"type\":\"scattercarpet\",\"marker\":{\"colorbar\":{\"outlinewidth\":0,\"ticks\":\"\"}}}],\"carpet\":[{\"aaxis\":{\"endlinecolor\":\"#2a3f5f\",\"gridcolor\":\"white\",\"linecolor\":\"white\",\"minorgridcolor\":\"white\",\"startlinecolor\":\"#2a3f5f\"},\"baxis\":{\"endlinecolor\":\"#2a3f5f\",\"gridcolor\":\"white\",\"linecolor\":\"white\",\"minorgridcolor\":\"white\",\"startlinecolor\":\"#2a3f5f\"},\"type\":\"carpet\"}],\"table\":[{\"cells\":{\"fill\":{\"color\":\"#EBF0F8\"},\"line\":{\"color\":\"white\"}},\"header\":{\"fill\":{\"color\":\"#C8D4E3\"},\"line\":{\"color\":\"white\"}},\"type\":\"table\"}],\"barpolar\":[{\"marker\":{\"line\":{\"color\":\"#E5ECF6\",\"width\":0.5},\"pattern\":{\"fillmode\":\"overlay\",\"size\":10,\"solidity\":0.2}},\"type\":\"barpolar\"}],\"pie\":[{\"automargin\":true,\"type\":\"pie\"}]},\"layout\":{\"autotypenumbers\":\"strict\",\"colorway\":[\"#636efa\",\"#EF553B\",\"#00cc96\",\"#ab63fa\",\"#FFA15A\",\"#19d3f3\",\"#FF6692\",\"#B6E880\",\"#FF97FF\",\"#FECB52\"],\"font\":{\"color\":\"#2a3f5f\"},\"hovermode\":\"closest\",\"hoverlabel\":{\"align\":\"left\"},\"paper_bgcolor\":\"white\",\"plot_bgcolor\":\"#E5ECF6\",\"polar\":{\"bgcolor\":\"#E5ECF6\",\"angularaxis\":{\"gridcolor\":\"white\",\"linecolor\":\"white\",\"ticks\":\"\"},\"radialaxis\":{\"gridcolor\":\"white\",\"linecolor\":\"white\",\"ticks\":\"\"}},\"ternary\":{\"bgcolor\":\"#E5ECF6\",\"aaxis\":{\"gridcolor\":\"white\",\"linecolor\":\"white\",\"ticks\":\"\"},\"baxis\":{\"gridcolor\":\"white\",\"linecolor\":\"white\",\"ticks\":\"\"},\"caxis\":{\"gridcolor\":\"white\",\"linecolor\":\"white\",\"ticks\":\"\"}},\"coloraxis\":{\"colorbar\":{\"outlinewidth\":0,\"ticks\":\"\"}},\"colorscale\":{\"sequential\":[[0.0,\"#0d0887\"],[0.1111111111111111,\"#46039f\"],[0.2222222222222222,\"#7201a8\"],[0.3333333333333333,\"#9c179e\"],[0.4444444444444444,\"#bd3786\"],[0.5555555555555556,\"#d8576b\"],[0.6666666666666666,\"#ed7953\"],[0.7777777777777778,\"#fb9f3a\"],[0.8888888888888888,\"#fdca26\"],[1.0,\"#f0f921\"]],\"sequentialminus\":[[0.0,\"#0d0887\"],[0.1111111111111111,\"#46039f\"],[0.2222222222222222,\"#7201a8\"],[0.3333333333333333,\"#9c179e\"],[0.4444444444444444,\"#bd3786\"],[0.5555555555555556,\"#d8576b\"],[0.6666666666666666,\"#ed7953\"],[0.7777777777777778,\"#fb9f3a\"],[0.8888888888888888,\"#fdca26\"],[1.0,\"#f0f921\"]],\"diverging\":[[0,\"#8e0152\"],[0.1,\"#c51b7d\"],[0.2,\"#de77ae\"],[0.3,\"#f1b6da\"],[0.4,\"#fde0ef\"],[0.5,\"#f7f7f7\"],[0.6,\"#e6f5d0\"],[0.7,\"#b8e186\"],[0.8,\"#7fbc41\"],[0.9,\"#4d9221\"],[1,\"#276419\"]]},\"xaxis\":{\"gridcolor\":\"white\",\"linecolor\":\"white\",\"ticks\":\"\",\"title\":{\"standoff\":15},\"zerolinecolor\":\"white\",\"automargin\":true,\"zerolinewidth\":2},\"yaxis\":{\"gridcolor\":\"white\",\"linecolor\":\"white\",\"ticks\":\"\",\"title\":{\"standoff\":15},\"zerolinecolor\":\"white\",\"automargin\":true,\"zerolinewidth\":2},\"scene\":{\"xaxis\":{\"backgroundcolor\":\"#E5ECF6\",\"gridcolor\":\"white\",\"linecolor\":\"white\",\"showbackground\":true,\"ticks\":\"\",\"zerolinecolor\":\"white\",\"gridwidth\":2},\"yaxis\":{\"backgroundcolor\":\"#E5ECF6\",\"gridcolor\":\"white\",\"linecolor\":\"white\",\"showbackground\":true,\"ticks\":\"\",\"zerolinecolor\":\"white\",\"gridwidth\":2},\"zaxis\":{\"backgroundcolor\":\"#E5ECF6\",\"gridcolor\":\"white\",\"linecolor\":\"white\",\"showbackground\":true,\"ticks\":\"\",\"zerolinecolor\":\"white\",\"gridwidth\":2}},\"shapedefaults\":{\"line\":{\"color\":\"#2a3f5f\"}},\"annotationdefaults\":{\"arrowcolor\":\"#2a3f5f\",\"arrowhead\":0,\"arrowwidth\":1},\"geo\":{\"bgcolor\":\"white\",\"landcolor\":\"#E5ECF6\",\"subunitcolor\":\"white\",\"showland\":true,\"showlakes\":true,\"lakecolor\":\"white\"},\"title\":{\"x\":0.05},\"mapbox\":{\"style\":\"light\"}}},\"width\":1100,\"height\":400,\"title\":{\"text\":\"Diesel prices\",\"x\":0.5},\"xaxis\":{\"title\":{\"text\":\"Month\"}},\"yaxis\":{\"title\":{\"text\":\"Price (euro)\"}}},                        {\"responsive\": true}                    ).then(function(){\n",
       "                            \n",
       "var gd = document.getElementById('0ec394e9-930c-4f23-9b49-2176235b763a');\n",
       "var x = new MutationObserver(function (mutations, observer) {{\n",
       "        var display = window.getComputedStyle(gd).display;\n",
       "        if (!display || display === 'none') {{\n",
       "            console.log([gd, 'removed!']);\n",
       "            Plotly.purge(gd);\n",
       "            observer.disconnect();\n",
       "        }}\n",
       "}});\n",
       "\n",
       "// Listen for the removal of the full notebook cells\n",
       "var notebookContainer = gd.closest('#notebook-container');\n",
       "if (notebookContainer) {{\n",
       "    x.observe(notebookContainer, {childList: true});\n",
       "}}\n",
       "\n",
       "// Listen for the clearing of the current output cell\n",
       "var outputEl = gd.closest('.output');\n",
       "if (outputEl) {{\n",
       "    x.observe(outputEl, {childList: true});\n",
       "}}\n",
       "\n",
       "                        })                };                });            </script>        </div>"
      ]
     },
     "metadata": {},
     "output_type": "display_data"
    },
    {
     "data": {
      "application/vnd.plotly.v1+json": {
       "config": {
        "plotlyServerURL": "https://plot.ly"
       },
       "data": [
        {
         "mode": "lines",
         "name": "highway",
         "type": "scatter",
         "x": [
          "2018-01-01T00:00:00",
          "2018-02-01T00:00:00",
          "2018-03-01T00:00:00",
          "2018-04-01T00:00:00",
          "2018-05-01T00:00:00",
          "2018-06-01T00:00:00",
          "2018-07-01T00:00:00",
          "2018-08-01T00:00:00",
          "2018-09-01T00:00:00",
          "2018-10-01T00:00:00",
          "2018-11-01T00:00:00",
          "2018-12-01T00:00:00",
          "2019-01-01T00:00:00",
          "2019-02-01T00:00:00",
          "2019-03-01T00:00:00",
          "2019-04-01T00:00:00",
          "2019-05-01T00:00:00",
          "2019-06-01T00:00:00",
          "2019-07-01T00:00:00",
          "2019-08-01T00:00:00",
          "2019-09-01T00:00:00",
          "2019-10-01T00:00:00",
          "2019-11-01T00:00:00",
          "2019-12-01T00:00:00",
          "2020-01-01T00:00:00",
          "2020-02-01T00:00:00",
          "2020-03-01T00:00:00",
          "2020-04-01T00:00:00",
          "2020-05-01T00:00:00",
          "2020-06-01T00:00:00",
          "2020-07-01T00:00:00",
          "2020-08-01T00:00:00",
          "2020-09-01T00:00:00",
          "2020-10-01T00:00:00",
          "2020-11-01T00:00:00",
          "2020-12-01T00:00:00",
          "2021-01-01T00:00:00",
          "2021-02-01T00:00:00",
          "2021-03-01T00:00:00",
          "2021-04-01T00:00:00",
          "2021-05-01T00:00:00",
          "2021-06-01T00:00:00",
          "2021-07-01T00:00:00",
          "2021-08-01T00:00:00",
          "2021-09-01T00:00:00",
          "2021-10-01T00:00:00",
          "2021-11-01T00:00:00",
          "2021-12-01T00:00:00",
          "2022-01-01T00:00:00",
          "2022-02-01T00:00:00",
          "2022-03-01T00:00:00",
          "2022-04-01T00:00:00",
          "2022-05-01T00:00:00",
          "2022-06-01T00:00:00",
          "2022-07-01T00:00:00",
          "2022-08-01T00:00:00",
          "2022-09-01T00:00:00",
          "2022-10-01T00:00:00",
          "2022-11-01T00:00:00",
          "2022-12-01T00:00:00"
         ],
         "y": [
          0.748,
          0.717,
          0.708,
          0.717,
          0.73,
          0.73,
          0.74,
          0.745,
          0.763,
          0.795,
          0.746,
          0.694,
          0.677,
          0.694,
          0.706,
          0.713,
          0.711,
          0.69,
          0.679,
          0.642,
          0.631,
          0.668,
          0.692,
          0.72,
          0.754,
          0.722,
          0.662,
          0.592,
          0.594,
          0.635,
          0.653,
          0.648,
          0.641,
          0.668,
          0.677,
          0.684,
          0.753,
          0.783,
          0.818,
          0.815,
          0.818,
          0.81,
          0.821,
          0.831,
          0.869,
          0.968,
          1.009,
          1.002,
          0.944,
          0.952,
          1.132,
          1.149,
          1.107,
          1.034,
          0.943,
          0.888,
          0.882,
          0.877,
          0.86,
          0.833
         ]
        },
        {
         "line": {
          "color": "red",
          "width": 2
         },
         "name": "local",
         "type": "scatter",
         "x": [
          "2018-01-01T00:00:00",
          "2018-02-01T00:00:00",
          "2018-03-01T00:00:00",
          "2018-04-01T00:00:00",
          "2018-05-01T00:00:00",
          "2018-06-01T00:00:00",
          "2018-07-01T00:00:00",
          "2018-08-01T00:00:00",
          "2018-09-01T00:00:00",
          "2018-10-01T00:00:00",
          "2018-11-01T00:00:00",
          "2018-12-01T00:00:00",
          "2019-01-01T00:00:00",
          "2019-02-01T00:00:00",
          "2019-03-01T00:00:00",
          "2019-04-01T00:00:00",
          "2019-05-01T00:00:00",
          "2019-06-01T00:00:00",
          "2019-07-01T00:00:00",
          "2019-08-01T00:00:00",
          "2019-09-01T00:00:00",
          "2019-10-01T00:00:00",
          "2019-11-01T00:00:00",
          "2019-12-01T00:00:00",
          "2020-01-01T00:00:00",
          "2020-02-01T00:00:00",
          "2020-03-01T00:00:00",
          "2020-04-01T00:00:00",
          "2020-05-01T00:00:00",
          "2020-06-01T00:00:00",
          "2020-07-01T00:00:00",
          "2020-08-01T00:00:00",
          "2020-09-01T00:00:00",
          "2020-10-01T00:00:00",
          "2020-11-01T00:00:00",
          "2020-12-01T00:00:00",
          "2021-01-01T00:00:00",
          "2021-02-01T00:00:00",
          "2021-03-01T00:00:00",
          "2021-04-01T00:00:00",
          "2021-05-01T00:00:00",
          "2021-06-01T00:00:00",
          "2021-07-01T00:00:00",
          "2021-08-01T00:00:00",
          "2021-09-01T00:00:00",
          "2021-10-01T00:00:00",
          "2021-11-01T00:00:00",
          "2021-12-01T00:00:00",
          "2022-01-01T00:00:00",
          "2022-02-01T00:00:00",
          "2022-03-01T00:00:00",
          "2022-04-01T00:00:00",
          "2022-05-01T00:00:00",
          "2022-06-01T00:00:00",
          "2022-07-01T00:00:00",
          "2022-08-01T00:00:00",
          "2022-09-01T00:00:00",
          "2022-10-01T00:00:00",
          "2022-11-01T00:00:00",
          "2022-12-01T00:00:00"
         ],
         "y": [
          0.676,
          0.647,
          0.633,
          0.642,
          0.654,
          0.662,
          0.668,
          0.672,
          0.696,
          0.724,
          0.683,
          0.631,
          0.618,
          0.628,
          0.637,
          0.644,
          0.646,
          0.615,
          0.598,
          0.574,
          0.556,
          0.584,
          0.615,
          0.638,
          0.675,
          0.647,
          0.586,
          0.531,
          0.52,
          0.552,
          0.567,
          0.568,
          0.562,
          0.596,
          0.601,
          0.605,
          0.645,
          0.678,
          0.712,
          0.713,
          0.714,
          0.707,
          0.726,
          0.731,
          0.765,
          0.861,
          0.91,
          0.903,
          0.902,
          0.908,
          1.078,
          1.098,
          1.066,
          1.003,
          0.889,
          0.839,
          0.831,
          0.821,
          0.815,
          0.787
         ]
        },
        {
         "line": {
          "dash": "dash",
          "width": 3
         },
         "name": "avg",
         "type": "scatter",
         "x": [
          "2018-01-01T00:00:00",
          "2018-02-01T00:00:00",
          "2018-03-01T00:00:00",
          "2018-04-01T00:00:00",
          "2018-05-01T00:00:00",
          "2018-06-01T00:00:00",
          "2018-07-01T00:00:00",
          "2018-08-01T00:00:00",
          "2018-09-01T00:00:00",
          "2018-10-01T00:00:00",
          "2018-11-01T00:00:00",
          "2018-12-01T00:00:00",
          "2019-01-01T00:00:00",
          "2019-02-01T00:00:00",
          "2019-03-01T00:00:00",
          "2019-04-01T00:00:00",
          "2019-05-01T00:00:00",
          "2019-06-01T00:00:00",
          "2019-07-01T00:00:00",
          "2019-08-01T00:00:00",
          "2019-09-01T00:00:00",
          "2019-10-01T00:00:00",
          "2019-11-01T00:00:00",
          "2019-12-01T00:00:00",
          "2020-01-01T00:00:00",
          "2020-02-01T00:00:00",
          "2020-03-01T00:00:00",
          "2020-04-01T00:00:00",
          "2020-05-01T00:00:00",
          "2020-06-01T00:00:00",
          "2020-07-01T00:00:00",
          "2020-08-01T00:00:00",
          "2020-09-01T00:00:00",
          "2020-10-01T00:00:00",
          "2020-11-01T00:00:00",
          "2020-12-01T00:00:00",
          "2021-01-01T00:00:00",
          "2021-02-01T00:00:00",
          "2021-03-01T00:00:00",
          "2021-04-01T00:00:00",
          "2021-05-01T00:00:00",
          "2021-06-01T00:00:00",
          "2021-07-01T00:00:00",
          "2021-08-01T00:00:00",
          "2021-09-01T00:00:00",
          "2021-10-01T00:00:00",
          "2021-11-01T00:00:00",
          "2021-12-01T00:00:00",
          "2022-01-01T00:00:00",
          "2022-02-01T00:00:00",
          "2022-03-01T00:00:00",
          "2022-04-01T00:00:00",
          "2022-05-01T00:00:00",
          "2022-06-01T00:00:00",
          "2022-07-01T00:00:00",
          "2022-08-01T00:00:00",
          "2022-09-01T00:00:00",
          "2022-10-01T00:00:00",
          "2022-11-01T00:00:00",
          "2022-12-01T00:00:00"
         ],
         "y": [
          0.696,
          0.667,
          0.654,
          0.663,
          0.675,
          0.681,
          0.688,
          0.692,
          0.714,
          0.744,
          0.701,
          0.65,
          0.634,
          0.646,
          0.656,
          0.664,
          0.664,
          0.637,
          0.62,
          0.593,
          0.577,
          0.607,
          0.636,
          0.661,
          0.697,
          0.668,
          0.607,
          0.547,
          0.54,
          0.574,
          0.59,
          0.589,
          0.583,
          0.616,
          0.622,
          0.627,
          0.674,
          0.706,
          0.739,
          0.74,
          0.74,
          0.734,
          0.751,
          0.758,
          0.792,
          0.889,
          0.937,
          0.929,
          0.911,
          0.918,
          1.089,
          1.109,
          1.073,
          1.007,
          0.9,
          0.849,
          0.841,
          0.834,
          0.824,
          0.796
         ]
        }
       ],
       "layout": {
        "height": 400,
        "template": {
         "data": {
          "bar": [
           {
            "error_x": {
             "color": "#2a3f5f"
            },
            "error_y": {
             "color": "#2a3f5f"
            },
            "marker": {
             "line": {
              "color": "#E5ECF6",
              "width": 0.5
             },
             "pattern": {
              "fillmode": "overlay",
              "size": 10,
              "solidity": 0.2
             }
            },
            "type": "bar"
           }
          ],
          "barpolar": [
           {
            "marker": {
             "line": {
              "color": "#E5ECF6",
              "width": 0.5
             },
             "pattern": {
              "fillmode": "overlay",
              "size": 10,
              "solidity": 0.2
             }
            },
            "type": "barpolar"
           }
          ],
          "carpet": [
           {
            "aaxis": {
             "endlinecolor": "#2a3f5f",
             "gridcolor": "white",
             "linecolor": "white",
             "minorgridcolor": "white",
             "startlinecolor": "#2a3f5f"
            },
            "baxis": {
             "endlinecolor": "#2a3f5f",
             "gridcolor": "white",
             "linecolor": "white",
             "minorgridcolor": "white",
             "startlinecolor": "#2a3f5f"
            },
            "type": "carpet"
           }
          ],
          "choropleth": [
           {
            "colorbar": {
             "outlinewidth": 0,
             "ticks": ""
            },
            "type": "choropleth"
           }
          ],
          "contour": [
           {
            "colorbar": {
             "outlinewidth": 0,
             "ticks": ""
            },
            "colorscale": [
             [
              0,
              "#0d0887"
             ],
             [
              0.1111111111111111,
              "#46039f"
             ],
             [
              0.2222222222222222,
              "#7201a8"
             ],
             [
              0.3333333333333333,
              "#9c179e"
             ],
             [
              0.4444444444444444,
              "#bd3786"
             ],
             [
              0.5555555555555556,
              "#d8576b"
             ],
             [
              0.6666666666666666,
              "#ed7953"
             ],
             [
              0.7777777777777778,
              "#fb9f3a"
             ],
             [
              0.8888888888888888,
              "#fdca26"
             ],
             [
              1,
              "#f0f921"
             ]
            ],
            "type": "contour"
           }
          ],
          "contourcarpet": [
           {
            "colorbar": {
             "outlinewidth": 0,
             "ticks": ""
            },
            "type": "contourcarpet"
           }
          ],
          "heatmap": [
           {
            "colorbar": {
             "outlinewidth": 0,
             "ticks": ""
            },
            "colorscale": [
             [
              0,
              "#0d0887"
             ],
             [
              0.1111111111111111,
              "#46039f"
             ],
             [
              0.2222222222222222,
              "#7201a8"
             ],
             [
              0.3333333333333333,
              "#9c179e"
             ],
             [
              0.4444444444444444,
              "#bd3786"
             ],
             [
              0.5555555555555556,
              "#d8576b"
             ],
             [
              0.6666666666666666,
              "#ed7953"
             ],
             [
              0.7777777777777778,
              "#fb9f3a"
             ],
             [
              0.8888888888888888,
              "#fdca26"
             ],
             [
              1,
              "#f0f921"
             ]
            ],
            "type": "heatmap"
           }
          ],
          "heatmapgl": [
           {
            "colorbar": {
             "outlinewidth": 0,
             "ticks": ""
            },
            "colorscale": [
             [
              0,
              "#0d0887"
             ],
             [
              0.1111111111111111,
              "#46039f"
             ],
             [
              0.2222222222222222,
              "#7201a8"
             ],
             [
              0.3333333333333333,
              "#9c179e"
             ],
             [
              0.4444444444444444,
              "#bd3786"
             ],
             [
              0.5555555555555556,
              "#d8576b"
             ],
             [
              0.6666666666666666,
              "#ed7953"
             ],
             [
              0.7777777777777778,
              "#fb9f3a"
             ],
             [
              0.8888888888888888,
              "#fdca26"
             ],
             [
              1,
              "#f0f921"
             ]
            ],
            "type": "heatmapgl"
           }
          ],
          "histogram": [
           {
            "marker": {
             "pattern": {
              "fillmode": "overlay",
              "size": 10,
              "solidity": 0.2
             }
            },
            "type": "histogram"
           }
          ],
          "histogram2d": [
           {
            "colorbar": {
             "outlinewidth": 0,
             "ticks": ""
            },
            "colorscale": [
             [
              0,
              "#0d0887"
             ],
             [
              0.1111111111111111,
              "#46039f"
             ],
             [
              0.2222222222222222,
              "#7201a8"
             ],
             [
              0.3333333333333333,
              "#9c179e"
             ],
             [
              0.4444444444444444,
              "#bd3786"
             ],
             [
              0.5555555555555556,
              "#d8576b"
             ],
             [
              0.6666666666666666,
              "#ed7953"
             ],
             [
              0.7777777777777778,
              "#fb9f3a"
             ],
             [
              0.8888888888888888,
              "#fdca26"
             ],
             [
              1,
              "#f0f921"
             ]
            ],
            "type": "histogram2d"
           }
          ],
          "histogram2dcontour": [
           {
            "colorbar": {
             "outlinewidth": 0,
             "ticks": ""
            },
            "colorscale": [
             [
              0,
              "#0d0887"
             ],
             [
              0.1111111111111111,
              "#46039f"
             ],
             [
              0.2222222222222222,
              "#7201a8"
             ],
             [
              0.3333333333333333,
              "#9c179e"
             ],
             [
              0.4444444444444444,
              "#bd3786"
             ],
             [
              0.5555555555555556,
              "#d8576b"
             ],
             [
              0.6666666666666666,
              "#ed7953"
             ],
             [
              0.7777777777777778,
              "#fb9f3a"
             ],
             [
              0.8888888888888888,
              "#fdca26"
             ],
             [
              1,
              "#f0f921"
             ]
            ],
            "type": "histogram2dcontour"
           }
          ],
          "mesh3d": [
           {
            "colorbar": {
             "outlinewidth": 0,
             "ticks": ""
            },
            "type": "mesh3d"
           }
          ],
          "parcoords": [
           {
            "line": {
             "colorbar": {
              "outlinewidth": 0,
              "ticks": ""
             }
            },
            "type": "parcoords"
           }
          ],
          "pie": [
           {
            "automargin": true,
            "type": "pie"
           }
          ],
          "scatter": [
           {
            "fillpattern": {
             "fillmode": "overlay",
             "size": 10,
             "solidity": 0.2
            },
            "type": "scatter"
           }
          ],
          "scatter3d": [
           {
            "line": {
             "colorbar": {
              "outlinewidth": 0,
              "ticks": ""
             }
            },
            "marker": {
             "colorbar": {
              "outlinewidth": 0,
              "ticks": ""
             }
            },
            "type": "scatter3d"
           }
          ],
          "scattercarpet": [
           {
            "marker": {
             "colorbar": {
              "outlinewidth": 0,
              "ticks": ""
             }
            },
            "type": "scattercarpet"
           }
          ],
          "scattergeo": [
           {
            "marker": {
             "colorbar": {
              "outlinewidth": 0,
              "ticks": ""
             }
            },
            "type": "scattergeo"
           }
          ],
          "scattergl": [
           {
            "marker": {
             "colorbar": {
              "outlinewidth": 0,
              "ticks": ""
             }
            },
            "type": "scattergl"
           }
          ],
          "scattermapbox": [
           {
            "marker": {
             "colorbar": {
              "outlinewidth": 0,
              "ticks": ""
             }
            },
            "type": "scattermapbox"
           }
          ],
          "scatterpolar": [
           {
            "marker": {
             "colorbar": {
              "outlinewidth": 0,
              "ticks": ""
             }
            },
            "type": "scatterpolar"
           }
          ],
          "scatterpolargl": [
           {
            "marker": {
             "colorbar": {
              "outlinewidth": 0,
              "ticks": ""
             }
            },
            "type": "scatterpolargl"
           }
          ],
          "scatterternary": [
           {
            "marker": {
             "colorbar": {
              "outlinewidth": 0,
              "ticks": ""
             }
            },
            "type": "scatterternary"
           }
          ],
          "surface": [
           {
            "colorbar": {
             "outlinewidth": 0,
             "ticks": ""
            },
            "colorscale": [
             [
              0,
              "#0d0887"
             ],
             [
              0.1111111111111111,
              "#46039f"
             ],
             [
              0.2222222222222222,
              "#7201a8"
             ],
             [
              0.3333333333333333,
              "#9c179e"
             ],
             [
              0.4444444444444444,
              "#bd3786"
             ],
             [
              0.5555555555555556,
              "#d8576b"
             ],
             [
              0.6666666666666666,
              "#ed7953"
             ],
             [
              0.7777777777777778,
              "#fb9f3a"
             ],
             [
              0.8888888888888888,
              "#fdca26"
             ],
             [
              1,
              "#f0f921"
             ]
            ],
            "type": "surface"
           }
          ],
          "table": [
           {
            "cells": {
             "fill": {
              "color": "#EBF0F8"
             },
             "line": {
              "color": "white"
             }
            },
            "header": {
             "fill": {
              "color": "#C8D4E3"
             },
             "line": {
              "color": "white"
             }
            },
            "type": "table"
           }
          ]
         },
         "layout": {
          "annotationdefaults": {
           "arrowcolor": "#2a3f5f",
           "arrowhead": 0,
           "arrowwidth": 1
          },
          "autotypenumbers": "strict",
          "coloraxis": {
           "colorbar": {
            "outlinewidth": 0,
            "ticks": ""
           }
          },
          "colorscale": {
           "diverging": [
            [
             0,
             "#8e0152"
            ],
            [
             0.1,
             "#c51b7d"
            ],
            [
             0.2,
             "#de77ae"
            ],
            [
             0.3,
             "#f1b6da"
            ],
            [
             0.4,
             "#fde0ef"
            ],
            [
             0.5,
             "#f7f7f7"
            ],
            [
             0.6,
             "#e6f5d0"
            ],
            [
             0.7,
             "#b8e186"
            ],
            [
             0.8,
             "#7fbc41"
            ],
            [
             0.9,
             "#4d9221"
            ],
            [
             1,
             "#276419"
            ]
           ],
           "sequential": [
            [
             0,
             "#0d0887"
            ],
            [
             0.1111111111111111,
             "#46039f"
            ],
            [
             0.2222222222222222,
             "#7201a8"
            ],
            [
             0.3333333333333333,
             "#9c179e"
            ],
            [
             0.4444444444444444,
             "#bd3786"
            ],
            [
             0.5555555555555556,
             "#d8576b"
            ],
            [
             0.6666666666666666,
             "#ed7953"
            ],
            [
             0.7777777777777778,
             "#fb9f3a"
            ],
            [
             0.8888888888888888,
             "#fdca26"
            ],
            [
             1,
             "#f0f921"
            ]
           ],
           "sequentialminus": [
            [
             0,
             "#0d0887"
            ],
            [
             0.1111111111111111,
             "#46039f"
            ],
            [
             0.2222222222222222,
             "#7201a8"
            ],
            [
             0.3333333333333333,
             "#9c179e"
            ],
            [
             0.4444444444444444,
             "#bd3786"
            ],
            [
             0.5555555555555556,
             "#d8576b"
            ],
            [
             0.6666666666666666,
             "#ed7953"
            ],
            [
             0.7777777777777778,
             "#fb9f3a"
            ],
            [
             0.8888888888888888,
             "#fdca26"
            ],
            [
             1,
             "#f0f921"
            ]
           ]
          },
          "colorway": [
           "#636efa",
           "#EF553B",
           "#00cc96",
           "#ab63fa",
           "#FFA15A",
           "#19d3f3",
           "#FF6692",
           "#B6E880",
           "#FF97FF",
           "#FECB52"
          ],
          "font": {
           "color": "#2a3f5f"
          },
          "geo": {
           "bgcolor": "white",
           "lakecolor": "white",
           "landcolor": "#E5ECF6",
           "showlakes": true,
           "showland": true,
           "subunitcolor": "white"
          },
          "hoverlabel": {
           "align": "left"
          },
          "hovermode": "closest",
          "mapbox": {
           "style": "light"
          },
          "paper_bgcolor": "white",
          "plot_bgcolor": "#E5ECF6",
          "polar": {
           "angularaxis": {
            "gridcolor": "white",
            "linecolor": "white",
            "ticks": ""
           },
           "bgcolor": "#E5ECF6",
           "radialaxis": {
            "gridcolor": "white",
            "linecolor": "white",
            "ticks": ""
           }
          },
          "scene": {
           "xaxis": {
            "backgroundcolor": "#E5ECF6",
            "gridcolor": "white",
            "gridwidth": 2,
            "linecolor": "white",
            "showbackground": true,
            "ticks": "",
            "zerolinecolor": "white"
           },
           "yaxis": {
            "backgroundcolor": "#E5ECF6",
            "gridcolor": "white",
            "gridwidth": 2,
            "linecolor": "white",
            "showbackground": true,
            "ticks": "",
            "zerolinecolor": "white"
           },
           "zaxis": {
            "backgroundcolor": "#E5ECF6",
            "gridcolor": "white",
            "gridwidth": 2,
            "linecolor": "white",
            "showbackground": true,
            "ticks": "",
            "zerolinecolor": "white"
           }
          },
          "shapedefaults": {
           "line": {
            "color": "#2a3f5f"
           }
          },
          "ternary": {
           "aaxis": {
            "gridcolor": "white",
            "linecolor": "white",
            "ticks": ""
           },
           "baxis": {
            "gridcolor": "white",
            "linecolor": "white",
            "ticks": ""
           },
           "bgcolor": "#E5ECF6",
           "caxis": {
            "gridcolor": "white",
            "linecolor": "white",
            "ticks": ""
           }
          },
          "title": {
           "x": 0.05
          },
          "xaxis": {
           "automargin": true,
           "gridcolor": "white",
           "linecolor": "white",
           "ticks": "",
           "title": {
            "standoff": 15
           },
           "zerolinecolor": "white",
           "zerolinewidth": 2
          },
          "yaxis": {
           "automargin": true,
           "gridcolor": "white",
           "linecolor": "white",
           "ticks": "",
           "title": {
            "standoff": 15
           },
           "zerolinecolor": "white",
           "zerolinewidth": 2
          }
         }
        },
        "title": {
         "text": "LPG prices",
         "x": 0.5
        },
        "width": 1100,
        "xaxis": {
         "autorange": true,
         "range": [
          "2018-01-01",
          "2022-12-01"
         ],
         "title": {
          "text": "Month"
         },
         "type": "date"
        },
        "yaxis": {
         "autorange": true,
         "range": [
          0.4850555555555556,
          1.1839444444444445
         ],
         "title": {
          "text": "Price (euro)"
         },
         "type": "linear"
        }
       }
      },
      "image/png": "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",
      "text/html": [
       "<div>                            <div id=\"be53c735-9f9e-48da-bf77-9a21c8367f41\" class=\"plotly-graph-div\" style=\"height:400px; width:1100px;\"></div>            <script type=\"text/javascript\">                require([\"plotly\"], function(Plotly) {                    window.PLOTLYENV=window.PLOTLYENV || {};                                    if (document.getElementById(\"be53c735-9f9e-48da-bf77-9a21c8367f41\")) {                    Plotly.newPlot(                        \"be53c735-9f9e-48da-bf77-9a21c8367f41\",                        [{\"mode\":\"lines\",\"name\":\"highway\",\"x\":[\"2018-01-01T00:00:00\",\"2018-02-01T00:00:00\",\"2018-03-01T00:00:00\",\"2018-04-01T00:00:00\",\"2018-05-01T00:00:00\",\"2018-06-01T00:00:00\",\"2018-07-01T00:00:00\",\"2018-08-01T00:00:00\",\"2018-09-01T00:00:00\",\"2018-10-01T00:00:00\",\"2018-11-01T00:00:00\",\"2018-12-01T00:00:00\",\"2019-01-01T00:00:00\",\"2019-02-01T00:00:00\",\"2019-03-01T00:00:00\",\"2019-04-01T00:00:00\",\"2019-05-01T00:00:00\",\"2019-06-01T00:00:00\",\"2019-07-01T00:00:00\",\"2019-08-01T00:00:00\",\"2019-09-01T00:00:00\",\"2019-10-01T00:00:00\",\"2019-11-01T00:00:00\",\"2019-12-01T00:00:00\",\"2020-01-01T00:00:00\",\"2020-02-01T00:00:00\",\"2020-03-01T00:00:00\",\"2020-04-01T00:00:00\",\"2020-05-01T00:00:00\",\"2020-06-01T00:00:00\",\"2020-07-01T00:00:00\",\"2020-08-01T00:00:00\",\"2020-09-01T00:00:00\",\"2020-10-01T00:00:00\",\"2020-11-01T00:00:00\",\"2020-12-01T00:00:00\",\"2021-01-01T00:00:00\",\"2021-02-01T00:00:00\",\"2021-03-01T00:00:00\",\"2021-04-01T00:00:00\",\"2021-05-01T00:00:00\",\"2021-06-01T00:00:00\",\"2021-07-01T00:00:00\",\"2021-08-01T00:00:00\",\"2021-09-01T00:00:00\",\"2021-10-01T00:00:00\",\"2021-11-01T00:00:00\",\"2021-12-01T00:00:00\",\"2022-01-01T00:00:00\",\"2022-02-01T00:00:00\",\"2022-03-01T00:00:00\",\"2022-04-01T00:00:00\",\"2022-05-01T00:00:00\",\"2022-06-01T00:00:00\",\"2022-07-01T00:00:00\",\"2022-08-01T00:00:00\",\"2022-09-01T00:00:00\",\"2022-10-01T00:00:00\",\"2022-11-01T00:00:00\",\"2022-12-01T00:00:00\"],\"y\":[0.748,0.717,0.708,0.717,0.73,0.73,0.74,0.745,0.763,0.795,0.746,0.694,0.677,0.694,0.706,0.713,0.711,0.69,0.679,0.642,0.631,0.668,0.692,0.72,0.754,0.722,0.662,0.592,0.594,0.635,0.653,0.648,0.641,0.668,0.677,0.684,0.753,0.783,0.818,0.815,0.818,0.81,0.821,0.831,0.869,0.968,1.009,1.002,0.944,0.952,1.132,1.149,1.107,1.034,0.943,0.888,0.882,0.877,0.86,0.833],\"type\":\"scatter\"},{\"line\":{\"color\":\"red\",\"width\":2},\"name\":\"local\",\"x\":[\"2018-01-01T00:00:00\",\"2018-02-01T00:00:00\",\"2018-03-01T00:00:00\",\"2018-04-01T00:00:00\",\"2018-05-01T00:00:00\",\"2018-06-01T00:00:00\",\"2018-07-01T00:00:00\",\"2018-08-01T00:00:00\",\"2018-09-01T00:00:00\",\"2018-10-01T00:00:00\",\"2018-11-01T00:00:00\",\"2018-12-01T00:00:00\",\"2019-01-01T00:00:00\",\"2019-02-01T00:00:00\",\"2019-03-01T00:00:00\",\"2019-04-01T00:00:00\",\"2019-05-01T00:00:00\",\"2019-06-01T00:00:00\",\"2019-07-01T00:00:00\",\"2019-08-01T00:00:00\",\"2019-09-01T00:00:00\",\"2019-10-01T00:00:00\",\"2019-11-01T00:00:00\",\"2019-12-01T00:00:00\",\"2020-01-01T00:00:00\",\"2020-02-01T00:00:00\",\"2020-03-01T00:00:00\",\"2020-04-01T00:00:00\",\"2020-05-01T00:00:00\",\"2020-06-01T00:00:00\",\"2020-07-01T00:00:00\",\"2020-08-01T00:00:00\",\"2020-09-01T00:00:00\",\"2020-10-01T00:00:00\",\"2020-11-01T00:00:00\",\"2020-12-01T00:00:00\",\"2021-01-01T00:00:00\",\"2021-02-01T00:00:00\",\"2021-03-01T00:00:00\",\"2021-04-01T00:00:00\",\"2021-05-01T00:00:00\",\"2021-06-01T00:00:00\",\"2021-07-01T00:00:00\",\"2021-08-01T00:00:00\",\"2021-09-01T00:00:00\",\"2021-10-01T00:00:00\",\"2021-11-01T00:00:00\",\"2021-12-01T00:00:00\",\"2022-01-01T00:00:00\",\"2022-02-01T00:00:00\",\"2022-03-01T00:00:00\",\"2022-04-01T00:00:00\",\"2022-05-01T00:00:00\",\"2022-06-01T00:00:00\",\"2022-07-01T00:00:00\",\"2022-08-01T00:00:00\",\"2022-09-01T00:00:00\",\"2022-10-01T00:00:00\",\"2022-11-01T00:00:00\",\"2022-12-01T00:00:00\"],\"y\":[0.676,0.647,0.633,0.642,0.654,0.662,0.668,0.672,0.696,0.724,0.683,0.631,0.618,0.628,0.637,0.644,0.646,0.615,0.598,0.574,0.556,0.584,0.615,0.638,0.675,0.647,0.586,0.531,0.52,0.552,0.567,0.568,0.562,0.596,0.601,0.605,0.645,0.678,0.712,0.713,0.714,0.707,0.726,0.731,0.765,0.861,0.91,0.903,0.902,0.908,1.078,1.098,1.066,1.003,0.889,0.839,0.831,0.821,0.815,0.787],\"type\":\"scatter\"},{\"line\":{\"dash\":\"dash\",\"width\":3},\"name\":\"avg\",\"x\":[\"2018-01-01T00:00:00\",\"2018-02-01T00:00:00\",\"2018-03-01T00:00:00\",\"2018-04-01T00:00:00\",\"2018-05-01T00:00:00\",\"2018-06-01T00:00:00\",\"2018-07-01T00:00:00\",\"2018-08-01T00:00:00\",\"2018-09-01T00:00:00\",\"2018-10-01T00:00:00\",\"2018-11-01T00:00:00\",\"2018-12-01T00:00:00\",\"2019-01-01T00:00:00\",\"2019-02-01T00:00:00\",\"2019-03-01T00:00:00\",\"2019-04-01T00:00:00\",\"2019-05-01T00:00:00\",\"2019-06-01T00:00:00\",\"2019-07-01T00:00:00\",\"2019-08-01T00:00:00\",\"2019-09-01T00:00:00\",\"2019-10-01T00:00:00\",\"2019-11-01T00:00:00\",\"2019-12-01T00:00:00\",\"2020-01-01T00:00:00\",\"2020-02-01T00:00:00\",\"2020-03-01T00:00:00\",\"2020-04-01T00:00:00\",\"2020-05-01T00:00:00\",\"2020-06-01T00:00:00\",\"2020-07-01T00:00:00\",\"2020-08-01T00:00:00\",\"2020-09-01T00:00:00\",\"2020-10-01T00:00:00\",\"2020-11-01T00:00:00\",\"2020-12-01T00:00:00\",\"2021-01-01T00:00:00\",\"2021-02-01T00:00:00\",\"2021-03-01T00:00:00\",\"2021-04-01T00:00:00\",\"2021-05-01T00:00:00\",\"2021-06-01T00:00:00\",\"2021-07-01T00:00:00\",\"2021-08-01T00:00:00\",\"2021-09-01T00:00:00\",\"2021-10-01T00:00:00\",\"2021-11-01T00:00:00\",\"2021-12-01T00:00:00\",\"2022-01-01T00:00:00\",\"2022-02-01T00:00:00\",\"2022-03-01T00:00:00\",\"2022-04-01T00:00:00\",\"2022-05-01T00:00:00\",\"2022-06-01T00:00:00\",\"2022-07-01T00:00:00\",\"2022-08-01T00:00:00\",\"2022-09-01T00:00:00\",\"2022-10-01T00:00:00\",\"2022-11-01T00:00:00\",\"2022-12-01T00:00:00\"],\"y\":[0.696,0.667,0.654,0.663,0.675,0.681,0.688,0.692,0.714,0.744,0.701,0.65,0.634,0.646,0.656,0.664,0.664,0.637,0.62,0.593,0.577,0.607,0.636,0.661,0.697,0.668,0.607,0.547,0.54,0.574,0.59,0.589,0.583,0.616,0.622,0.627,0.674,0.706,0.739,0.74,0.74,0.734,0.751,0.758,0.792,0.889,0.937,0.929,0.911,0.918,1.089,1.109,1.073,1.007,0.9,0.849,0.841,0.834,0.824,0.796],\"type\":\"scatter\"}],                        {\"template\":{\"data\":{\"histogram2dcontour\":[{\"type\":\"histogram2dcontour\",\"colorbar\":{\"outlinewidth\":0,\"ticks\":\"\"},\"colorscale\":[[0.0,\"#0d0887\"],[0.1111111111111111,\"#46039f\"],[0.2222222222222222,\"#7201a8\"],[0.3333333333333333,\"#9c179e\"],[0.4444444444444444,\"#bd3786\"],[0.5555555555555556,\"#d8576b\"],[0.6666666666666666,\"#ed7953\"],[0.7777777777777778,\"#fb9f3a\"],[0.8888888888888888,\"#fdca26\"],[1.0,\"#f0f921\"]]}],\"choropleth\":[{\"type\":\"choropleth\",\"colorbar\":{\"outlinewidth\":0,\"ticks\":\"\"}}],\"histogram2d\":[{\"type\":\"histogram2d\",\"colorbar\":{\"outlinewidth\":0,\"ticks\":\"\"},\"colorscale\":[[0.0,\"#0d0887\"],[0.1111111111111111,\"#46039f\"],[0.2222222222222222,\"#7201a8\"],[0.3333333333333333,\"#9c179e\"],[0.4444444444444444,\"#bd3786\"],[0.5555555555555556,\"#d8576b\"],[0.6666666666666666,\"#ed7953\"],[0.7777777777777778,\"#fb9f3a\"],[0.8888888888888888,\"#fdca26\"],[1.0,\"#f0f921\"]]}],\"heatmap\":[{\"type\":\"heatmap\",\"colorbar\":{\"outlinewidth\":0,\"ticks\":\"\"},\"colorscale\":[[0.0,\"#0d0887\"],[0.1111111111111111,\"#46039f\"],[0.2222222222222222,\"#7201a8\"],[0.3333333333333333,\"#9c179e\"],[0.4444444444444444,\"#bd3786\"],[0.5555555555555556,\"#d8576b\"],[0.6666666666666666,\"#ed7953\"],[0.7777777777777778,\"#fb9f3a\"],[0.8888888888888888,\"#fdca26\"],[1.0,\"#f0f921\"]]}],\"heatmapgl\":[{\"type\":\"heatmapgl\",\"colorbar\":{\"outlinewidth\":0,\"ticks\":\"\"},\"colorscale\":[[0.0,\"#0d0887\"],[0.1111111111111111,\"#46039f\"],[0.2222222222222222,\"#7201a8\"],[0.3333333333333333,\"#9c179e\"],[0.4444444444444444,\"#bd3786\"],[0.5555555555555556,\"#d8576b\"],[0.6666666666666666,\"#ed7953\"],[0.7777777777777778,\"#fb9f3a\"],[0.8888888888888888,\"#fdca26\"],[1.0,\"#f0f921\"]]}],\"contourcarpet\":[{\"type\":\"contourcarpet\",\"colorbar\":{\"outlinewidth\":0,\"ticks\":\"\"}}],\"contour\":[{\"type\":\"contour\",\"colorbar\":{\"outlinewidth\":0,\"ticks\":\"\"},\"colorscale\":[[0.0,\"#0d0887\"],[0.1111111111111111,\"#46039f\"],[0.2222222222222222,\"#7201a8\"],[0.3333333333333333,\"#9c179e\"],[0.4444444444444444,\"#bd3786\"],[0.5555555555555556,\"#d8576b\"],[0.6666666666666666,\"#ed7953\"],[0.7777777777777778,\"#fb9f3a\"],[0.8888888888888888,\"#fdca26\"],[1.0,\"#f0f921\"]]}],\"surface\":[{\"type\":\"surface\",\"colorbar\":{\"outlinewidth\":0,\"ticks\":\"\"},\"colorscale\":[[0.0,\"#0d0887\"],[0.1111111111111111,\"#46039f\"],[0.2222222222222222,\"#7201a8\"],[0.3333333333333333,\"#9c179e\"],[0.4444444444444444,\"#bd3786\"],[0.5555555555555556,\"#d8576b\"],[0.6666666666666666,\"#ed7953\"],[0.7777777777777778,\"#fb9f3a\"],[0.8888888888888888,\"#fdca26\"],[1.0,\"#f0f921\"]]}],\"mesh3d\":[{\"type\":\"mesh3d\",\"colorbar\":{\"outlinewidth\":0,\"ticks\":\"\"}}],\"scatter\":[{\"fillpattern\":{\"fillmode\":\"overlay\",\"size\":10,\"solidity\":0.2},\"type\":\"scatter\"}],\"parcoords\":[{\"type\":\"parcoords\",\"line\":{\"colorbar\":{\"outlinewidth\":0,\"ticks\":\"\"}}}],\"scatterpolargl\":[{\"type\":\"scatterpolargl\",\"marker\":{\"colorbar\":{\"outlinewidth\":0,\"ticks\":\"\"}}}],\"bar\":[{\"error_x\":{\"color\":\"#2a3f5f\"},\"error_y\":{\"color\":\"#2a3f5f\"},\"marker\":{\"line\":{\"color\":\"#E5ECF6\",\"width\":0.5},\"pattern\":{\"fillmode\":\"overlay\",\"size\":10,\"solidity\":0.2}},\"type\":\"bar\"}],\"scattergeo\":[{\"type\":\"scattergeo\",\"marker\":{\"colorbar\":{\"outlinewidth\":0,\"ticks\":\"\"}}}],\"scatterpolar\":[{\"type\":\"scatterpolar\",\"marker\":{\"colorbar\":{\"outlinewidth\":0,\"ticks\":\"\"}}}],\"histogram\":[{\"marker\":{\"pattern\":{\"fillmode\":\"overlay\",\"size\":10,\"solidity\":0.2}},\"type\":\"histogram\"}],\"scattergl\":[{\"type\":\"scattergl\",\"marker\":{\"colorbar\":{\"outlinewidth\":0,\"ticks\":\"\"}}}],\"scatter3d\":[{\"type\":\"scatter3d\",\"line\":{\"colorbar\":{\"outlinewidth\":0,\"ticks\":\"\"}},\"marker\":{\"colorbar\":{\"outlinewidth\":0,\"ticks\":\"\"}}}],\"scattermapbox\":[{\"type\":\"scattermapbox\",\"marker\":{\"colorbar\":{\"outlinewidth\":0,\"ticks\":\"\"}}}],\"scatterternary\":[{\"type\":\"scatterternary\",\"marker\":{\"colorbar\":{\"outlinewidth\":0,\"ticks\":\"\"}}}],\"scattercarpet\":[{\"type\":\"scattercarpet\",\"marker\":{\"colorbar\":{\"outlinewidth\":0,\"ticks\":\"\"}}}],\"carpet\":[{\"aaxis\":{\"endlinecolor\":\"#2a3f5f\",\"gridcolor\":\"white\",\"linecolor\":\"white\",\"minorgridcolor\":\"white\",\"startlinecolor\":\"#2a3f5f\"},\"baxis\":{\"endlinecolor\":\"#2a3f5f\",\"gridcolor\":\"white\",\"linecolor\":\"white\",\"minorgridcolor\":\"white\",\"startlinecolor\":\"#2a3f5f\"},\"type\":\"carpet\"}],\"table\":[{\"cells\":{\"fill\":{\"color\":\"#EBF0F8\"},\"line\":{\"color\":\"white\"}},\"header\":{\"fill\":{\"color\":\"#C8D4E3\"},\"line\":{\"color\":\"white\"}},\"type\":\"table\"}],\"barpolar\":[{\"marker\":{\"line\":{\"color\":\"#E5ECF6\",\"width\":0.5},\"pattern\":{\"fillmode\":\"overlay\",\"size\":10,\"solidity\":0.2}},\"type\":\"barpolar\"}],\"pie\":[{\"automargin\":true,\"type\":\"pie\"}]},\"layout\":{\"autotypenumbers\":\"strict\",\"colorway\":[\"#636efa\",\"#EF553B\",\"#00cc96\",\"#ab63fa\",\"#FFA15A\",\"#19d3f3\",\"#FF6692\",\"#B6E880\",\"#FF97FF\",\"#FECB52\"],\"font\":{\"color\":\"#2a3f5f\"},\"hovermode\":\"closest\",\"hoverlabel\":{\"align\":\"left\"},\"paper_bgcolor\":\"white\",\"plot_bgcolor\":\"#E5ECF6\",\"polar\":{\"bgcolor\":\"#E5ECF6\",\"angularaxis\":{\"gridcolor\":\"white\",\"linecolor\":\"white\",\"ticks\":\"\"},\"radialaxis\":{\"gridcolor\":\"white\",\"linecolor\":\"white\",\"ticks\":\"\"}},\"ternary\":{\"bgcolor\":\"#E5ECF6\",\"aaxis\":{\"gridcolor\":\"white\",\"linecolor\":\"white\",\"ticks\":\"\"},\"baxis\":{\"gridcolor\":\"white\",\"linecolor\":\"white\",\"ticks\":\"\"},\"caxis\":{\"gridcolor\":\"white\",\"linecolor\":\"white\",\"ticks\":\"\"}},\"coloraxis\":{\"colorbar\":{\"outlinewidth\":0,\"ticks\":\"\"}},\"colorscale\":{\"sequential\":[[0.0,\"#0d0887\"],[0.1111111111111111,\"#46039f\"],[0.2222222222222222,\"#7201a8\"],[0.3333333333333333,\"#9c179e\"],[0.4444444444444444,\"#bd3786\"],[0.5555555555555556,\"#d8576b\"],[0.6666666666666666,\"#ed7953\"],[0.7777777777777778,\"#fb9f3a\"],[0.8888888888888888,\"#fdca26\"],[1.0,\"#f0f921\"]],\"sequentialminus\":[[0.0,\"#0d0887\"],[0.1111111111111111,\"#46039f\"],[0.2222222222222222,\"#7201a8\"],[0.3333333333333333,\"#9c179e\"],[0.4444444444444444,\"#bd3786\"],[0.5555555555555556,\"#d8576b\"],[0.6666666666666666,\"#ed7953\"],[0.7777777777777778,\"#fb9f3a\"],[0.8888888888888888,\"#fdca26\"],[1.0,\"#f0f921\"]],\"diverging\":[[0,\"#8e0152\"],[0.1,\"#c51b7d\"],[0.2,\"#de77ae\"],[0.3,\"#f1b6da\"],[0.4,\"#fde0ef\"],[0.5,\"#f7f7f7\"],[0.6,\"#e6f5d0\"],[0.7,\"#b8e186\"],[0.8,\"#7fbc41\"],[0.9,\"#4d9221\"],[1,\"#276419\"]]},\"xaxis\":{\"gridcolor\":\"white\",\"linecolor\":\"white\",\"ticks\":\"\",\"title\":{\"standoff\":15},\"zerolinecolor\":\"white\",\"automargin\":true,\"zerolinewidth\":2},\"yaxis\":{\"gridcolor\":\"white\",\"linecolor\":\"white\",\"ticks\":\"\",\"title\":{\"standoff\":15},\"zerolinecolor\":\"white\",\"automargin\":true,\"zerolinewidth\":2},\"scene\":{\"xaxis\":{\"backgroundcolor\":\"#E5ECF6\",\"gridcolor\":\"white\",\"linecolor\":\"white\",\"showbackground\":true,\"ticks\":\"\",\"zerolinecolor\":\"white\",\"gridwidth\":2},\"yaxis\":{\"backgroundcolor\":\"#E5ECF6\",\"gridcolor\":\"white\",\"linecolor\":\"white\",\"showbackground\":true,\"ticks\":\"\",\"zerolinecolor\":\"white\",\"gridwidth\":2},\"zaxis\":{\"backgroundcolor\":\"#E5ECF6\",\"gridcolor\":\"white\",\"linecolor\":\"white\",\"showbackground\":true,\"ticks\":\"\",\"zerolinecolor\":\"white\",\"gridwidth\":2}},\"shapedefaults\":{\"line\":{\"color\":\"#2a3f5f\"}},\"annotationdefaults\":{\"arrowcolor\":\"#2a3f5f\",\"arrowhead\":0,\"arrowwidth\":1},\"geo\":{\"bgcolor\":\"white\",\"landcolor\":\"#E5ECF6\",\"subunitcolor\":\"white\",\"showland\":true,\"showlakes\":true,\"lakecolor\":\"white\"},\"title\":{\"x\":0.05},\"mapbox\":{\"style\":\"light\"}}},\"width\":1100,\"height\":400,\"title\":{\"text\":\"LPG prices\",\"x\":0.5},\"xaxis\":{\"title\":{\"text\":\"Month\"}},\"yaxis\":{\"title\":{\"text\":\"Price (euro)\"}}},                        {\"responsive\": true}                    ).then(function(){\n",
       "                            \n",
       "var gd = document.getElementById('be53c735-9f9e-48da-bf77-9a21c8367f41');\n",
       "var x = new MutationObserver(function (mutations, observer) {{\n",
       "        var display = window.getComputedStyle(gd).display;\n",
       "        if (!display || display === 'none') {{\n",
       "            console.log([gd, 'removed!']);\n",
       "            Plotly.purge(gd);\n",
       "            observer.disconnect();\n",
       "        }}\n",
       "}});\n",
       "\n",
       "// Listen for the removal of the full notebook cells\n",
       "var notebookContainer = gd.closest('#notebook-container');\n",
       "if (notebookContainer) {{\n",
       "    x.observe(notebookContainer, {childList: true});\n",
       "}}\n",
       "\n",
       "// Listen for the clearing of the current output cell\n",
       "var outputEl = gd.closest('.output');\n",
       "if (outputEl) {{\n",
       "    x.observe(outputEl, {childList: true});\n",
       "}}\n",
       "\n",
       "                        })                };                });            </script>        </div>"
      ]
     },
     "metadata": {},
     "output_type": "display_data"
    }
   ],
   "source": [
    "# Plot Euro95\n",
    "fig = go.Figure()\n",
    "fig.add_trace(go.Scatter(x=highway.index, y=highway['highway Euro95'],\n",
    "                    mode='lines', name='highway'))\n",
    "fig.add_trace(go.Scatter(x=highway.index, y=local['local Euro95'],\n",
    "                    line=dict(color='red', width=2), name='local'))\n",
    "fig.add_trace(go.Scatter(x=highway.index, y=avg['avg Euro95'],\n",
    "                    name='avg', line=dict( width=3, dash='dash')))\n",
    "fig.update_layout(width=1100, height=400)\n",
    "fig.update_layout(title={'text': 'Euro95 prices', 'x': 0.5}, xaxis_title='Month', yaxis_title='Price (euro)')\n",
    "fig.show()\n",
    "\n",
    "# Plot diesel\n",
    "fig = go.Figure()\n",
    "fig.add_trace(go.Scatter(x=highway.index, y=highway['highway Diesel'],\n",
    "                    mode='lines', name='highway'))\n",
    "fig.add_trace(go.Scatter(x=highway.index, y=local['local Diesel'],\n",
    "                    line=dict(color='red', width=2), name='local'))\n",
    "fig.add_trace(go.Scatter(x=highway.index, y=avg['avg Diesel'],\n",
    "                    name='avg', line=dict( width=3, dash='dash')))\n",
    "fig.update_layout(width=1100, height=400)\n",
    "fig.update_layout(title={'text': 'Diesel prices', 'x': 0.5}, xaxis_title='Month', yaxis_title='Price (euro)')\n",
    "fig.show()\n",
    "\n",
    "# Plot LPG\n",
    "fig = go.Figure()\n",
    "fig.add_trace(go.Scatter(x=highway.index, y=highway['highway LPG'],\n",
    "                    mode='lines', name='highway'))\n",
    "fig.add_trace(go.Scatter(x=highway.index, y=local['local LPG'],\n",
    "                    line=dict(color='red', width=2), name='local'))\n",
    "fig.add_trace(go.Scatter(x=highway.index, y=avg['avg LPG'],\n",
    "                    name='avg', line=dict( width=3, dash='dash')))\n",
    "fig.update_layout(width=1100, height=400)\n",
    "fig.update_layout(title={'text': 'LPG prices', 'x': 0.5}, xaxis_title='Month', yaxis_title='Price (euro)')\n",
    "fig.show()"
   ]
  },
  {
   "cell_type": "markdown",
   "metadata": {},
   "source": [
    "In the graphs above, the development of the fuel prices for each specific type of fuel over the years can be seen. It can be seen that overall, the price of Euro95 is the highest. Also, for each type of fuel, the prices near a highway are significantly higher. The average price of Diesel and Euro95 is almost always equal to the average local fuel prices. For LPG, some difference can be seen. The average price for LPG is somewhat higher than the average local price. it is also notable that the trend of the three different fuels is about the same, but the peaks and troughs differ there type"
   ]
  },
  {
   "cell_type": "markdown",
   "metadata": {
    "tags": []
   },
   "source": [
    "### Conclusion subquestion 2:\n"
   ]
  },
  {
   "cell_type": "markdown",
   "metadata": {
    "tags": []
   },
   "source": [
    "# Subquestion 3: How did the general mobility behaviour for all modes compared to fuel based modes change in the Netherlands?\n",
    "\n",
    "People have started to travel more again in recent years, probably because COVID has passed, in the years during COVID more people will have traveled by car because this is private transportation and kept the chance of infection lower than traveling by public transportation. Also, since COVID, bicycle usage has increased since COVID. Furthermore, rising fuel prices are expected to make people look for alternatives, so other modes of transportation will become more attractive."
   ]
  },
  {
   "cell_type": "code",
   "execution_count": 90,
   "metadata": {
    "tags": []
   },
   "outputs": [
    {
     "data": {
      "application/vnd.plotly.v1+json": {
       "config": {
        "plotlyServerURL": "https://plot.ly"
       },
       "data": [
        {
         "hovertemplate": "modes=Total<br>Year=%{x}<br>Value=%{y}<extra></extra>",
         "legendgroup": "Total",
         "line": {
          "color": "#636efa",
          "dash": "solid"
         },
         "marker": {
          "symbol": "circle"
         },
         "mode": "lines",
         "name": "Total",
         "orientation": "v",
         "showlegend": true,
         "type": "scatter",
         "x": [
          "2018",
          "2019",
          "2020",
          "2021",
          "2022"
         ],
         "xaxis": "x",
         "y": [
          36.16,
          36,
          24.88,
          27.24,
          30.21
         ],
         "yaxis": "y"
        },
        {
         "hovertemplate": "modes=Passenger car (driver)<br>Year=%{x}<br>Value=%{y}<extra></extra>",
         "legendgroup": "Passenger car (driver)",
         "line": {
          "color": "#EF553B",
          "dash": "solid"
         },
         "marker": {
          "symbol": "circle"
         },
         "mode": "lines",
         "name": "Passenger car (driver)",
         "orientation": "v",
         "showlegend": true,
         "type": "scatter",
         "x": [
          "2018",
          "2019",
          "2020",
          "2021",
          "2022"
         ],
         "xaxis": "x",
         "y": [
          18.16,
          18.02,
          13.14,
          14.05,
          15.13
         ],
         "yaxis": "y"
        },
        {
         "hovertemplate": "modes=Train<br>Year=%{x}<br>Value=%{y}<extra></extra>",
         "legendgroup": "Train",
         "line": {
          "color": "#00cc96",
          "dash": "solid"
         },
         "marker": {
          "symbol": "circle"
         },
         "mode": "lines",
         "name": "Train",
         "orientation": "v",
         "showlegend": true,
         "type": "scatter",
         "x": [
          "2018",
          "2019",
          "2020",
          "2021",
          "2022"
         ],
         "xaxis": "x",
         "y": [
          3.88,
          4.08,
          1.6,
          1.67,
          2.62
         ],
         "yaxis": "y"
        },
        {
         "hovertemplate": "modes=Bike<br>Year=%{x}<br>Value=%{y}<extra></extra>",
         "legendgroup": "Bike",
         "line": {
          "color": "#ab63fa",
          "dash": "solid"
         },
         "marker": {
          "symbol": "circle"
         },
         "mode": "lines",
         "name": "Bike",
         "orientation": "v",
         "showlegend": true,
         "type": "scatter",
         "x": [
          "2018",
          "2019",
          "2020",
          "2021",
          "2022"
         ],
         "xaxis": "x",
         "y": [
          3.16,
          3.01,
          2.61,
          2.68,
          3.04
         ],
         "yaxis": "y"
        },
        {
         "hovertemplate": "modes=Walking<br>Year=%{x}<br>Value=%{y}<extra></extra>",
         "legendgroup": "Walking",
         "line": {
          "color": "#FFA15A",
          "dash": "solid"
         },
         "marker": {
          "symbol": "circle"
         },
         "mode": "lines",
         "name": "Walking",
         "orientation": "v",
         "showlegend": true,
         "type": "scatter",
         "x": [
          "2018",
          "2019",
          "2020",
          "2021",
          "2022"
         ],
         "xaxis": "x",
         "y": [
          0.9,
          0.88,
          1.12,
          1.38,
          1.21
         ],
         "yaxis": "y"
        }
       ],
       "layout": {
        "height": 600,
        "legend": {
         "title": {
          "text": "modes"
         },
         "tracegroupgap": 0
        },
        "template": {
         "data": {
          "bar": [
           {
            "error_x": {
             "color": "#2a3f5f"
            },
            "error_y": {
             "color": "#2a3f5f"
            },
            "marker": {
             "line": {
              "color": "#E5ECF6",
              "width": 0.5
             },
             "pattern": {
              "fillmode": "overlay",
              "size": 10,
              "solidity": 0.2
             }
            },
            "type": "bar"
           }
          ],
          "barpolar": [
           {
            "marker": {
             "line": {
              "color": "#E5ECF6",
              "width": 0.5
             },
             "pattern": {
              "fillmode": "overlay",
              "size": 10,
              "solidity": 0.2
             }
            },
            "type": "barpolar"
           }
          ],
          "carpet": [
           {
            "aaxis": {
             "endlinecolor": "#2a3f5f",
             "gridcolor": "white",
             "linecolor": "white",
             "minorgridcolor": "white",
             "startlinecolor": "#2a3f5f"
            },
            "baxis": {
             "endlinecolor": "#2a3f5f",
             "gridcolor": "white",
             "linecolor": "white",
             "minorgridcolor": "white",
             "startlinecolor": "#2a3f5f"
            },
            "type": "carpet"
           }
          ],
          "choropleth": [
           {
            "colorbar": {
             "outlinewidth": 0,
             "ticks": ""
            },
            "type": "choropleth"
           }
          ],
          "contour": [
           {
            "colorbar": {
             "outlinewidth": 0,
             "ticks": ""
            },
            "colorscale": [
             [
              0,
              "#0d0887"
             ],
             [
              0.1111111111111111,
              "#46039f"
             ],
             [
              0.2222222222222222,
              "#7201a8"
             ],
             [
              0.3333333333333333,
              "#9c179e"
             ],
             [
              0.4444444444444444,
              "#bd3786"
             ],
             [
              0.5555555555555556,
              "#d8576b"
             ],
             [
              0.6666666666666666,
              "#ed7953"
             ],
             [
              0.7777777777777778,
              "#fb9f3a"
             ],
             [
              0.8888888888888888,
              "#fdca26"
             ],
             [
              1,
              "#f0f921"
             ]
            ],
            "type": "contour"
           }
          ],
          "contourcarpet": [
           {
            "colorbar": {
             "outlinewidth": 0,
             "ticks": ""
            },
            "type": "contourcarpet"
           }
          ],
          "heatmap": [
           {
            "colorbar": {
             "outlinewidth": 0,
             "ticks": ""
            },
            "colorscale": [
             [
              0,
              "#0d0887"
             ],
             [
              0.1111111111111111,
              "#46039f"
             ],
             [
              0.2222222222222222,
              "#7201a8"
             ],
             [
              0.3333333333333333,
              "#9c179e"
             ],
             [
              0.4444444444444444,
              "#bd3786"
             ],
             [
              0.5555555555555556,
              "#d8576b"
             ],
             [
              0.6666666666666666,
              "#ed7953"
             ],
             [
              0.7777777777777778,
              "#fb9f3a"
             ],
             [
              0.8888888888888888,
              "#fdca26"
             ],
             [
              1,
              "#f0f921"
             ]
            ],
            "type": "heatmap"
           }
          ],
          "heatmapgl": [
           {
            "colorbar": {
             "outlinewidth": 0,
             "ticks": ""
            },
            "colorscale": [
             [
              0,
              "#0d0887"
             ],
             [
              0.1111111111111111,
              "#46039f"
             ],
             [
              0.2222222222222222,
              "#7201a8"
             ],
             [
              0.3333333333333333,
              "#9c179e"
             ],
             [
              0.4444444444444444,
              "#bd3786"
             ],
             [
              0.5555555555555556,
              "#d8576b"
             ],
             [
              0.6666666666666666,
              "#ed7953"
             ],
             [
              0.7777777777777778,
              "#fb9f3a"
             ],
             [
              0.8888888888888888,
              "#fdca26"
             ],
             [
              1,
              "#f0f921"
             ]
            ],
            "type": "heatmapgl"
           }
          ],
          "histogram": [
           {
            "marker": {
             "pattern": {
              "fillmode": "overlay",
              "size": 10,
              "solidity": 0.2
             }
            },
            "type": "histogram"
           }
          ],
          "histogram2d": [
           {
            "colorbar": {
             "outlinewidth": 0,
             "ticks": ""
            },
            "colorscale": [
             [
              0,
              "#0d0887"
             ],
             [
              0.1111111111111111,
              "#46039f"
             ],
             [
              0.2222222222222222,
              "#7201a8"
             ],
             [
              0.3333333333333333,
              "#9c179e"
             ],
             [
              0.4444444444444444,
              "#bd3786"
             ],
             [
              0.5555555555555556,
              "#d8576b"
             ],
             [
              0.6666666666666666,
              "#ed7953"
             ],
             [
              0.7777777777777778,
              "#fb9f3a"
             ],
             [
              0.8888888888888888,
              "#fdca26"
             ],
             [
              1,
              "#f0f921"
             ]
            ],
            "type": "histogram2d"
           }
          ],
          "histogram2dcontour": [
           {
            "colorbar": {
             "outlinewidth": 0,
             "ticks": ""
            },
            "colorscale": [
             [
              0,
              "#0d0887"
             ],
             [
              0.1111111111111111,
              "#46039f"
             ],
             [
              0.2222222222222222,
              "#7201a8"
             ],
             [
              0.3333333333333333,
              "#9c179e"
             ],
             [
              0.4444444444444444,
              "#bd3786"
             ],
             [
              0.5555555555555556,
              "#d8576b"
             ],
             [
              0.6666666666666666,
              "#ed7953"
             ],
             [
              0.7777777777777778,
              "#fb9f3a"
             ],
             [
              0.8888888888888888,
              "#fdca26"
             ],
             [
              1,
              "#f0f921"
             ]
            ],
            "type": "histogram2dcontour"
           }
          ],
          "mesh3d": [
           {
            "colorbar": {
             "outlinewidth": 0,
             "ticks": ""
            },
            "type": "mesh3d"
           }
          ],
          "parcoords": [
           {
            "line": {
             "colorbar": {
              "outlinewidth": 0,
              "ticks": ""
             }
            },
            "type": "parcoords"
           }
          ],
          "pie": [
           {
            "automargin": true,
            "type": "pie"
           }
          ],
          "scatter": [
           {
            "fillpattern": {
             "fillmode": "overlay",
             "size": 10,
             "solidity": 0.2
            },
            "type": "scatter"
           }
          ],
          "scatter3d": [
           {
            "line": {
             "colorbar": {
              "outlinewidth": 0,
              "ticks": ""
             }
            },
            "marker": {
             "colorbar": {
              "outlinewidth": 0,
              "ticks": ""
             }
            },
            "type": "scatter3d"
           }
          ],
          "scattercarpet": [
           {
            "marker": {
             "colorbar": {
              "outlinewidth": 0,
              "ticks": ""
             }
            },
            "type": "scattercarpet"
           }
          ],
          "scattergeo": [
           {
            "marker": {
             "colorbar": {
              "outlinewidth": 0,
              "ticks": ""
             }
            },
            "type": "scattergeo"
           }
          ],
          "scattergl": [
           {
            "marker": {
             "colorbar": {
              "outlinewidth": 0,
              "ticks": ""
             }
            },
            "type": "scattergl"
           }
          ],
          "scattermapbox": [
           {
            "marker": {
             "colorbar": {
              "outlinewidth": 0,
              "ticks": ""
             }
            },
            "type": "scattermapbox"
           }
          ],
          "scatterpolar": [
           {
            "marker": {
             "colorbar": {
              "outlinewidth": 0,
              "ticks": ""
             }
            },
            "type": "scatterpolar"
           }
          ],
          "scatterpolargl": [
           {
            "marker": {
             "colorbar": {
              "outlinewidth": 0,
              "ticks": ""
             }
            },
            "type": "scatterpolargl"
           }
          ],
          "scatterternary": [
           {
            "marker": {
             "colorbar": {
              "outlinewidth": 0,
              "ticks": ""
             }
            },
            "type": "scatterternary"
           }
          ],
          "surface": [
           {
            "colorbar": {
             "outlinewidth": 0,
             "ticks": ""
            },
            "colorscale": [
             [
              0,
              "#0d0887"
             ],
             [
              0.1111111111111111,
              "#46039f"
             ],
             [
              0.2222222222222222,
              "#7201a8"
             ],
             [
              0.3333333333333333,
              "#9c179e"
             ],
             [
              0.4444444444444444,
              "#bd3786"
             ],
             [
              0.5555555555555556,
              "#d8576b"
             ],
             [
              0.6666666666666666,
              "#ed7953"
             ],
             [
              0.7777777777777778,
              "#fb9f3a"
             ],
             [
              0.8888888888888888,
              "#fdca26"
             ],
             [
              1,
              "#f0f921"
             ]
            ],
            "type": "surface"
           }
          ],
          "table": [
           {
            "cells": {
             "fill": {
              "color": "#EBF0F8"
             },
             "line": {
              "color": "white"
             }
            },
            "header": {
             "fill": {
              "color": "#C8D4E3"
             },
             "line": {
              "color": "white"
             }
            },
            "type": "table"
           }
          ]
         },
         "layout": {
          "annotationdefaults": {
           "arrowcolor": "#2a3f5f",
           "arrowhead": 0,
           "arrowwidth": 1
          },
          "autotypenumbers": "strict",
          "coloraxis": {
           "colorbar": {
            "outlinewidth": 0,
            "ticks": ""
           }
          },
          "colorscale": {
           "diverging": [
            [
             0,
             "#8e0152"
            ],
            [
             0.1,
             "#c51b7d"
            ],
            [
             0.2,
             "#de77ae"
            ],
            [
             0.3,
             "#f1b6da"
            ],
            [
             0.4,
             "#fde0ef"
            ],
            [
             0.5,
             "#f7f7f7"
            ],
            [
             0.6,
             "#e6f5d0"
            ],
            [
             0.7,
             "#b8e186"
            ],
            [
             0.8,
             "#7fbc41"
            ],
            [
             0.9,
             "#4d9221"
            ],
            [
             1,
             "#276419"
            ]
           ],
           "sequential": [
            [
             0,
             "#0d0887"
            ],
            [
             0.1111111111111111,
             "#46039f"
            ],
            [
             0.2222222222222222,
             "#7201a8"
            ],
            [
             0.3333333333333333,
             "#9c179e"
            ],
            [
             0.4444444444444444,
             "#bd3786"
            ],
            [
             0.5555555555555556,
             "#d8576b"
            ],
            [
             0.6666666666666666,
             "#ed7953"
            ],
            [
             0.7777777777777778,
             "#fb9f3a"
            ],
            [
             0.8888888888888888,
             "#fdca26"
            ],
            [
             1,
             "#f0f921"
            ]
           ],
           "sequentialminus": [
            [
             0,
             "#0d0887"
            ],
            [
             0.1111111111111111,
             "#46039f"
            ],
            [
             0.2222222222222222,
             "#7201a8"
            ],
            [
             0.3333333333333333,
             "#9c179e"
            ],
            [
             0.4444444444444444,
             "#bd3786"
            ],
            [
             0.5555555555555556,
             "#d8576b"
            ],
            [
             0.6666666666666666,
             "#ed7953"
            ],
            [
             0.7777777777777778,
             "#fb9f3a"
            ],
            [
             0.8888888888888888,
             "#fdca26"
            ],
            [
             1,
             "#f0f921"
            ]
           ]
          },
          "colorway": [
           "#636efa",
           "#EF553B",
           "#00cc96",
           "#ab63fa",
           "#FFA15A",
           "#19d3f3",
           "#FF6692",
           "#B6E880",
           "#FF97FF",
           "#FECB52"
          ],
          "font": {
           "color": "#2a3f5f"
          },
          "geo": {
           "bgcolor": "white",
           "lakecolor": "white",
           "landcolor": "#E5ECF6",
           "showlakes": true,
           "showland": true,
           "subunitcolor": "white"
          },
          "hoverlabel": {
           "align": "left"
          },
          "hovermode": "closest",
          "mapbox": {
           "style": "light"
          },
          "paper_bgcolor": "white",
          "plot_bgcolor": "#E5ECF6",
          "polar": {
           "angularaxis": {
            "gridcolor": "white",
            "linecolor": "white",
            "ticks": ""
           },
           "bgcolor": "#E5ECF6",
           "radialaxis": {
            "gridcolor": "white",
            "linecolor": "white",
            "ticks": ""
           }
          },
          "scene": {
           "xaxis": {
            "backgroundcolor": "#E5ECF6",
            "gridcolor": "white",
            "gridwidth": 2,
            "linecolor": "white",
            "showbackground": true,
            "ticks": "",
            "zerolinecolor": "white"
           },
           "yaxis": {
            "backgroundcolor": "#E5ECF6",
            "gridcolor": "white",
            "gridwidth": 2,
            "linecolor": "white",
            "showbackground": true,
            "ticks": "",
            "zerolinecolor": "white"
           },
           "zaxis": {
            "backgroundcolor": "#E5ECF6",
            "gridcolor": "white",
            "gridwidth": 2,
            "linecolor": "white",
            "showbackground": true,
            "ticks": "",
            "zerolinecolor": "white"
           }
          },
          "shapedefaults": {
           "line": {
            "color": "#2a3f5f"
           }
          },
          "ternary": {
           "aaxis": {
            "gridcolor": "white",
            "linecolor": "white",
            "ticks": ""
           },
           "baxis": {
            "gridcolor": "white",
            "linecolor": "white",
            "ticks": ""
           },
           "bgcolor": "#E5ECF6",
           "caxis": {
            "gridcolor": "white",
            "linecolor": "white",
            "ticks": ""
           }
          },
          "title": {
           "x": 0.05
          },
          "xaxis": {
           "automargin": true,
           "gridcolor": "white",
           "linecolor": "white",
           "ticks": "",
           "title": {
            "standoff": 15
           },
           "zerolinecolor": "white",
           "zerolinewidth": 2
          },
          "yaxis": {
           "automargin": true,
           "gridcolor": "white",
           "linecolor": "white",
           "ticks": "",
           "title": {
            "standoff": 15
           },
           "zerolinecolor": "white",
           "zerolinewidth": 2
          }
         }
        },
        "title": {
         "text": "Transportation Modes Over Years"
        },
        "width": 800,
        "xaxis": {
         "anchor": "y",
         "domain": [
          0,
          1
         ],
         "title": {
          "text": "Year"
         }
        },
        "yaxis": {
         "anchor": "x",
         "domain": [
          0,
          1
         ],
         "title": {
          "text": "Value"
         }
        }
       }
      }
     },
     "metadata": {},
     "output_type": "display_data"
    }
   ],
   "source": [
    "\n",
    "# Melt the DataFrame to long format for plotting\n",
    "mobility_trend_melted = mobility_trend.melt(id_vars='modes', var_name='Year', value_name='Value')\n",
    "\n",
    "# Creating the plot\n",
    "fig = px.line(mobility_trend_melted, x='Year', y='Value', color='modes', \n",
    "              title='Transportation Modes Over Years')\n",
    "fig.update_layout(height=600, width=800 )\n",
    "fig.show()\n",
    "\n"
   ]
  },
  {
   "cell_type": "code",
   "execution_count": 125,
   "metadata": {
    "tags": []
   },
   "outputs": [
    {
     "data": {
      "text/html": [
       "<div>\n",
       "<style scoped>\n",
       "    .dataframe tbody tr th:only-of-type {\n",
       "        vertical-align: middle;\n",
       "    }\n",
       "\n",
       "    .dataframe tbody tr th {\n",
       "        vertical-align: top;\n",
       "    }\n",
       "\n",
       "    .dataframe thead th {\n",
       "        text-align: right;\n",
       "    }\n",
       "</style>\n",
       "<table border=\"1\" class=\"dataframe\">\n",
       "  <thead>\n",
       "    <tr style=\"text-align: right;\">\n",
       "      <th></th>\n",
       "      <th>modes</th>\n",
       "      <th>2018</th>\n",
       "      <th>2019</th>\n",
       "      <th>2020</th>\n",
       "      <th>2021</th>\n",
       "      <th>2022</th>\n",
       "    </tr>\n",
       "  </thead>\n",
       "  <tbody>\n",
       "    <tr>\n",
       "      <th>0</th>\n",
       "      <td>Total</td>\n",
       "      <td>0.0</td>\n",
       "      <td>-0.442478</td>\n",
       "      <td>-30.888889</td>\n",
       "      <td>9.485531</td>\n",
       "      <td>10.903084</td>\n",
       "    </tr>\n",
       "    <tr>\n",
       "      <th>1</th>\n",
       "      <td>Passenger car (driver)</td>\n",
       "      <td>0.0</td>\n",
       "      <td>-0.770925</td>\n",
       "      <td>-27.081021</td>\n",
       "      <td>6.925419</td>\n",
       "      <td>7.686833</td>\n",
       "    </tr>\n",
       "    <tr>\n",
       "      <th>2</th>\n",
       "      <td>Train</td>\n",
       "      <td>0.0</td>\n",
       "      <td>5.154639</td>\n",
       "      <td>-60.784314</td>\n",
       "      <td>4.375000</td>\n",
       "      <td>56.886228</td>\n",
       "    </tr>\n",
       "    <tr>\n",
       "      <th>3</th>\n",
       "      <td>Bike</td>\n",
       "      <td>0.0</td>\n",
       "      <td>-4.746835</td>\n",
       "      <td>-13.289037</td>\n",
       "      <td>2.681992</td>\n",
       "      <td>13.432836</td>\n",
       "    </tr>\n",
       "    <tr>\n",
       "      <th>4</th>\n",
       "      <td>Walking</td>\n",
       "      <td>0.0</td>\n",
       "      <td>-2.222222</td>\n",
       "      <td>27.272727</td>\n",
       "      <td>23.214286</td>\n",
       "      <td>-12.318841</td>\n",
       "    </tr>\n",
       "  </tbody>\n",
       "</table>\n",
       "</div>"
      ],
      "text/plain": [
       "                    modes  2018      2019       2020       2021       2022\n",
       "0                   Total   0.0 -0.442478 -30.888889   9.485531  10.903084\n",
       "1  Passenger car (driver)   0.0 -0.770925 -27.081021   6.925419   7.686833\n",
       "2                   Train   0.0  5.154639 -60.784314   4.375000  56.886228\n",
       "3                    Bike   0.0 -4.746835 -13.289037   2.681992  13.432836\n",
       "4                 Walking   0.0 -2.222222  27.272727  23.214286 -12.318841"
      ]
     },
     "execution_count": 125,
     "metadata": {},
     "output_type": "execute_result"
    }
   ],
   "source": [
    "yoy_changes = mobility_trend.copy()\n",
    "\n",
    "# Calculate year-over-year changes for each mode while setting the first year's change to 0\n",
    "yoy_changes.iloc[:, 1:] = yoy_changes.iloc[:, 1:].pct_change(axis=1) * 100\n",
    "yoy_changes.iloc[:, 1] = 0  # Set the first year's change to 0 for all modes\n",
    "\n",
    "\n",
    "yoy_changes"
   ]
  },
  {
   "cell_type": "code",
   "execution_count": 126,
   "metadata": {
    "tags": []
   },
   "outputs": [
    {
     "data": {
      "application/vnd.plotly.v1+json": {
       "config": {
        "plotlyServerURL": "https://plot.ly"
       },
       "data": [
        {
         "hovertemplate": "modes=Total<br>Year=%{x}<br>YoY Change=%{y}<extra></extra>",
         "legendgroup": "Total",
         "line": {
          "color": "#636efa",
          "dash": "solid"
         },
         "marker": {
          "symbol": "circle"
         },
         "mode": "lines",
         "name": "Total",
         "orientation": "v",
         "showlegend": true,
         "type": "scatter",
         "x": [
          "2018",
          "2019",
          "2020",
          "2021",
          "2022"
         ],
         "xaxis": "x",
         "y": [
          0,
          -0.4424778761061843,
          -30.88888888888889,
          9.4855305466238,
          10.90308370044053
         ],
         "yaxis": "y"
        },
        {
         "hovertemplate": "modes=Passenger car (driver)<br>Year=%{x}<br>YoY Change=%{y}<extra></extra>",
         "legendgroup": "Passenger car (driver)",
         "line": {
          "color": "#EF553B",
          "dash": "solid"
         },
         "marker": {
          "symbol": "circle"
         },
         "mode": "lines",
         "name": "Passenger car (driver)",
         "orientation": "v",
         "showlegend": true,
         "type": "scatter",
         "x": [
          "2018",
          "2019",
          "2020",
          "2021",
          "2022"
         ],
         "xaxis": "x",
         "y": [
          0,
          -0.770925110132159,
          -27.081021087680345,
          6.925418569254194,
          7.686832740213534
         ],
         "yaxis": "y"
        },
        {
         "hovertemplate": "modes=Train<br>Year=%{x}<br>YoY Change=%{y}<extra></extra>",
         "legendgroup": "Train",
         "line": {
          "color": "#00cc96",
          "dash": "solid"
         },
         "marker": {
          "symbol": "circle"
         },
         "mode": "lines",
         "name": "Train",
         "orientation": "v",
         "showlegend": true,
         "type": "scatter",
         "x": [
          "2018",
          "2019",
          "2020",
          "2021",
          "2022"
         ],
         "xaxis": "x",
         "y": [
          0,
          5.154639175257736,
          -60.7843137254902,
          4.374999999999996,
          56.8862275449102
         ],
         "yaxis": "y"
        },
        {
         "hovertemplate": "modes=Bike<br>Year=%{x}<br>YoY Change=%{y}<extra></extra>",
         "legendgroup": "Bike",
         "line": {
          "color": "#ab63fa",
          "dash": "solid"
         },
         "marker": {
          "symbol": "circle"
         },
         "mode": "lines",
         "name": "Bike",
         "orientation": "v",
         "showlegend": true,
         "type": "scatter",
         "x": [
          "2018",
          "2019",
          "2020",
          "2021",
          "2022"
         ],
         "xaxis": "x",
         "y": [
          0,
          -4.746835443037989,
          -13.289036544850497,
          2.6819923371647514,
          13.432835820895516
         ],
         "yaxis": "y"
        },
        {
         "hovertemplate": "modes=Walking<br>Year=%{x}<br>YoY Change=%{y}<extra></extra>",
         "legendgroup": "Walking",
         "line": {
          "color": "#FFA15A",
          "dash": "solid"
         },
         "marker": {
          "symbol": "circle"
         },
         "mode": "lines",
         "name": "Walking",
         "orientation": "v",
         "showlegend": true,
         "type": "scatter",
         "x": [
          "2018",
          "2019",
          "2020",
          "2021",
          "2022"
         ],
         "xaxis": "x",
         "y": [
          0,
          -2.2222222222222254,
          27.272727272727295,
          23.214285714285698,
          -12.318840579710145
         ],
         "yaxis": "y"
        }
       ],
       "layout": {
        "height": 600,
        "legend": {
         "title": {
          "text": "modes"
         },
         "tracegroupgap": 0
        },
        "template": {
         "data": {
          "bar": [
           {
            "error_x": {
             "color": "#2a3f5f"
            },
            "error_y": {
             "color": "#2a3f5f"
            },
            "marker": {
             "line": {
              "color": "#E5ECF6",
              "width": 0.5
             },
             "pattern": {
              "fillmode": "overlay",
              "size": 10,
              "solidity": 0.2
             }
            },
            "type": "bar"
           }
          ],
          "barpolar": [
           {
            "marker": {
             "line": {
              "color": "#E5ECF6",
              "width": 0.5
             },
             "pattern": {
              "fillmode": "overlay",
              "size": 10,
              "solidity": 0.2
             }
            },
            "type": "barpolar"
           }
          ],
          "carpet": [
           {
            "aaxis": {
             "endlinecolor": "#2a3f5f",
             "gridcolor": "white",
             "linecolor": "white",
             "minorgridcolor": "white",
             "startlinecolor": "#2a3f5f"
            },
            "baxis": {
             "endlinecolor": "#2a3f5f",
             "gridcolor": "white",
             "linecolor": "white",
             "minorgridcolor": "white",
             "startlinecolor": "#2a3f5f"
            },
            "type": "carpet"
           }
          ],
          "choropleth": [
           {
            "colorbar": {
             "outlinewidth": 0,
             "ticks": ""
            },
            "type": "choropleth"
           }
          ],
          "contour": [
           {
            "colorbar": {
             "outlinewidth": 0,
             "ticks": ""
            },
            "colorscale": [
             [
              0,
              "#0d0887"
             ],
             [
              0.1111111111111111,
              "#46039f"
             ],
             [
              0.2222222222222222,
              "#7201a8"
             ],
             [
              0.3333333333333333,
              "#9c179e"
             ],
             [
              0.4444444444444444,
              "#bd3786"
             ],
             [
              0.5555555555555556,
              "#d8576b"
             ],
             [
              0.6666666666666666,
              "#ed7953"
             ],
             [
              0.7777777777777778,
              "#fb9f3a"
             ],
             [
              0.8888888888888888,
              "#fdca26"
             ],
             [
              1,
              "#f0f921"
             ]
            ],
            "type": "contour"
           }
          ],
          "contourcarpet": [
           {
            "colorbar": {
             "outlinewidth": 0,
             "ticks": ""
            },
            "type": "contourcarpet"
           }
          ],
          "heatmap": [
           {
            "colorbar": {
             "outlinewidth": 0,
             "ticks": ""
            },
            "colorscale": [
             [
              0,
              "#0d0887"
             ],
             [
              0.1111111111111111,
              "#46039f"
             ],
             [
              0.2222222222222222,
              "#7201a8"
             ],
             [
              0.3333333333333333,
              "#9c179e"
             ],
             [
              0.4444444444444444,
              "#bd3786"
             ],
             [
              0.5555555555555556,
              "#d8576b"
             ],
             [
              0.6666666666666666,
              "#ed7953"
             ],
             [
              0.7777777777777778,
              "#fb9f3a"
             ],
             [
              0.8888888888888888,
              "#fdca26"
             ],
             [
              1,
              "#f0f921"
             ]
            ],
            "type": "heatmap"
           }
          ],
          "heatmapgl": [
           {
            "colorbar": {
             "outlinewidth": 0,
             "ticks": ""
            },
            "colorscale": [
             [
              0,
              "#0d0887"
             ],
             [
              0.1111111111111111,
              "#46039f"
             ],
             [
              0.2222222222222222,
              "#7201a8"
             ],
             [
              0.3333333333333333,
              "#9c179e"
             ],
             [
              0.4444444444444444,
              "#bd3786"
             ],
             [
              0.5555555555555556,
              "#d8576b"
             ],
             [
              0.6666666666666666,
              "#ed7953"
             ],
             [
              0.7777777777777778,
              "#fb9f3a"
             ],
             [
              0.8888888888888888,
              "#fdca26"
             ],
             [
              1,
              "#f0f921"
             ]
            ],
            "type": "heatmapgl"
           }
          ],
          "histogram": [
           {
            "marker": {
             "pattern": {
              "fillmode": "overlay",
              "size": 10,
              "solidity": 0.2
             }
            },
            "type": "histogram"
           }
          ],
          "histogram2d": [
           {
            "colorbar": {
             "outlinewidth": 0,
             "ticks": ""
            },
            "colorscale": [
             [
              0,
              "#0d0887"
             ],
             [
              0.1111111111111111,
              "#46039f"
             ],
             [
              0.2222222222222222,
              "#7201a8"
             ],
             [
              0.3333333333333333,
              "#9c179e"
             ],
             [
              0.4444444444444444,
              "#bd3786"
             ],
             [
              0.5555555555555556,
              "#d8576b"
             ],
             [
              0.6666666666666666,
              "#ed7953"
             ],
             [
              0.7777777777777778,
              "#fb9f3a"
             ],
             [
              0.8888888888888888,
              "#fdca26"
             ],
             [
              1,
              "#f0f921"
             ]
            ],
            "type": "histogram2d"
           }
          ],
          "histogram2dcontour": [
           {
            "colorbar": {
             "outlinewidth": 0,
             "ticks": ""
            },
            "colorscale": [
             [
              0,
              "#0d0887"
             ],
             [
              0.1111111111111111,
              "#46039f"
             ],
             [
              0.2222222222222222,
              "#7201a8"
             ],
             [
              0.3333333333333333,
              "#9c179e"
             ],
             [
              0.4444444444444444,
              "#bd3786"
             ],
             [
              0.5555555555555556,
              "#d8576b"
             ],
             [
              0.6666666666666666,
              "#ed7953"
             ],
             [
              0.7777777777777778,
              "#fb9f3a"
             ],
             [
              0.8888888888888888,
              "#fdca26"
             ],
             [
              1,
              "#f0f921"
             ]
            ],
            "type": "histogram2dcontour"
           }
          ],
          "mesh3d": [
           {
            "colorbar": {
             "outlinewidth": 0,
             "ticks": ""
            },
            "type": "mesh3d"
           }
          ],
          "parcoords": [
           {
            "line": {
             "colorbar": {
              "outlinewidth": 0,
              "ticks": ""
             }
            },
            "type": "parcoords"
           }
          ],
          "pie": [
           {
            "automargin": true,
            "type": "pie"
           }
          ],
          "scatter": [
           {
            "fillpattern": {
             "fillmode": "overlay",
             "size": 10,
             "solidity": 0.2
            },
            "type": "scatter"
           }
          ],
          "scatter3d": [
           {
            "line": {
             "colorbar": {
              "outlinewidth": 0,
              "ticks": ""
             }
            },
            "marker": {
             "colorbar": {
              "outlinewidth": 0,
              "ticks": ""
             }
            },
            "type": "scatter3d"
           }
          ],
          "scattercarpet": [
           {
            "marker": {
             "colorbar": {
              "outlinewidth": 0,
              "ticks": ""
             }
            },
            "type": "scattercarpet"
           }
          ],
          "scattergeo": [
           {
            "marker": {
             "colorbar": {
              "outlinewidth": 0,
              "ticks": ""
             }
            },
            "type": "scattergeo"
           }
          ],
          "scattergl": [
           {
            "marker": {
             "colorbar": {
              "outlinewidth": 0,
              "ticks": ""
             }
            },
            "type": "scattergl"
           }
          ],
          "scattermapbox": [
           {
            "marker": {
             "colorbar": {
              "outlinewidth": 0,
              "ticks": ""
             }
            },
            "type": "scattermapbox"
           }
          ],
          "scatterpolar": [
           {
            "marker": {
             "colorbar": {
              "outlinewidth": 0,
              "ticks": ""
             }
            },
            "type": "scatterpolar"
           }
          ],
          "scatterpolargl": [
           {
            "marker": {
             "colorbar": {
              "outlinewidth": 0,
              "ticks": ""
             }
            },
            "type": "scatterpolargl"
           }
          ],
          "scatterternary": [
           {
            "marker": {
             "colorbar": {
              "outlinewidth": 0,
              "ticks": ""
             }
            },
            "type": "scatterternary"
           }
          ],
          "surface": [
           {
            "colorbar": {
             "outlinewidth": 0,
             "ticks": ""
            },
            "colorscale": [
             [
              0,
              "#0d0887"
             ],
             [
              0.1111111111111111,
              "#46039f"
             ],
             [
              0.2222222222222222,
              "#7201a8"
             ],
             [
              0.3333333333333333,
              "#9c179e"
             ],
             [
              0.4444444444444444,
              "#bd3786"
             ],
             [
              0.5555555555555556,
              "#d8576b"
             ],
             [
              0.6666666666666666,
              "#ed7953"
             ],
             [
              0.7777777777777778,
              "#fb9f3a"
             ],
             [
              0.8888888888888888,
              "#fdca26"
             ],
             [
              1,
              "#f0f921"
             ]
            ],
            "type": "surface"
           }
          ],
          "table": [
           {
            "cells": {
             "fill": {
              "color": "#EBF0F8"
             },
             "line": {
              "color": "white"
             }
            },
            "header": {
             "fill": {
              "color": "#C8D4E3"
             },
             "line": {
              "color": "white"
             }
            },
            "type": "table"
           }
          ]
         },
         "layout": {
          "annotationdefaults": {
           "arrowcolor": "#2a3f5f",
           "arrowhead": 0,
           "arrowwidth": 1
          },
          "autotypenumbers": "strict",
          "coloraxis": {
           "colorbar": {
            "outlinewidth": 0,
            "ticks": ""
           }
          },
          "colorscale": {
           "diverging": [
            [
             0,
             "#8e0152"
            ],
            [
             0.1,
             "#c51b7d"
            ],
            [
             0.2,
             "#de77ae"
            ],
            [
             0.3,
             "#f1b6da"
            ],
            [
             0.4,
             "#fde0ef"
            ],
            [
             0.5,
             "#f7f7f7"
            ],
            [
             0.6,
             "#e6f5d0"
            ],
            [
             0.7,
             "#b8e186"
            ],
            [
             0.8,
             "#7fbc41"
            ],
            [
             0.9,
             "#4d9221"
            ],
            [
             1,
             "#276419"
            ]
           ],
           "sequential": [
            [
             0,
             "#0d0887"
            ],
            [
             0.1111111111111111,
             "#46039f"
            ],
            [
             0.2222222222222222,
             "#7201a8"
            ],
            [
             0.3333333333333333,
             "#9c179e"
            ],
            [
             0.4444444444444444,
             "#bd3786"
            ],
            [
             0.5555555555555556,
             "#d8576b"
            ],
            [
             0.6666666666666666,
             "#ed7953"
            ],
            [
             0.7777777777777778,
             "#fb9f3a"
            ],
            [
             0.8888888888888888,
             "#fdca26"
            ],
            [
             1,
             "#f0f921"
            ]
           ],
           "sequentialminus": [
            [
             0,
             "#0d0887"
            ],
            [
             0.1111111111111111,
             "#46039f"
            ],
            [
             0.2222222222222222,
             "#7201a8"
            ],
            [
             0.3333333333333333,
             "#9c179e"
            ],
            [
             0.4444444444444444,
             "#bd3786"
            ],
            [
             0.5555555555555556,
             "#d8576b"
            ],
            [
             0.6666666666666666,
             "#ed7953"
            ],
            [
             0.7777777777777778,
             "#fb9f3a"
            ],
            [
             0.8888888888888888,
             "#fdca26"
            ],
            [
             1,
             "#f0f921"
            ]
           ]
          },
          "colorway": [
           "#636efa",
           "#EF553B",
           "#00cc96",
           "#ab63fa",
           "#FFA15A",
           "#19d3f3",
           "#FF6692",
           "#B6E880",
           "#FF97FF",
           "#FECB52"
          ],
          "font": {
           "color": "#2a3f5f"
          },
          "geo": {
           "bgcolor": "white",
           "lakecolor": "white",
           "landcolor": "#E5ECF6",
           "showlakes": true,
           "showland": true,
           "subunitcolor": "white"
          },
          "hoverlabel": {
           "align": "left"
          },
          "hovermode": "closest",
          "mapbox": {
           "style": "light"
          },
          "paper_bgcolor": "white",
          "plot_bgcolor": "#E5ECF6",
          "polar": {
           "angularaxis": {
            "gridcolor": "white",
            "linecolor": "white",
            "ticks": ""
           },
           "bgcolor": "#E5ECF6",
           "radialaxis": {
            "gridcolor": "white",
            "linecolor": "white",
            "ticks": ""
           }
          },
          "scene": {
           "xaxis": {
            "backgroundcolor": "#E5ECF6",
            "gridcolor": "white",
            "gridwidth": 2,
            "linecolor": "white",
            "showbackground": true,
            "ticks": "",
            "zerolinecolor": "white"
           },
           "yaxis": {
            "backgroundcolor": "#E5ECF6",
            "gridcolor": "white",
            "gridwidth": 2,
            "linecolor": "white",
            "showbackground": true,
            "ticks": "",
            "zerolinecolor": "white"
           },
           "zaxis": {
            "backgroundcolor": "#E5ECF6",
            "gridcolor": "white",
            "gridwidth": 2,
            "linecolor": "white",
            "showbackground": true,
            "ticks": "",
            "zerolinecolor": "white"
           }
          },
          "shapedefaults": {
           "line": {
            "color": "#2a3f5f"
           }
          },
          "ternary": {
           "aaxis": {
            "gridcolor": "white",
            "linecolor": "white",
            "ticks": ""
           },
           "baxis": {
            "gridcolor": "white",
            "linecolor": "white",
            "ticks": ""
           },
           "bgcolor": "#E5ECF6",
           "caxis": {
            "gridcolor": "white",
            "linecolor": "white",
            "ticks": ""
           }
          },
          "title": {
           "x": 0.05
          },
          "xaxis": {
           "automargin": true,
           "gridcolor": "white",
           "linecolor": "white",
           "ticks": "",
           "title": {
            "standoff": 15
           },
           "zerolinecolor": "white",
           "zerolinewidth": 2
          },
          "yaxis": {
           "automargin": true,
           "gridcolor": "white",
           "linecolor": "white",
           "ticks": "",
           "title": {
            "standoff": 15
           },
           "zerolinecolor": "white",
           "zerolinewidth": 2
          }
         }
        },
        "title": {
         "text": "Year-over-Year Changes for Different Modes of Transportation"
        },
        "width": 800,
        "xaxis": {
         "anchor": "y",
         "domain": [
          0,
          1
         ],
         "title": {
          "text": "Year"
         }
        },
        "yaxis": {
         "anchor": "x",
         "domain": [
          0,
          1
         ],
         "title": {
          "text": "YoY Change"
         }
        }
       }
      }
     },
     "metadata": {},
     "output_type": "display_data"
    }
   ],
   "source": [
    "melted_yoy = yoy_changes.melt(id_vars='modes', var_name='Year', value_name='YoY Change')\n",
    "\n",
    "# Plotting the year-over-year changes for each mode\n",
    "fig = px.line(melted_yoy, x='Year', y='YoY Change', color='modes',\n",
    "              title='Year-over-Year Changes for Different Modes of Transportation')\n",
    "fig.update_layout(height=600, width=800 )\n",
    "fig.show()"
   ]
  },
  {
   "cell_type": "markdown",
   "metadata": {},
   "source": [
    "### Conclusion subquestion 3:\n"
   ]
  },
  {
   "cell_type": "markdown",
   "metadata": {
    "tags": []
   },
   "source": [
    "# Subquestion 4: How have the mobility motives developed in the considered time in the Netherlands?\n",
    "In this subquestion the mobility trends found in the data from the CBS is explored. The yearly data is visualised in bar charts. First the average amount of trips per day for every vehicle combined in 2022 and after that this is also done for the years 2018 till 2022. It is expected that during covid, the travelled distances for all the travel motives have dropped, especially travelling for work. However, it is expected that after covid the travelled distance for some travel were not as high as before."
   ]
  },
  {
   "cell_type": "code",
   "execution_count": 14,
   "metadata": {
    "tags": []
   },
   "outputs": [
    {
     "data": {
      "text/html": [
       "<div>\n",
       "<style scoped>\n",
       "    .dataframe tbody tr th:only-of-type {\n",
       "        vertical-align: middle;\n",
       "    }\n",
       "\n",
       "    .dataframe tbody tr th {\n",
       "        vertical-align: top;\n",
       "    }\n",
       "\n",
       "    .dataframe thead th {\n",
       "        text-align: right;\n",
       "    }\n",
       "</style>\n",
       "<table border=\"1\" class=\"dataframe\">\n",
       "  <thead>\n",
       "    <tr style=\"text-align: right;\">\n",
       "      <th></th>\n",
       "      <th>2018</th>\n",
       "      <th>2019</th>\n",
       "      <th>2020</th>\n",
       "      <th>2021</th>\n",
       "      <th>2022</th>\n",
       "    </tr>\n",
       "    <tr>\n",
       "      <th>motive</th>\n",
       "      <th></th>\n",
       "      <th></th>\n",
       "      <th></th>\n",
       "      <th></th>\n",
       "      <th></th>\n",
       "    </tr>\n",
       "  </thead>\n",
       "  <tbody>\n",
       "    <tr>\n",
       "      <th>Professionally</th>\n",
       "      <td>0.07</td>\n",
       "      <td>0.11</td>\n",
       "      <td>0.07</td>\n",
       "      <td>0.08</td>\n",
       "      <td>0.08</td>\n",
       "    </tr>\n",
       "    <tr>\n",
       "      <th>Services/care</th>\n",
       "      <td>0.09</td>\n",
       "      <td>0.09</td>\n",
       "      <td>0.07</td>\n",
       "      <td>0.09</td>\n",
       "      <td>0.09</td>\n",
       "    </tr>\n",
       "    <tr>\n",
       "      <th>Attending education/courses</th>\n",
       "      <td>0.23</td>\n",
       "      <td>0.22</td>\n",
       "      <td>0.14</td>\n",
       "      <td>0.14</td>\n",
       "      <td>0.18</td>\n",
       "    </tr>\n",
       "    <tr>\n",
       "      <th>Travel to/from work, (non)-daily commute</th>\n",
       "      <td>0.55</td>\n",
       "      <td>0.50</td>\n",
       "      <td>0.37</td>\n",
       "      <td>0.37</td>\n",
       "      <td>0.42</td>\n",
       "    </tr>\n",
       "    <tr>\n",
       "      <th>Shopping, groceries, funshopping.</th>\n",
       "      <td>0.56</td>\n",
       "      <td>0.54</td>\n",
       "      <td>0.55</td>\n",
       "      <td>0.56</td>\n",
       "      <td>0.58</td>\n",
       "    </tr>\n",
       "    <tr>\n",
       "      <th>Total</th>\n",
       "      <td>2.78</td>\n",
       "      <td>2.71</td>\n",
       "      <td>2.35</td>\n",
       "      <td>2.51</td>\n",
       "      <td>2.70</td>\n",
       "    </tr>\n",
       "  </tbody>\n",
       "</table>\n",
       "</div>"
      ],
      "text/plain": [
       "                                          2018  2019  2020  2021  2022\n",
       "motive                                                                \n",
       "Professionally                            0.07  0.11  0.07  0.08  0.08\n",
       "Services/care                             0.09  0.09  0.07  0.09  0.09\n",
       "Attending education/courses               0.23  0.22  0.14  0.14  0.18\n",
       "Travel to/from work, (non)-daily commute  0.55  0.50  0.37  0.37  0.42\n",
       "Shopping, groceries, funshopping.         0.56  0.54  0.55  0.56  0.58\n",
       "Total                                     2.78  2.71  2.35  2.51  2.70"
      ]
     },
     "metadata": {},
     "output_type": "display_data"
    },
    {
     "data": {
      "text/html": [
       "<div>\n",
       "<style scoped>\n",
       "    .dataframe tbody tr th:only-of-type {\n",
       "        vertical-align: middle;\n",
       "    }\n",
       "\n",
       "    .dataframe tbody tr th {\n",
       "        vertical-align: top;\n",
       "    }\n",
       "\n",
       "    .dataframe thead th {\n",
       "        text-align: right;\n",
       "    }\n",
       "</style>\n",
       "<table border=\"1\" class=\"dataframe\">\n",
       "  <thead>\n",
       "    <tr style=\"text-align: right;\">\n",
       "      <th></th>\n",
       "      <th>2018</th>\n",
       "      <th>2019</th>\n",
       "      <th>2020</th>\n",
       "      <th>2021</th>\n",
       "      <th>2022</th>\n",
       "    </tr>\n",
       "    <tr>\n",
       "      <th>motive</th>\n",
       "      <th></th>\n",
       "      <th></th>\n",
       "      <th></th>\n",
       "      <th></th>\n",
       "      <th></th>\n",
       "    </tr>\n",
       "  </thead>\n",
       "  <tbody>\n",
       "    <tr>\n",
       "      <th>Professionally</th>\n",
       "      <td>0.07</td>\n",
       "      <td>0.11</td>\n",
       "      <td>0.07</td>\n",
       "      <td>0.08</td>\n",
       "      <td>0.08</td>\n",
       "    </tr>\n",
       "    <tr>\n",
       "      <th>Services/care</th>\n",
       "      <td>0.09</td>\n",
       "      <td>0.09</td>\n",
       "      <td>0.07</td>\n",
       "      <td>0.09</td>\n",
       "      <td>0.09</td>\n",
       "    </tr>\n",
       "    <tr>\n",
       "      <th>Attending education/courses</th>\n",
       "      <td>0.23</td>\n",
       "      <td>0.22</td>\n",
       "      <td>0.14</td>\n",
       "      <td>0.14</td>\n",
       "      <td>0.18</td>\n",
       "    </tr>\n",
       "    <tr>\n",
       "      <th>Travel to/from work, (non)-daily commute</th>\n",
       "      <td>0.55</td>\n",
       "      <td>0.50</td>\n",
       "      <td>0.37</td>\n",
       "      <td>0.37</td>\n",
       "      <td>0.42</td>\n",
       "    </tr>\n",
       "    <tr>\n",
       "      <th>Shopping, groceries, funshopping.</th>\n",
       "      <td>0.56</td>\n",
       "      <td>0.54</td>\n",
       "      <td>0.55</td>\n",
       "      <td>0.56</td>\n",
       "      <td>0.58</td>\n",
       "    </tr>\n",
       "    <tr>\n",
       "      <th>Total</th>\n",
       "      <td>2.78</td>\n",
       "      <td>2.71</td>\n",
       "      <td>2.35</td>\n",
       "      <td>2.51</td>\n",
       "      <td>2.70</td>\n",
       "    </tr>\n",
       "  </tbody>\n",
       "</table>\n",
       "</div>"
      ],
      "text/plain": [
       "                                          2018  2019  2020  2021  2022\n",
       "motive                                                                \n",
       "Professionally                            0.07  0.11  0.07  0.08  0.08\n",
       "Services/care                             0.09  0.09  0.07  0.09  0.09\n",
       "Attending education/courses               0.23  0.22  0.14  0.14  0.18\n",
       "Travel to/from work, (non)-daily commute  0.55  0.50  0.37  0.37  0.42\n",
       "Shopping, groceries, funshopping.         0.56  0.54  0.55  0.56  0.58\n",
       "Total                                     2.78  2.71  2.35  2.51  2.70"
      ]
     },
     "metadata": {},
     "output_type": "display_data"
    },
    {
     "data": {
      "application/vnd.plotly.v1+json": {
       "config": {
        "plotlyServerURL": "https://plot.ly"
       },
       "data": [
        {
         "alignmentgroup": "True",
         "hovertemplate": "<b>%{hovertext}</b><br><br>motive=%{y}<br>year=2018<br>trips=%{x}<extra></extra>",
         "hovertext": [
          "0.07"
         ],
         "legendgroup": "Professionally",
         "marker": {
          "color": "#636efa",
          "pattern": {
           "shape": ""
          }
         },
         "name": "Professionally",
         "offsetgroup": "Professionally",
         "orientation": "h",
         "showlegend": true,
         "textposition": "auto",
         "type": "bar",
         "x": [
          "0.07"
         ],
         "xaxis": "x",
         "y": [
          "Professionally"
         ],
         "yaxis": "y"
        },
        {
         "alignmentgroup": "True",
         "hovertemplate": "<b>%{hovertext}</b><br><br>motive=%{y}<br>year=2019<br>trips=%{x}<extra></extra>",
         "hovertext": [
          "0.11"
         ],
         "legendgroup": "Professionally",
         "marker": {
          "color": "#636efa",
          "pattern": {
           "shape": ""
          }
         },
         "name": "Professionally",
         "offsetgroup": "Professionally",
         "orientation": "h",
         "showlegend": false,
         "textposition": "auto",
         "type": "bar",
         "x": [
          "0.11"
         ],
         "xaxis": "x2",
         "y": [
          "Professionally"
         ],
         "yaxis": "y2"
        },
        {
         "alignmentgroup": "True",
         "hovertemplate": "<b>%{hovertext}</b><br><br>motive=%{y}<br>year=2020<br>trips=%{x}<extra></extra>",
         "hovertext": [
          "0.07"
         ],
         "legendgroup": "Professionally",
         "marker": {
          "color": "#636efa",
          "pattern": {
           "shape": ""
          }
         },
         "name": "Professionally",
         "offsetgroup": "Professionally",
         "orientation": "h",
         "showlegend": false,
         "textposition": "auto",
         "type": "bar",
         "x": [
          "0.07"
         ],
         "xaxis": "x3",
         "y": [
          "Professionally"
         ],
         "yaxis": "y3"
        },
        {
         "alignmentgroup": "True",
         "hovertemplate": "<b>%{hovertext}</b><br><br>motive=%{y}<br>year=2021<br>trips=%{x}<extra></extra>",
         "hovertext": [
          "0.08"
         ],
         "legendgroup": "Professionally",
         "marker": {
          "color": "#636efa",
          "pattern": {
           "shape": ""
          }
         },
         "name": "Professionally",
         "offsetgroup": "Professionally",
         "orientation": "h",
         "showlegend": false,
         "textposition": "auto",
         "type": "bar",
         "x": [
          "0.08"
         ],
         "xaxis": "x4",
         "y": [
          "Professionally"
         ],
         "yaxis": "y4"
        },
        {
         "alignmentgroup": "True",
         "hovertemplate": "<b>%{hovertext}</b><br><br>motive=%{y}<br>year=2022<br>trips=%{x}<extra></extra>",
         "hovertext": [
          "0.08"
         ],
         "legendgroup": "Professionally",
         "marker": {
          "color": "#636efa",
          "pattern": {
           "shape": ""
          }
         },
         "name": "Professionally",
         "offsetgroup": "Professionally",
         "orientation": "h",
         "showlegend": false,
         "textposition": "auto",
         "type": "bar",
         "x": [
          "0.08"
         ],
         "xaxis": "x5",
         "y": [
          "Professionally"
         ],
         "yaxis": "y5"
        },
        {
         "alignmentgroup": "True",
         "hovertemplate": "<b>%{hovertext}</b><br><br>motive=%{y}<br>year=2018<br>trips=%{x}<extra></extra>",
         "hovertext": [
          "0.09"
         ],
         "legendgroup": "Services/care",
         "marker": {
          "color": "#EF553B",
          "pattern": {
           "shape": ""
          }
         },
         "name": "Services/care",
         "offsetgroup": "Services/care",
         "orientation": "h",
         "showlegend": true,
         "textposition": "auto",
         "type": "bar",
         "x": [
          "0.09"
         ],
         "xaxis": "x",
         "y": [
          "Services/care"
         ],
         "yaxis": "y"
        },
        {
         "alignmentgroup": "True",
         "hovertemplate": "<b>%{hovertext}</b><br><br>motive=%{y}<br>year=2019<br>trips=%{x}<extra></extra>",
         "hovertext": [
          "0.09"
         ],
         "legendgroup": "Services/care",
         "marker": {
          "color": "#EF553B",
          "pattern": {
           "shape": ""
          }
         },
         "name": "Services/care",
         "offsetgroup": "Services/care",
         "orientation": "h",
         "showlegend": false,
         "textposition": "auto",
         "type": "bar",
         "x": [
          "0.09"
         ],
         "xaxis": "x2",
         "y": [
          "Services/care"
         ],
         "yaxis": "y2"
        },
        {
         "alignmentgroup": "True",
         "hovertemplate": "<b>%{hovertext}</b><br><br>motive=%{y}<br>year=2020<br>trips=%{x}<extra></extra>",
         "hovertext": [
          "0.07"
         ],
         "legendgroup": "Services/care",
         "marker": {
          "color": "#EF553B",
          "pattern": {
           "shape": ""
          }
         },
         "name": "Services/care",
         "offsetgroup": "Services/care",
         "orientation": "h",
         "showlegend": false,
         "textposition": "auto",
         "type": "bar",
         "x": [
          "0.07"
         ],
         "xaxis": "x3",
         "y": [
          "Services/care"
         ],
         "yaxis": "y3"
        },
        {
         "alignmentgroup": "True",
         "hovertemplate": "<b>%{hovertext}</b><br><br>motive=%{y}<br>year=2021<br>trips=%{x}<extra></extra>",
         "hovertext": [
          "0.09"
         ],
         "legendgroup": "Services/care",
         "marker": {
          "color": "#EF553B",
          "pattern": {
           "shape": ""
          }
         },
         "name": "Services/care",
         "offsetgroup": "Services/care",
         "orientation": "h",
         "showlegend": false,
         "textposition": "auto",
         "type": "bar",
         "x": [
          "0.09"
         ],
         "xaxis": "x4",
         "y": [
          "Services/care"
         ],
         "yaxis": "y4"
        },
        {
         "alignmentgroup": "True",
         "hovertemplate": "<b>%{hovertext}</b><br><br>motive=%{y}<br>year=2022<br>trips=%{x}<extra></extra>",
         "hovertext": [
          "0.09"
         ],
         "legendgroup": "Services/care",
         "marker": {
          "color": "#EF553B",
          "pattern": {
           "shape": ""
          }
         },
         "name": "Services/care",
         "offsetgroup": "Services/care",
         "orientation": "h",
         "showlegend": false,
         "textposition": "auto",
         "type": "bar",
         "x": [
          "0.09"
         ],
         "xaxis": "x5",
         "y": [
          "Services/care"
         ],
         "yaxis": "y5"
        },
        {
         "alignmentgroup": "True",
         "hovertemplate": "<b>%{hovertext}</b><br><br>motive=%{y}<br>year=2018<br>trips=%{x}<extra></extra>",
         "hovertext": [
          "0.23"
         ],
         "legendgroup": "Attending education/courses",
         "marker": {
          "color": "#00cc96",
          "pattern": {
           "shape": ""
          }
         },
         "name": "Attending education/courses",
         "offsetgroup": "Attending education/courses",
         "orientation": "h",
         "showlegend": true,
         "textposition": "auto",
         "type": "bar",
         "x": [
          "0.23"
         ],
         "xaxis": "x",
         "y": [
          "Attending education/courses"
         ],
         "yaxis": "y"
        },
        {
         "alignmentgroup": "True",
         "hovertemplate": "<b>%{hovertext}</b><br><br>motive=%{y}<br>year=2019<br>trips=%{x}<extra></extra>",
         "hovertext": [
          "0.22"
         ],
         "legendgroup": "Attending education/courses",
         "marker": {
          "color": "#00cc96",
          "pattern": {
           "shape": ""
          }
         },
         "name": "Attending education/courses",
         "offsetgroup": "Attending education/courses",
         "orientation": "h",
         "showlegend": false,
         "textposition": "auto",
         "type": "bar",
         "x": [
          "0.22"
         ],
         "xaxis": "x2",
         "y": [
          "Attending education/courses"
         ],
         "yaxis": "y2"
        },
        {
         "alignmentgroup": "True",
         "hovertemplate": "<b>%{hovertext}</b><br><br>motive=%{y}<br>year=2020<br>trips=%{x}<extra></extra>",
         "hovertext": [
          "0.14"
         ],
         "legendgroup": "Attending education/courses",
         "marker": {
          "color": "#00cc96",
          "pattern": {
           "shape": ""
          }
         },
         "name": "Attending education/courses",
         "offsetgroup": "Attending education/courses",
         "orientation": "h",
         "showlegend": false,
         "textposition": "auto",
         "type": "bar",
         "x": [
          "0.14"
         ],
         "xaxis": "x3",
         "y": [
          "Attending education/courses"
         ],
         "yaxis": "y3"
        },
        {
         "alignmentgroup": "True",
         "hovertemplate": "<b>%{hovertext}</b><br><br>motive=%{y}<br>year=2021<br>trips=%{x}<extra></extra>",
         "hovertext": [
          "0.14"
         ],
         "legendgroup": "Attending education/courses",
         "marker": {
          "color": "#00cc96",
          "pattern": {
           "shape": ""
          }
         },
         "name": "Attending education/courses",
         "offsetgroup": "Attending education/courses",
         "orientation": "h",
         "showlegend": false,
         "textposition": "auto",
         "type": "bar",
         "x": [
          "0.14"
         ],
         "xaxis": "x4",
         "y": [
          "Attending education/courses"
         ],
         "yaxis": "y4"
        },
        {
         "alignmentgroup": "True",
         "hovertemplate": "<b>%{hovertext}</b><br><br>motive=%{y}<br>year=2022<br>trips=%{x}<extra></extra>",
         "hovertext": [
          "0.18"
         ],
         "legendgroup": "Attending education/courses",
         "marker": {
          "color": "#00cc96",
          "pattern": {
           "shape": ""
          }
         },
         "name": "Attending education/courses",
         "offsetgroup": "Attending education/courses",
         "orientation": "h",
         "showlegend": false,
         "textposition": "auto",
         "type": "bar",
         "x": [
          "0.18"
         ],
         "xaxis": "x5",
         "y": [
          "Attending education/courses"
         ],
         "yaxis": "y5"
        },
        {
         "alignmentgroup": "True",
         "hovertemplate": "<b>%{hovertext}</b><br><br>motive=%{y}<br>year=2018<br>trips=%{x}<extra></extra>",
         "hovertext": [
          "0.55"
         ],
         "legendgroup": "Travel to/from work, (non)-daily commute",
         "marker": {
          "color": "#ab63fa",
          "pattern": {
           "shape": ""
          }
         },
         "name": "Travel to/from work, (non)-daily commute",
         "offsetgroup": "Travel to/from work, (non)-daily commute",
         "orientation": "h",
         "showlegend": true,
         "textposition": "auto",
         "type": "bar",
         "x": [
          "0.55"
         ],
         "xaxis": "x",
         "y": [
          "Travel to/from work, (non)-daily commute"
         ],
         "yaxis": "y"
        },
        {
         "alignmentgroup": "True",
         "hovertemplate": "<b>%{hovertext}</b><br><br>motive=%{y}<br>year=2019<br>trips=%{x}<extra></extra>",
         "hovertext": [
          "0.50"
         ],
         "legendgroup": "Travel to/from work, (non)-daily commute",
         "marker": {
          "color": "#ab63fa",
          "pattern": {
           "shape": ""
          }
         },
         "name": "Travel to/from work, (non)-daily commute",
         "offsetgroup": "Travel to/from work, (non)-daily commute",
         "orientation": "h",
         "showlegend": false,
         "textposition": "auto",
         "type": "bar",
         "x": [
          "0.50"
         ],
         "xaxis": "x2",
         "y": [
          "Travel to/from work, (non)-daily commute"
         ],
         "yaxis": "y2"
        },
        {
         "alignmentgroup": "True",
         "hovertemplate": "<b>%{hovertext}</b><br><br>motive=%{y}<br>year=2020<br>trips=%{x}<extra></extra>",
         "hovertext": [
          "0.37"
         ],
         "legendgroup": "Travel to/from work, (non)-daily commute",
         "marker": {
          "color": "#ab63fa",
          "pattern": {
           "shape": ""
          }
         },
         "name": "Travel to/from work, (non)-daily commute",
         "offsetgroup": "Travel to/from work, (non)-daily commute",
         "orientation": "h",
         "showlegend": false,
         "textposition": "auto",
         "type": "bar",
         "x": [
          "0.37"
         ],
         "xaxis": "x3",
         "y": [
          "Travel to/from work, (non)-daily commute"
         ],
         "yaxis": "y3"
        },
        {
         "alignmentgroup": "True",
         "hovertemplate": "<b>%{hovertext}</b><br><br>motive=%{y}<br>year=2021<br>trips=%{x}<extra></extra>",
         "hovertext": [
          "0.37"
         ],
         "legendgroup": "Travel to/from work, (non)-daily commute",
         "marker": {
          "color": "#ab63fa",
          "pattern": {
           "shape": ""
          }
         },
         "name": "Travel to/from work, (non)-daily commute",
         "offsetgroup": "Travel to/from work, (non)-daily commute",
         "orientation": "h",
         "showlegend": false,
         "textposition": "auto",
         "type": "bar",
         "x": [
          "0.37"
         ],
         "xaxis": "x4",
         "y": [
          "Travel to/from work, (non)-daily commute"
         ],
         "yaxis": "y4"
        },
        {
         "alignmentgroup": "True",
         "hovertemplate": "<b>%{hovertext}</b><br><br>motive=%{y}<br>year=2022<br>trips=%{x}<extra></extra>",
         "hovertext": [
          "0.42"
         ],
         "legendgroup": "Travel to/from work, (non)-daily commute",
         "marker": {
          "color": "#ab63fa",
          "pattern": {
           "shape": ""
          }
         },
         "name": "Travel to/from work, (non)-daily commute",
         "offsetgroup": "Travel to/from work, (non)-daily commute",
         "orientation": "h",
         "showlegend": false,
         "textposition": "auto",
         "type": "bar",
         "x": [
          "0.42"
         ],
         "xaxis": "x5",
         "y": [
          "Travel to/from work, (non)-daily commute"
         ],
         "yaxis": "y5"
        },
        {
         "alignmentgroup": "True",
         "hovertemplate": "<b>%{hovertext}</b><br><br>motive=%{y}<br>year=2018<br>trips=%{x}<extra></extra>",
         "hovertext": [
          "0.56"
         ],
         "legendgroup": "Shopping, groceries, funshopping.",
         "marker": {
          "color": "#FFA15A",
          "pattern": {
           "shape": ""
          }
         },
         "name": "Shopping, groceries, funshopping.",
         "offsetgroup": "Shopping, groceries, funshopping.",
         "orientation": "h",
         "showlegend": true,
         "textposition": "auto",
         "type": "bar",
         "x": [
          "0.56"
         ],
         "xaxis": "x",
         "y": [
          "Shopping, groceries, funshopping."
         ],
         "yaxis": "y"
        },
        {
         "alignmentgroup": "True",
         "hovertemplate": "<b>%{hovertext}</b><br><br>motive=%{y}<br>year=2019<br>trips=%{x}<extra></extra>",
         "hovertext": [
          "0.54"
         ],
         "legendgroup": "Shopping, groceries, funshopping.",
         "marker": {
          "color": "#FFA15A",
          "pattern": {
           "shape": ""
          }
         },
         "name": "Shopping, groceries, funshopping.",
         "offsetgroup": "Shopping, groceries, funshopping.",
         "orientation": "h",
         "showlegend": false,
         "textposition": "auto",
         "type": "bar",
         "x": [
          "0.54"
         ],
         "xaxis": "x2",
         "y": [
          "Shopping, groceries, funshopping."
         ],
         "yaxis": "y2"
        },
        {
         "alignmentgroup": "True",
         "hovertemplate": "<b>%{hovertext}</b><br><br>motive=%{y}<br>year=2020<br>trips=%{x}<extra></extra>",
         "hovertext": [
          "0.55"
         ],
         "legendgroup": "Shopping, groceries, funshopping.",
         "marker": {
          "color": "#FFA15A",
          "pattern": {
           "shape": ""
          }
         },
         "name": "Shopping, groceries, funshopping.",
         "offsetgroup": "Shopping, groceries, funshopping.",
         "orientation": "h",
         "showlegend": false,
         "textposition": "auto",
         "type": "bar",
         "x": [
          "0.55"
         ],
         "xaxis": "x3",
         "y": [
          "Shopping, groceries, funshopping."
         ],
         "yaxis": "y3"
        },
        {
         "alignmentgroup": "True",
         "hovertemplate": "<b>%{hovertext}</b><br><br>motive=%{y}<br>year=2021<br>trips=%{x}<extra></extra>",
         "hovertext": [
          "0.56"
         ],
         "legendgroup": "Shopping, groceries, funshopping.",
         "marker": {
          "color": "#FFA15A",
          "pattern": {
           "shape": ""
          }
         },
         "name": "Shopping, groceries, funshopping.",
         "offsetgroup": "Shopping, groceries, funshopping.",
         "orientation": "h",
         "showlegend": false,
         "textposition": "auto",
         "type": "bar",
         "x": [
          "0.56"
         ],
         "xaxis": "x4",
         "y": [
          "Shopping, groceries, funshopping."
         ],
         "yaxis": "y4"
        },
        {
         "alignmentgroup": "True",
         "hovertemplate": "<b>%{hovertext}</b><br><br>motive=%{y}<br>year=2022<br>trips=%{x}<extra></extra>",
         "hovertext": [
          "0.58"
         ],
         "legendgroup": "Shopping, groceries, funshopping.",
         "marker": {
          "color": "#FFA15A",
          "pattern": {
           "shape": ""
          }
         },
         "name": "Shopping, groceries, funshopping.",
         "offsetgroup": "Shopping, groceries, funshopping.",
         "orientation": "h",
         "showlegend": false,
         "textposition": "auto",
         "type": "bar",
         "x": [
          "0.58"
         ],
         "xaxis": "x5",
         "y": [
          "Shopping, groceries, funshopping."
         ],
         "yaxis": "y5"
        },
        {
         "alignmentgroup": "True",
         "hovertemplate": "<b>%{hovertext}</b><br><br>motive=%{y}<br>year=2018<br>trips=%{x}<extra></extra>",
         "hovertext": [
          "2.78"
         ],
         "legendgroup": "Total",
         "marker": {
          "color": "#19d3f3",
          "pattern": {
           "shape": ""
          }
         },
         "name": "Total",
         "offsetgroup": "Total",
         "orientation": "h",
         "showlegend": true,
         "textposition": "auto",
         "type": "bar",
         "x": [
          "2.78"
         ],
         "xaxis": "x",
         "y": [
          "Total"
         ],
         "yaxis": "y"
        },
        {
         "alignmentgroup": "True",
         "hovertemplate": "<b>%{hovertext}</b><br><br>motive=%{y}<br>year=2019<br>trips=%{x}<extra></extra>",
         "hovertext": [
          "2.71"
         ],
         "legendgroup": "Total",
         "marker": {
          "color": "#19d3f3",
          "pattern": {
           "shape": ""
          }
         },
         "name": "Total",
         "offsetgroup": "Total",
         "orientation": "h",
         "showlegend": false,
         "textposition": "auto",
         "type": "bar",
         "x": [
          "2.71"
         ],
         "xaxis": "x2",
         "y": [
          "Total"
         ],
         "yaxis": "y2"
        },
        {
         "alignmentgroup": "True",
         "hovertemplate": "<b>%{hovertext}</b><br><br>motive=%{y}<br>year=2020<br>trips=%{x}<extra></extra>",
         "hovertext": [
          "2.35"
         ],
         "legendgroup": "Total",
         "marker": {
          "color": "#19d3f3",
          "pattern": {
           "shape": ""
          }
         },
         "name": "Total",
         "offsetgroup": "Total",
         "orientation": "h",
         "showlegend": false,
         "textposition": "auto",
         "type": "bar",
         "x": [
          "2.35"
         ],
         "xaxis": "x3",
         "y": [
          "Total"
         ],
         "yaxis": "y3"
        },
        {
         "alignmentgroup": "True",
         "hovertemplate": "<b>%{hovertext}</b><br><br>motive=%{y}<br>year=2021<br>trips=%{x}<extra></extra>",
         "hovertext": [
          "2.51"
         ],
         "legendgroup": "Total",
         "marker": {
          "color": "#19d3f3",
          "pattern": {
           "shape": ""
          }
         },
         "name": "Total",
         "offsetgroup": "Total",
         "orientation": "h",
         "showlegend": false,
         "textposition": "auto",
         "type": "bar",
         "x": [
          "2.51"
         ],
         "xaxis": "x4",
         "y": [
          "Total"
         ],
         "yaxis": "y4"
        },
        {
         "alignmentgroup": "True",
         "hovertemplate": "<b>%{hovertext}</b><br><br>motive=%{y}<br>year=2022<br>trips=%{x}<extra></extra>",
         "hovertext": [
          "2.70"
         ],
         "legendgroup": "Total",
         "marker": {
          "color": "#19d3f3",
          "pattern": {
           "shape": ""
          }
         },
         "name": "Total",
         "offsetgroup": "Total",
         "orientation": "h",
         "showlegend": false,
         "textposition": "auto",
         "type": "bar",
         "x": [
          "2.70"
         ],
         "xaxis": "x5",
         "y": [
          "Total"
         ],
         "yaxis": "y5"
        }
       ],
       "layout": {
        "annotations": [
         {
          "font": {},
          "showarrow": false,
          "text": "year=2018",
          "x": 0.09200000000000001,
          "xanchor": "center",
          "xref": "paper",
          "y": 1,
          "yanchor": "bottom",
          "yref": "paper"
         },
         {
          "font": {},
          "showarrow": false,
          "text": "year=2019",
          "x": 0.29600000000000004,
          "xanchor": "center",
          "xref": "paper",
          "y": 1,
          "yanchor": "bottom",
          "yref": "paper"
         },
         {
          "font": {},
          "showarrow": false,
          "text": "year=2020",
          "x": 0.5,
          "xanchor": "center",
          "xref": "paper",
          "y": 1,
          "yanchor": "bottom",
          "yref": "paper"
         },
         {
          "font": {},
          "showarrow": false,
          "text": "year=2021",
          "x": 0.7040000000000002,
          "xanchor": "center",
          "xref": "paper",
          "y": 1,
          "yanchor": "bottom",
          "yref": "paper"
         },
         {
          "font": {},
          "showarrow": false,
          "text": "year=2022",
          "x": 0.908,
          "xanchor": "center",
          "xref": "paper",
          "y": 1,
          "yanchor": "bottom",
          "yref": "paper"
         }
        ],
        "barmode": "relative",
        "height": 400,
        "legend": {
         "title": {
          "text": "motive"
         },
         "tracegroupgap": 0
        },
        "margin": {
         "t": 60
        },
        "template": {
         "data": {
          "bar": [
           {
            "error_x": {
             "color": "#2a3f5f"
            },
            "error_y": {
             "color": "#2a3f5f"
            },
            "marker": {
             "line": {
              "color": "#E5ECF6",
              "width": 0.5
             },
             "pattern": {
              "fillmode": "overlay",
              "size": 10,
              "solidity": 0.2
             }
            },
            "type": "bar"
           }
          ],
          "barpolar": [
           {
            "marker": {
             "line": {
              "color": "#E5ECF6",
              "width": 0.5
             },
             "pattern": {
              "fillmode": "overlay",
              "size": 10,
              "solidity": 0.2
             }
            },
            "type": "barpolar"
           }
          ],
          "carpet": [
           {
            "aaxis": {
             "endlinecolor": "#2a3f5f",
             "gridcolor": "white",
             "linecolor": "white",
             "minorgridcolor": "white",
             "startlinecolor": "#2a3f5f"
            },
            "baxis": {
             "endlinecolor": "#2a3f5f",
             "gridcolor": "white",
             "linecolor": "white",
             "minorgridcolor": "white",
             "startlinecolor": "#2a3f5f"
            },
            "type": "carpet"
           }
          ],
          "choropleth": [
           {
            "colorbar": {
             "outlinewidth": 0,
             "ticks": ""
            },
            "type": "choropleth"
           }
          ],
          "contour": [
           {
            "colorbar": {
             "outlinewidth": 0,
             "ticks": ""
            },
            "colorscale": [
             [
              0,
              "#0d0887"
             ],
             [
              0.1111111111111111,
              "#46039f"
             ],
             [
              0.2222222222222222,
              "#7201a8"
             ],
             [
              0.3333333333333333,
              "#9c179e"
             ],
             [
              0.4444444444444444,
              "#bd3786"
             ],
             [
              0.5555555555555556,
              "#d8576b"
             ],
             [
              0.6666666666666666,
              "#ed7953"
             ],
             [
              0.7777777777777778,
              "#fb9f3a"
             ],
             [
              0.8888888888888888,
              "#fdca26"
             ],
             [
              1,
              "#f0f921"
             ]
            ],
            "type": "contour"
           }
          ],
          "contourcarpet": [
           {
            "colorbar": {
             "outlinewidth": 0,
             "ticks": ""
            },
            "type": "contourcarpet"
           }
          ],
          "heatmap": [
           {
            "colorbar": {
             "outlinewidth": 0,
             "ticks": ""
            },
            "colorscale": [
             [
              0,
              "#0d0887"
             ],
             [
              0.1111111111111111,
              "#46039f"
             ],
             [
              0.2222222222222222,
              "#7201a8"
             ],
             [
              0.3333333333333333,
              "#9c179e"
             ],
             [
              0.4444444444444444,
              "#bd3786"
             ],
             [
              0.5555555555555556,
              "#d8576b"
             ],
             [
              0.6666666666666666,
              "#ed7953"
             ],
             [
              0.7777777777777778,
              "#fb9f3a"
             ],
             [
              0.8888888888888888,
              "#fdca26"
             ],
             [
              1,
              "#f0f921"
             ]
            ],
            "type": "heatmap"
           }
          ],
          "heatmapgl": [
           {
            "colorbar": {
             "outlinewidth": 0,
             "ticks": ""
            },
            "colorscale": [
             [
              0,
              "#0d0887"
             ],
             [
              0.1111111111111111,
              "#46039f"
             ],
             [
              0.2222222222222222,
              "#7201a8"
             ],
             [
              0.3333333333333333,
              "#9c179e"
             ],
             [
              0.4444444444444444,
              "#bd3786"
             ],
             [
              0.5555555555555556,
              "#d8576b"
             ],
             [
              0.6666666666666666,
              "#ed7953"
             ],
             [
              0.7777777777777778,
              "#fb9f3a"
             ],
             [
              0.8888888888888888,
              "#fdca26"
             ],
             [
              1,
              "#f0f921"
             ]
            ],
            "type": "heatmapgl"
           }
          ],
          "histogram": [
           {
            "marker": {
             "pattern": {
              "fillmode": "overlay",
              "size": 10,
              "solidity": 0.2
             }
            },
            "type": "histogram"
           }
          ],
          "histogram2d": [
           {
            "colorbar": {
             "outlinewidth": 0,
             "ticks": ""
            },
            "colorscale": [
             [
              0,
              "#0d0887"
             ],
             [
              0.1111111111111111,
              "#46039f"
             ],
             [
              0.2222222222222222,
              "#7201a8"
             ],
             [
              0.3333333333333333,
              "#9c179e"
             ],
             [
              0.4444444444444444,
              "#bd3786"
             ],
             [
              0.5555555555555556,
              "#d8576b"
             ],
             [
              0.6666666666666666,
              "#ed7953"
             ],
             [
              0.7777777777777778,
              "#fb9f3a"
             ],
             [
              0.8888888888888888,
              "#fdca26"
             ],
             [
              1,
              "#f0f921"
             ]
            ],
            "type": "histogram2d"
           }
          ],
          "histogram2dcontour": [
           {
            "colorbar": {
             "outlinewidth": 0,
             "ticks": ""
            },
            "colorscale": [
             [
              0,
              "#0d0887"
             ],
             [
              0.1111111111111111,
              "#46039f"
             ],
             [
              0.2222222222222222,
              "#7201a8"
             ],
             [
              0.3333333333333333,
              "#9c179e"
             ],
             [
              0.4444444444444444,
              "#bd3786"
             ],
             [
              0.5555555555555556,
              "#d8576b"
             ],
             [
              0.6666666666666666,
              "#ed7953"
             ],
             [
              0.7777777777777778,
              "#fb9f3a"
             ],
             [
              0.8888888888888888,
              "#fdca26"
             ],
             [
              1,
              "#f0f921"
             ]
            ],
            "type": "histogram2dcontour"
           }
          ],
          "mesh3d": [
           {
            "colorbar": {
             "outlinewidth": 0,
             "ticks": ""
            },
            "type": "mesh3d"
           }
          ],
          "parcoords": [
           {
            "line": {
             "colorbar": {
              "outlinewidth": 0,
              "ticks": ""
             }
            },
            "type": "parcoords"
           }
          ],
          "pie": [
           {
            "automargin": true,
            "type": "pie"
           }
          ],
          "scatter": [
           {
            "fillpattern": {
             "fillmode": "overlay",
             "size": 10,
             "solidity": 0.2
            },
            "type": "scatter"
           }
          ],
          "scatter3d": [
           {
            "line": {
             "colorbar": {
              "outlinewidth": 0,
              "ticks": ""
             }
            },
            "marker": {
             "colorbar": {
              "outlinewidth": 0,
              "ticks": ""
             }
            },
            "type": "scatter3d"
           }
          ],
          "scattercarpet": [
           {
            "marker": {
             "colorbar": {
              "outlinewidth": 0,
              "ticks": ""
             }
            },
            "type": "scattercarpet"
           }
          ],
          "scattergeo": [
           {
            "marker": {
             "colorbar": {
              "outlinewidth": 0,
              "ticks": ""
             }
            },
            "type": "scattergeo"
           }
          ],
          "scattergl": [
           {
            "marker": {
             "colorbar": {
              "outlinewidth": 0,
              "ticks": ""
             }
            },
            "type": "scattergl"
           }
          ],
          "scattermapbox": [
           {
            "marker": {
             "colorbar": {
              "outlinewidth": 0,
              "ticks": ""
             }
            },
            "type": "scattermapbox"
           }
          ],
          "scatterpolar": [
           {
            "marker": {
             "colorbar": {
              "outlinewidth": 0,
              "ticks": ""
             }
            },
            "type": "scatterpolar"
           }
          ],
          "scatterpolargl": [
           {
            "marker": {
             "colorbar": {
              "outlinewidth": 0,
              "ticks": ""
             }
            },
            "type": "scatterpolargl"
           }
          ],
          "scatterternary": [
           {
            "marker": {
             "colorbar": {
              "outlinewidth": 0,
              "ticks": ""
             }
            },
            "type": "scatterternary"
           }
          ],
          "surface": [
           {
            "colorbar": {
             "outlinewidth": 0,
             "ticks": ""
            },
            "colorscale": [
             [
              0,
              "#0d0887"
             ],
             [
              0.1111111111111111,
              "#46039f"
             ],
             [
              0.2222222222222222,
              "#7201a8"
             ],
             [
              0.3333333333333333,
              "#9c179e"
             ],
             [
              0.4444444444444444,
              "#bd3786"
             ],
             [
              0.5555555555555556,
              "#d8576b"
             ],
             [
              0.6666666666666666,
              "#ed7953"
             ],
             [
              0.7777777777777778,
              "#fb9f3a"
             ],
             [
              0.8888888888888888,
              "#fdca26"
             ],
             [
              1,
              "#f0f921"
             ]
            ],
            "type": "surface"
           }
          ],
          "table": [
           {
            "cells": {
             "fill": {
              "color": "#EBF0F8"
             },
             "line": {
              "color": "white"
             }
            },
            "header": {
             "fill": {
              "color": "#C8D4E3"
             },
             "line": {
              "color": "white"
             }
            },
            "type": "table"
           }
          ]
         },
         "layout": {
          "annotationdefaults": {
           "arrowcolor": "#2a3f5f",
           "arrowhead": 0,
           "arrowwidth": 1
          },
          "autotypenumbers": "strict",
          "coloraxis": {
           "colorbar": {
            "outlinewidth": 0,
            "ticks": ""
           }
          },
          "colorscale": {
           "diverging": [
            [
             0,
             "#8e0152"
            ],
            [
             0.1,
             "#c51b7d"
            ],
            [
             0.2,
             "#de77ae"
            ],
            [
             0.3,
             "#f1b6da"
            ],
            [
             0.4,
             "#fde0ef"
            ],
            [
             0.5,
             "#f7f7f7"
            ],
            [
             0.6,
             "#e6f5d0"
            ],
            [
             0.7,
             "#b8e186"
            ],
            [
             0.8,
             "#7fbc41"
            ],
            [
             0.9,
             "#4d9221"
            ],
            [
             1,
             "#276419"
            ]
           ],
           "sequential": [
            [
             0,
             "#0d0887"
            ],
            [
             0.1111111111111111,
             "#46039f"
            ],
            [
             0.2222222222222222,
             "#7201a8"
            ],
            [
             0.3333333333333333,
             "#9c179e"
            ],
            [
             0.4444444444444444,
             "#bd3786"
            ],
            [
             0.5555555555555556,
             "#d8576b"
            ],
            [
             0.6666666666666666,
             "#ed7953"
            ],
            [
             0.7777777777777778,
             "#fb9f3a"
            ],
            [
             0.8888888888888888,
             "#fdca26"
            ],
            [
             1,
             "#f0f921"
            ]
           ],
           "sequentialminus": [
            [
             0,
             "#0d0887"
            ],
            [
             0.1111111111111111,
             "#46039f"
            ],
            [
             0.2222222222222222,
             "#7201a8"
            ],
            [
             0.3333333333333333,
             "#9c179e"
            ],
            [
             0.4444444444444444,
             "#bd3786"
            ],
            [
             0.5555555555555556,
             "#d8576b"
            ],
            [
             0.6666666666666666,
             "#ed7953"
            ],
            [
             0.7777777777777778,
             "#fb9f3a"
            ],
            [
             0.8888888888888888,
             "#fdca26"
            ],
            [
             1,
             "#f0f921"
            ]
           ]
          },
          "colorway": [
           "#636efa",
           "#EF553B",
           "#00cc96",
           "#ab63fa",
           "#FFA15A",
           "#19d3f3",
           "#FF6692",
           "#B6E880",
           "#FF97FF",
           "#FECB52"
          ],
          "font": {
           "color": "#2a3f5f"
          },
          "geo": {
           "bgcolor": "white",
           "lakecolor": "white",
           "landcolor": "#E5ECF6",
           "showlakes": true,
           "showland": true,
           "subunitcolor": "white"
          },
          "hoverlabel": {
           "align": "left"
          },
          "hovermode": "closest",
          "mapbox": {
           "style": "light"
          },
          "paper_bgcolor": "white",
          "plot_bgcolor": "#E5ECF6",
          "polar": {
           "angularaxis": {
            "gridcolor": "white",
            "linecolor": "white",
            "ticks": ""
           },
           "bgcolor": "#E5ECF6",
           "radialaxis": {
            "gridcolor": "white",
            "linecolor": "white",
            "ticks": ""
           }
          },
          "scene": {
           "xaxis": {
            "backgroundcolor": "#E5ECF6",
            "gridcolor": "white",
            "gridwidth": 2,
            "linecolor": "white",
            "showbackground": true,
            "ticks": "",
            "zerolinecolor": "white"
           },
           "yaxis": {
            "backgroundcolor": "#E5ECF6",
            "gridcolor": "white",
            "gridwidth": 2,
            "linecolor": "white",
            "showbackground": true,
            "ticks": "",
            "zerolinecolor": "white"
           },
           "zaxis": {
            "backgroundcolor": "#E5ECF6",
            "gridcolor": "white",
            "gridwidth": 2,
            "linecolor": "white",
            "showbackground": true,
            "ticks": "",
            "zerolinecolor": "white"
           }
          },
          "shapedefaults": {
           "line": {
            "color": "#2a3f5f"
           }
          },
          "ternary": {
           "aaxis": {
            "gridcolor": "white",
            "linecolor": "white",
            "ticks": ""
           },
           "baxis": {
            "gridcolor": "white",
            "linecolor": "white",
            "ticks": ""
           },
           "bgcolor": "#E5ECF6",
           "caxis": {
            "gridcolor": "white",
            "linecolor": "white",
            "ticks": ""
           }
          },
          "title": {
           "x": 0.05
          },
          "xaxis": {
           "automargin": true,
           "gridcolor": "white",
           "linecolor": "white",
           "ticks": "",
           "title": {
            "standoff": 15
           },
           "zerolinecolor": "white",
           "zerolinewidth": 2
          },
          "yaxis": {
           "automargin": true,
           "gridcolor": "white",
           "linecolor": "white",
           "ticks": "",
           "title": {
            "standoff": 15
           },
           "zerolinecolor": "white",
           "zerolinewidth": 2
          }
         }
        },
        "title": {
         "text": "Average amount of trips for every vehicle combined per day from 2018 to 2022",
         "x": 0.5
        },
        "width": 1100,
        "xaxis": {
         "anchor": "y",
         "autorange": true,
         "domain": [
          0,
          0.18400000000000002
         ],
         "range": [
          -1.0555555555555554,
          20.055555555555557
         ],
         "title": {
          "text": "trips"
         },
         "type": "category"
        },
        "xaxis2": {
         "anchor": "y2",
         "autorange": true,
         "domain": [
          0.20400000000000001,
          0.388
         ],
         "matches": "x",
         "range": [
          -1.0555555555555554,
          20.055555555555557
         ],
         "title": {
          "text": "trips"
         },
         "type": "category"
        },
        "xaxis3": {
         "anchor": "y3",
         "autorange": true,
         "domain": [
          0.40800000000000003,
          0.5920000000000001
         ],
         "matches": "x",
         "range": [
          -1.0555555555555554,
          20.055555555555557
         ],
         "title": {
          "text": "trips"
         },
         "type": "category"
        },
        "xaxis4": {
         "anchor": "y4",
         "autorange": true,
         "domain": [
          0.6120000000000001,
          0.7960000000000002
         ],
         "matches": "x",
         "range": [
          -1.0555555555555554,
          20.055555555555557
         ],
         "title": {
          "text": "trips"
         },
         "type": "category"
        },
        "xaxis5": {
         "anchor": "y5",
         "autorange": true,
         "domain": [
          0.8160000000000001,
          1
         ],
         "matches": "x",
         "range": [
          -1.0555555555555554,
          20.055555555555557
         ],
         "title": {
          "text": "trips"
         },
         "type": "category"
        },
        "yaxis": {
         "anchor": "x",
         "autorange": true,
         "categoryarray": [
          "Total",
          "Shopping, groceries, funshopping.",
          "Travel to/from work, (non)-daily commute",
          "Attending education/courses",
          "Services/care",
          "Professionally"
         ],
         "categoryorder": "array",
         "domain": [
          0,
          1
         ],
         "range": [
          -0.5,
          5.5
         ],
         "title": {
          "text": "Travel motives"
         },
         "type": "category"
        },
        "yaxis2": {
         "anchor": "x2",
         "autorange": true,
         "domain": [
          0,
          1
         ],
         "matches": "y",
         "range": [
          -0.5,
          5.5
         ],
         "showticklabels": false,
         "title": {
          "text": "Travel motives"
         },
         "type": "category"
        },
        "yaxis3": {
         "anchor": "x3",
         "autorange": true,
         "domain": [
          0,
          1
         ],
         "matches": "y",
         "range": [
          -0.5,
          5.5
         ],
         "showticklabels": false,
         "title": {
          "text": "Travel motives"
         },
         "type": "category"
        },
        "yaxis4": {
         "anchor": "x4",
         "autorange": true,
         "domain": [
          0,
          1
         ],
         "matches": "y",
         "range": [
          -0.5,
          5.5
         ],
         "showticklabels": false,
         "title": {
          "text": "Travel motives"
         },
         "type": "category"
        },
        "yaxis5": {
         "anchor": "x5",
         "autorange": true,
         "domain": [
          0,
          1
         ],
         "matches": "y",
         "range": [
          -0.5,
          5.5
         ],
         "showticklabels": false,
         "title": {
          "text": "Travel motives"
         },
         "type": "category"
        }
       }
      },
      "image/png": "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",
      "text/html": [
       "<div>                            <div id=\"6077f912-7674-4d84-9c05-46d7a58c6a70\" class=\"plotly-graph-div\" style=\"height:400px; width:1100px;\"></div>            <script type=\"text/javascript\">                require([\"plotly\"], function(Plotly) {                    window.PLOTLYENV=window.PLOTLYENV || {};                                    if (document.getElementById(\"6077f912-7674-4d84-9c05-46d7a58c6a70\")) {                    Plotly.newPlot(                        \"6077f912-7674-4d84-9c05-46d7a58c6a70\",                        [{\"alignmentgroup\":\"True\",\"hovertemplate\":\"<b>%{hovertext}</b><br><br>motive=%{y}<br>year=2018<br>trips=%{x}<extra></extra>\",\"hovertext\":[\"0.07\"],\"legendgroup\":\"Professionally\",\"marker\":{\"color\":\"#636efa\",\"pattern\":{\"shape\":\"\"}},\"name\":\"Professionally\",\"offsetgroup\":\"Professionally\",\"orientation\":\"h\",\"showlegend\":true,\"textposition\":\"auto\",\"x\":[\"0.07\"],\"xaxis\":\"x\",\"y\":[\"Professionally\"],\"yaxis\":\"y\",\"type\":\"bar\"},{\"alignmentgroup\":\"True\",\"hovertemplate\":\"<b>%{hovertext}</b><br><br>motive=%{y}<br>year=2019<br>trips=%{x}<extra></extra>\",\"hovertext\":[\"0.11\"],\"legendgroup\":\"Professionally\",\"marker\":{\"color\":\"#636efa\",\"pattern\":{\"shape\":\"\"}},\"name\":\"Professionally\",\"offsetgroup\":\"Professionally\",\"orientation\":\"h\",\"showlegend\":false,\"textposition\":\"auto\",\"x\":[\"0.11\"],\"xaxis\":\"x2\",\"y\":[\"Professionally\"],\"yaxis\":\"y2\",\"type\":\"bar\"},{\"alignmentgroup\":\"True\",\"hovertemplate\":\"<b>%{hovertext}</b><br><br>motive=%{y}<br>year=2020<br>trips=%{x}<extra></extra>\",\"hovertext\":[\"0.07\"],\"legendgroup\":\"Professionally\",\"marker\":{\"color\":\"#636efa\",\"pattern\":{\"shape\":\"\"}},\"name\":\"Professionally\",\"offsetgroup\":\"Professionally\",\"orientation\":\"h\",\"showlegend\":false,\"textposition\":\"auto\",\"x\":[\"0.07\"],\"xaxis\":\"x3\",\"y\":[\"Professionally\"],\"yaxis\":\"y3\",\"type\":\"bar\"},{\"alignmentgroup\":\"True\",\"hovertemplate\":\"<b>%{hovertext}</b><br><br>motive=%{y}<br>year=2021<br>trips=%{x}<extra></extra>\",\"hovertext\":[\"0.08\"],\"legendgroup\":\"Professionally\",\"marker\":{\"color\":\"#636efa\",\"pattern\":{\"shape\":\"\"}},\"name\":\"Professionally\",\"offsetgroup\":\"Professionally\",\"orientation\":\"h\",\"showlegend\":false,\"textposition\":\"auto\",\"x\":[\"0.08\"],\"xaxis\":\"x4\",\"y\":[\"Professionally\"],\"yaxis\":\"y4\",\"type\":\"bar\"},{\"alignmentgroup\":\"True\",\"hovertemplate\":\"<b>%{hovertext}</b><br><br>motive=%{y}<br>year=2022<br>trips=%{x}<extra></extra>\",\"hovertext\":[\"0.08\"],\"legendgroup\":\"Professionally\",\"marker\":{\"color\":\"#636efa\",\"pattern\":{\"shape\":\"\"}},\"name\":\"Professionally\",\"offsetgroup\":\"Professionally\",\"orientation\":\"h\",\"showlegend\":false,\"textposition\":\"auto\",\"x\":[\"0.08\"],\"xaxis\":\"x5\",\"y\":[\"Professionally\"],\"yaxis\":\"y5\",\"type\":\"bar\"},{\"alignmentgroup\":\"True\",\"hovertemplate\":\"<b>%{hovertext}</b><br><br>motive=%{y}<br>year=2018<br>trips=%{x}<extra></extra>\",\"hovertext\":[\"0.09\"],\"legendgroup\":\"Services/care\",\"marker\":{\"color\":\"#EF553B\",\"pattern\":{\"shape\":\"\"}},\"name\":\"Services/care\",\"offsetgroup\":\"Services/care\",\"orientation\":\"h\",\"showlegend\":true,\"textposition\":\"auto\",\"x\":[\"0.09\"],\"xaxis\":\"x\",\"y\":[\"Services/care\"],\"yaxis\":\"y\",\"type\":\"bar\"},{\"alignmentgroup\":\"True\",\"hovertemplate\":\"<b>%{hovertext}</b><br><br>motive=%{y}<br>year=2019<br>trips=%{x}<extra></extra>\",\"hovertext\":[\"0.09\"],\"legendgroup\":\"Services/care\",\"marker\":{\"color\":\"#EF553B\",\"pattern\":{\"shape\":\"\"}},\"name\":\"Services/care\",\"offsetgroup\":\"Services/care\",\"orientation\":\"h\",\"showlegend\":false,\"textposition\":\"auto\",\"x\":[\"0.09\"],\"xaxis\":\"x2\",\"y\":[\"Services/care\"],\"yaxis\":\"y2\",\"type\":\"bar\"},{\"alignmentgroup\":\"True\",\"hovertemplate\":\"<b>%{hovertext}</b><br><br>motive=%{y}<br>year=2020<br>trips=%{x}<extra></extra>\",\"hovertext\":[\"0.07\"],\"legendgroup\":\"Services/care\",\"marker\":{\"color\":\"#EF553B\",\"pattern\":{\"shape\":\"\"}},\"name\":\"Services/care\",\"offsetgroup\":\"Services/care\",\"orientation\":\"h\",\"showlegend\":false,\"textposition\":\"auto\",\"x\":[\"0.07\"],\"xaxis\":\"x3\",\"y\":[\"Services/care\"],\"yaxis\":\"y3\",\"type\":\"bar\"},{\"alignmentgroup\":\"True\",\"hovertemplate\":\"<b>%{hovertext}</b><br><br>motive=%{y}<br>year=2021<br>trips=%{x}<extra></extra>\",\"hovertext\":[\"0.09\"],\"legendgroup\":\"Services/care\",\"marker\":{\"color\":\"#EF553B\",\"pattern\":{\"shape\":\"\"}},\"name\":\"Services/care\",\"offsetgroup\":\"Services/care\",\"orientation\":\"h\",\"showlegend\":false,\"textposition\":\"auto\",\"x\":[\"0.09\"],\"xaxis\":\"x4\",\"y\":[\"Services/care\"],\"yaxis\":\"y4\",\"type\":\"bar\"},{\"alignmentgroup\":\"True\",\"hovertemplate\":\"<b>%{hovertext}</b><br><br>motive=%{y}<br>year=2022<br>trips=%{x}<extra></extra>\",\"hovertext\":[\"0.09\"],\"legendgroup\":\"Services/care\",\"marker\":{\"color\":\"#EF553B\",\"pattern\":{\"shape\":\"\"}},\"name\":\"Services/care\",\"offsetgroup\":\"Services/care\",\"orientation\":\"h\",\"showlegend\":false,\"textposition\":\"auto\",\"x\":[\"0.09\"],\"xaxis\":\"x5\",\"y\":[\"Services/care\"],\"yaxis\":\"y5\",\"type\":\"bar\"},{\"alignmentgroup\":\"True\",\"hovertemplate\":\"<b>%{hovertext}</b><br><br>motive=%{y}<br>year=2018<br>trips=%{x}<extra></extra>\",\"hovertext\":[\"0.23\"],\"legendgroup\":\"Attending education/courses\",\"marker\":{\"color\":\"#00cc96\",\"pattern\":{\"shape\":\"\"}},\"name\":\"Attending education/courses\",\"offsetgroup\":\"Attending education/courses\",\"orientation\":\"h\",\"showlegend\":true,\"textposition\":\"auto\",\"x\":[\"0.23\"],\"xaxis\":\"x\",\"y\":[\"Attending education/courses\"],\"yaxis\":\"y\",\"type\":\"bar\"},{\"alignmentgroup\":\"True\",\"hovertemplate\":\"<b>%{hovertext}</b><br><br>motive=%{y}<br>year=2019<br>trips=%{x}<extra></extra>\",\"hovertext\":[\"0.22\"],\"legendgroup\":\"Attending education/courses\",\"marker\":{\"color\":\"#00cc96\",\"pattern\":{\"shape\":\"\"}},\"name\":\"Attending education/courses\",\"offsetgroup\":\"Attending education/courses\",\"orientation\":\"h\",\"showlegend\":false,\"textposition\":\"auto\",\"x\":[\"0.22\"],\"xaxis\":\"x2\",\"y\":[\"Attending education/courses\"],\"yaxis\":\"y2\",\"type\":\"bar\"},{\"alignmentgroup\":\"True\",\"hovertemplate\":\"<b>%{hovertext}</b><br><br>motive=%{y}<br>year=2020<br>trips=%{x}<extra></extra>\",\"hovertext\":[\"0.14\"],\"legendgroup\":\"Attending education/courses\",\"marker\":{\"color\":\"#00cc96\",\"pattern\":{\"shape\":\"\"}},\"name\":\"Attending education/courses\",\"offsetgroup\":\"Attending education/courses\",\"orientation\":\"h\",\"showlegend\":false,\"textposition\":\"auto\",\"x\":[\"0.14\"],\"xaxis\":\"x3\",\"y\":[\"Attending education/courses\"],\"yaxis\":\"y3\",\"type\":\"bar\"},{\"alignmentgroup\":\"True\",\"hovertemplate\":\"<b>%{hovertext}</b><br><br>motive=%{y}<br>year=2021<br>trips=%{x}<extra></extra>\",\"hovertext\":[\"0.14\"],\"legendgroup\":\"Attending education/courses\",\"marker\":{\"color\":\"#00cc96\",\"pattern\":{\"shape\":\"\"}},\"name\":\"Attending education/courses\",\"offsetgroup\":\"Attending education/courses\",\"orientation\":\"h\",\"showlegend\":false,\"textposition\":\"auto\",\"x\":[\"0.14\"],\"xaxis\":\"x4\",\"y\":[\"Attending education/courses\"],\"yaxis\":\"y4\",\"type\":\"bar\"},{\"alignmentgroup\":\"True\",\"hovertemplate\":\"<b>%{hovertext}</b><br><br>motive=%{y}<br>year=2022<br>trips=%{x}<extra></extra>\",\"hovertext\":[\"0.18\"],\"legendgroup\":\"Attending education/courses\",\"marker\":{\"color\":\"#00cc96\",\"pattern\":{\"shape\":\"\"}},\"name\":\"Attending education/courses\",\"offsetgroup\":\"Attending education/courses\",\"orientation\":\"h\",\"showlegend\":false,\"textposition\":\"auto\",\"x\":[\"0.18\"],\"xaxis\":\"x5\",\"y\":[\"Attending education/courses\"],\"yaxis\":\"y5\",\"type\":\"bar\"},{\"alignmentgroup\":\"True\",\"hovertemplate\":\"<b>%{hovertext}</b><br><br>motive=%{y}<br>year=2018<br>trips=%{x}<extra></extra>\",\"hovertext\":[\"0.55\"],\"legendgroup\":\"Travel to/from work, (non)-daily commute\",\"marker\":{\"color\":\"#ab63fa\",\"pattern\":{\"shape\":\"\"}},\"name\":\"Travel to/from work, (non)-daily commute\",\"offsetgroup\":\"Travel to/from work, (non)-daily commute\",\"orientation\":\"h\",\"showlegend\":true,\"textposition\":\"auto\",\"x\":[\"0.55\"],\"xaxis\":\"x\",\"y\":[\"Travel to/from work, (non)-daily commute\"],\"yaxis\":\"y\",\"type\":\"bar\"},{\"alignmentgroup\":\"True\",\"hovertemplate\":\"<b>%{hovertext}</b><br><br>motive=%{y}<br>year=2019<br>trips=%{x}<extra></extra>\",\"hovertext\":[\"0.50\"],\"legendgroup\":\"Travel to/from work, (non)-daily commute\",\"marker\":{\"color\":\"#ab63fa\",\"pattern\":{\"shape\":\"\"}},\"name\":\"Travel to/from work, (non)-daily commute\",\"offsetgroup\":\"Travel to/from work, (non)-daily commute\",\"orientation\":\"h\",\"showlegend\":false,\"textposition\":\"auto\",\"x\":[\"0.50\"],\"xaxis\":\"x2\",\"y\":[\"Travel to/from work, (non)-daily commute\"],\"yaxis\":\"y2\",\"type\":\"bar\"},{\"alignmentgroup\":\"True\",\"hovertemplate\":\"<b>%{hovertext}</b><br><br>motive=%{y}<br>year=2020<br>trips=%{x}<extra></extra>\",\"hovertext\":[\"0.37\"],\"legendgroup\":\"Travel to/from work, (non)-daily commute\",\"marker\":{\"color\":\"#ab63fa\",\"pattern\":{\"shape\":\"\"}},\"name\":\"Travel to/from work, (non)-daily commute\",\"offsetgroup\":\"Travel to/from work, (non)-daily commute\",\"orientation\":\"h\",\"showlegend\":false,\"textposition\":\"auto\",\"x\":[\"0.37\"],\"xaxis\":\"x3\",\"y\":[\"Travel to/from work, (non)-daily commute\"],\"yaxis\":\"y3\",\"type\":\"bar\"},{\"alignmentgroup\":\"True\",\"hovertemplate\":\"<b>%{hovertext}</b><br><br>motive=%{y}<br>year=2021<br>trips=%{x}<extra></extra>\",\"hovertext\":[\"0.37\"],\"legendgroup\":\"Travel to/from work, (non)-daily commute\",\"marker\":{\"color\":\"#ab63fa\",\"pattern\":{\"shape\":\"\"}},\"name\":\"Travel to/from work, (non)-daily commute\",\"offsetgroup\":\"Travel to/from work, (non)-daily commute\",\"orientation\":\"h\",\"showlegend\":false,\"textposition\":\"auto\",\"x\":[\"0.37\"],\"xaxis\":\"x4\",\"y\":[\"Travel to/from work, (non)-daily commute\"],\"yaxis\":\"y4\",\"type\":\"bar\"},{\"alignmentgroup\":\"True\",\"hovertemplate\":\"<b>%{hovertext}</b><br><br>motive=%{y}<br>year=2022<br>trips=%{x}<extra></extra>\",\"hovertext\":[\"0.42\"],\"legendgroup\":\"Travel to/from work, (non)-daily commute\",\"marker\":{\"color\":\"#ab63fa\",\"pattern\":{\"shape\":\"\"}},\"name\":\"Travel to/from work, (non)-daily commute\",\"offsetgroup\":\"Travel to/from work, (non)-daily commute\",\"orientation\":\"h\",\"showlegend\":false,\"textposition\":\"auto\",\"x\":[\"0.42\"],\"xaxis\":\"x5\",\"y\":[\"Travel to/from work, (non)-daily commute\"],\"yaxis\":\"y5\",\"type\":\"bar\"},{\"alignmentgroup\":\"True\",\"hovertemplate\":\"<b>%{hovertext}</b><br><br>motive=%{y}<br>year=2018<br>trips=%{x}<extra></extra>\",\"hovertext\":[\"0.56\"],\"legendgroup\":\"Shopping, groceries, funshopping.\",\"marker\":{\"color\":\"#FFA15A\",\"pattern\":{\"shape\":\"\"}},\"name\":\"Shopping, groceries, funshopping.\",\"offsetgroup\":\"Shopping, groceries, funshopping.\",\"orientation\":\"h\",\"showlegend\":true,\"textposition\":\"auto\",\"x\":[\"0.56\"],\"xaxis\":\"x\",\"y\":[\"Shopping, groceries, funshopping.\"],\"yaxis\":\"y\",\"type\":\"bar\"},{\"alignmentgroup\":\"True\",\"hovertemplate\":\"<b>%{hovertext}</b><br><br>motive=%{y}<br>year=2019<br>trips=%{x}<extra></extra>\",\"hovertext\":[\"0.54\"],\"legendgroup\":\"Shopping, groceries, funshopping.\",\"marker\":{\"color\":\"#FFA15A\",\"pattern\":{\"shape\":\"\"}},\"name\":\"Shopping, groceries, funshopping.\",\"offsetgroup\":\"Shopping, groceries, funshopping.\",\"orientation\":\"h\",\"showlegend\":false,\"textposition\":\"auto\",\"x\":[\"0.54\"],\"xaxis\":\"x2\",\"y\":[\"Shopping, groceries, funshopping.\"],\"yaxis\":\"y2\",\"type\":\"bar\"},{\"alignmentgroup\":\"True\",\"hovertemplate\":\"<b>%{hovertext}</b><br><br>motive=%{y}<br>year=2020<br>trips=%{x}<extra></extra>\",\"hovertext\":[\"0.55\"],\"legendgroup\":\"Shopping, groceries, funshopping.\",\"marker\":{\"color\":\"#FFA15A\",\"pattern\":{\"shape\":\"\"}},\"name\":\"Shopping, groceries, funshopping.\",\"offsetgroup\":\"Shopping, groceries, funshopping.\",\"orientation\":\"h\",\"showlegend\":false,\"textposition\":\"auto\",\"x\":[\"0.55\"],\"xaxis\":\"x3\",\"y\":[\"Shopping, groceries, funshopping.\"],\"yaxis\":\"y3\",\"type\":\"bar\"},{\"alignmentgroup\":\"True\",\"hovertemplate\":\"<b>%{hovertext}</b><br><br>motive=%{y}<br>year=2021<br>trips=%{x}<extra></extra>\",\"hovertext\":[\"0.56\"],\"legendgroup\":\"Shopping, groceries, funshopping.\",\"marker\":{\"color\":\"#FFA15A\",\"pattern\":{\"shape\":\"\"}},\"name\":\"Shopping, groceries, funshopping.\",\"offsetgroup\":\"Shopping, groceries, funshopping.\",\"orientation\":\"h\",\"showlegend\":false,\"textposition\":\"auto\",\"x\":[\"0.56\"],\"xaxis\":\"x4\",\"y\":[\"Shopping, groceries, funshopping.\"],\"yaxis\":\"y4\",\"type\":\"bar\"},{\"alignmentgroup\":\"True\",\"hovertemplate\":\"<b>%{hovertext}</b><br><br>motive=%{y}<br>year=2022<br>trips=%{x}<extra></extra>\",\"hovertext\":[\"0.58\"],\"legendgroup\":\"Shopping, groceries, funshopping.\",\"marker\":{\"color\":\"#FFA15A\",\"pattern\":{\"shape\":\"\"}},\"name\":\"Shopping, groceries, funshopping.\",\"offsetgroup\":\"Shopping, groceries, funshopping.\",\"orientation\":\"h\",\"showlegend\":false,\"textposition\":\"auto\",\"x\":[\"0.58\"],\"xaxis\":\"x5\",\"y\":[\"Shopping, groceries, funshopping.\"],\"yaxis\":\"y5\",\"type\":\"bar\"},{\"alignmentgroup\":\"True\",\"hovertemplate\":\"<b>%{hovertext}</b><br><br>motive=%{y}<br>year=2018<br>trips=%{x}<extra></extra>\",\"hovertext\":[\"2.78\"],\"legendgroup\":\"Total\",\"marker\":{\"color\":\"#19d3f3\",\"pattern\":{\"shape\":\"\"}},\"name\":\"Total\",\"offsetgroup\":\"Total\",\"orientation\":\"h\",\"showlegend\":true,\"textposition\":\"auto\",\"x\":[\"2.78\"],\"xaxis\":\"x\",\"y\":[\"Total\"],\"yaxis\":\"y\",\"type\":\"bar\"},{\"alignmentgroup\":\"True\",\"hovertemplate\":\"<b>%{hovertext}</b><br><br>motive=%{y}<br>year=2019<br>trips=%{x}<extra></extra>\",\"hovertext\":[\"2.71\"],\"legendgroup\":\"Total\",\"marker\":{\"color\":\"#19d3f3\",\"pattern\":{\"shape\":\"\"}},\"name\":\"Total\",\"offsetgroup\":\"Total\",\"orientation\":\"h\",\"showlegend\":false,\"textposition\":\"auto\",\"x\":[\"2.71\"],\"xaxis\":\"x2\",\"y\":[\"Total\"],\"yaxis\":\"y2\",\"type\":\"bar\"},{\"alignmentgroup\":\"True\",\"hovertemplate\":\"<b>%{hovertext}</b><br><br>motive=%{y}<br>year=2020<br>trips=%{x}<extra></extra>\",\"hovertext\":[\"2.35\"],\"legendgroup\":\"Total\",\"marker\":{\"color\":\"#19d3f3\",\"pattern\":{\"shape\":\"\"}},\"name\":\"Total\",\"offsetgroup\":\"Total\",\"orientation\":\"h\",\"showlegend\":false,\"textposition\":\"auto\",\"x\":[\"2.35\"],\"xaxis\":\"x3\",\"y\":[\"Total\"],\"yaxis\":\"y3\",\"type\":\"bar\"},{\"alignmentgroup\":\"True\",\"hovertemplate\":\"<b>%{hovertext}</b><br><br>motive=%{y}<br>year=2021<br>trips=%{x}<extra></extra>\",\"hovertext\":[\"2.51\"],\"legendgroup\":\"Total\",\"marker\":{\"color\":\"#19d3f3\",\"pattern\":{\"shape\":\"\"}},\"name\":\"Total\",\"offsetgroup\":\"Total\",\"orientation\":\"h\",\"showlegend\":false,\"textposition\":\"auto\",\"x\":[\"2.51\"],\"xaxis\":\"x4\",\"y\":[\"Total\"],\"yaxis\":\"y4\",\"type\":\"bar\"},{\"alignmentgroup\":\"True\",\"hovertemplate\":\"<b>%{hovertext}</b><br><br>motive=%{y}<br>year=2022<br>trips=%{x}<extra></extra>\",\"hovertext\":[\"2.70\"],\"legendgroup\":\"Total\",\"marker\":{\"color\":\"#19d3f3\",\"pattern\":{\"shape\":\"\"}},\"name\":\"Total\",\"offsetgroup\":\"Total\",\"orientation\":\"h\",\"showlegend\":false,\"textposition\":\"auto\",\"x\":[\"2.70\"],\"xaxis\":\"x5\",\"y\":[\"Total\"],\"yaxis\":\"y5\",\"type\":\"bar\"}],                        {\"template\":{\"data\":{\"histogram2dcontour\":[{\"type\":\"histogram2dcontour\",\"colorbar\":{\"outlinewidth\":0,\"ticks\":\"\"},\"colorscale\":[[0.0,\"#0d0887\"],[0.1111111111111111,\"#46039f\"],[0.2222222222222222,\"#7201a8\"],[0.3333333333333333,\"#9c179e\"],[0.4444444444444444,\"#bd3786\"],[0.5555555555555556,\"#d8576b\"],[0.6666666666666666,\"#ed7953\"],[0.7777777777777778,\"#fb9f3a\"],[0.8888888888888888,\"#fdca26\"],[1.0,\"#f0f921\"]]}],\"choropleth\":[{\"type\":\"choropleth\",\"colorbar\":{\"outlinewidth\":0,\"ticks\":\"\"}}],\"histogram2d\":[{\"type\":\"histogram2d\",\"colorbar\":{\"outlinewidth\":0,\"ticks\":\"\"},\"colorscale\":[[0.0,\"#0d0887\"],[0.1111111111111111,\"#46039f\"],[0.2222222222222222,\"#7201a8\"],[0.3333333333333333,\"#9c179e\"],[0.4444444444444444,\"#bd3786\"],[0.5555555555555556,\"#d8576b\"],[0.6666666666666666,\"#ed7953\"],[0.7777777777777778,\"#fb9f3a\"],[0.8888888888888888,\"#fdca26\"],[1.0,\"#f0f921\"]]}],\"heatmap\":[{\"type\":\"heatmap\",\"colorbar\":{\"outlinewidth\":0,\"ticks\":\"\"},\"colorscale\":[[0.0,\"#0d0887\"],[0.1111111111111111,\"#46039f\"],[0.2222222222222222,\"#7201a8\"],[0.3333333333333333,\"#9c179e\"],[0.4444444444444444,\"#bd3786\"],[0.5555555555555556,\"#d8576b\"],[0.6666666666666666,\"#ed7953\"],[0.7777777777777778,\"#fb9f3a\"],[0.8888888888888888,\"#fdca26\"],[1.0,\"#f0f921\"]]}],\"heatmapgl\":[{\"type\":\"heatmapgl\",\"colorbar\":{\"outlinewidth\":0,\"ticks\":\"\"},\"colorscale\":[[0.0,\"#0d0887\"],[0.1111111111111111,\"#46039f\"],[0.2222222222222222,\"#7201a8\"],[0.3333333333333333,\"#9c179e\"],[0.4444444444444444,\"#bd3786\"],[0.5555555555555556,\"#d8576b\"],[0.6666666666666666,\"#ed7953\"],[0.7777777777777778,\"#fb9f3a\"],[0.8888888888888888,\"#fdca26\"],[1.0,\"#f0f921\"]]}],\"contourcarpet\":[{\"type\":\"contourcarpet\",\"colorbar\":{\"outlinewidth\":0,\"ticks\":\"\"}}],\"contour\":[{\"type\":\"contour\",\"colorbar\":{\"outlinewidth\":0,\"ticks\":\"\"},\"colorscale\":[[0.0,\"#0d0887\"],[0.1111111111111111,\"#46039f\"],[0.2222222222222222,\"#7201a8\"],[0.3333333333333333,\"#9c179e\"],[0.4444444444444444,\"#bd3786\"],[0.5555555555555556,\"#d8576b\"],[0.6666666666666666,\"#ed7953\"],[0.7777777777777778,\"#fb9f3a\"],[0.8888888888888888,\"#fdca26\"],[1.0,\"#f0f921\"]]}],\"surface\":[{\"type\":\"surface\",\"colorbar\":{\"outlinewidth\":0,\"ticks\":\"\"},\"colorscale\":[[0.0,\"#0d0887\"],[0.1111111111111111,\"#46039f\"],[0.2222222222222222,\"#7201a8\"],[0.3333333333333333,\"#9c179e\"],[0.4444444444444444,\"#bd3786\"],[0.5555555555555556,\"#d8576b\"],[0.6666666666666666,\"#ed7953\"],[0.7777777777777778,\"#fb9f3a\"],[0.8888888888888888,\"#fdca26\"],[1.0,\"#f0f921\"]]}],\"mesh3d\":[{\"type\":\"mesh3d\",\"colorbar\":{\"outlinewidth\":0,\"ticks\":\"\"}}],\"scatter\":[{\"fillpattern\":{\"fillmode\":\"overlay\",\"size\":10,\"solidity\":0.2},\"type\":\"scatter\"}],\"parcoords\":[{\"type\":\"parcoords\",\"line\":{\"colorbar\":{\"outlinewidth\":0,\"ticks\":\"\"}}}],\"scatterpolargl\":[{\"type\":\"scatterpolargl\",\"marker\":{\"colorbar\":{\"outlinewidth\":0,\"ticks\":\"\"}}}],\"bar\":[{\"error_x\":{\"color\":\"#2a3f5f\"},\"error_y\":{\"color\":\"#2a3f5f\"},\"marker\":{\"line\":{\"color\":\"#E5ECF6\",\"width\":0.5},\"pattern\":{\"fillmode\":\"overlay\",\"size\":10,\"solidity\":0.2}},\"type\":\"bar\"}],\"scattergeo\":[{\"type\":\"scattergeo\",\"marker\":{\"colorbar\":{\"outlinewidth\":0,\"ticks\":\"\"}}}],\"scatterpolar\":[{\"type\":\"scatterpolar\",\"marker\":{\"colorbar\":{\"outlinewidth\":0,\"ticks\":\"\"}}}],\"histogram\":[{\"marker\":{\"pattern\":{\"fillmode\":\"overlay\",\"size\":10,\"solidity\":0.2}},\"type\":\"histogram\"}],\"scattergl\":[{\"type\":\"scattergl\",\"marker\":{\"colorbar\":{\"outlinewidth\":0,\"ticks\":\"\"}}}],\"scatter3d\":[{\"type\":\"scatter3d\",\"line\":{\"colorbar\":{\"outlinewidth\":0,\"ticks\":\"\"}},\"marker\":{\"colorbar\":{\"outlinewidth\":0,\"ticks\":\"\"}}}],\"scattermapbox\":[{\"type\":\"scattermapbox\",\"marker\":{\"colorbar\":{\"outlinewidth\":0,\"ticks\":\"\"}}}],\"scatterternary\":[{\"type\":\"scatterternary\",\"marker\":{\"colorbar\":{\"outlinewidth\":0,\"ticks\":\"\"}}}],\"scattercarpet\":[{\"type\":\"scattercarpet\",\"marker\":{\"colorbar\":{\"outlinewidth\":0,\"ticks\":\"\"}}}],\"carpet\":[{\"aaxis\":{\"endlinecolor\":\"#2a3f5f\",\"gridcolor\":\"white\",\"linecolor\":\"white\",\"minorgridcolor\":\"white\",\"startlinecolor\":\"#2a3f5f\"},\"baxis\":{\"endlinecolor\":\"#2a3f5f\",\"gridcolor\":\"white\",\"linecolor\":\"white\",\"minorgridcolor\":\"white\",\"startlinecolor\":\"#2a3f5f\"},\"type\":\"carpet\"}],\"table\":[{\"cells\":{\"fill\":{\"color\":\"#EBF0F8\"},\"line\":{\"color\":\"white\"}},\"header\":{\"fill\":{\"color\":\"#C8D4E3\"},\"line\":{\"color\":\"white\"}},\"type\":\"table\"}],\"barpolar\":[{\"marker\":{\"line\":{\"color\":\"#E5ECF6\",\"width\":0.5},\"pattern\":{\"fillmode\":\"overlay\",\"size\":10,\"solidity\":0.2}},\"type\":\"barpolar\"}],\"pie\":[{\"automargin\":true,\"type\":\"pie\"}]},\"layout\":{\"autotypenumbers\":\"strict\",\"colorway\":[\"#636efa\",\"#EF553B\",\"#00cc96\",\"#ab63fa\",\"#FFA15A\",\"#19d3f3\",\"#FF6692\",\"#B6E880\",\"#FF97FF\",\"#FECB52\"],\"font\":{\"color\":\"#2a3f5f\"},\"hovermode\":\"closest\",\"hoverlabel\":{\"align\":\"left\"},\"paper_bgcolor\":\"white\",\"plot_bgcolor\":\"#E5ECF6\",\"polar\":{\"bgcolor\":\"#E5ECF6\",\"angularaxis\":{\"gridcolor\":\"white\",\"linecolor\":\"white\",\"ticks\":\"\"},\"radialaxis\":{\"gridcolor\":\"white\",\"linecolor\":\"white\",\"ticks\":\"\"}},\"ternary\":{\"bgcolor\":\"#E5ECF6\",\"aaxis\":{\"gridcolor\":\"white\",\"linecolor\":\"white\",\"ticks\":\"\"},\"baxis\":{\"gridcolor\":\"white\",\"linecolor\":\"white\",\"ticks\":\"\"},\"caxis\":{\"gridcolor\":\"white\",\"linecolor\":\"white\",\"ticks\":\"\"}},\"coloraxis\":{\"colorbar\":{\"outlinewidth\":0,\"ticks\":\"\"}},\"colorscale\":{\"sequential\":[[0.0,\"#0d0887\"],[0.1111111111111111,\"#46039f\"],[0.2222222222222222,\"#7201a8\"],[0.3333333333333333,\"#9c179e\"],[0.4444444444444444,\"#bd3786\"],[0.5555555555555556,\"#d8576b\"],[0.6666666666666666,\"#ed7953\"],[0.7777777777777778,\"#fb9f3a\"],[0.8888888888888888,\"#fdca26\"],[1.0,\"#f0f921\"]],\"sequentialminus\":[[0.0,\"#0d0887\"],[0.1111111111111111,\"#46039f\"],[0.2222222222222222,\"#7201a8\"],[0.3333333333333333,\"#9c179e\"],[0.4444444444444444,\"#bd3786\"],[0.5555555555555556,\"#d8576b\"],[0.6666666666666666,\"#ed7953\"],[0.7777777777777778,\"#fb9f3a\"],[0.8888888888888888,\"#fdca26\"],[1.0,\"#f0f921\"]],\"diverging\":[[0,\"#8e0152\"],[0.1,\"#c51b7d\"],[0.2,\"#de77ae\"],[0.3,\"#f1b6da\"],[0.4,\"#fde0ef\"],[0.5,\"#f7f7f7\"],[0.6,\"#e6f5d0\"],[0.7,\"#b8e186\"],[0.8,\"#7fbc41\"],[0.9,\"#4d9221\"],[1,\"#276419\"]]},\"xaxis\":{\"gridcolor\":\"white\",\"linecolor\":\"white\",\"ticks\":\"\",\"title\":{\"standoff\":15},\"zerolinecolor\":\"white\",\"automargin\":true,\"zerolinewidth\":2},\"yaxis\":{\"gridcolor\":\"white\",\"linecolor\":\"white\",\"ticks\":\"\",\"title\":{\"standoff\":15},\"zerolinecolor\":\"white\",\"automargin\":true,\"zerolinewidth\":2},\"scene\":{\"xaxis\":{\"backgroundcolor\":\"#E5ECF6\",\"gridcolor\":\"white\",\"linecolor\":\"white\",\"showbackground\":true,\"ticks\":\"\",\"zerolinecolor\":\"white\",\"gridwidth\":2},\"yaxis\":{\"backgroundcolor\":\"#E5ECF6\",\"gridcolor\":\"white\",\"linecolor\":\"white\",\"showbackground\":true,\"ticks\":\"\",\"zerolinecolor\":\"white\",\"gridwidth\":2},\"zaxis\":{\"backgroundcolor\":\"#E5ECF6\",\"gridcolor\":\"white\",\"linecolor\":\"white\",\"showbackground\":true,\"ticks\":\"\",\"zerolinecolor\":\"white\",\"gridwidth\":2}},\"shapedefaults\":{\"line\":{\"color\":\"#2a3f5f\"}},\"annotationdefaults\":{\"arrowcolor\":\"#2a3f5f\",\"arrowhead\":0,\"arrowwidth\":1},\"geo\":{\"bgcolor\":\"white\",\"landcolor\":\"#E5ECF6\",\"subunitcolor\":\"white\",\"showland\":true,\"showlakes\":true,\"lakecolor\":\"white\"},\"title\":{\"x\":0.05},\"mapbox\":{\"style\":\"light\"}}},\"xaxis\":{\"anchor\":\"y\",\"domain\":[0.0,0.18400000000000002],\"title\":{\"text\":\"trips\"}},\"yaxis\":{\"anchor\":\"x\",\"domain\":[0.0,1.0],\"title\":{\"text\":\"Travel motives\"},\"categoryorder\":\"array\",\"categoryarray\":[\"Total\",\"Shopping, groceries, funshopping.\",\"Travel to/from work, (non)-daily commute\",\"Attending education/courses\",\"Services/care\",\"Professionally\"]},\"xaxis2\":{\"anchor\":\"y2\",\"domain\":[0.20400000000000001,0.388],\"matches\":\"x\",\"title\":{\"text\":\"trips\"}},\"yaxis2\":{\"anchor\":\"x2\",\"domain\":[0.0,1.0],\"matches\":\"y\",\"showticklabels\":false,\"title\":{\"text\":\"Travel motives\"}},\"xaxis3\":{\"anchor\":\"y3\",\"domain\":[0.40800000000000003,0.5920000000000001],\"matches\":\"x\",\"title\":{\"text\":\"trips\"}},\"yaxis3\":{\"anchor\":\"x3\",\"domain\":[0.0,1.0],\"matches\":\"y\",\"showticklabels\":false,\"title\":{\"text\":\"Travel motives\"}},\"xaxis4\":{\"anchor\":\"y4\",\"domain\":[0.6120000000000001,0.7960000000000002],\"matches\":\"x\",\"title\":{\"text\":\"trips\"}},\"yaxis4\":{\"anchor\":\"x4\",\"domain\":[0.0,1.0],\"matches\":\"y\",\"showticklabels\":false,\"title\":{\"text\":\"Travel motives\"}},\"xaxis5\":{\"anchor\":\"y5\",\"domain\":[0.8160000000000001,1.0],\"matches\":\"x\",\"title\":{\"text\":\"trips\"}},\"yaxis5\":{\"anchor\":\"x5\",\"domain\":[0.0,1.0],\"matches\":\"y\",\"showticklabels\":false,\"title\":{\"text\":\"Travel motives\"}},\"annotations\":[{\"font\":{},\"showarrow\":false,\"text\":\"year=2018\",\"x\":0.09200000000000001,\"xanchor\":\"center\",\"xref\":\"paper\",\"y\":1.0,\"yanchor\":\"bottom\",\"yref\":\"paper\"},{\"font\":{},\"showarrow\":false,\"text\":\"year=2019\",\"x\":0.29600000000000004,\"xanchor\":\"center\",\"xref\":\"paper\",\"y\":1.0,\"yanchor\":\"bottom\",\"yref\":\"paper\"},{\"font\":{},\"showarrow\":false,\"text\":\"year=2020\",\"x\":0.5,\"xanchor\":\"center\",\"xref\":\"paper\",\"y\":1.0,\"yanchor\":\"bottom\",\"yref\":\"paper\"},{\"font\":{},\"showarrow\":false,\"text\":\"year=2021\",\"x\":0.7040000000000002,\"xanchor\":\"center\",\"xref\":\"paper\",\"y\":1.0,\"yanchor\":\"bottom\",\"yref\":\"paper\"},{\"font\":{},\"showarrow\":false,\"text\":\"year=2022\",\"x\":0.908,\"xanchor\":\"center\",\"xref\":\"paper\",\"y\":1.0,\"yanchor\":\"bottom\",\"yref\":\"paper\"}],\"legend\":{\"title\":{\"text\":\"motive\"},\"tracegroupgap\":0},\"margin\":{\"t\":60},\"barmode\":\"relative\",\"height\":400,\"width\":1100,\"title\":{\"text\":\"Average amount of trips for every vehicle combined per day from 2018 to 2022\",\"x\":0.5}},                        {\"responsive\": true}                    ).then(function(){\n",
       "                            \n",
       "var gd = document.getElementById('6077f912-7674-4d84-9c05-46d7a58c6a70');\n",
       "var x = new MutationObserver(function (mutations, observer) {{\n",
       "        var display = window.getComputedStyle(gd).display;\n",
       "        if (!display || display === 'none') {{\n",
       "            console.log([gd, 'removed!']);\n",
       "            Plotly.purge(gd);\n",
       "            observer.disconnect();\n",
       "        }}\n",
       "}});\n",
       "\n",
       "// Listen for the removal of the full notebook cells\n",
       "var notebookContainer = gd.closest('#notebook-container');\n",
       "if (notebookContainer) {{\n",
       "    x.observe(notebookContainer, {childList: true});\n",
       "}}\n",
       "\n",
       "// Listen for the clearing of the current output cell\n",
       "var outputEl = gd.closest('.output');\n",
       "if (outputEl) {{\n",
       "    x.observe(outputEl, {childList: true});\n",
       "}}\n",
       "\n",
       "                        })                };                });            </script>        </div>"
      ]
     },
     "metadata": {},
     "output_type": "display_data"
    }
   ],
   "source": [
    "mobility_trips_years = mobility_trips_motive[years]\n",
    "display(mobility_trips_motive)\n",
    "display(mobility_trips_years)\n",
    "\n",
    "\n",
    "# Melt the data to create a 'year' column\n",
    "mobility_trips_years = mobility_trips_years.reset_index().melt(id_vars=['motive'], var_name='year', value_name='trips')\n",
    "\n",
    "fig = px.bar(mobility_trips_years, x='trips', y='motive', color='motive', facet_col='year', orientation='h', hover_name='trips', width=1100, height=400)\n",
    "\n",
    "fig.update_layout(title={\n",
    "    'text': 'Average amount of trips for every vehicle combined per day from 2018 to 2022',\n",
    "    'x': 0.5\n",
    "})\n",
    "fig.update_yaxes(title_text=\"Travel motives\")\n",
    "fig.show()"
   ]
  },
  {
   "cell_type": "code",
   "execution_count": 15,
   "metadata": {},
   "outputs": [
    {
     "data": {
      "application/vnd.plotly.v1+json": {
       "config": {
        "plotlyServerURL": "https://plot.ly"
       },
       "data": [
        {
         "alignmentgroup": "True",
         "bingroup": "y",
         "histfunc": "sum",
         "hovertemplate": "motive=%{y}<br>year=2018<br>sum of trips=%{x}<extra></extra>",
         "legendgroup": "Professionally",
         "marker": {
          "color": "#636efa",
          "pattern": {
           "shape": ""
          }
         },
         "name": "Professionally",
         "offsetgroup": "Professionally",
         "orientation": "h",
         "showlegend": true,
         "type": "histogram",
         "x": [
          "0.07"
         ],
         "xaxis": "x",
         "y": [
          "Professionally"
         ],
         "yaxis": "y"
        },
        {
         "alignmentgroup": "True",
         "bingroup": "y",
         "histfunc": "sum",
         "hovertemplate": "motive=%{y}<br>year=2018<br>sum of trips=%{x}<extra></extra>",
         "legendgroup": "Services/care",
         "marker": {
          "color": "#EF553B",
          "pattern": {
           "shape": ""
          }
         },
         "name": "Services/care",
         "offsetgroup": "Services/care",
         "orientation": "h",
         "showlegend": true,
         "type": "histogram",
         "x": [
          "0.09"
         ],
         "xaxis": "x",
         "y": [
          "Services/care"
         ],
         "yaxis": "y"
        },
        {
         "alignmentgroup": "True",
         "bingroup": "y",
         "histfunc": "sum",
         "hovertemplate": "motive=%{y}<br>year=2018<br>sum of trips=%{x}<extra></extra>",
         "legendgroup": "Attending education/courses",
         "marker": {
          "color": "#00cc96",
          "pattern": {
           "shape": ""
          }
         },
         "name": "Attending education/courses",
         "offsetgroup": "Attending education/courses",
         "orientation": "h",
         "showlegend": true,
         "type": "histogram",
         "x": [
          "0.23"
         ],
         "xaxis": "x",
         "y": [
          "Attending education/courses"
         ],
         "yaxis": "y"
        },
        {
         "alignmentgroup": "True",
         "bingroup": "y",
         "histfunc": "sum",
         "hovertemplate": "motive=%{y}<br>year=2018<br>sum of trips=%{x}<extra></extra>",
         "legendgroup": "Travel to/from work, (non)-daily commute",
         "marker": {
          "color": "#ab63fa",
          "pattern": {
           "shape": ""
          }
         },
         "name": "Travel to/from work, (non)-daily commute",
         "offsetgroup": "Travel to/from work, (non)-daily commute",
         "orientation": "h",
         "showlegend": true,
         "type": "histogram",
         "x": [
          "0.55"
         ],
         "xaxis": "x",
         "y": [
          "Travel to/from work, (non)-daily commute"
         ],
         "yaxis": "y"
        },
        {
         "alignmentgroup": "True",
         "bingroup": "y",
         "histfunc": "sum",
         "hovertemplate": "motive=%{y}<br>year=2018<br>sum of trips=%{x}<extra></extra>",
         "legendgroup": "Shopping, groceries, funshopping.",
         "marker": {
          "color": "#FFA15A",
          "pattern": {
           "shape": ""
          }
         },
         "name": "Shopping, groceries, funshopping.",
         "offsetgroup": "Shopping, groceries, funshopping.",
         "orientation": "h",
         "showlegend": true,
         "type": "histogram",
         "x": [
          "0.56"
         ],
         "xaxis": "x",
         "y": [
          "Shopping, groceries, funshopping."
         ],
         "yaxis": "y"
        },
        {
         "alignmentgroup": "True",
         "bingroup": "y",
         "histfunc": "sum",
         "hovertemplate": "motive=%{y}<br>year=2018<br>sum of trips=%{x}<extra></extra>",
         "legendgroup": "Total",
         "marker": {
          "color": "#19d3f3",
          "pattern": {
           "shape": ""
          }
         },
         "name": "Total",
         "offsetgroup": "Total",
         "orientation": "h",
         "showlegend": true,
         "type": "histogram",
         "x": [
          "2.78"
         ],
         "xaxis": "x",
         "y": [
          "Total"
         ],
         "yaxis": "y"
        }
       ],
       "frames": [
        {
         "data": [
          {
           "alignmentgroup": "True",
           "bingroup": "y",
           "histfunc": "sum",
           "hovertemplate": "motive=%{y}<br>year=2018<br>sum of trips=%{x}<extra></extra>",
           "legendgroup": "Professionally",
           "marker": {
            "color": "#636efa",
            "pattern": {
             "shape": ""
            }
           },
           "name": "Professionally",
           "offsetgroup": "Professionally",
           "orientation": "h",
           "showlegend": true,
           "type": "histogram",
           "x": [
            "0.07"
           ],
           "xaxis": "x",
           "y": [
            "Professionally"
           ],
           "yaxis": "y"
          },
          {
           "alignmentgroup": "True",
           "bingroup": "y",
           "histfunc": "sum",
           "hovertemplate": "motive=%{y}<br>year=2018<br>sum of trips=%{x}<extra></extra>",
           "legendgroup": "Services/care",
           "marker": {
            "color": "#EF553B",
            "pattern": {
             "shape": ""
            }
           },
           "name": "Services/care",
           "offsetgroup": "Services/care",
           "orientation": "h",
           "showlegend": true,
           "type": "histogram",
           "x": [
            "0.09"
           ],
           "xaxis": "x",
           "y": [
            "Services/care"
           ],
           "yaxis": "y"
          },
          {
           "alignmentgroup": "True",
           "bingroup": "y",
           "histfunc": "sum",
           "hovertemplate": "motive=%{y}<br>year=2018<br>sum of trips=%{x}<extra></extra>",
           "legendgroup": "Attending education/courses",
           "marker": {
            "color": "#00cc96",
            "pattern": {
             "shape": ""
            }
           },
           "name": "Attending education/courses",
           "offsetgroup": "Attending education/courses",
           "orientation": "h",
           "showlegend": true,
           "type": "histogram",
           "x": [
            "0.23"
           ],
           "xaxis": "x",
           "y": [
            "Attending education/courses"
           ],
           "yaxis": "y"
          },
          {
           "alignmentgroup": "True",
           "bingroup": "y",
           "histfunc": "sum",
           "hovertemplate": "motive=%{y}<br>year=2018<br>sum of trips=%{x}<extra></extra>",
           "legendgroup": "Travel to/from work, (non)-daily commute",
           "marker": {
            "color": "#ab63fa",
            "pattern": {
             "shape": ""
            }
           },
           "name": "Travel to/from work, (non)-daily commute",
           "offsetgroup": "Travel to/from work, (non)-daily commute",
           "orientation": "h",
           "showlegend": true,
           "type": "histogram",
           "x": [
            "0.55"
           ],
           "xaxis": "x",
           "y": [
            "Travel to/from work, (non)-daily commute"
           ],
           "yaxis": "y"
          },
          {
           "alignmentgroup": "True",
           "bingroup": "y",
           "histfunc": "sum",
           "hovertemplate": "motive=%{y}<br>year=2018<br>sum of trips=%{x}<extra></extra>",
           "legendgroup": "Shopping, groceries, funshopping.",
           "marker": {
            "color": "#FFA15A",
            "pattern": {
             "shape": ""
            }
           },
           "name": "Shopping, groceries, funshopping.",
           "offsetgroup": "Shopping, groceries, funshopping.",
           "orientation": "h",
           "showlegend": true,
           "type": "histogram",
           "x": [
            "0.56"
           ],
           "xaxis": "x",
           "y": [
            "Shopping, groceries, funshopping."
           ],
           "yaxis": "y"
          },
          {
           "alignmentgroup": "True",
           "bingroup": "y",
           "histfunc": "sum",
           "hovertemplate": "motive=%{y}<br>year=2018<br>sum of trips=%{x}<extra></extra>",
           "legendgroup": "Total",
           "marker": {
            "color": "#19d3f3",
            "pattern": {
             "shape": ""
            }
           },
           "name": "Total",
           "offsetgroup": "Total",
           "orientation": "h",
           "showlegend": true,
           "type": "histogram",
           "x": [
            "2.78"
           ],
           "xaxis": "x",
           "y": [
            "Total"
           ],
           "yaxis": "y"
          }
         ],
         "name": "2018"
        },
        {
         "data": [
          {
           "alignmentgroup": "True",
           "bingroup": "y",
           "histfunc": "sum",
           "hovertemplate": "motive=%{y}<br>year=2019<br>sum of trips=%{x}<extra></extra>",
           "legendgroup": "Professionally",
           "marker": {
            "color": "#636efa",
            "pattern": {
             "shape": ""
            }
           },
           "name": "Professionally",
           "offsetgroup": "Professionally",
           "orientation": "h",
           "showlegend": true,
           "type": "histogram",
           "x": [
            "0.11"
           ],
           "xaxis": "x",
           "y": [
            "Professionally"
           ],
           "yaxis": "y"
          },
          {
           "alignmentgroup": "True",
           "bingroup": "y",
           "histfunc": "sum",
           "hovertemplate": "motive=%{y}<br>year=2019<br>sum of trips=%{x}<extra></extra>",
           "legendgroup": "Services/care",
           "marker": {
            "color": "#EF553B",
            "pattern": {
             "shape": ""
            }
           },
           "name": "Services/care",
           "offsetgroup": "Services/care",
           "orientation": "h",
           "showlegend": true,
           "type": "histogram",
           "x": [
            "0.09"
           ],
           "xaxis": "x",
           "y": [
            "Services/care"
           ],
           "yaxis": "y"
          },
          {
           "alignmentgroup": "True",
           "bingroup": "y",
           "histfunc": "sum",
           "hovertemplate": "motive=%{y}<br>year=2019<br>sum of trips=%{x}<extra></extra>",
           "legendgroup": "Attending education/courses",
           "marker": {
            "color": "#00cc96",
            "pattern": {
             "shape": ""
            }
           },
           "name": "Attending education/courses",
           "offsetgroup": "Attending education/courses",
           "orientation": "h",
           "showlegend": true,
           "type": "histogram",
           "x": [
            "0.22"
           ],
           "xaxis": "x",
           "y": [
            "Attending education/courses"
           ],
           "yaxis": "y"
          },
          {
           "alignmentgroup": "True",
           "bingroup": "y",
           "histfunc": "sum",
           "hovertemplate": "motive=%{y}<br>year=2019<br>sum of trips=%{x}<extra></extra>",
           "legendgroup": "Travel to/from work, (non)-daily commute",
           "marker": {
            "color": "#ab63fa",
            "pattern": {
             "shape": ""
            }
           },
           "name": "Travel to/from work, (non)-daily commute",
           "offsetgroup": "Travel to/from work, (non)-daily commute",
           "orientation": "h",
           "showlegend": true,
           "type": "histogram",
           "x": [
            "0.50"
           ],
           "xaxis": "x",
           "y": [
            "Travel to/from work, (non)-daily commute"
           ],
           "yaxis": "y"
          },
          {
           "alignmentgroup": "True",
           "bingroup": "y",
           "histfunc": "sum",
           "hovertemplate": "motive=%{y}<br>year=2019<br>sum of trips=%{x}<extra></extra>",
           "legendgroup": "Shopping, groceries, funshopping.",
           "marker": {
            "color": "#FFA15A",
            "pattern": {
             "shape": ""
            }
           },
           "name": "Shopping, groceries, funshopping.",
           "offsetgroup": "Shopping, groceries, funshopping.",
           "orientation": "h",
           "showlegend": true,
           "type": "histogram",
           "x": [
            "0.54"
           ],
           "xaxis": "x",
           "y": [
            "Shopping, groceries, funshopping."
           ],
           "yaxis": "y"
          },
          {
           "alignmentgroup": "True",
           "bingroup": "y",
           "histfunc": "sum",
           "hovertemplate": "motive=%{y}<br>year=2019<br>sum of trips=%{x}<extra></extra>",
           "legendgroup": "Total",
           "marker": {
            "color": "#19d3f3",
            "pattern": {
             "shape": ""
            }
           },
           "name": "Total",
           "offsetgroup": "Total",
           "orientation": "h",
           "showlegend": true,
           "type": "histogram",
           "x": [
            "2.71"
           ],
           "xaxis": "x",
           "y": [
            "Total"
           ],
           "yaxis": "y"
          }
         ],
         "name": "2019"
        },
        {
         "data": [
          {
           "alignmentgroup": "True",
           "bingroup": "y",
           "histfunc": "sum",
           "hovertemplate": "motive=%{y}<br>year=2020<br>sum of trips=%{x}<extra></extra>",
           "legendgroup": "Professionally",
           "marker": {
            "color": "#636efa",
            "pattern": {
             "shape": ""
            }
           },
           "name": "Professionally",
           "offsetgroup": "Professionally",
           "orientation": "h",
           "showlegend": true,
           "type": "histogram",
           "x": [
            "0.07"
           ],
           "xaxis": "x",
           "y": [
            "Professionally"
           ],
           "yaxis": "y"
          },
          {
           "alignmentgroup": "True",
           "bingroup": "y",
           "histfunc": "sum",
           "hovertemplate": "motive=%{y}<br>year=2020<br>sum of trips=%{x}<extra></extra>",
           "legendgroup": "Services/care",
           "marker": {
            "color": "#EF553B",
            "pattern": {
             "shape": ""
            }
           },
           "name": "Services/care",
           "offsetgroup": "Services/care",
           "orientation": "h",
           "showlegend": true,
           "type": "histogram",
           "x": [
            "0.07"
           ],
           "xaxis": "x",
           "y": [
            "Services/care"
           ],
           "yaxis": "y"
          },
          {
           "alignmentgroup": "True",
           "bingroup": "y",
           "histfunc": "sum",
           "hovertemplate": "motive=%{y}<br>year=2020<br>sum of trips=%{x}<extra></extra>",
           "legendgroup": "Attending education/courses",
           "marker": {
            "color": "#00cc96",
            "pattern": {
             "shape": ""
            }
           },
           "name": "Attending education/courses",
           "offsetgroup": "Attending education/courses",
           "orientation": "h",
           "showlegend": true,
           "type": "histogram",
           "x": [
            "0.14"
           ],
           "xaxis": "x",
           "y": [
            "Attending education/courses"
           ],
           "yaxis": "y"
          },
          {
           "alignmentgroup": "True",
           "bingroup": "y",
           "histfunc": "sum",
           "hovertemplate": "motive=%{y}<br>year=2020<br>sum of trips=%{x}<extra></extra>",
           "legendgroup": "Travel to/from work, (non)-daily commute",
           "marker": {
            "color": "#ab63fa",
            "pattern": {
             "shape": ""
            }
           },
           "name": "Travel to/from work, (non)-daily commute",
           "offsetgroup": "Travel to/from work, (non)-daily commute",
           "orientation": "h",
           "showlegend": true,
           "type": "histogram",
           "x": [
            "0.37"
           ],
           "xaxis": "x",
           "y": [
            "Travel to/from work, (non)-daily commute"
           ],
           "yaxis": "y"
          },
          {
           "alignmentgroup": "True",
           "bingroup": "y",
           "histfunc": "sum",
           "hovertemplate": "motive=%{y}<br>year=2020<br>sum of trips=%{x}<extra></extra>",
           "legendgroup": "Shopping, groceries, funshopping.",
           "marker": {
            "color": "#FFA15A",
            "pattern": {
             "shape": ""
            }
           },
           "name": "Shopping, groceries, funshopping.",
           "offsetgroup": "Shopping, groceries, funshopping.",
           "orientation": "h",
           "showlegend": true,
           "type": "histogram",
           "x": [
            "0.55"
           ],
           "xaxis": "x",
           "y": [
            "Shopping, groceries, funshopping."
           ],
           "yaxis": "y"
          },
          {
           "alignmentgroup": "True",
           "bingroup": "y",
           "histfunc": "sum",
           "hovertemplate": "motive=%{y}<br>year=2020<br>sum of trips=%{x}<extra></extra>",
           "legendgroup": "Total",
           "marker": {
            "color": "#19d3f3",
            "pattern": {
             "shape": ""
            }
           },
           "name": "Total",
           "offsetgroup": "Total",
           "orientation": "h",
           "showlegend": true,
           "type": "histogram",
           "x": [
            "2.35"
           ],
           "xaxis": "x",
           "y": [
            "Total"
           ],
           "yaxis": "y"
          }
         ],
         "name": "2020"
        },
        {
         "data": [
          {
           "alignmentgroup": "True",
           "bingroup": "y",
           "histfunc": "sum",
           "hovertemplate": "motive=%{y}<br>year=2021<br>sum of trips=%{x}<extra></extra>",
           "legendgroup": "Professionally",
           "marker": {
            "color": "#636efa",
            "pattern": {
             "shape": ""
            }
           },
           "name": "Professionally",
           "offsetgroup": "Professionally",
           "orientation": "h",
           "showlegend": true,
           "type": "histogram",
           "x": [
            "0.08"
           ],
           "xaxis": "x",
           "y": [
            "Professionally"
           ],
           "yaxis": "y"
          },
          {
           "alignmentgroup": "True",
           "bingroup": "y",
           "histfunc": "sum",
           "hovertemplate": "motive=%{y}<br>year=2021<br>sum of trips=%{x}<extra></extra>",
           "legendgroup": "Services/care",
           "marker": {
            "color": "#EF553B",
            "pattern": {
             "shape": ""
            }
           },
           "name": "Services/care",
           "offsetgroup": "Services/care",
           "orientation": "h",
           "showlegend": true,
           "type": "histogram",
           "x": [
            "0.09"
           ],
           "xaxis": "x",
           "y": [
            "Services/care"
           ],
           "yaxis": "y"
          },
          {
           "alignmentgroup": "True",
           "bingroup": "y",
           "histfunc": "sum",
           "hovertemplate": "motive=%{y}<br>year=2021<br>sum of trips=%{x}<extra></extra>",
           "legendgroup": "Attending education/courses",
           "marker": {
            "color": "#00cc96",
            "pattern": {
             "shape": ""
            }
           },
           "name": "Attending education/courses",
           "offsetgroup": "Attending education/courses",
           "orientation": "h",
           "showlegend": true,
           "type": "histogram",
           "x": [
            "0.14"
           ],
           "xaxis": "x",
           "y": [
            "Attending education/courses"
           ],
           "yaxis": "y"
          },
          {
           "alignmentgroup": "True",
           "bingroup": "y",
           "histfunc": "sum",
           "hovertemplate": "motive=%{y}<br>year=2021<br>sum of trips=%{x}<extra></extra>",
           "legendgroup": "Travel to/from work, (non)-daily commute",
           "marker": {
            "color": "#ab63fa",
            "pattern": {
             "shape": ""
            }
           },
           "name": "Travel to/from work, (non)-daily commute",
           "offsetgroup": "Travel to/from work, (non)-daily commute",
           "orientation": "h",
           "showlegend": true,
           "type": "histogram",
           "x": [
            "0.37"
           ],
           "xaxis": "x",
           "y": [
            "Travel to/from work, (non)-daily commute"
           ],
           "yaxis": "y"
          },
          {
           "alignmentgroup": "True",
           "bingroup": "y",
           "histfunc": "sum",
           "hovertemplate": "motive=%{y}<br>year=2021<br>sum of trips=%{x}<extra></extra>",
           "legendgroup": "Shopping, groceries, funshopping.",
           "marker": {
            "color": "#FFA15A",
            "pattern": {
             "shape": ""
            }
           },
           "name": "Shopping, groceries, funshopping.",
           "offsetgroup": "Shopping, groceries, funshopping.",
           "orientation": "h",
           "showlegend": true,
           "type": "histogram",
           "x": [
            "0.56"
           ],
           "xaxis": "x",
           "y": [
            "Shopping, groceries, funshopping."
           ],
           "yaxis": "y"
          },
          {
           "alignmentgroup": "True",
           "bingroup": "y",
           "histfunc": "sum",
           "hovertemplate": "motive=%{y}<br>year=2021<br>sum of trips=%{x}<extra></extra>",
           "legendgroup": "Total",
           "marker": {
            "color": "#19d3f3",
            "pattern": {
             "shape": ""
            }
           },
           "name": "Total",
           "offsetgroup": "Total",
           "orientation": "h",
           "showlegend": true,
           "type": "histogram",
           "x": [
            "2.51"
           ],
           "xaxis": "x",
           "y": [
            "Total"
           ],
           "yaxis": "y"
          }
         ],
         "name": "2021"
        },
        {
         "data": [
          {
           "alignmentgroup": "True",
           "bingroup": "y",
           "histfunc": "sum",
           "hovertemplate": "motive=%{y}<br>year=2022<br>sum of trips=%{x}<extra></extra>",
           "legendgroup": "Professionally",
           "marker": {
            "color": "#636efa",
            "pattern": {
             "shape": ""
            }
           },
           "name": "Professionally",
           "offsetgroup": "Professionally",
           "orientation": "h",
           "showlegend": true,
           "type": "histogram",
           "x": [
            "0.08"
           ],
           "xaxis": "x",
           "y": [
            "Professionally"
           ],
           "yaxis": "y"
          },
          {
           "alignmentgroup": "True",
           "bingroup": "y",
           "histfunc": "sum",
           "hovertemplate": "motive=%{y}<br>year=2022<br>sum of trips=%{x}<extra></extra>",
           "legendgroup": "Services/care",
           "marker": {
            "color": "#EF553B",
            "pattern": {
             "shape": ""
            }
           },
           "name": "Services/care",
           "offsetgroup": "Services/care",
           "orientation": "h",
           "showlegend": true,
           "type": "histogram",
           "x": [
            "0.09"
           ],
           "xaxis": "x",
           "y": [
            "Services/care"
           ],
           "yaxis": "y"
          },
          {
           "alignmentgroup": "True",
           "bingroup": "y",
           "histfunc": "sum",
           "hovertemplate": "motive=%{y}<br>year=2022<br>sum of trips=%{x}<extra></extra>",
           "legendgroup": "Attending education/courses",
           "marker": {
            "color": "#00cc96",
            "pattern": {
             "shape": ""
            }
           },
           "name": "Attending education/courses",
           "offsetgroup": "Attending education/courses",
           "orientation": "h",
           "showlegend": true,
           "type": "histogram",
           "x": [
            "0.18"
           ],
           "xaxis": "x",
           "y": [
            "Attending education/courses"
           ],
           "yaxis": "y"
          },
          {
           "alignmentgroup": "True",
           "bingroup": "y",
           "histfunc": "sum",
           "hovertemplate": "motive=%{y}<br>year=2022<br>sum of trips=%{x}<extra></extra>",
           "legendgroup": "Travel to/from work, (non)-daily commute",
           "marker": {
            "color": "#ab63fa",
            "pattern": {
             "shape": ""
            }
           },
           "name": "Travel to/from work, (non)-daily commute",
           "offsetgroup": "Travel to/from work, (non)-daily commute",
           "orientation": "h",
           "showlegend": true,
           "type": "histogram",
           "x": [
            "0.42"
           ],
           "xaxis": "x",
           "y": [
            "Travel to/from work, (non)-daily commute"
           ],
           "yaxis": "y"
          },
          {
           "alignmentgroup": "True",
           "bingroup": "y",
           "histfunc": "sum",
           "hovertemplate": "motive=%{y}<br>year=2022<br>sum of trips=%{x}<extra></extra>",
           "legendgroup": "Shopping, groceries, funshopping.",
           "marker": {
            "color": "#FFA15A",
            "pattern": {
             "shape": ""
            }
           },
           "name": "Shopping, groceries, funshopping.",
           "offsetgroup": "Shopping, groceries, funshopping.",
           "orientation": "h",
           "showlegend": true,
           "type": "histogram",
           "x": [
            "0.58"
           ],
           "xaxis": "x",
           "y": [
            "Shopping, groceries, funshopping."
           ],
           "yaxis": "y"
          },
          {
           "alignmentgroup": "True",
           "bingroup": "y",
           "histfunc": "sum",
           "hovertemplate": "motive=%{y}<br>year=2022<br>sum of trips=%{x}<extra></extra>",
           "legendgroup": "Total",
           "marker": {
            "color": "#19d3f3",
            "pattern": {
             "shape": ""
            }
           },
           "name": "Total",
           "offsetgroup": "Total",
           "orientation": "h",
           "showlegend": true,
           "type": "histogram",
           "x": [
            "2.70"
           ],
           "xaxis": "x",
           "y": [
            "Total"
           ],
           "yaxis": "y"
          }
         ],
         "name": "2022"
        }
       ],
       "layout": {
        "barmode": "relative",
        "height": 400,
        "legend": {
         "title": {
          "text": "motive"
         },
         "tracegroupgap": 0
        },
        "margin": {
         "t": 60
        },
        "sliders": [
         {
          "active": 0,
          "currentvalue": {
           "prefix": "year="
          },
          "len": 0.9,
          "pad": {
           "b": 10,
           "t": 60
          },
          "steps": [
           {
            "args": [
             [
              "2018"
             ],
             {
              "frame": {
               "duration": 0,
               "redraw": true
              },
              "fromcurrent": true,
              "mode": "immediate",
              "transition": {
               "duration": 0,
               "easing": "linear"
              }
             }
            ],
            "label": "2018",
            "method": "animate"
           },
           {
            "args": [
             [
              "2019"
             ],
             {
              "frame": {
               "duration": 0,
               "redraw": true
              },
              "fromcurrent": true,
              "mode": "immediate",
              "transition": {
               "duration": 0,
               "easing": "linear"
              }
             }
            ],
            "label": "2019",
            "method": "animate"
           },
           {
            "args": [
             [
              "2020"
             ],
             {
              "frame": {
               "duration": 0,
               "redraw": true
              },
              "fromcurrent": true,
              "mode": "immediate",
              "transition": {
               "duration": 0,
               "easing": "linear"
              }
             }
            ],
            "label": "2020",
            "method": "animate"
           },
           {
            "args": [
             [
              "2021"
             ],
             {
              "frame": {
               "duration": 0,
               "redraw": true
              },
              "fromcurrent": true,
              "mode": "immediate",
              "transition": {
               "duration": 0,
               "easing": "linear"
              }
             }
            ],
            "label": "2021",
            "method": "animate"
           },
           {
            "args": [
             [
              "2022"
             ],
             {
              "frame": {
               "duration": 0,
               "redraw": true
              },
              "fromcurrent": true,
              "mode": "immediate",
              "transition": {
               "duration": 0,
               "easing": "linear"
              }
             }
            ],
            "label": "2022",
            "method": "animate"
           }
          ],
          "x": 0.1,
          "xanchor": "left",
          "y": 0,
          "yanchor": "top"
         }
        ],
        "template": {
         "data": {
          "bar": [
           {
            "error_x": {
             "color": "#2a3f5f"
            },
            "error_y": {
             "color": "#2a3f5f"
            },
            "marker": {
             "line": {
              "color": "#E5ECF6",
              "width": 0.5
             },
             "pattern": {
              "fillmode": "overlay",
              "size": 10,
              "solidity": 0.2
             }
            },
            "type": "bar"
           }
          ],
          "barpolar": [
           {
            "marker": {
             "line": {
              "color": "#E5ECF6",
              "width": 0.5
             },
             "pattern": {
              "fillmode": "overlay",
              "size": 10,
              "solidity": 0.2
             }
            },
            "type": "barpolar"
           }
          ],
          "carpet": [
           {
            "aaxis": {
             "endlinecolor": "#2a3f5f",
             "gridcolor": "white",
             "linecolor": "white",
             "minorgridcolor": "white",
             "startlinecolor": "#2a3f5f"
            },
            "baxis": {
             "endlinecolor": "#2a3f5f",
             "gridcolor": "white",
             "linecolor": "white",
             "minorgridcolor": "white",
             "startlinecolor": "#2a3f5f"
            },
            "type": "carpet"
           }
          ],
          "choropleth": [
           {
            "colorbar": {
             "outlinewidth": 0,
             "ticks": ""
            },
            "type": "choropleth"
           }
          ],
          "contour": [
           {
            "colorbar": {
             "outlinewidth": 0,
             "ticks": ""
            },
            "colorscale": [
             [
              0,
              "#0d0887"
             ],
             [
              0.1111111111111111,
              "#46039f"
             ],
             [
              0.2222222222222222,
              "#7201a8"
             ],
             [
              0.3333333333333333,
              "#9c179e"
             ],
             [
              0.4444444444444444,
              "#bd3786"
             ],
             [
              0.5555555555555556,
              "#d8576b"
             ],
             [
              0.6666666666666666,
              "#ed7953"
             ],
             [
              0.7777777777777778,
              "#fb9f3a"
             ],
             [
              0.8888888888888888,
              "#fdca26"
             ],
             [
              1,
              "#f0f921"
             ]
            ],
            "type": "contour"
           }
          ],
          "contourcarpet": [
           {
            "colorbar": {
             "outlinewidth": 0,
             "ticks": ""
            },
            "type": "contourcarpet"
           }
          ],
          "heatmap": [
           {
            "colorbar": {
             "outlinewidth": 0,
             "ticks": ""
            },
            "colorscale": [
             [
              0,
              "#0d0887"
             ],
             [
              0.1111111111111111,
              "#46039f"
             ],
             [
              0.2222222222222222,
              "#7201a8"
             ],
             [
              0.3333333333333333,
              "#9c179e"
             ],
             [
              0.4444444444444444,
              "#bd3786"
             ],
             [
              0.5555555555555556,
              "#d8576b"
             ],
             [
              0.6666666666666666,
              "#ed7953"
             ],
             [
              0.7777777777777778,
              "#fb9f3a"
             ],
             [
              0.8888888888888888,
              "#fdca26"
             ],
             [
              1,
              "#f0f921"
             ]
            ],
            "type": "heatmap"
           }
          ],
          "heatmapgl": [
           {
            "colorbar": {
             "outlinewidth": 0,
             "ticks": ""
            },
            "colorscale": [
             [
              0,
              "#0d0887"
             ],
             [
              0.1111111111111111,
              "#46039f"
             ],
             [
              0.2222222222222222,
              "#7201a8"
             ],
             [
              0.3333333333333333,
              "#9c179e"
             ],
             [
              0.4444444444444444,
              "#bd3786"
             ],
             [
              0.5555555555555556,
              "#d8576b"
             ],
             [
              0.6666666666666666,
              "#ed7953"
             ],
             [
              0.7777777777777778,
              "#fb9f3a"
             ],
             [
              0.8888888888888888,
              "#fdca26"
             ],
             [
              1,
              "#f0f921"
             ]
            ],
            "type": "heatmapgl"
           }
          ],
          "histogram": [
           {
            "marker": {
             "pattern": {
              "fillmode": "overlay",
              "size": 10,
              "solidity": 0.2
             }
            },
            "type": "histogram"
           }
          ],
          "histogram2d": [
           {
            "colorbar": {
             "outlinewidth": 0,
             "ticks": ""
            },
            "colorscale": [
             [
              0,
              "#0d0887"
             ],
             [
              0.1111111111111111,
              "#46039f"
             ],
             [
              0.2222222222222222,
              "#7201a8"
             ],
             [
              0.3333333333333333,
              "#9c179e"
             ],
             [
              0.4444444444444444,
              "#bd3786"
             ],
             [
              0.5555555555555556,
              "#d8576b"
             ],
             [
              0.6666666666666666,
              "#ed7953"
             ],
             [
              0.7777777777777778,
              "#fb9f3a"
             ],
             [
              0.8888888888888888,
              "#fdca26"
             ],
             [
              1,
              "#f0f921"
             ]
            ],
            "type": "histogram2d"
           }
          ],
          "histogram2dcontour": [
           {
            "colorbar": {
             "outlinewidth": 0,
             "ticks": ""
            },
            "colorscale": [
             [
              0,
              "#0d0887"
             ],
             [
              0.1111111111111111,
              "#46039f"
             ],
             [
              0.2222222222222222,
              "#7201a8"
             ],
             [
              0.3333333333333333,
              "#9c179e"
             ],
             [
              0.4444444444444444,
              "#bd3786"
             ],
             [
              0.5555555555555556,
              "#d8576b"
             ],
             [
              0.6666666666666666,
              "#ed7953"
             ],
             [
              0.7777777777777778,
              "#fb9f3a"
             ],
             [
              0.8888888888888888,
              "#fdca26"
             ],
             [
              1,
              "#f0f921"
             ]
            ],
            "type": "histogram2dcontour"
           }
          ],
          "mesh3d": [
           {
            "colorbar": {
             "outlinewidth": 0,
             "ticks": ""
            },
            "type": "mesh3d"
           }
          ],
          "parcoords": [
           {
            "line": {
             "colorbar": {
              "outlinewidth": 0,
              "ticks": ""
             }
            },
            "type": "parcoords"
           }
          ],
          "pie": [
           {
            "automargin": true,
            "type": "pie"
           }
          ],
          "scatter": [
           {
            "fillpattern": {
             "fillmode": "overlay",
             "size": 10,
             "solidity": 0.2
            },
            "type": "scatter"
           }
          ],
          "scatter3d": [
           {
            "line": {
             "colorbar": {
              "outlinewidth": 0,
              "ticks": ""
             }
            },
            "marker": {
             "colorbar": {
              "outlinewidth": 0,
              "ticks": ""
             }
            },
            "type": "scatter3d"
           }
          ],
          "scattercarpet": [
           {
            "marker": {
             "colorbar": {
              "outlinewidth": 0,
              "ticks": ""
             }
            },
            "type": "scattercarpet"
           }
          ],
          "scattergeo": [
           {
            "marker": {
             "colorbar": {
              "outlinewidth": 0,
              "ticks": ""
             }
            },
            "type": "scattergeo"
           }
          ],
          "scattergl": [
           {
            "marker": {
             "colorbar": {
              "outlinewidth": 0,
              "ticks": ""
             }
            },
            "type": "scattergl"
           }
          ],
          "scattermapbox": [
           {
            "marker": {
             "colorbar": {
              "outlinewidth": 0,
              "ticks": ""
             }
            },
            "type": "scattermapbox"
           }
          ],
          "scatterpolar": [
           {
            "marker": {
             "colorbar": {
              "outlinewidth": 0,
              "ticks": ""
             }
            },
            "type": "scatterpolar"
           }
          ],
          "scatterpolargl": [
           {
            "marker": {
             "colorbar": {
              "outlinewidth": 0,
              "ticks": ""
             }
            },
            "type": "scatterpolargl"
           }
          ],
          "scatterternary": [
           {
            "marker": {
             "colorbar": {
              "outlinewidth": 0,
              "ticks": ""
             }
            },
            "type": "scatterternary"
           }
          ],
          "surface": [
           {
            "colorbar": {
             "outlinewidth": 0,
             "ticks": ""
            },
            "colorscale": [
             [
              0,
              "#0d0887"
             ],
             [
              0.1111111111111111,
              "#46039f"
             ],
             [
              0.2222222222222222,
              "#7201a8"
             ],
             [
              0.3333333333333333,
              "#9c179e"
             ],
             [
              0.4444444444444444,
              "#bd3786"
             ],
             [
              0.5555555555555556,
              "#d8576b"
             ],
             [
              0.6666666666666666,
              "#ed7953"
             ],
             [
              0.7777777777777778,
              "#fb9f3a"
             ],
             [
              0.8888888888888888,
              "#fdca26"
             ],
             [
              1,
              "#f0f921"
             ]
            ],
            "type": "surface"
           }
          ],
          "table": [
           {
            "cells": {
             "fill": {
              "color": "#EBF0F8"
             },
             "line": {
              "color": "white"
             }
            },
            "header": {
             "fill": {
              "color": "#C8D4E3"
             },
             "line": {
              "color": "white"
             }
            },
            "type": "table"
           }
          ]
         },
         "layout": {
          "annotationdefaults": {
           "arrowcolor": "#2a3f5f",
           "arrowhead": 0,
           "arrowwidth": 1
          },
          "autotypenumbers": "strict",
          "coloraxis": {
           "colorbar": {
            "outlinewidth": 0,
            "ticks": ""
           }
          },
          "colorscale": {
           "diverging": [
            [
             0,
             "#8e0152"
            ],
            [
             0.1,
             "#c51b7d"
            ],
            [
             0.2,
             "#de77ae"
            ],
            [
             0.3,
             "#f1b6da"
            ],
            [
             0.4,
             "#fde0ef"
            ],
            [
             0.5,
             "#f7f7f7"
            ],
            [
             0.6,
             "#e6f5d0"
            ],
            [
             0.7,
             "#b8e186"
            ],
            [
             0.8,
             "#7fbc41"
            ],
            [
             0.9,
             "#4d9221"
            ],
            [
             1,
             "#276419"
            ]
           ],
           "sequential": [
            [
             0,
             "#0d0887"
            ],
            [
             0.1111111111111111,
             "#46039f"
            ],
            [
             0.2222222222222222,
             "#7201a8"
            ],
            [
             0.3333333333333333,
             "#9c179e"
            ],
            [
             0.4444444444444444,
             "#bd3786"
            ],
            [
             0.5555555555555556,
             "#d8576b"
            ],
            [
             0.6666666666666666,
             "#ed7953"
            ],
            [
             0.7777777777777778,
             "#fb9f3a"
            ],
            [
             0.8888888888888888,
             "#fdca26"
            ],
            [
             1,
             "#f0f921"
            ]
           ],
           "sequentialminus": [
            [
             0,
             "#0d0887"
            ],
            [
             0.1111111111111111,
             "#46039f"
            ],
            [
             0.2222222222222222,
             "#7201a8"
            ],
            [
             0.3333333333333333,
             "#9c179e"
            ],
            [
             0.4444444444444444,
             "#bd3786"
            ],
            [
             0.5555555555555556,
             "#d8576b"
            ],
            [
             0.6666666666666666,
             "#ed7953"
            ],
            [
             0.7777777777777778,
             "#fb9f3a"
            ],
            [
             0.8888888888888888,
             "#fdca26"
            ],
            [
             1,
             "#f0f921"
            ]
           ]
          },
          "colorway": [
           "#636efa",
           "#EF553B",
           "#00cc96",
           "#ab63fa",
           "#FFA15A",
           "#19d3f3",
           "#FF6692",
           "#B6E880",
           "#FF97FF",
           "#FECB52"
          ],
          "font": {
           "color": "#2a3f5f"
          },
          "geo": {
           "bgcolor": "white",
           "lakecolor": "white",
           "landcolor": "#E5ECF6",
           "showlakes": true,
           "showland": true,
           "subunitcolor": "white"
          },
          "hoverlabel": {
           "align": "left"
          },
          "hovermode": "closest",
          "mapbox": {
           "style": "light"
          },
          "paper_bgcolor": "white",
          "plot_bgcolor": "#E5ECF6",
          "polar": {
           "angularaxis": {
            "gridcolor": "white",
            "linecolor": "white",
            "ticks": ""
           },
           "bgcolor": "#E5ECF6",
           "radialaxis": {
            "gridcolor": "white",
            "linecolor": "white",
            "ticks": ""
           }
          },
          "scene": {
           "xaxis": {
            "backgroundcolor": "#E5ECF6",
            "gridcolor": "white",
            "gridwidth": 2,
            "linecolor": "white",
            "showbackground": true,
            "ticks": "",
            "zerolinecolor": "white"
           },
           "yaxis": {
            "backgroundcolor": "#E5ECF6",
            "gridcolor": "white",
            "gridwidth": 2,
            "linecolor": "white",
            "showbackground": true,
            "ticks": "",
            "zerolinecolor": "white"
           },
           "zaxis": {
            "backgroundcolor": "#E5ECF6",
            "gridcolor": "white",
            "gridwidth": 2,
            "linecolor": "white",
            "showbackground": true,
            "ticks": "",
            "zerolinecolor": "white"
           }
          },
          "shapedefaults": {
           "line": {
            "color": "#2a3f5f"
           }
          },
          "ternary": {
           "aaxis": {
            "gridcolor": "white",
            "linecolor": "white",
            "ticks": ""
           },
           "baxis": {
            "gridcolor": "white",
            "linecolor": "white",
            "ticks": ""
           },
           "bgcolor": "#E5ECF6",
           "caxis": {
            "gridcolor": "white",
            "linecolor": "white",
            "ticks": ""
           }
          },
          "title": {
           "x": 0.05
          },
          "xaxis": {
           "automargin": true,
           "gridcolor": "white",
           "linecolor": "white",
           "ticks": "",
           "title": {
            "standoff": 15
           },
           "zerolinecolor": "white",
           "zerolinewidth": 2
          },
          "yaxis": {
           "automargin": true,
           "gridcolor": "white",
           "linecolor": "white",
           "ticks": "",
           "title": {
            "standoff": 15
           },
           "zerolinecolor": "white",
           "zerolinewidth": 2
          }
         }
        },
        "title": {
         "text": "Average amount of trips for every vehicle combined per day from 2018 to 2022",
         "x": 0.5
        },
        "updatemenus": [
         {
          "buttons": [
           {
            "args": [
             null,
             {
              "frame": {
               "duration": 500,
               "redraw": true
              },
              "fromcurrent": true,
              "mode": "immediate",
              "transition": {
               "duration": 500,
               "easing": "linear"
              }
             }
            ],
            "label": "&#9654;",
            "method": "animate"
           },
           {
            "args": [
             [
              null
             ],
             {
              "frame": {
               "duration": 0,
               "redraw": true
              },
              "fromcurrent": true,
              "mode": "immediate",
              "transition": {
               "duration": 0,
               "easing": "linear"
              }
             }
            ],
            "label": "&#9724;",
            "method": "animate"
           }
          ],
          "direction": "left",
          "pad": {
           "r": 10,
           "t": 70
          },
          "showactive": false,
          "type": "buttons",
          "x": 0.1,
          "xanchor": "right",
          "y": 0,
          "yanchor": "top"
         }
        ],
        "width": 1100,
        "xaxis": {
         "anchor": "y",
         "autorange": true,
         "domain": [
          0,
          1
         ],
         "range": [
          0,
          2.926315789473684
         ],
         "title": {
          "text": "sum of trips"
         },
         "type": "linear"
        },
        "yaxis": {
         "anchor": "x",
         "autorange": true,
         "categoryarray": [
          "Total",
          "Shopping, groceries, funshopping.",
          "Travel to/from work, (non)-daily commute",
          "Attending education/courses",
          "Services/care",
          "Professionally"
         ],
         "categoryorder": "array",
         "domain": [
          0,
          1
         ],
         "range": [
          -0.5,
          5.5
         ],
         "title": {
          "text": "Travel motives"
         },
         "type": "category"
        }
       }
      },
      "image/png": "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",
      "text/html": [
       "<div>                            <div id=\"83ab0da6-4e62-4709-9dfe-8f54fa361cd9\" class=\"plotly-graph-div\" style=\"height:400px; width:1100px;\"></div>            <script type=\"text/javascript\">                require([\"plotly\"], function(Plotly) {                    window.PLOTLYENV=window.PLOTLYENV || {};                                    if (document.getElementById(\"83ab0da6-4e62-4709-9dfe-8f54fa361cd9\")) {                    Plotly.newPlot(                        \"83ab0da6-4e62-4709-9dfe-8f54fa361cd9\",                        [{\"alignmentgroup\":\"True\",\"bingroup\":\"y\",\"histfunc\":\"sum\",\"hovertemplate\":\"motive=%{y}<br>year=2018<br>sum of trips=%{x}<extra></extra>\",\"legendgroup\":\"Professionally\",\"marker\":{\"color\":\"#636efa\",\"pattern\":{\"shape\":\"\"}},\"name\":\"Professionally\",\"offsetgroup\":\"Professionally\",\"orientation\":\"h\",\"showlegend\":true,\"x\":[\"0.07\"],\"xaxis\":\"x\",\"y\":[\"Professionally\"],\"yaxis\":\"y\",\"type\":\"histogram\"},{\"alignmentgroup\":\"True\",\"bingroup\":\"y\",\"histfunc\":\"sum\",\"hovertemplate\":\"motive=%{y}<br>year=2018<br>sum of trips=%{x}<extra></extra>\",\"legendgroup\":\"Services/care\",\"marker\":{\"color\":\"#EF553B\",\"pattern\":{\"shape\":\"\"}},\"name\":\"Services/care\",\"offsetgroup\":\"Services/care\",\"orientation\":\"h\",\"showlegend\":true,\"x\":[\"0.09\"],\"xaxis\":\"x\",\"y\":[\"Services/care\"],\"yaxis\":\"y\",\"type\":\"histogram\"},{\"alignmentgroup\":\"True\",\"bingroup\":\"y\",\"histfunc\":\"sum\",\"hovertemplate\":\"motive=%{y}<br>year=2018<br>sum of trips=%{x}<extra></extra>\",\"legendgroup\":\"Attending education/courses\",\"marker\":{\"color\":\"#00cc96\",\"pattern\":{\"shape\":\"\"}},\"name\":\"Attending education/courses\",\"offsetgroup\":\"Attending education/courses\",\"orientation\":\"h\",\"showlegend\":true,\"x\":[\"0.23\"],\"xaxis\":\"x\",\"y\":[\"Attending education/courses\"],\"yaxis\":\"y\",\"type\":\"histogram\"},{\"alignmentgroup\":\"True\",\"bingroup\":\"y\",\"histfunc\":\"sum\",\"hovertemplate\":\"motive=%{y}<br>year=2018<br>sum of trips=%{x}<extra></extra>\",\"legendgroup\":\"Travel to/from work, (non)-daily commute\",\"marker\":{\"color\":\"#ab63fa\",\"pattern\":{\"shape\":\"\"}},\"name\":\"Travel to/from work, (non)-daily commute\",\"offsetgroup\":\"Travel to/from work, (non)-daily commute\",\"orientation\":\"h\",\"showlegend\":true,\"x\":[\"0.55\"],\"xaxis\":\"x\",\"y\":[\"Travel to/from work, (non)-daily commute\"],\"yaxis\":\"y\",\"type\":\"histogram\"},{\"alignmentgroup\":\"True\",\"bingroup\":\"y\",\"histfunc\":\"sum\",\"hovertemplate\":\"motive=%{y}<br>year=2018<br>sum of trips=%{x}<extra></extra>\",\"legendgroup\":\"Shopping, groceries, funshopping.\",\"marker\":{\"color\":\"#FFA15A\",\"pattern\":{\"shape\":\"\"}},\"name\":\"Shopping, groceries, funshopping.\",\"offsetgroup\":\"Shopping, groceries, funshopping.\",\"orientation\":\"h\",\"showlegend\":true,\"x\":[\"0.56\"],\"xaxis\":\"x\",\"y\":[\"Shopping, groceries, funshopping.\"],\"yaxis\":\"y\",\"type\":\"histogram\"},{\"alignmentgroup\":\"True\",\"bingroup\":\"y\",\"histfunc\":\"sum\",\"hovertemplate\":\"motive=%{y}<br>year=2018<br>sum of trips=%{x}<extra></extra>\",\"legendgroup\":\"Total\",\"marker\":{\"color\":\"#19d3f3\",\"pattern\":{\"shape\":\"\"}},\"name\":\"Total\",\"offsetgroup\":\"Total\",\"orientation\":\"h\",\"showlegend\":true,\"x\":[\"2.78\"],\"xaxis\":\"x\",\"y\":[\"Total\"],\"yaxis\":\"y\",\"type\":\"histogram\"}],                        {\"template\":{\"data\":{\"histogram2dcontour\":[{\"type\":\"histogram2dcontour\",\"colorbar\":{\"outlinewidth\":0,\"ticks\":\"\"},\"colorscale\":[[0.0,\"#0d0887\"],[0.1111111111111111,\"#46039f\"],[0.2222222222222222,\"#7201a8\"],[0.3333333333333333,\"#9c179e\"],[0.4444444444444444,\"#bd3786\"],[0.5555555555555556,\"#d8576b\"],[0.6666666666666666,\"#ed7953\"],[0.7777777777777778,\"#fb9f3a\"],[0.8888888888888888,\"#fdca26\"],[1.0,\"#f0f921\"]]}],\"choropleth\":[{\"type\":\"choropleth\",\"colorbar\":{\"outlinewidth\":0,\"ticks\":\"\"}}],\"histogram2d\":[{\"type\":\"histogram2d\",\"colorbar\":{\"outlinewidth\":0,\"ticks\":\"\"},\"colorscale\":[[0.0,\"#0d0887\"],[0.1111111111111111,\"#46039f\"],[0.2222222222222222,\"#7201a8\"],[0.3333333333333333,\"#9c179e\"],[0.4444444444444444,\"#bd3786\"],[0.5555555555555556,\"#d8576b\"],[0.6666666666666666,\"#ed7953\"],[0.7777777777777778,\"#fb9f3a\"],[0.8888888888888888,\"#fdca26\"],[1.0,\"#f0f921\"]]}],\"heatmap\":[{\"type\":\"heatmap\",\"colorbar\":{\"outlinewidth\":0,\"ticks\":\"\"},\"colorscale\":[[0.0,\"#0d0887\"],[0.1111111111111111,\"#46039f\"],[0.2222222222222222,\"#7201a8\"],[0.3333333333333333,\"#9c179e\"],[0.4444444444444444,\"#bd3786\"],[0.5555555555555556,\"#d8576b\"],[0.6666666666666666,\"#ed7953\"],[0.7777777777777778,\"#fb9f3a\"],[0.8888888888888888,\"#fdca26\"],[1.0,\"#f0f921\"]]}],\"heatmapgl\":[{\"type\":\"heatmapgl\",\"colorbar\":{\"outlinewidth\":0,\"ticks\":\"\"},\"colorscale\":[[0.0,\"#0d0887\"],[0.1111111111111111,\"#46039f\"],[0.2222222222222222,\"#7201a8\"],[0.3333333333333333,\"#9c179e\"],[0.4444444444444444,\"#bd3786\"],[0.5555555555555556,\"#d8576b\"],[0.6666666666666666,\"#ed7953\"],[0.7777777777777778,\"#fb9f3a\"],[0.8888888888888888,\"#fdca26\"],[1.0,\"#f0f921\"]]}],\"contourcarpet\":[{\"type\":\"contourcarpet\",\"colorbar\":{\"outlinewidth\":0,\"ticks\":\"\"}}],\"contour\":[{\"type\":\"contour\",\"colorbar\":{\"outlinewidth\":0,\"ticks\":\"\"},\"colorscale\":[[0.0,\"#0d0887\"],[0.1111111111111111,\"#46039f\"],[0.2222222222222222,\"#7201a8\"],[0.3333333333333333,\"#9c179e\"],[0.4444444444444444,\"#bd3786\"],[0.5555555555555556,\"#d8576b\"],[0.6666666666666666,\"#ed7953\"],[0.7777777777777778,\"#fb9f3a\"],[0.8888888888888888,\"#fdca26\"],[1.0,\"#f0f921\"]]}],\"surface\":[{\"type\":\"surface\",\"colorbar\":{\"outlinewidth\":0,\"ticks\":\"\"},\"colorscale\":[[0.0,\"#0d0887\"],[0.1111111111111111,\"#46039f\"],[0.2222222222222222,\"#7201a8\"],[0.3333333333333333,\"#9c179e\"],[0.4444444444444444,\"#bd3786\"],[0.5555555555555556,\"#d8576b\"],[0.6666666666666666,\"#ed7953\"],[0.7777777777777778,\"#fb9f3a\"],[0.8888888888888888,\"#fdca26\"],[1.0,\"#f0f921\"]]}],\"mesh3d\":[{\"type\":\"mesh3d\",\"colorbar\":{\"outlinewidth\":0,\"ticks\":\"\"}}],\"scatter\":[{\"fillpattern\":{\"fillmode\":\"overlay\",\"size\":10,\"solidity\":0.2},\"type\":\"scatter\"}],\"parcoords\":[{\"type\":\"parcoords\",\"line\":{\"colorbar\":{\"outlinewidth\":0,\"ticks\":\"\"}}}],\"scatterpolargl\":[{\"type\":\"scatterpolargl\",\"marker\":{\"colorbar\":{\"outlinewidth\":0,\"ticks\":\"\"}}}],\"bar\":[{\"error_x\":{\"color\":\"#2a3f5f\"},\"error_y\":{\"color\":\"#2a3f5f\"},\"marker\":{\"line\":{\"color\":\"#E5ECF6\",\"width\":0.5},\"pattern\":{\"fillmode\":\"overlay\",\"size\":10,\"solidity\":0.2}},\"type\":\"bar\"}],\"scattergeo\":[{\"type\":\"scattergeo\",\"marker\":{\"colorbar\":{\"outlinewidth\":0,\"ticks\":\"\"}}}],\"scatterpolar\":[{\"type\":\"scatterpolar\",\"marker\":{\"colorbar\":{\"outlinewidth\":0,\"ticks\":\"\"}}}],\"histogram\":[{\"marker\":{\"pattern\":{\"fillmode\":\"overlay\",\"size\":10,\"solidity\":0.2}},\"type\":\"histogram\"}],\"scattergl\":[{\"type\":\"scattergl\",\"marker\":{\"colorbar\":{\"outlinewidth\":0,\"ticks\":\"\"}}}],\"scatter3d\":[{\"type\":\"scatter3d\",\"line\":{\"colorbar\":{\"outlinewidth\":0,\"ticks\":\"\"}},\"marker\":{\"colorbar\":{\"outlinewidth\":0,\"ticks\":\"\"}}}],\"scattermapbox\":[{\"type\":\"scattermapbox\",\"marker\":{\"colorbar\":{\"outlinewidth\":0,\"ticks\":\"\"}}}],\"scatterternary\":[{\"type\":\"scatterternary\",\"marker\":{\"colorbar\":{\"outlinewidth\":0,\"ticks\":\"\"}}}],\"scattercarpet\":[{\"type\":\"scattercarpet\",\"marker\":{\"colorbar\":{\"outlinewidth\":0,\"ticks\":\"\"}}}],\"carpet\":[{\"aaxis\":{\"endlinecolor\":\"#2a3f5f\",\"gridcolor\":\"white\",\"linecolor\":\"white\",\"minorgridcolor\":\"white\",\"startlinecolor\":\"#2a3f5f\"},\"baxis\":{\"endlinecolor\":\"#2a3f5f\",\"gridcolor\":\"white\",\"linecolor\":\"white\",\"minorgridcolor\":\"white\",\"startlinecolor\":\"#2a3f5f\"},\"type\":\"carpet\"}],\"table\":[{\"cells\":{\"fill\":{\"color\":\"#EBF0F8\"},\"line\":{\"color\":\"white\"}},\"header\":{\"fill\":{\"color\":\"#C8D4E3\"},\"line\":{\"color\":\"white\"}},\"type\":\"table\"}],\"barpolar\":[{\"marker\":{\"line\":{\"color\":\"#E5ECF6\",\"width\":0.5},\"pattern\":{\"fillmode\":\"overlay\",\"size\":10,\"solidity\":0.2}},\"type\":\"barpolar\"}],\"pie\":[{\"automargin\":true,\"type\":\"pie\"}]},\"layout\":{\"autotypenumbers\":\"strict\",\"colorway\":[\"#636efa\",\"#EF553B\",\"#00cc96\",\"#ab63fa\",\"#FFA15A\",\"#19d3f3\",\"#FF6692\",\"#B6E880\",\"#FF97FF\",\"#FECB52\"],\"font\":{\"color\":\"#2a3f5f\"},\"hovermode\":\"closest\",\"hoverlabel\":{\"align\":\"left\"},\"paper_bgcolor\":\"white\",\"plot_bgcolor\":\"#E5ECF6\",\"polar\":{\"bgcolor\":\"#E5ECF6\",\"angularaxis\":{\"gridcolor\":\"white\",\"linecolor\":\"white\",\"ticks\":\"\"},\"radialaxis\":{\"gridcolor\":\"white\",\"linecolor\":\"white\",\"ticks\":\"\"}},\"ternary\":{\"bgcolor\":\"#E5ECF6\",\"aaxis\":{\"gridcolor\":\"white\",\"linecolor\":\"white\",\"ticks\":\"\"},\"baxis\":{\"gridcolor\":\"white\",\"linecolor\":\"white\",\"ticks\":\"\"},\"caxis\":{\"gridcolor\":\"white\",\"linecolor\":\"white\",\"ticks\":\"\"}},\"coloraxis\":{\"colorbar\":{\"outlinewidth\":0,\"ticks\":\"\"}},\"colorscale\":{\"sequential\":[[0.0,\"#0d0887\"],[0.1111111111111111,\"#46039f\"],[0.2222222222222222,\"#7201a8\"],[0.3333333333333333,\"#9c179e\"],[0.4444444444444444,\"#bd3786\"],[0.5555555555555556,\"#d8576b\"],[0.6666666666666666,\"#ed7953\"],[0.7777777777777778,\"#fb9f3a\"],[0.8888888888888888,\"#fdca26\"],[1.0,\"#f0f921\"]],\"sequentialminus\":[[0.0,\"#0d0887\"],[0.1111111111111111,\"#46039f\"],[0.2222222222222222,\"#7201a8\"],[0.3333333333333333,\"#9c179e\"],[0.4444444444444444,\"#bd3786\"],[0.5555555555555556,\"#d8576b\"],[0.6666666666666666,\"#ed7953\"],[0.7777777777777778,\"#fb9f3a\"],[0.8888888888888888,\"#fdca26\"],[1.0,\"#f0f921\"]],\"diverging\":[[0,\"#8e0152\"],[0.1,\"#c51b7d\"],[0.2,\"#de77ae\"],[0.3,\"#f1b6da\"],[0.4,\"#fde0ef\"],[0.5,\"#f7f7f7\"],[0.6,\"#e6f5d0\"],[0.7,\"#b8e186\"],[0.8,\"#7fbc41\"],[0.9,\"#4d9221\"],[1,\"#276419\"]]},\"xaxis\":{\"gridcolor\":\"white\",\"linecolor\":\"white\",\"ticks\":\"\",\"title\":{\"standoff\":15},\"zerolinecolor\":\"white\",\"automargin\":true,\"zerolinewidth\":2},\"yaxis\":{\"gridcolor\":\"white\",\"linecolor\":\"white\",\"ticks\":\"\",\"title\":{\"standoff\":15},\"zerolinecolor\":\"white\",\"automargin\":true,\"zerolinewidth\":2},\"scene\":{\"xaxis\":{\"backgroundcolor\":\"#E5ECF6\",\"gridcolor\":\"white\",\"linecolor\":\"white\",\"showbackground\":true,\"ticks\":\"\",\"zerolinecolor\":\"white\",\"gridwidth\":2},\"yaxis\":{\"backgroundcolor\":\"#E5ECF6\",\"gridcolor\":\"white\",\"linecolor\":\"white\",\"showbackground\":true,\"ticks\":\"\",\"zerolinecolor\":\"white\",\"gridwidth\":2},\"zaxis\":{\"backgroundcolor\":\"#E5ECF6\",\"gridcolor\":\"white\",\"linecolor\":\"white\",\"showbackground\":true,\"ticks\":\"\",\"zerolinecolor\":\"white\",\"gridwidth\":2}},\"shapedefaults\":{\"line\":{\"color\":\"#2a3f5f\"}},\"annotationdefaults\":{\"arrowcolor\":\"#2a3f5f\",\"arrowhead\":0,\"arrowwidth\":1},\"geo\":{\"bgcolor\":\"white\",\"landcolor\":\"#E5ECF6\",\"subunitcolor\":\"white\",\"showland\":true,\"showlakes\":true,\"lakecolor\":\"white\"},\"title\":{\"x\":0.05},\"mapbox\":{\"style\":\"light\"}}},\"xaxis\":{\"anchor\":\"y\",\"domain\":[0.0,1.0],\"title\":{\"text\":\"sum of trips\"}},\"yaxis\":{\"anchor\":\"x\",\"domain\":[0.0,1.0],\"title\":{\"text\":\"Travel motives\"},\"categoryorder\":\"array\",\"categoryarray\":[\"Total\",\"Shopping, groceries, funshopping.\",\"Travel to/from work, (non)-daily commute\",\"Attending education/courses\",\"Services/care\",\"Professionally\"]},\"legend\":{\"title\":{\"text\":\"motive\"},\"tracegroupgap\":0},\"margin\":{\"t\":60},\"barmode\":\"relative\",\"height\":400,\"width\":1100,\"updatemenus\":[{\"buttons\":[{\"args\":[null,{\"frame\":{\"duration\":500,\"redraw\":true},\"mode\":\"immediate\",\"fromcurrent\":true,\"transition\":{\"duration\":500,\"easing\":\"linear\"}}],\"label\":\"&#9654;\",\"method\":\"animate\"},{\"args\":[[null],{\"frame\":{\"duration\":0,\"redraw\":true},\"mode\":\"immediate\",\"fromcurrent\":true,\"transition\":{\"duration\":0,\"easing\":\"linear\"}}],\"label\":\"&#9724;\",\"method\":\"animate\"}],\"direction\":\"left\",\"pad\":{\"r\":10,\"t\":70},\"showactive\":false,\"type\":\"buttons\",\"x\":0.1,\"xanchor\":\"right\",\"y\":0,\"yanchor\":\"top\"}],\"sliders\":[{\"active\":0,\"currentvalue\":{\"prefix\":\"year=\"},\"len\":0.9,\"pad\":{\"b\":10,\"t\":60},\"steps\":[{\"args\":[[\"2018\"],{\"frame\":{\"duration\":0,\"redraw\":true},\"mode\":\"immediate\",\"fromcurrent\":true,\"transition\":{\"duration\":0,\"easing\":\"linear\"}}],\"label\":\"2018\",\"method\":\"animate\"},{\"args\":[[\"2019\"],{\"frame\":{\"duration\":0,\"redraw\":true},\"mode\":\"immediate\",\"fromcurrent\":true,\"transition\":{\"duration\":0,\"easing\":\"linear\"}}],\"label\":\"2019\",\"method\":\"animate\"},{\"args\":[[\"2020\"],{\"frame\":{\"duration\":0,\"redraw\":true},\"mode\":\"immediate\",\"fromcurrent\":true,\"transition\":{\"duration\":0,\"easing\":\"linear\"}}],\"label\":\"2020\",\"method\":\"animate\"},{\"args\":[[\"2021\"],{\"frame\":{\"duration\":0,\"redraw\":true},\"mode\":\"immediate\",\"fromcurrent\":true,\"transition\":{\"duration\":0,\"easing\":\"linear\"}}],\"label\":\"2021\",\"method\":\"animate\"},{\"args\":[[\"2022\"],{\"frame\":{\"duration\":0,\"redraw\":true},\"mode\":\"immediate\",\"fromcurrent\":true,\"transition\":{\"duration\":0,\"easing\":\"linear\"}}],\"label\":\"2022\",\"method\":\"animate\"}],\"x\":0.1,\"xanchor\":\"left\",\"y\":0,\"yanchor\":\"top\"}],\"title\":{\"text\":\"Average amount of trips for every vehicle combined per day from 2018 to 2022\",\"x\":0.5}},                        {\"responsive\": true}                    ).then(function(){\n",
       "                            Plotly.addFrames('83ab0da6-4e62-4709-9dfe-8f54fa361cd9', [{\"data\":[{\"alignmentgroup\":\"True\",\"bingroup\":\"y\",\"histfunc\":\"sum\",\"hovertemplate\":\"motive=%{y}<br>year=2018<br>sum of trips=%{x}<extra></extra>\",\"legendgroup\":\"Professionally\",\"marker\":{\"color\":\"#636efa\",\"pattern\":{\"shape\":\"\"}},\"name\":\"Professionally\",\"offsetgroup\":\"Professionally\",\"orientation\":\"h\",\"showlegend\":true,\"x\":[\"0.07\"],\"xaxis\":\"x\",\"y\":[\"Professionally\"],\"yaxis\":\"y\",\"type\":\"histogram\"},{\"alignmentgroup\":\"True\",\"bingroup\":\"y\",\"histfunc\":\"sum\",\"hovertemplate\":\"motive=%{y}<br>year=2018<br>sum of trips=%{x}<extra></extra>\",\"legendgroup\":\"Services/care\",\"marker\":{\"color\":\"#EF553B\",\"pattern\":{\"shape\":\"\"}},\"name\":\"Services/care\",\"offsetgroup\":\"Services/care\",\"orientation\":\"h\",\"showlegend\":true,\"x\":[\"0.09\"],\"xaxis\":\"x\",\"y\":[\"Services/care\"],\"yaxis\":\"y\",\"type\":\"histogram\"},{\"alignmentgroup\":\"True\",\"bingroup\":\"y\",\"histfunc\":\"sum\",\"hovertemplate\":\"motive=%{y}<br>year=2018<br>sum of trips=%{x}<extra></extra>\",\"legendgroup\":\"Attending education/courses\",\"marker\":{\"color\":\"#00cc96\",\"pattern\":{\"shape\":\"\"}},\"name\":\"Attending education/courses\",\"offsetgroup\":\"Attending education/courses\",\"orientation\":\"h\",\"showlegend\":true,\"x\":[\"0.23\"],\"xaxis\":\"x\",\"y\":[\"Attending education/courses\"],\"yaxis\":\"y\",\"type\":\"histogram\"},{\"alignmentgroup\":\"True\",\"bingroup\":\"y\",\"histfunc\":\"sum\",\"hovertemplate\":\"motive=%{y}<br>year=2018<br>sum of trips=%{x}<extra></extra>\",\"legendgroup\":\"Travel to/from work, (non)-daily commute\",\"marker\":{\"color\":\"#ab63fa\",\"pattern\":{\"shape\":\"\"}},\"name\":\"Travel to/from work, (non)-daily commute\",\"offsetgroup\":\"Travel to/from work, (non)-daily commute\",\"orientation\":\"h\",\"showlegend\":true,\"x\":[\"0.55\"],\"xaxis\":\"x\",\"y\":[\"Travel to/from work, (non)-daily commute\"],\"yaxis\":\"y\",\"type\":\"histogram\"},{\"alignmentgroup\":\"True\",\"bingroup\":\"y\",\"histfunc\":\"sum\",\"hovertemplate\":\"motive=%{y}<br>year=2018<br>sum of trips=%{x}<extra></extra>\",\"legendgroup\":\"Shopping, groceries, funshopping.\",\"marker\":{\"color\":\"#FFA15A\",\"pattern\":{\"shape\":\"\"}},\"name\":\"Shopping, groceries, funshopping.\",\"offsetgroup\":\"Shopping, groceries, funshopping.\",\"orientation\":\"h\",\"showlegend\":true,\"x\":[\"0.56\"],\"xaxis\":\"x\",\"y\":[\"Shopping, groceries, funshopping.\"],\"yaxis\":\"y\",\"type\":\"histogram\"},{\"alignmentgroup\":\"True\",\"bingroup\":\"y\",\"histfunc\":\"sum\",\"hovertemplate\":\"motive=%{y}<br>year=2018<br>sum of trips=%{x}<extra></extra>\",\"legendgroup\":\"Total\",\"marker\":{\"color\":\"#19d3f3\",\"pattern\":{\"shape\":\"\"}},\"name\":\"Total\",\"offsetgroup\":\"Total\",\"orientation\":\"h\",\"showlegend\":true,\"x\":[\"2.78\"],\"xaxis\":\"x\",\"y\":[\"Total\"],\"yaxis\":\"y\",\"type\":\"histogram\"}],\"name\":\"2018\"},{\"data\":[{\"alignmentgroup\":\"True\",\"bingroup\":\"y\",\"histfunc\":\"sum\",\"hovertemplate\":\"motive=%{y}<br>year=2019<br>sum of trips=%{x}<extra></extra>\",\"legendgroup\":\"Professionally\",\"marker\":{\"color\":\"#636efa\",\"pattern\":{\"shape\":\"\"}},\"name\":\"Professionally\",\"offsetgroup\":\"Professionally\",\"orientation\":\"h\",\"showlegend\":true,\"x\":[\"0.11\"],\"xaxis\":\"x\",\"y\":[\"Professionally\"],\"yaxis\":\"y\",\"type\":\"histogram\"},{\"alignmentgroup\":\"True\",\"bingroup\":\"y\",\"histfunc\":\"sum\",\"hovertemplate\":\"motive=%{y}<br>year=2019<br>sum of trips=%{x}<extra></extra>\",\"legendgroup\":\"Services/care\",\"marker\":{\"color\":\"#EF553B\",\"pattern\":{\"shape\":\"\"}},\"name\":\"Services/care\",\"offsetgroup\":\"Services/care\",\"orientation\":\"h\",\"showlegend\":true,\"x\":[\"0.09\"],\"xaxis\":\"x\",\"y\":[\"Services/care\"],\"yaxis\":\"y\",\"type\":\"histogram\"},{\"alignmentgroup\":\"True\",\"bingroup\":\"y\",\"histfunc\":\"sum\",\"hovertemplate\":\"motive=%{y}<br>year=2019<br>sum of trips=%{x}<extra></extra>\",\"legendgroup\":\"Attending education/courses\",\"marker\":{\"color\":\"#00cc96\",\"pattern\":{\"shape\":\"\"}},\"name\":\"Attending education/courses\",\"offsetgroup\":\"Attending education/courses\",\"orientation\":\"h\",\"showlegend\":true,\"x\":[\"0.22\"],\"xaxis\":\"x\",\"y\":[\"Attending education/courses\"],\"yaxis\":\"y\",\"type\":\"histogram\"},{\"alignmentgroup\":\"True\",\"bingroup\":\"y\",\"histfunc\":\"sum\",\"hovertemplate\":\"motive=%{y}<br>year=2019<br>sum of trips=%{x}<extra></extra>\",\"legendgroup\":\"Travel to/from work, (non)-daily commute\",\"marker\":{\"color\":\"#ab63fa\",\"pattern\":{\"shape\":\"\"}},\"name\":\"Travel to/from work, (non)-daily commute\",\"offsetgroup\":\"Travel to/from work, (non)-daily commute\",\"orientation\":\"h\",\"showlegend\":true,\"x\":[\"0.50\"],\"xaxis\":\"x\",\"y\":[\"Travel to/from work, (non)-daily commute\"],\"yaxis\":\"y\",\"type\":\"histogram\"},{\"alignmentgroup\":\"True\",\"bingroup\":\"y\",\"histfunc\":\"sum\",\"hovertemplate\":\"motive=%{y}<br>year=2019<br>sum of trips=%{x}<extra></extra>\",\"legendgroup\":\"Shopping, groceries, funshopping.\",\"marker\":{\"color\":\"#FFA15A\",\"pattern\":{\"shape\":\"\"}},\"name\":\"Shopping, groceries, funshopping.\",\"offsetgroup\":\"Shopping, groceries, funshopping.\",\"orientation\":\"h\",\"showlegend\":true,\"x\":[\"0.54\"],\"xaxis\":\"x\",\"y\":[\"Shopping, groceries, funshopping.\"],\"yaxis\":\"y\",\"type\":\"histogram\"},{\"alignmentgroup\":\"True\",\"bingroup\":\"y\",\"histfunc\":\"sum\",\"hovertemplate\":\"motive=%{y}<br>year=2019<br>sum of trips=%{x}<extra></extra>\",\"legendgroup\":\"Total\",\"marker\":{\"color\":\"#19d3f3\",\"pattern\":{\"shape\":\"\"}},\"name\":\"Total\",\"offsetgroup\":\"Total\",\"orientation\":\"h\",\"showlegend\":true,\"x\":[\"2.71\"],\"xaxis\":\"x\",\"y\":[\"Total\"],\"yaxis\":\"y\",\"type\":\"histogram\"}],\"name\":\"2019\"},{\"data\":[{\"alignmentgroup\":\"True\",\"bingroup\":\"y\",\"histfunc\":\"sum\",\"hovertemplate\":\"motive=%{y}<br>year=2020<br>sum of trips=%{x}<extra></extra>\",\"legendgroup\":\"Professionally\",\"marker\":{\"color\":\"#636efa\",\"pattern\":{\"shape\":\"\"}},\"name\":\"Professionally\",\"offsetgroup\":\"Professionally\",\"orientation\":\"h\",\"showlegend\":true,\"x\":[\"0.07\"],\"xaxis\":\"x\",\"y\":[\"Professionally\"],\"yaxis\":\"y\",\"type\":\"histogram\"},{\"alignmentgroup\":\"True\",\"bingroup\":\"y\",\"histfunc\":\"sum\",\"hovertemplate\":\"motive=%{y}<br>year=2020<br>sum of trips=%{x}<extra></extra>\",\"legendgroup\":\"Services/care\",\"marker\":{\"color\":\"#EF553B\",\"pattern\":{\"shape\":\"\"}},\"name\":\"Services/care\",\"offsetgroup\":\"Services/care\",\"orientation\":\"h\",\"showlegend\":true,\"x\":[\"0.07\"],\"xaxis\":\"x\",\"y\":[\"Services/care\"],\"yaxis\":\"y\",\"type\":\"histogram\"},{\"alignmentgroup\":\"True\",\"bingroup\":\"y\",\"histfunc\":\"sum\",\"hovertemplate\":\"motive=%{y}<br>year=2020<br>sum of trips=%{x}<extra></extra>\",\"legendgroup\":\"Attending education/courses\",\"marker\":{\"color\":\"#00cc96\",\"pattern\":{\"shape\":\"\"}},\"name\":\"Attending education/courses\",\"offsetgroup\":\"Attending education/courses\",\"orientation\":\"h\",\"showlegend\":true,\"x\":[\"0.14\"],\"xaxis\":\"x\",\"y\":[\"Attending education/courses\"],\"yaxis\":\"y\",\"type\":\"histogram\"},{\"alignmentgroup\":\"True\",\"bingroup\":\"y\",\"histfunc\":\"sum\",\"hovertemplate\":\"motive=%{y}<br>year=2020<br>sum of trips=%{x}<extra></extra>\",\"legendgroup\":\"Travel to/from work, (non)-daily commute\",\"marker\":{\"color\":\"#ab63fa\",\"pattern\":{\"shape\":\"\"}},\"name\":\"Travel to/from work, (non)-daily commute\",\"offsetgroup\":\"Travel to/from work, (non)-daily commute\",\"orientation\":\"h\",\"showlegend\":true,\"x\":[\"0.37\"],\"xaxis\":\"x\",\"y\":[\"Travel to/from work, (non)-daily commute\"],\"yaxis\":\"y\",\"type\":\"histogram\"},{\"alignmentgroup\":\"True\",\"bingroup\":\"y\",\"histfunc\":\"sum\",\"hovertemplate\":\"motive=%{y}<br>year=2020<br>sum of trips=%{x}<extra></extra>\",\"legendgroup\":\"Shopping, groceries, funshopping.\",\"marker\":{\"color\":\"#FFA15A\",\"pattern\":{\"shape\":\"\"}},\"name\":\"Shopping, groceries, funshopping.\",\"offsetgroup\":\"Shopping, groceries, funshopping.\",\"orientation\":\"h\",\"showlegend\":true,\"x\":[\"0.55\"],\"xaxis\":\"x\",\"y\":[\"Shopping, groceries, funshopping.\"],\"yaxis\":\"y\",\"type\":\"histogram\"},{\"alignmentgroup\":\"True\",\"bingroup\":\"y\",\"histfunc\":\"sum\",\"hovertemplate\":\"motive=%{y}<br>year=2020<br>sum of trips=%{x}<extra></extra>\",\"legendgroup\":\"Total\",\"marker\":{\"color\":\"#19d3f3\",\"pattern\":{\"shape\":\"\"}},\"name\":\"Total\",\"offsetgroup\":\"Total\",\"orientation\":\"h\",\"showlegend\":true,\"x\":[\"2.35\"],\"xaxis\":\"x\",\"y\":[\"Total\"],\"yaxis\":\"y\",\"type\":\"histogram\"}],\"name\":\"2020\"},{\"data\":[{\"alignmentgroup\":\"True\",\"bingroup\":\"y\",\"histfunc\":\"sum\",\"hovertemplate\":\"motive=%{y}<br>year=2021<br>sum of trips=%{x}<extra></extra>\",\"legendgroup\":\"Professionally\",\"marker\":{\"color\":\"#636efa\",\"pattern\":{\"shape\":\"\"}},\"name\":\"Professionally\",\"offsetgroup\":\"Professionally\",\"orientation\":\"h\",\"showlegend\":true,\"x\":[\"0.08\"],\"xaxis\":\"x\",\"y\":[\"Professionally\"],\"yaxis\":\"y\",\"type\":\"histogram\"},{\"alignmentgroup\":\"True\",\"bingroup\":\"y\",\"histfunc\":\"sum\",\"hovertemplate\":\"motive=%{y}<br>year=2021<br>sum of trips=%{x}<extra></extra>\",\"legendgroup\":\"Services/care\",\"marker\":{\"color\":\"#EF553B\",\"pattern\":{\"shape\":\"\"}},\"name\":\"Services/care\",\"offsetgroup\":\"Services/care\",\"orientation\":\"h\",\"showlegend\":true,\"x\":[\"0.09\"],\"xaxis\":\"x\",\"y\":[\"Services/care\"],\"yaxis\":\"y\",\"type\":\"histogram\"},{\"alignmentgroup\":\"True\",\"bingroup\":\"y\",\"histfunc\":\"sum\",\"hovertemplate\":\"motive=%{y}<br>year=2021<br>sum of trips=%{x}<extra></extra>\",\"legendgroup\":\"Attending education/courses\",\"marker\":{\"color\":\"#00cc96\",\"pattern\":{\"shape\":\"\"}},\"name\":\"Attending education/courses\",\"offsetgroup\":\"Attending education/courses\",\"orientation\":\"h\",\"showlegend\":true,\"x\":[\"0.14\"],\"xaxis\":\"x\",\"y\":[\"Attending education/courses\"],\"yaxis\":\"y\",\"type\":\"histogram\"},{\"alignmentgroup\":\"True\",\"bingroup\":\"y\",\"histfunc\":\"sum\",\"hovertemplate\":\"motive=%{y}<br>year=2021<br>sum of trips=%{x}<extra></extra>\",\"legendgroup\":\"Travel to/from work, (non)-daily commute\",\"marker\":{\"color\":\"#ab63fa\",\"pattern\":{\"shape\":\"\"}},\"name\":\"Travel to/from work, (non)-daily commute\",\"offsetgroup\":\"Travel to/from work, (non)-daily commute\",\"orientation\":\"h\",\"showlegend\":true,\"x\":[\"0.37\"],\"xaxis\":\"x\",\"y\":[\"Travel to/from work, (non)-daily commute\"],\"yaxis\":\"y\",\"type\":\"histogram\"},{\"alignmentgroup\":\"True\",\"bingroup\":\"y\",\"histfunc\":\"sum\",\"hovertemplate\":\"motive=%{y}<br>year=2021<br>sum of trips=%{x}<extra></extra>\",\"legendgroup\":\"Shopping, groceries, funshopping.\",\"marker\":{\"color\":\"#FFA15A\",\"pattern\":{\"shape\":\"\"}},\"name\":\"Shopping, groceries, funshopping.\",\"offsetgroup\":\"Shopping, groceries, funshopping.\",\"orientation\":\"h\",\"showlegend\":true,\"x\":[\"0.56\"],\"xaxis\":\"x\",\"y\":[\"Shopping, groceries, funshopping.\"],\"yaxis\":\"y\",\"type\":\"histogram\"},{\"alignmentgroup\":\"True\",\"bingroup\":\"y\",\"histfunc\":\"sum\",\"hovertemplate\":\"motive=%{y}<br>year=2021<br>sum of trips=%{x}<extra></extra>\",\"legendgroup\":\"Total\",\"marker\":{\"color\":\"#19d3f3\",\"pattern\":{\"shape\":\"\"}},\"name\":\"Total\",\"offsetgroup\":\"Total\",\"orientation\":\"h\",\"showlegend\":true,\"x\":[\"2.51\"],\"xaxis\":\"x\",\"y\":[\"Total\"],\"yaxis\":\"y\",\"type\":\"histogram\"}],\"name\":\"2021\"},{\"data\":[{\"alignmentgroup\":\"True\",\"bingroup\":\"y\",\"histfunc\":\"sum\",\"hovertemplate\":\"motive=%{y}<br>year=2022<br>sum of trips=%{x}<extra></extra>\",\"legendgroup\":\"Professionally\",\"marker\":{\"color\":\"#636efa\",\"pattern\":{\"shape\":\"\"}},\"name\":\"Professionally\",\"offsetgroup\":\"Professionally\",\"orientation\":\"h\",\"showlegend\":true,\"x\":[\"0.08\"],\"xaxis\":\"x\",\"y\":[\"Professionally\"],\"yaxis\":\"y\",\"type\":\"histogram\"},{\"alignmentgroup\":\"True\",\"bingroup\":\"y\",\"histfunc\":\"sum\",\"hovertemplate\":\"motive=%{y}<br>year=2022<br>sum of trips=%{x}<extra></extra>\",\"legendgroup\":\"Services/care\",\"marker\":{\"color\":\"#EF553B\",\"pattern\":{\"shape\":\"\"}},\"name\":\"Services/care\",\"offsetgroup\":\"Services/care\",\"orientation\":\"h\",\"showlegend\":true,\"x\":[\"0.09\"],\"xaxis\":\"x\",\"y\":[\"Services/care\"],\"yaxis\":\"y\",\"type\":\"histogram\"},{\"alignmentgroup\":\"True\",\"bingroup\":\"y\",\"histfunc\":\"sum\",\"hovertemplate\":\"motive=%{y}<br>year=2022<br>sum of trips=%{x}<extra></extra>\",\"legendgroup\":\"Attending education/courses\",\"marker\":{\"color\":\"#00cc96\",\"pattern\":{\"shape\":\"\"}},\"name\":\"Attending education/courses\",\"offsetgroup\":\"Attending education/courses\",\"orientation\":\"h\",\"showlegend\":true,\"x\":[\"0.18\"],\"xaxis\":\"x\",\"y\":[\"Attending education/courses\"],\"yaxis\":\"y\",\"type\":\"histogram\"},{\"alignmentgroup\":\"True\",\"bingroup\":\"y\",\"histfunc\":\"sum\",\"hovertemplate\":\"motive=%{y}<br>year=2022<br>sum of trips=%{x}<extra></extra>\",\"legendgroup\":\"Travel to/from work, (non)-daily commute\",\"marker\":{\"color\":\"#ab63fa\",\"pattern\":{\"shape\":\"\"}},\"name\":\"Travel to/from work, (non)-daily commute\",\"offsetgroup\":\"Travel to/from work, (non)-daily commute\",\"orientation\":\"h\",\"showlegend\":true,\"x\":[\"0.42\"],\"xaxis\":\"x\",\"y\":[\"Travel to/from work, (non)-daily commute\"],\"yaxis\":\"y\",\"type\":\"histogram\"},{\"alignmentgroup\":\"True\",\"bingroup\":\"y\",\"histfunc\":\"sum\",\"hovertemplate\":\"motive=%{y}<br>year=2022<br>sum of trips=%{x}<extra></extra>\",\"legendgroup\":\"Shopping, groceries, funshopping.\",\"marker\":{\"color\":\"#FFA15A\",\"pattern\":{\"shape\":\"\"}},\"name\":\"Shopping, groceries, funshopping.\",\"offsetgroup\":\"Shopping, groceries, funshopping.\",\"orientation\":\"h\",\"showlegend\":true,\"x\":[\"0.58\"],\"xaxis\":\"x\",\"y\":[\"Shopping, groceries, funshopping.\"],\"yaxis\":\"y\",\"type\":\"histogram\"},{\"alignmentgroup\":\"True\",\"bingroup\":\"y\",\"histfunc\":\"sum\",\"hovertemplate\":\"motive=%{y}<br>year=2022<br>sum of trips=%{x}<extra></extra>\",\"legendgroup\":\"Total\",\"marker\":{\"color\":\"#19d3f3\",\"pattern\":{\"shape\":\"\"}},\"name\":\"Total\",\"offsetgroup\":\"Total\",\"orientation\":\"h\",\"showlegend\":true,\"x\":[\"2.70\"],\"xaxis\":\"x\",\"y\":[\"Total\"],\"yaxis\":\"y\",\"type\":\"histogram\"}],\"name\":\"2022\"}]);\n",
       "                        }).then(function(){\n",
       "                            \n",
       "var gd = document.getElementById('83ab0da6-4e62-4709-9dfe-8f54fa361cd9');\n",
       "var x = new MutationObserver(function (mutations, observer) {{\n",
       "        var display = window.getComputedStyle(gd).display;\n",
       "        if (!display || display === 'none') {{\n",
       "            console.log([gd, 'removed!']);\n",
       "            Plotly.purge(gd);\n",
       "            observer.disconnect();\n",
       "        }}\n",
       "}});\n",
       "\n",
       "// Listen for the removal of the full notebook cells\n",
       "var notebookContainer = gd.closest('#notebook-container');\n",
       "if (notebookContainer) {{\n",
       "    x.observe(notebookContainer, {childList: true});\n",
       "}}\n",
       "\n",
       "// Listen for the clearing of the current output cell\n",
       "var outputEl = gd.closest('.output');\n",
       "if (outputEl) {{\n",
       "    x.observe(outputEl, {childList: true});\n",
       "}}\n",
       "\n",
       "                        })                };                });            </script>        </div>"
      ]
     },
     "metadata": {},
     "output_type": "display_data"
    }
   ],
   "source": [
    "fig2 = px.histogram(mobility_trips_years, x='trips', y='motive', color='motive',  orientation='h',  animation_frame='year', width=1100, height=400)\n",
    "\n",
    "fig2.update_layout(title={\n",
    "    'text': 'Average amount of trips for every vehicle combined per day from 2018 to 2022',\n",
    "    'x': 0.5\n",
    "})\n",
    "\n",
    "fig2.update_yaxes(title_text=\"Travel motives\")\n",
    "fig2.show()"
   ]
  },
  {
   "cell_type": "markdown",
   "metadata": {},
   "source": [
    "This bar plots the same as the previous one, but for the entire given time scale. It can be seen that for all motives a substantial drop can be seen in 2020 due to the Corona virus. But if looked at before and after the Corona virus, the motive 'shopping, groceries and funshopping' is increased, but the other substantial shares of motives have descreased."
   ]
  },
  {
   "cell_type": "markdown",
   "metadata": {},
   "source": [
    "### Conclusion subquestion 4:\n"
   ]
  },
  {
   "cell_type": "code",
   "execution_count": null,
   "metadata": {},
   "outputs": [],
   "source": []
  },
  {
   "cell_type": "markdown",
   "metadata": {
    "tags": []
   },
   "source": [
    "# Conclusion main research question"
   ]
  },
  {
   "cell_type": "code",
   "execution_count": null,
   "metadata": {},
   "outputs": [],
   "source": []
  },
  {
   "cell_type": "markdown",
   "metadata": {},
   "source": [
    "# Discussion"
   ]
  },
  {
   "cell_type": "code",
   "execution_count": null,
   "metadata": {},
   "outputs": [],
   "source": []
  }
 ],
 "metadata": {
  "kernelspec": {
   "display_name": "Python 3 (ipykernel)",
   "language": "python",
   "name": "python3"
  },
  "language_info": {
   "codemirror_mode": {
    "name": "ipython",
    "version": 3
   },
   "file_extension": ".py",
   "mimetype": "text/x-python",
   "name": "python",
   "nbconvert_exporter": "python",
   "pygments_lexer": "ipython3",
   "version": "3.8.18"
  },
  "vscode": {
   "interpreter": {
    "hash": "31f2aee4e71d21fbe5cf8b01ff0e069b9275f58929596ceb00d14d90e3e16cd6"
   }
  }
 },
 "nbformat": 4,
 "nbformat_minor": 4
}
